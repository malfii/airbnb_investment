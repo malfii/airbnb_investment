{
 "cells": [
  {
   "cell_type": "markdown",
   "metadata": {},
   "source": [
    "# EDA and data cleaning\n",
    "\n",
    "In this notebook, we will go over the data we have and perform EDA and data cleaning."
   ]
  },
  {
   "cell_type": "code",
   "execution_count": 609,
   "metadata": {},
   "outputs": [],
   "source": [
    "# imports\n",
    "import pandas as pd \n",
    "import matplotlib.pyplot as plt \n",
    "import numpy as np \n",
    "import seaborn as sns \n",
    "import re\n",
    "from collections import Counter\n"
   ]
  },
  {
   "cell_type": "markdown",
   "metadata": {},
   "source": [
    "## Dropping unnecessary columns\n",
    "We will start our cleaning process by dropping the columns we are sure we dont need."
   ]
  },
  {
   "cell_type": "code",
   "execution_count": 549,
   "metadata": {},
   "outputs": [
    {
     "name": "stdout",
     "output_type": "stream",
     "text": [
      "the size of our data is (47037, 81)\n"
     ]
    },
    {
     "name": "stderr",
     "output_type": "stream",
     "text": [
      "C:\\Users\\masou\\AppData\\Local\\Temp\\ipykernel_9492\\3186278372.py:2: DtypeWarning: Columns (6) have mixed types. Specify dtype option on import or set low_memory=False.\n",
      "  df = pd.read_csv('./../data/austin_listings_processed.csv')\n"
     ]
    },
    {
     "data": {
      "text/html": [
       "<div>\n",
       "<style scoped>\n",
       "    .dataframe tbody tr th:only-of-type {\n",
       "        vertical-align: middle;\n",
       "    }\n",
       "\n",
       "    .dataframe tbody tr th {\n",
       "        vertical-align: top;\n",
       "    }\n",
       "\n",
       "    .dataframe thead th {\n",
       "        text-align: right;\n",
       "    }\n",
       "</style>\n",
       "<table border=\"1\" class=\"dataframe\">\n",
       "  <thead>\n",
       "    <tr style=\"text-align: right;\">\n",
       "      <th></th>\n",
       "      <th>id</th>\n",
       "      <th>listing_url</th>\n",
       "      <th>scrape_id</th>\n",
       "      <th>last_scraped</th>\n",
       "      <th>source</th>\n",
       "      <th>name</th>\n",
       "      <th>description</th>\n",
       "      <th>neighborhood_overview</th>\n",
       "      <th>picture_url</th>\n",
       "      <th>host_id</th>\n",
       "      <th>...</th>\n",
       "      <th>calculated_host_listings_count_entire_homes</th>\n",
       "      <th>calculated_host_listings_count_private_rooms</th>\n",
       "      <th>calculated_host_listings_count_shared_rooms</th>\n",
       "      <th>reviews_per_month</th>\n",
       "      <th>occ_rate_calendar</th>\n",
       "      <th>active_duration_days</th>\n",
       "      <th>occ_rate_70</th>\n",
       "      <th>occ_rate_50</th>\n",
       "      <th>occ_rate_30</th>\n",
       "      <th>time_quarter</th>\n",
       "    </tr>\n",
       "  </thead>\n",
       "  <tbody>\n",
       "    <tr>\n",
       "      <th>0</th>\n",
       "      <td>5456</td>\n",
       "      <td>https://www.airbnb.com/rooms/5456</td>\n",
       "      <td>20231215200307</td>\n",
       "      <td>2023-12-16</td>\n",
       "      <td>city scrape</td>\n",
       "      <td>Guesthouse in Austin · ★4.84 · 1 bedroom · 2 b...</td>\n",
       "      <td>NaN</td>\n",
       "      <td>My neighborhood is ideally located if you want...</td>\n",
       "      <td>https://a0.muscache.com/pictures/14084884/b5a3...</td>\n",
       "      <td>8028</td>\n",
       "      <td>...</td>\n",
       "      <td>1</td>\n",
       "      <td>0</td>\n",
       "      <td>0</td>\n",
       "      <td>3.71</td>\n",
       "      <td>0.3</td>\n",
       "      <td>5390.0</td>\n",
       "      <td>0.700000</td>\n",
       "      <td>0.700000</td>\n",
       "      <td>0.7</td>\n",
       "      <td>Q4</td>\n",
       "    </tr>\n",
       "    <tr>\n",
       "      <th>1</th>\n",
       "      <td>5769</td>\n",
       "      <td>https://www.airbnb.com/rooms/5769</td>\n",
       "      <td>20231215200307</td>\n",
       "      <td>2023-12-16</td>\n",
       "      <td>previous scrape</td>\n",
       "      <td>Home in Austin · ★4.91 · 1 bedroom · 1 bed · 1...</td>\n",
       "      <td>NaN</td>\n",
       "      <td>Quiet neighborhood with lots of trees and good...</td>\n",
       "      <td>https://a0.muscache.com/pictures/23822033/ac94...</td>\n",
       "      <td>8186</td>\n",
       "      <td>...</td>\n",
       "      <td>0</td>\n",
       "      <td>1</td>\n",
       "      <td>0</td>\n",
       "      <td>1.76</td>\n",
       "      <td>0.7</td>\n",
       "      <td>5404.0</td>\n",
       "      <td>0.388601</td>\n",
       "      <td>0.544041</td>\n",
       "      <td>0.7</td>\n",
       "      <td>Q4</td>\n",
       "    </tr>\n",
       "  </tbody>\n",
       "</table>\n",
       "<p>2 rows × 81 columns</p>\n",
       "</div>"
      ],
      "text/plain": [
       "     id                        listing_url       scrape_id last_scraped  \\\n",
       "0  5456  https://www.airbnb.com/rooms/5456  20231215200307   2023-12-16   \n",
       "1  5769  https://www.airbnb.com/rooms/5769  20231215200307   2023-12-16   \n",
       "\n",
       "            source                                               name  \\\n",
       "0      city scrape  Guesthouse in Austin · ★4.84 · 1 bedroom · 2 b...   \n",
       "1  previous scrape  Home in Austin · ★4.91 · 1 bedroom · 1 bed · 1...   \n",
       "\n",
       "  description                              neighborhood_overview  \\\n",
       "0         NaN  My neighborhood is ideally located if you want...   \n",
       "1         NaN  Quiet neighborhood with lots of trees and good...   \n",
       "\n",
       "                                         picture_url  host_id  ...  \\\n",
       "0  https://a0.muscache.com/pictures/14084884/b5a3...     8028  ...   \n",
       "1  https://a0.muscache.com/pictures/23822033/ac94...     8186  ...   \n",
       "\n",
       "  calculated_host_listings_count_entire_homes  \\\n",
       "0                                           1   \n",
       "1                                           0   \n",
       "\n",
       "  calculated_host_listings_count_private_rooms  \\\n",
       "0                                            0   \n",
       "1                                            1   \n",
       "\n",
       "  calculated_host_listings_count_shared_rooms reviews_per_month  \\\n",
       "0                                           0              3.71   \n",
       "1                                           0              1.76   \n",
       "\n",
       "  occ_rate_calendar active_duration_days occ_rate_70 occ_rate_50 occ_rate_30  \\\n",
       "0               0.3               5390.0    0.700000    0.700000         0.7   \n",
       "1               0.7               5404.0    0.388601    0.544041         0.7   \n",
       "\n",
       "  time_quarter  \n",
       "0           Q4  \n",
       "1           Q4  \n",
       "\n",
       "[2 rows x 81 columns]"
      ]
     },
     "execution_count": 549,
     "metadata": {},
     "output_type": "execute_result"
    }
   ],
   "source": [
    "# read the preprocessed data\n",
    "df = pd.read_csv('./../data/austin_listings_processed.csv')\n",
    "print(f'the size of our data is {df.shape}')\n",
    "df.head(2)"
   ]
  },
  {
   "cell_type": "code",
   "execution_count": 550,
   "metadata": {},
   "outputs": [
    {
     "name": "stdout",
     "output_type": "stream",
     "text": [
      "['id', 'listing_url', 'scrape_id', 'last_scraped', 'source', 'name', 'description', 'neighborhood_overview', 'picture_url', 'host_id', 'host_url', 'host_name', 'host_since', 'host_location', 'host_about', 'host_response_time', 'host_response_rate', 'host_acceptance_rate', 'host_is_superhost', 'host_thumbnail_url', 'host_picture_url', 'host_neighbourhood', 'host_listings_count', 'host_total_listings_count', 'host_verifications', 'host_has_profile_pic', 'host_identity_verified', 'neighbourhood', 'neighbourhood_cleansed', 'neighbourhood_group_cleansed', 'latitude', 'longitude', 'property_type', 'room_type', 'accommodates', 'bathrooms', 'bathrooms_text', 'bedrooms', 'beds', 'amenities', 'price', 'minimum_nights', 'maximum_nights', 'minimum_minimum_nights', 'maximum_minimum_nights', 'minimum_maximum_nights', 'maximum_maximum_nights', 'minimum_nights_avg_ntm', 'maximum_nights_avg_ntm', 'calendar_updated', 'has_availability', 'availability_30', 'availability_60', 'availability_90', 'availability_365', 'calendar_last_scraped', 'number_of_reviews', 'number_of_reviews_ltm', 'number_of_reviews_l30d', 'first_review', 'last_review', 'review_scores_rating', 'review_scores_accuracy', 'review_scores_cleanliness', 'review_scores_checkin', 'review_scores_communication', 'review_scores_location', 'review_scores_value', 'license', 'instant_bookable', 'calculated_host_listings_count', 'calculated_host_listings_count_entire_homes', 'calculated_host_listings_count_private_rooms', 'calculated_host_listings_count_shared_rooms', 'reviews_per_month', 'occ_rate_calendar', 'active_duration_days', 'occ_rate_70', 'occ_rate_50', 'occ_rate_30', 'time_quarter']\n"
     ]
    }
   ],
   "source": [
    "# print list of the columns\n",
    "print(list(df.columns))\n"
   ]
  },
  {
   "cell_type": "markdown",
   "metadata": {},
   "source": [
    "Let us retain the columns we might wanna use later. Only drop the columns that won't be used for sure. "
   ]
  },
  {
   "cell_type": "code",
   "execution_count": 551,
   "metadata": {},
   "outputs": [
    {
     "data": {
      "text/html": [
       "<div>\n",
       "<style scoped>\n",
       "    .dataframe tbody tr th:only-of-type {\n",
       "        vertical-align: middle;\n",
       "    }\n",
       "\n",
       "    .dataframe tbody tr th {\n",
       "        vertical-align: top;\n",
       "    }\n",
       "\n",
       "    .dataframe thead th {\n",
       "        text-align: right;\n",
       "    }\n",
       "</style>\n",
       "<table border=\"1\" class=\"dataframe\">\n",
       "  <thead>\n",
       "    <tr style=\"text-align: right;\">\n",
       "      <th></th>\n",
       "      <th>id</th>\n",
       "      <th>source</th>\n",
       "      <th>name</th>\n",
       "      <th>description</th>\n",
       "      <th>neighborhood_overview</th>\n",
       "      <th>host_is_superhost</th>\n",
       "      <th>zipcode</th>\n",
       "      <th>latitude</th>\n",
       "      <th>longitude</th>\n",
       "      <th>property_type</th>\n",
       "      <th>...</th>\n",
       "      <th>beds</th>\n",
       "      <th>amenities</th>\n",
       "      <th>price</th>\n",
       "      <th>minimum_nights</th>\n",
       "      <th>maximum_nights</th>\n",
       "      <th>number_of_reviews</th>\n",
       "      <th>review_scores_rating</th>\n",
       "      <th>occupancy_rate</th>\n",
       "      <th>time_quarter</th>\n",
       "      <th>host_id</th>\n",
       "    </tr>\n",
       "  </thead>\n",
       "  <tbody>\n",
       "    <tr>\n",
       "      <th>0</th>\n",
       "      <td>5456</td>\n",
       "      <td>city scrape</td>\n",
       "      <td>Guesthouse in Austin · ★4.84 · 1 bedroom · 2 b...</td>\n",
       "      <td>NaN</td>\n",
       "      <td>My neighborhood is ideally located if you want...</td>\n",
       "      <td>t</td>\n",
       "      <td>78702</td>\n",
       "      <td>30.26057</td>\n",
       "      <td>-97.73441</td>\n",
       "      <td>Entire guesthouse</td>\n",
       "      <td>...</td>\n",
       "      <td>2.0</td>\n",
       "      <td>[]</td>\n",
       "      <td>$101.00</td>\n",
       "      <td>2</td>\n",
       "      <td>90</td>\n",
       "      <td>668</td>\n",
       "      <td>4.84</td>\n",
       "      <td>0.700000</td>\n",
       "      <td>Q4</td>\n",
       "      <td>8028</td>\n",
       "    </tr>\n",
       "    <tr>\n",
       "      <th>1</th>\n",
       "      <td>5769</td>\n",
       "      <td>previous scrape</td>\n",
       "      <td>Home in Austin · ★4.91 · 1 bedroom · 1 bed · 1...</td>\n",
       "      <td>NaN</td>\n",
       "      <td>Quiet neighborhood with lots of trees and good...</td>\n",
       "      <td>t</td>\n",
       "      <td>78729</td>\n",
       "      <td>30.45697</td>\n",
       "      <td>-97.78422</td>\n",
       "      <td>Private room in home</td>\n",
       "      <td>...</td>\n",
       "      <td>1.0</td>\n",
       "      <td>[]</td>\n",
       "      <td>NaN</td>\n",
       "      <td>1</td>\n",
       "      <td>14</td>\n",
       "      <td>294</td>\n",
       "      <td>4.91</td>\n",
       "      <td>0.544041</td>\n",
       "      <td>Q4</td>\n",
       "      <td>8186</td>\n",
       "    </tr>\n",
       "    <tr>\n",
       "      <th>2</th>\n",
       "      <td>6413</td>\n",
       "      <td>previous scrape</td>\n",
       "      <td>Guesthouse in Austin · ★4.97 · Studio · 1 bed ...</td>\n",
       "      <td>NaN</td>\n",
       "      <td>Travis Heights is one of the oldest neighborho...</td>\n",
       "      <td>f</td>\n",
       "      <td>78704</td>\n",
       "      <td>30.24885</td>\n",
       "      <td>-97.73587</td>\n",
       "      <td>Entire guesthouse</td>\n",
       "      <td>...</td>\n",
       "      <td>1.0</td>\n",
       "      <td>[]</td>\n",
       "      <td>NaN</td>\n",
       "      <td>30</td>\n",
       "      <td>90</td>\n",
       "      <td>120</td>\n",
       "      <td>4.97</td>\n",
       "      <td>0.700000</td>\n",
       "      <td>Q4</td>\n",
       "      <td>13879</td>\n",
       "    </tr>\n",
       "  </tbody>\n",
       "</table>\n",
       "<p>3 rows × 24 columns</p>\n",
       "</div>"
      ],
      "text/plain": [
       "     id           source                                               name  \\\n",
       "0  5456      city scrape  Guesthouse in Austin · ★4.84 · 1 bedroom · 2 b...   \n",
       "1  5769  previous scrape  Home in Austin · ★4.91 · 1 bedroom · 1 bed · 1...   \n",
       "2  6413  previous scrape  Guesthouse in Austin · ★4.97 · Studio · 1 bed ...   \n",
       "\n",
       "  description                              neighborhood_overview  \\\n",
       "0         NaN  My neighborhood is ideally located if you want...   \n",
       "1         NaN  Quiet neighborhood with lots of trees and good...   \n",
       "2         NaN  Travis Heights is one of the oldest neighborho...   \n",
       "\n",
       "  host_is_superhost  zipcode  latitude  longitude         property_type  ...  \\\n",
       "0                 t    78702  30.26057  -97.73441     Entire guesthouse  ...   \n",
       "1                 t    78729  30.45697  -97.78422  Private room in home  ...   \n",
       "2                 f    78704  30.24885  -97.73587     Entire guesthouse  ...   \n",
       "\n",
       "  beds  amenities    price  minimum_nights  maximum_nights number_of_reviews  \\\n",
       "0  2.0         []  $101.00               2              90               668   \n",
       "1  1.0         []      NaN               1              14               294   \n",
       "2  1.0         []      NaN              30              90               120   \n",
       "\n",
       "  review_scores_rating  occupancy_rate  time_quarter  host_id  \n",
       "0                 4.84        0.700000            Q4     8028  \n",
       "1                 4.91        0.544041            Q4     8186  \n",
       "2                 4.97        0.700000            Q4    13879  \n",
       "\n",
       "[3 rows x 24 columns]"
      ]
     },
     "execution_count": 551,
     "metadata": {},
     "output_type": "execute_result"
    }
   ],
   "source": [
    "\n",
    "columns_to_keep = ['id', 'source', 'name', 'description','neighborhood_overview',\n",
    "                   'host_is_superhost', 'neighbourhood_cleansed', 'latitude',\n",
    "                   'longitude', 'property_type', 'room_type', 'accommodates',\n",
    "                   'bathrooms_text', 'bedrooms', 'beds', 'amenities', 'price',\n",
    "                   'minimum_nights', 'maximum_nights', 'number_of_reviews',\n",
    "                   'review_scores_rating','occ_rate_50', 'time_quarter',\n",
    "                   # host analysis\n",
    "                   'host_id'\n",
    "                   ]\n",
    "df = df[columns_to_keep]\n",
    "# rename columns if needed\n",
    "df.rename(columns={'neighbourhood_cleansed': 'zipcode',\n",
    "                   'occ_rate_50': 'occupancy_rate'}, inplace=True)\n",
    "df.head(3)\n"
   ]
  },
  {
   "cell_type": "markdown",
   "metadata": {},
   "source": [
    "Let us start our analysis by looking at the nans."
   ]
  },
  {
   "cell_type": "code",
   "execution_count": 552,
   "metadata": {},
   "outputs": [
    {
     "data": {
      "text/plain": [
       "bedrooms                 17307\n",
       "neighborhood_overview    16070\n",
       "description              12515\n",
       "price                     2135\n",
       "host_is_superhost         2058\n",
       "beds                       363\n",
       "bathrooms_text              34\n",
       "time_quarter                 0\n",
       "occupancy_rate               0\n",
       "review_scores_rating         0\n",
       "number_of_reviews            0\n",
       "maximum_nights               0\n",
       "minimum_nights               0\n",
       "amenities                    0\n",
       "id                           0\n",
       "source                       0\n",
       "accommodates                 0\n",
       "room_type                    0\n",
       "property_type                0\n",
       "longitude                    0\n",
       "latitude                     0\n",
       "zipcode                      0\n",
       "name                         0\n",
       "host_id                      0\n",
       "dtype: int64"
      ]
     },
     "execution_count": 552,
     "metadata": {},
     "output_type": "execute_result"
    }
   ],
   "source": [
    "df.isna().sum().sort_values(ascending=False)"
   ]
  },
  {
   "cell_type": "markdown",
   "metadata": {},
   "source": [
    "Since price is a very import feature in our data, let us dive deeper into why it has 2000 missing values."
   ]
  },
  {
   "cell_type": "markdown",
   "metadata": {},
   "source": [
    "## Missing prices"
   ]
  },
  {
   "cell_type": "code",
   "execution_count": 553,
   "metadata": {},
   "outputs": [
    {
     "data": {
      "text/html": [
       "<div>\n",
       "<style scoped>\n",
       "    .dataframe tbody tr th:only-of-type {\n",
       "        vertical-align: middle;\n",
       "    }\n",
       "\n",
       "    .dataframe tbody tr th {\n",
       "        vertical-align: top;\n",
       "    }\n",
       "\n",
       "    .dataframe thead th {\n",
       "        text-align: right;\n",
       "    }\n",
       "</style>\n",
       "<table border=\"1\" class=\"dataframe\">\n",
       "  <thead>\n",
       "    <tr style=\"text-align: right;\">\n",
       "      <th></th>\n",
       "      <th>id</th>\n",
       "      <th>source</th>\n",
       "      <th>name</th>\n",
       "      <th>description</th>\n",
       "      <th>neighborhood_overview</th>\n",
       "      <th>host_is_superhost</th>\n",
       "      <th>zipcode</th>\n",
       "      <th>latitude</th>\n",
       "      <th>longitude</th>\n",
       "      <th>property_type</th>\n",
       "      <th>...</th>\n",
       "      <th>beds</th>\n",
       "      <th>amenities</th>\n",
       "      <th>price</th>\n",
       "      <th>minimum_nights</th>\n",
       "      <th>maximum_nights</th>\n",
       "      <th>number_of_reviews</th>\n",
       "      <th>review_scores_rating</th>\n",
       "      <th>occupancy_rate</th>\n",
       "      <th>time_quarter</th>\n",
       "      <th>host_id</th>\n",
       "    </tr>\n",
       "  </thead>\n",
       "  <tbody>\n",
       "    <tr>\n",
       "      <th>1</th>\n",
       "      <td>5769</td>\n",
       "      <td>previous scrape</td>\n",
       "      <td>Home in Austin · ★4.91 · 1 bedroom · 1 bed · 1...</td>\n",
       "      <td>NaN</td>\n",
       "      <td>Quiet neighborhood with lots of trees and good...</td>\n",
       "      <td>t</td>\n",
       "      <td>78729</td>\n",
       "      <td>30.45697</td>\n",
       "      <td>-97.78422</td>\n",
       "      <td>Private room in home</td>\n",
       "      <td>...</td>\n",
       "      <td>1.0</td>\n",
       "      <td>[]</td>\n",
       "      <td>NaN</td>\n",
       "      <td>1</td>\n",
       "      <td>14</td>\n",
       "      <td>294</td>\n",
       "      <td>4.91</td>\n",
       "      <td>0.544041</td>\n",
       "      <td>Q4</td>\n",
       "      <td>8186</td>\n",
       "    </tr>\n",
       "    <tr>\n",
       "      <th>2</th>\n",
       "      <td>6413</td>\n",
       "      <td>previous scrape</td>\n",
       "      <td>Guesthouse in Austin · ★4.97 · Studio · 1 bed ...</td>\n",
       "      <td>NaN</td>\n",
       "      <td>Travis Heights is one of the oldest neighborho...</td>\n",
       "      <td>f</td>\n",
       "      <td>78704</td>\n",
       "      <td>30.24885</td>\n",
       "      <td>-97.73587</td>\n",
       "      <td>Entire guesthouse</td>\n",
       "      <td>...</td>\n",
       "      <td>1.0</td>\n",
       "      <td>[]</td>\n",
       "      <td>NaN</td>\n",
       "      <td>30</td>\n",
       "      <td>90</td>\n",
       "      <td>120</td>\n",
       "      <td>4.97</td>\n",
       "      <td>0.700000</td>\n",
       "      <td>Q4</td>\n",
       "      <td>13879</td>\n",
       "    </tr>\n",
       "    <tr>\n",
       "      <th>14</th>\n",
       "      <td>69810</td>\n",
       "      <td>previous scrape</td>\n",
       "      <td>Guesthouse in Austin · ★4.98 · 1 bedroom · 1 b...</td>\n",
       "      <td>NaN</td>\n",
       "      <td>Located in the cool Dawson area, about two mil...</td>\n",
       "      <td>f</td>\n",
       "      <td>78704</td>\n",
       "      <td>30.23090</td>\n",
       "      <td>-97.76619</td>\n",
       "      <td>Entire guesthouse</td>\n",
       "      <td>...</td>\n",
       "      <td>1.0</td>\n",
       "      <td>[]</td>\n",
       "      <td>NaN</td>\n",
       "      <td>2</td>\n",
       "      <td>730</td>\n",
       "      <td>445</td>\n",
       "      <td>4.98</td>\n",
       "      <td>0.700000</td>\n",
       "      <td>Q4</td>\n",
       "      <td>82762</td>\n",
       "    </tr>\n",
       "    <tr>\n",
       "      <th>18</th>\n",
       "      <td>219168</td>\n",
       "      <td>previous scrape</td>\n",
       "      <td>Rental unit in Austin · ★4.88 · Studio · 1 bed...</td>\n",
       "      <td>NaN</td>\n",
       "      <td>Despite its proximity to South Congress and th...</td>\n",
       "      <td>f</td>\n",
       "      <td>78704</td>\n",
       "      <td>30.24519</td>\n",
       "      <td>-97.74486</td>\n",
       "      <td>Entire rental unit</td>\n",
       "      <td>...</td>\n",
       "      <td>1.0</td>\n",
       "      <td>[]</td>\n",
       "      <td>NaN</td>\n",
       "      <td>2</td>\n",
       "      <td>60</td>\n",
       "      <td>8</td>\n",
       "      <td>4.88</td>\n",
       "      <td>0.043080</td>\n",
       "      <td>Q4</td>\n",
       "      <td>1134580</td>\n",
       "    </tr>\n",
       "    <tr>\n",
       "      <th>19</th>\n",
       "      <td>72833</td>\n",
       "      <td>previous scrape</td>\n",
       "      <td>Guesthouse in Austin · ★4.91 · 1 bedroom · 1 b...</td>\n",
       "      <td>NaN</td>\n",
       "      <td>Peaceful neighborhood street in central Austin...</td>\n",
       "      <td>t</td>\n",
       "      <td>78731</td>\n",
       "      <td>30.31300</td>\n",
       "      <td>-97.75066</td>\n",
       "      <td>Entire guesthouse</td>\n",
       "      <td>...</td>\n",
       "      <td>1.0</td>\n",
       "      <td>[]</td>\n",
       "      <td>NaN</td>\n",
       "      <td>3</td>\n",
       "      <td>60</td>\n",
       "      <td>413</td>\n",
       "      <td>4.91</td>\n",
       "      <td>0.700000</td>\n",
       "      <td>Q4</td>\n",
       "      <td>378744</td>\n",
       "    </tr>\n",
       "  </tbody>\n",
       "</table>\n",
       "<p>5 rows × 24 columns</p>\n",
       "</div>"
      ],
      "text/plain": [
       "        id           source  \\\n",
       "1     5769  previous scrape   \n",
       "2     6413  previous scrape   \n",
       "14   69810  previous scrape   \n",
       "18  219168  previous scrape   \n",
       "19   72833  previous scrape   \n",
       "\n",
       "                                                 name description  \\\n",
       "1   Home in Austin · ★4.91 · 1 bedroom · 1 bed · 1...         NaN   \n",
       "2   Guesthouse in Austin · ★4.97 · Studio · 1 bed ...         NaN   \n",
       "14  Guesthouse in Austin · ★4.98 · 1 bedroom · 1 b...         NaN   \n",
       "18  Rental unit in Austin · ★4.88 · Studio · 1 bed...         NaN   \n",
       "19  Guesthouse in Austin · ★4.91 · 1 bedroom · 1 b...         NaN   \n",
       "\n",
       "                                neighborhood_overview host_is_superhost  \\\n",
       "1   Quiet neighborhood with lots of trees and good...                 t   \n",
       "2   Travis Heights is one of the oldest neighborho...                 f   \n",
       "14  Located in the cool Dawson area, about two mil...                 f   \n",
       "18  Despite its proximity to South Congress and th...                 f   \n",
       "19  Peaceful neighborhood street in central Austin...                 t   \n",
       "\n",
       "    zipcode  latitude  longitude         property_type  ... beds  amenities  \\\n",
       "1     78729  30.45697  -97.78422  Private room in home  ...  1.0         []   \n",
       "2     78704  30.24885  -97.73587     Entire guesthouse  ...  1.0         []   \n",
       "14    78704  30.23090  -97.76619     Entire guesthouse  ...  1.0         []   \n",
       "18    78704  30.24519  -97.74486    Entire rental unit  ...  1.0         []   \n",
       "19    78731  30.31300  -97.75066     Entire guesthouse  ...  1.0         []   \n",
       "\n",
       "   price  minimum_nights  maximum_nights number_of_reviews  \\\n",
       "1    NaN               1              14               294   \n",
       "2    NaN              30              90               120   \n",
       "14   NaN               2             730               445   \n",
       "18   NaN               2              60                 8   \n",
       "19   NaN               3              60               413   \n",
       "\n",
       "   review_scores_rating  occupancy_rate  time_quarter  host_id  \n",
       "1                  4.91        0.544041            Q4     8186  \n",
       "2                  4.97        0.700000            Q4    13879  \n",
       "14                 4.98        0.700000            Q4    82762  \n",
       "18                 4.88        0.043080            Q4  1134580  \n",
       "19                 4.91        0.700000            Q4   378744  \n",
       "\n",
       "[5 rows x 24 columns]"
      ]
     },
     "execution_count": 553,
     "metadata": {},
     "output_type": "execute_result"
    }
   ],
   "source": [
    "df[df['price'].isna()].head(5)"
   ]
  },
  {
   "cell_type": "markdown",
   "metadata": {},
   "source": [
    "Let us see if we can find further insight towards what listings have missing prices."
   ]
  },
  {
   "cell_type": "code",
   "execution_count": 554,
   "metadata": {},
   "outputs": [
    {
     "data": {
      "text/html": [
       "<div>\n",
       "<style scoped>\n",
       "    .dataframe tbody tr th:only-of-type {\n",
       "        vertical-align: middle;\n",
       "    }\n",
       "\n",
       "    .dataframe tbody tr th {\n",
       "        vertical-align: top;\n",
       "    }\n",
       "\n",
       "    .dataframe thead th {\n",
       "        text-align: right;\n",
       "    }\n",
       "</style>\n",
       "<table border=\"1\" class=\"dataframe\">\n",
       "  <thead>\n",
       "    <tr style=\"text-align: right;\">\n",
       "      <th></th>\n",
       "      <th>source</th>\n",
       "      <th>name</th>\n",
       "      <th>description</th>\n",
       "      <th>neighborhood_overview</th>\n",
       "      <th>host_is_superhost</th>\n",
       "      <th>property_type</th>\n",
       "      <th>room_type</th>\n",
       "      <th>bathrooms_text</th>\n",
       "      <th>amenities</th>\n",
       "      <th>price</th>\n",
       "      <th>time_quarter</th>\n",
       "    </tr>\n",
       "  </thead>\n",
       "  <tbody>\n",
       "    <tr>\n",
       "      <th>count</th>\n",
       "      <td>2135</td>\n",
       "      <td>2135</td>\n",
       "      <td>0</td>\n",
       "      <td>1333</td>\n",
       "      <td>2134</td>\n",
       "      <td>2135</td>\n",
       "      <td>2135</td>\n",
       "      <td>2132</td>\n",
       "      <td>2135</td>\n",
       "      <td>0</td>\n",
       "      <td>2135</td>\n",
       "    </tr>\n",
       "    <tr>\n",
       "      <th>unique</th>\n",
       "      <td>2</td>\n",
       "      <td>1151</td>\n",
       "      <td>0</td>\n",
       "      <td>1276</td>\n",
       "      <td>2</td>\n",
       "      <td>40</td>\n",
       "      <td>4</td>\n",
       "      <td>18</td>\n",
       "      <td>1</td>\n",
       "      <td>0</td>\n",
       "      <td>1</td>\n",
       "    </tr>\n",
       "    <tr>\n",
       "      <th>top</th>\n",
       "      <td>previous scrape</td>\n",
       "      <td>Rental unit in Austin · 1 bedroom · 1 bed · 1 ...</td>\n",
       "      <td>NaN</td>\n",
       "      <td>Great location, close to everything Austin has...</td>\n",
       "      <td>f</td>\n",
       "      <td>Entire home</td>\n",
       "      <td>Entire home/apt</td>\n",
       "      <td>1 bath</td>\n",
       "      <td>[]</td>\n",
       "      <td>NaN</td>\n",
       "      <td>Q4</td>\n",
       "    </tr>\n",
       "    <tr>\n",
       "      <th>freq</th>\n",
       "      <td>2115</td>\n",
       "      <td>110</td>\n",
       "      <td>NaN</td>\n",
       "      <td>11</td>\n",
       "      <td>1828</td>\n",
       "      <td>631</td>\n",
       "      <td>1555</td>\n",
       "      <td>970</td>\n",
       "      <td>2135</td>\n",
       "      <td>NaN</td>\n",
       "      <td>2135</td>\n",
       "    </tr>\n",
       "  </tbody>\n",
       "</table>\n",
       "</div>"
      ],
      "text/plain": [
       "                 source                                               name  \\\n",
       "count              2135                                               2135   \n",
       "unique                2                                               1151   \n",
       "top     previous scrape  Rental unit in Austin · 1 bedroom · 1 bed · 1 ...   \n",
       "freq               2115                                                110   \n",
       "\n",
       "       description                              neighborhood_overview  \\\n",
       "count            0                                               1333   \n",
       "unique           0                                               1276   \n",
       "top            NaN  Great location, close to everything Austin has...   \n",
       "freq           NaN                                                 11   \n",
       "\n",
       "       host_is_superhost property_type        room_type bathrooms_text  \\\n",
       "count               2134          2135             2135           2132   \n",
       "unique                 2            40                4             18   \n",
       "top                    f   Entire home  Entire home/apt         1 bath   \n",
       "freq                1828           631             1555            970   \n",
       "\n",
       "       amenities price time_quarter  \n",
       "count       2135     0         2135  \n",
       "unique         1     0            1  \n",
       "top           []   NaN           Q4  \n",
       "freq        2135   NaN         2135  "
      ]
     },
     "execution_count": 554,
     "metadata": {},
     "output_type": "execute_result"
    }
   ],
   "source": [
    "df[df['price'].isna()].describe(include='object')"
   ]
  },
  {
   "cell_type": "code",
   "execution_count": 555,
   "metadata": {},
   "outputs": [
    {
     "data": {
      "text/html": [
       "<div>\n",
       "<style scoped>\n",
       "    .dataframe tbody tr th:only-of-type {\n",
       "        vertical-align: middle;\n",
       "    }\n",
       "\n",
       "    .dataframe tbody tr th {\n",
       "        vertical-align: top;\n",
       "    }\n",
       "\n",
       "    .dataframe thead th {\n",
       "        text-align: right;\n",
       "    }\n",
       "</style>\n",
       "<table border=\"1\" class=\"dataframe\">\n",
       "  <thead>\n",
       "    <tr style=\"text-align: right;\">\n",
       "      <th></th>\n",
       "      <th>id</th>\n",
       "      <th>zipcode</th>\n",
       "      <th>latitude</th>\n",
       "      <th>longitude</th>\n",
       "      <th>accommodates</th>\n",
       "      <th>bedrooms</th>\n",
       "      <th>beds</th>\n",
       "      <th>minimum_nights</th>\n",
       "      <th>maximum_nights</th>\n",
       "      <th>number_of_reviews</th>\n",
       "      <th>review_scores_rating</th>\n",
       "      <th>occupancy_rate</th>\n",
       "      <th>host_id</th>\n",
       "    </tr>\n",
       "  </thead>\n",
       "  <tbody>\n",
       "    <tr>\n",
       "      <th>count</th>\n",
       "      <td>2.135000e+03</td>\n",
       "      <td>2135.000000</td>\n",
       "      <td>2135.000000</td>\n",
       "      <td>2135.000000</td>\n",
       "      <td>2135.000000</td>\n",
       "      <td>0.0</td>\n",
       "      <td>2122.000000</td>\n",
       "      <td>2135.000000</td>\n",
       "      <td>2135.000000</td>\n",
       "      <td>2135.000000</td>\n",
       "      <td>2135.000000</td>\n",
       "      <td>2135.000000</td>\n",
       "      <td>2.135000e+03</td>\n",
       "    </tr>\n",
       "    <tr>\n",
       "      <th>mean</th>\n",
       "      <td>1.153142e+17</td>\n",
       "      <td>78723.140984</td>\n",
       "      <td>30.275237</td>\n",
       "      <td>-97.743172</td>\n",
       "      <td>3.998126</td>\n",
       "      <td>NaN</td>\n",
       "      <td>2.052309</td>\n",
       "      <td>5.290867</td>\n",
       "      <td>542.600937</td>\n",
       "      <td>23.096956</td>\n",
       "      <td>4.794993</td>\n",
       "      <td>0.189055</td>\n",
       "      <td>8.627870e+07</td>\n",
       "    </tr>\n",
       "    <tr>\n",
       "      <th>std</th>\n",
       "      <td>2.717539e+17</td>\n",
       "      <td>20.665209</td>\n",
       "      <td>0.058512</td>\n",
       "      <td>0.050071</td>\n",
       "      <td>2.380016</td>\n",
       "      <td>NaN</td>\n",
       "      <td>1.447688</td>\n",
       "      <td>29.952152</td>\n",
       "      <td>527.063859</td>\n",
       "      <td>50.841213</td>\n",
       "      <td>0.444607</td>\n",
       "      <td>0.230274</td>\n",
       "      <td>1.110281e+08</td>\n",
       "    </tr>\n",
       "    <tr>\n",
       "      <th>min</th>\n",
       "      <td>5.769000e+03</td>\n",
       "      <td>78701.000000</td>\n",
       "      <td>30.130130</td>\n",
       "      <td>-98.009460</td>\n",
       "      <td>1.000000</td>\n",
       "      <td>NaN</td>\n",
       "      <td>1.000000</td>\n",
       "      <td>1.000000</td>\n",
       "      <td>1.000000</td>\n",
       "      <td>1.000000</td>\n",
       "      <td>0.000000</td>\n",
       "      <td>0.001850</td>\n",
       "      <td>5.985000e+03</td>\n",
       "    </tr>\n",
       "    <tr>\n",
       "      <th>25%</th>\n",
       "      <td>1.316979e+07</td>\n",
       "      <td>78704.000000</td>\n",
       "      <td>30.239023</td>\n",
       "      <td>-97.764025</td>\n",
       "      <td>2.000000</td>\n",
       "      <td>NaN</td>\n",
       "      <td>1.000000</td>\n",
       "      <td>1.000000</td>\n",
       "      <td>15.000000</td>\n",
       "      <td>2.000000</td>\n",
       "      <td>4.775000</td>\n",
       "      <td>0.024379</td>\n",
       "      <td>1.139570e+07</td>\n",
       "    </tr>\n",
       "    <tr>\n",
       "      <th>50%</th>\n",
       "      <td>2.368026e+07</td>\n",
       "      <td>78722.000000</td>\n",
       "      <td>30.265350</td>\n",
       "      <td>-97.737990</td>\n",
       "      <td>4.000000</td>\n",
       "      <td>NaN</td>\n",
       "      <td>2.000000</td>\n",
       "      <td>2.000000</td>\n",
       "      <td>365.000000</td>\n",
       "      <td>6.000000</td>\n",
       "      <td>4.970000</td>\n",
       "      <td>0.076225</td>\n",
       "      <td>4.212014e+07</td>\n",
       "    </tr>\n",
       "    <tr>\n",
       "      <th>75%</th>\n",
       "      <td>4.703812e+07</td>\n",
       "      <td>78744.000000</td>\n",
       "      <td>30.296570</td>\n",
       "      <td>-97.716055</td>\n",
       "      <td>5.500000</td>\n",
       "      <td>NaN</td>\n",
       "      <td>3.000000</td>\n",
       "      <td>3.000000</td>\n",
       "      <td>1125.000000</td>\n",
       "      <td>21.500000</td>\n",
       "      <td>5.000000</td>\n",
       "      <td>0.266056</td>\n",
       "      <td>1.166989e+08</td>\n",
       "    </tr>\n",
       "    <tr>\n",
       "      <th>max</th>\n",
       "      <td>1.029898e+18</td>\n",
       "      <td>78759.000000</td>\n",
       "      <td>30.506320</td>\n",
       "      <td>-97.575828</td>\n",
       "      <td>16.000000</td>\n",
       "      <td>NaN</td>\n",
       "      <td>14.000000</td>\n",
       "      <td>1100.000000</td>\n",
       "      <td>1125.000000</td>\n",
       "      <td>687.000000</td>\n",
       "      <td>5.000000</td>\n",
       "      <td>0.700000</td>\n",
       "      <td>5.358769e+08</td>\n",
       "    </tr>\n",
       "  </tbody>\n",
       "</table>\n",
       "</div>"
      ],
      "text/plain": [
       "                 id       zipcode     latitude    longitude  accommodates  \\\n",
       "count  2.135000e+03   2135.000000  2135.000000  2135.000000   2135.000000   \n",
       "mean   1.153142e+17  78723.140984    30.275237   -97.743172      3.998126   \n",
       "std    2.717539e+17     20.665209     0.058512     0.050071      2.380016   \n",
       "min    5.769000e+03  78701.000000    30.130130   -98.009460      1.000000   \n",
       "25%    1.316979e+07  78704.000000    30.239023   -97.764025      2.000000   \n",
       "50%    2.368026e+07  78722.000000    30.265350   -97.737990      4.000000   \n",
       "75%    4.703812e+07  78744.000000    30.296570   -97.716055      5.500000   \n",
       "max    1.029898e+18  78759.000000    30.506320   -97.575828     16.000000   \n",
       "\n",
       "       bedrooms         beds  minimum_nights  maximum_nights  \\\n",
       "count       0.0  2122.000000     2135.000000     2135.000000   \n",
       "mean        NaN     2.052309        5.290867      542.600937   \n",
       "std         NaN     1.447688       29.952152      527.063859   \n",
       "min         NaN     1.000000        1.000000        1.000000   \n",
       "25%         NaN     1.000000        1.000000       15.000000   \n",
       "50%         NaN     2.000000        2.000000      365.000000   \n",
       "75%         NaN     3.000000        3.000000     1125.000000   \n",
       "max         NaN    14.000000     1100.000000     1125.000000   \n",
       "\n",
       "       number_of_reviews  review_scores_rating  occupancy_rate       host_id  \n",
       "count        2135.000000           2135.000000     2135.000000  2.135000e+03  \n",
       "mean           23.096956              4.794993        0.189055  8.627870e+07  \n",
       "std            50.841213              0.444607        0.230274  1.110281e+08  \n",
       "min             1.000000              0.000000        0.001850  5.985000e+03  \n",
       "25%             2.000000              4.775000        0.024379  1.139570e+07  \n",
       "50%             6.000000              4.970000        0.076225  4.212014e+07  \n",
       "75%            21.500000              5.000000        0.266056  1.166989e+08  \n",
       "max           687.000000              5.000000        0.700000  5.358769e+08  "
      ]
     },
     "execution_count": 555,
     "metadata": {},
     "output_type": "execute_result"
    }
   ],
   "source": [
    "df[df['price'].isna()].describe()\n"
   ]
  },
  {
   "cell_type": "code",
   "execution_count": 556,
   "metadata": {},
   "outputs": [
    {
     "data": {
      "text/plain": [
       "2135"
      ]
     },
     "execution_count": 556,
     "metadata": {},
     "output_type": "execute_result"
    }
   ],
   "source": [
    "df[df['price'].isna()]['id'].nunique()"
   ]
  },
  {
   "cell_type": "markdown",
   "metadata": {},
   "source": [
    "As we can see, all of the missing prices have happened during data scraping in Q4 so there could be some issues at that time (they all have unique id's as well). Looking further, we can see that none of the listings with missing price have description either but this may not be a significant finding because description column has a lot of missing values, in addition to the ones with no price (similar observation for bedrooms).   "
   ]
  },
  {
   "cell_type": "markdown",
   "metadata": {},
   "source": [
    "Let us see what is the total number of unique id's for our listings."
   ]
  },
  {
   "cell_type": "code",
   "execution_count": 557,
   "metadata": {},
   "outputs": [
    {
     "data": {
      "text/plain": [
       "15175"
      ]
     },
     "execution_count": 557,
     "metadata": {},
     "output_type": "execute_result"
    }
   ],
   "source": [
    "df['id'].nunique()"
   ]
  },
  {
   "cell_type": "markdown",
   "metadata": {},
   "source": [
    "This means we will have a lot of listings that have been listed at different times. We might be able to use price information for that specific property by looking at the prices it was listed for at other times. "
   ]
  },
  {
   "cell_type": "code",
   "execution_count": 558,
   "metadata": {},
   "outputs": [],
   "source": [
    "missing_price_ids = list(df[df['price'].isna()]['id'].unique())"
   ]
  },
  {
   "cell_type": "code",
   "execution_count": 559,
   "metadata": {},
   "outputs": [
    {
     "data": {
      "text/html": [
       "<div>\n",
       "<style scoped>\n",
       "    .dataframe tbody tr th:only-of-type {\n",
       "        vertical-align: middle;\n",
       "    }\n",
       "\n",
       "    .dataframe tbody tr th {\n",
       "        vertical-align: top;\n",
       "    }\n",
       "\n",
       "    .dataframe thead th {\n",
       "        text-align: right;\n",
       "    }\n",
       "</style>\n",
       "<table border=\"1\" class=\"dataframe\">\n",
       "  <thead>\n",
       "    <tr style=\"text-align: right;\">\n",
       "      <th></th>\n",
       "      <th>id</th>\n",
       "      <th>source</th>\n",
       "      <th>name</th>\n",
       "      <th>description</th>\n",
       "      <th>neighborhood_overview</th>\n",
       "      <th>host_is_superhost</th>\n",
       "      <th>zipcode</th>\n",
       "      <th>latitude</th>\n",
       "      <th>longitude</th>\n",
       "      <th>property_type</th>\n",
       "      <th>...</th>\n",
       "      <th>beds</th>\n",
       "      <th>amenities</th>\n",
       "      <th>price</th>\n",
       "      <th>minimum_nights</th>\n",
       "      <th>maximum_nights</th>\n",
       "      <th>number_of_reviews</th>\n",
       "      <th>review_scores_rating</th>\n",
       "      <th>occupancy_rate</th>\n",
       "      <th>time_quarter</th>\n",
       "      <th>host_id</th>\n",
       "    </tr>\n",
       "  </thead>\n",
       "  <tbody>\n",
       "    <tr>\n",
       "      <th>1</th>\n",
       "      <td>5769</td>\n",
       "      <td>previous scrape</td>\n",
       "      <td>Home in Austin · ★4.91 · 1 bedroom · 1 bed · 1...</td>\n",
       "      <td>NaN</td>\n",
       "      <td>Quiet neighborhood with lots of trees and good...</td>\n",
       "      <td>t</td>\n",
       "      <td>78729</td>\n",
       "      <td>30.45697</td>\n",
       "      <td>-97.78422</td>\n",
       "      <td>Private room in home</td>\n",
       "      <td>...</td>\n",
       "      <td>1.0</td>\n",
       "      <td>[]</td>\n",
       "      <td>NaN</td>\n",
       "      <td>1</td>\n",
       "      <td>14</td>\n",
       "      <td>294</td>\n",
       "      <td>4.91</td>\n",
       "      <td>0.544041</td>\n",
       "      <td>Q4</td>\n",
       "      <td>8186</td>\n",
       "    </tr>\n",
       "    <tr>\n",
       "      <th>12265</th>\n",
       "      <td>5769</td>\n",
       "      <td>previous scrape</td>\n",
       "      <td>Home in Austin · ★4.90 · 1 bedroom · 1 bed · 1...</td>\n",
       "      <td>&lt;b&gt;The space&lt;/b&gt;&lt;br /&gt;Looking for a comfortabl...</td>\n",
       "      <td>Quiet neighborhood with lots of trees and good...</td>\n",
       "      <td>t</td>\n",
       "      <td>78729</td>\n",
       "      <td>30.45697</td>\n",
       "      <td>-97.78422</td>\n",
       "      <td>Private room in home</td>\n",
       "      <td>...</td>\n",
       "      <td>1.0</td>\n",
       "      <td>[\"Wifi \\u2013 47 Mbps\", \"Lock on bedroom door\"...</td>\n",
       "      <td>$45.00</td>\n",
       "      <td>1</td>\n",
       "      <td>14</td>\n",
       "      <td>290</td>\n",
       "      <td>4.90</td>\n",
       "      <td>0.549346</td>\n",
       "      <td>Q3</td>\n",
       "      <td>8186</td>\n",
       "    </tr>\n",
       "    <tr>\n",
       "      <th>24012</th>\n",
       "      <td>5769</td>\n",
       "      <td>previous scrape</td>\n",
       "      <td>Home in Austin · ★4.90 · 1 bedroom · 1 bed · 1...</td>\n",
       "      <td>&lt;b&gt;The space&lt;/b&gt;&lt;br /&gt;Looking for a comfortabl...</td>\n",
       "      <td>Quiet neighborhood with lots of trees and good...</td>\n",
       "      <td>NaN</td>\n",
       "      <td>78729</td>\n",
       "      <td>30.45697</td>\n",
       "      <td>-97.78422</td>\n",
       "      <td>Private room in home</td>\n",
       "      <td>...</td>\n",
       "      <td>1.0</td>\n",
       "      <td>[\"Host greets you\", \"Essentials\", \"Shampoo\", \"...</td>\n",
       "      <td>$42.00</td>\n",
       "      <td>1</td>\n",
       "      <td>14</td>\n",
       "      <td>285</td>\n",
       "      <td>4.90</td>\n",
       "      <td>0.546291</td>\n",
       "      <td>Q2</td>\n",
       "      <td>8186</td>\n",
       "    </tr>\n",
       "    <tr>\n",
       "      <th>35716</th>\n",
       "      <td>5769</td>\n",
       "      <td>previous scrape</td>\n",
       "      <td>NW Austin Room</td>\n",
       "      <td>&lt;b&gt;The space&lt;/b&gt;&lt;br /&gt;Looking for a comfortabl...</td>\n",
       "      <td>Quiet neighborhood with lots of trees and good...</td>\n",
       "      <td>t</td>\n",
       "      <td>78729</td>\n",
       "      <td>30.45697</td>\n",
       "      <td>-97.78422</td>\n",
       "      <td>Private room in home</td>\n",
       "      <td>...</td>\n",
       "      <td>1.0</td>\n",
       "      <td>[\"Private backyard\", \"Free parking on premises...</td>\n",
       "      <td>$42.00</td>\n",
       "      <td>1</td>\n",
       "      <td>14</td>\n",
       "      <td>275</td>\n",
       "      <td>4.90</td>\n",
       "      <td>0.539957</td>\n",
       "      <td>Q1</td>\n",
       "      <td>8186</td>\n",
       "    </tr>\n",
       "  </tbody>\n",
       "</table>\n",
       "<p>4 rows × 24 columns</p>\n",
       "</div>"
      ],
      "text/plain": [
       "         id           source  \\\n",
       "1      5769  previous scrape   \n",
       "12265  5769  previous scrape   \n",
       "24012  5769  previous scrape   \n",
       "35716  5769  previous scrape   \n",
       "\n",
       "                                                    name  \\\n",
       "1      Home in Austin · ★4.91 · 1 bedroom · 1 bed · 1...   \n",
       "12265  Home in Austin · ★4.90 · 1 bedroom · 1 bed · 1...   \n",
       "24012  Home in Austin · ★4.90 · 1 bedroom · 1 bed · 1...   \n",
       "35716                                     NW Austin Room   \n",
       "\n",
       "                                             description  \\\n",
       "1                                                    NaN   \n",
       "12265  <b>The space</b><br />Looking for a comfortabl...   \n",
       "24012  <b>The space</b><br />Looking for a comfortabl...   \n",
       "35716  <b>The space</b><br />Looking for a comfortabl...   \n",
       "\n",
       "                                   neighborhood_overview host_is_superhost  \\\n",
       "1      Quiet neighborhood with lots of trees and good...                 t   \n",
       "12265  Quiet neighborhood with lots of trees and good...                 t   \n",
       "24012  Quiet neighborhood with lots of trees and good...               NaN   \n",
       "35716  Quiet neighborhood with lots of trees and good...                 t   \n",
       "\n",
       "       zipcode  latitude  longitude         property_type  ... beds  \\\n",
       "1        78729  30.45697  -97.78422  Private room in home  ...  1.0   \n",
       "12265    78729  30.45697  -97.78422  Private room in home  ...  1.0   \n",
       "24012    78729  30.45697  -97.78422  Private room in home  ...  1.0   \n",
       "35716    78729  30.45697  -97.78422  Private room in home  ...  1.0   \n",
       "\n",
       "                                               amenities   price  \\\n",
       "1                                                     []     NaN   \n",
       "12265  [\"Wifi \\u2013 47 Mbps\", \"Lock on bedroom door\"...  $45.00   \n",
       "24012  [\"Host greets you\", \"Essentials\", \"Shampoo\", \"...  $42.00   \n",
       "35716  [\"Private backyard\", \"Free parking on premises...  $42.00   \n",
       "\n",
       "       minimum_nights  maximum_nights number_of_reviews review_scores_rating  \\\n",
       "1                   1              14               294                 4.91   \n",
       "12265               1              14               290                 4.90   \n",
       "24012               1              14               285                 4.90   \n",
       "35716               1              14               275                 4.90   \n",
       "\n",
       "       occupancy_rate  time_quarter  host_id  \n",
       "1            0.544041            Q4     8186  \n",
       "12265        0.549346            Q3     8186  \n",
       "24012        0.546291            Q2     8186  \n",
       "35716        0.539957            Q1     8186  \n",
       "\n",
       "[4 rows x 24 columns]"
      ]
     },
     "execution_count": 559,
     "metadata": {},
     "output_type": "execute_result"
    }
   ],
   "source": [
    "df[df['id'] == missing_price_ids[0]]"
   ]
  },
  {
   "cell_type": "markdown",
   "metadata": {},
   "source": [
    "Let us replace the missing price values with that of the same listing on other times periods. "
   ]
  },
  {
   "cell_type": "code",
   "execution_count": 560,
   "metadata": {},
   "outputs": [
    {
     "data": {
      "text/plain": [
       "dtype('float64')"
      ]
     },
     "execution_count": 560,
     "metadata": {},
     "output_type": "execute_result"
    }
   ],
   "source": [
    "#convert currency columns to float when avaialble\n",
    "df['price'] = df['price'].str.replace('[\\$,]', '', regex=True).astype(float)\n",
    "df['price'].dtype"
   ]
  },
  {
   "cell_type": "code",
   "execution_count": 561,
   "metadata": {},
   "outputs": [],
   "source": [
    "# make a dictionary where the key is the index id for the missing prices and value is the average price for that listing\n",
    "# based on other times of the year\n",
    "avrg_price = {}\n",
    "for i in missing_price_ids:\n",
    "    avrg_price[i] = df[df['id'] == i]['price'].mean()\n",
    "\n",
    "# replace the missings with average from other dates\n",
    "df.loc[df['price'].isna(),'price'] = df[df['price'].isna()].apply(lambda x: avrg_price[x['id']], axis=1)"
   ]
  },
  {
   "cell_type": "code",
   "execution_count": 562,
   "metadata": {},
   "outputs": [
    {
     "data": {
      "text/plain": [
       "33"
      ]
     },
     "execution_count": 562,
     "metadata": {},
     "output_type": "execute_result"
    }
   ],
   "source": [
    "df['price'].isna().sum()"
   ]
  },
  {
   "cell_type": "markdown",
   "metadata": {},
   "source": [
    "As we can see, we have replaced most of the listings with missing prices with some values from the same listing at other times (data missing not at random). Now, we can go ahead and drop the remaining nan's in the price column. "
   ]
  },
  {
   "cell_type": "code",
   "execution_count": 563,
   "metadata": {},
   "outputs": [
    {
     "data": {
      "text/plain": [
       "bedrooms                 17274\n",
       "neighborhood_overview    16056\n",
       "description              12482\n",
       "host_is_superhost         2058\n",
       "beds                       363\n",
       "bathrooms_text              34\n",
       "time_quarter                 0\n",
       "occupancy_rate               0\n",
       "review_scores_rating         0\n",
       "number_of_reviews            0\n",
       "maximum_nights               0\n",
       "minimum_nights               0\n",
       "price                        0\n",
       "amenities                    0\n",
       "id                           0\n",
       "source                       0\n",
       "accommodates                 0\n",
       "room_type                    0\n",
       "property_type                0\n",
       "longitude                    0\n",
       "latitude                     0\n",
       "zipcode                      0\n",
       "name                         0\n",
       "host_id                      0\n",
       "dtype: int64"
      ]
     },
     "execution_count": 563,
     "metadata": {},
     "output_type": "execute_result"
    }
   ],
   "source": [
    "df = df.dropna(subset=['price'])\n",
    "df.isna().sum().sort_values(ascending=False)"
   ]
  },
  {
   "cell_type": "markdown",
   "metadata": {},
   "source": [
    "## Missing values in bedrooms"
   ]
  },
  {
   "cell_type": "markdown",
   "metadata": {},
   "source": [
    "An interesting trend we are observing is that we already know all airbnb listings should have information about the number of bedrooms. However, we have a lot of listings without any data for the bedrooms. Similar to what we did with price, let us see if we can find information about the number of bedrooms from earlier listings of the same property and use that in our data.\n"
   ]
  },
  {
   "cell_type": "code",
   "execution_count": 564,
   "metadata": {},
   "outputs": [],
   "source": [
    "missing_bedroom_id = df[df['bedrooms'].isna()]['id'].unique()\n",
    "missing_bedroom = {}\n",
    "# go over listings with missibg bedroom info and see if the same listing has some bedrooms reported earlier or later in time\n",
    "for i in missing_bedroom_id:\n",
    "    # if there are different number of bedrooms reported for the same property, pick up the smaller one (arbitrary decision)\n",
    "    min_bd = df[df['id'] == i ]['bedrooms'].min()\n",
    "    missing_bedroom[i] = min_bd\n",
    "\n",
    "# now replace the nan's in missing bedroom in the same listing has bedrooms reported somewhere else\n",
    "df.loc[df['bedrooms'].isna(),'bedrooms'] = df[df['bedrooms'].isna()].apply(lambda x: missing_bedroom[x['id']], axis=1)\n",
    "     "
   ]
  },
  {
   "cell_type": "code",
   "execution_count": 565,
   "metadata": {},
   "outputs": [
    {
     "data": {
      "text/plain": [
       "4431"
      ]
     },
     "execution_count": 565,
     "metadata": {},
     "output_type": "execute_result"
    }
   ],
   "source": [
    "df['bedrooms'].isna().sum()"
   ]
  },
  {
   "cell_type": "markdown",
   "metadata": {},
   "source": [
    "This reduces the number of missing bedrooms to 4431."
   ]
  },
  {
   "cell_type": "markdown",
   "metadata": {},
   "source": [
    "When we look at the listing name column, we can see very interesting information about the home, number of bedrooms, beds, and bathrooms are provided. "
   ]
  },
  {
   "cell_type": "code",
   "execution_count": 566,
   "metadata": {},
   "outputs": [
    {
     "data": {
      "text/plain": [
       "'Guesthouse in Austin · ★4.84 · 1 bedroom · 2 beds · 1 bath'"
      ]
     },
     "execution_count": 566,
     "metadata": {},
     "output_type": "execute_result"
    }
   ],
   "source": [
    "df.iloc[0]['name']"
   ]
  },
  {
   "cell_type": "markdown",
   "metadata": {},
   "source": [
    "From this pattern, we can see that the '.' character can be used to separate the string upon. Let us first make sure that all the names in our listing follow the same convention. "
   ]
  },
  {
   "cell_type": "code",
   "execution_count": 567,
   "metadata": {},
   "outputs": [
    {
     "data": {
      "text/plain": [
       "5    29971\n",
       "1    11317\n",
       "4     5620\n",
       "3       90\n",
       "2        6\n",
       "Name: name, dtype: int64"
      ]
     },
     "execution_count": 567,
     "metadata": {},
     "output_type": "execute_result"
    }
   ],
   "source": [
    "df['name'].apply(lambda x: len(x.split('·'))).value_counts()"
   ]
  },
  {
   "cell_type": "markdown",
   "metadata": {},
   "source": [
    "As we can see, there are a lot of listings that don't follow this naming convenction, let's take a look at them."
   ]
  },
  {
   "cell_type": "code",
   "execution_count": 568,
   "metadata": {},
   "outputs": [
    {
     "data": {
      "text/html": [
       "<div>\n",
       "<style scoped>\n",
       "    .dataframe tbody tr th:only-of-type {\n",
       "        vertical-align: middle;\n",
       "    }\n",
       "\n",
       "    .dataframe tbody tr th {\n",
       "        vertical-align: top;\n",
       "    }\n",
       "\n",
       "    .dataframe thead th {\n",
       "        text-align: right;\n",
       "    }\n",
       "</style>\n",
       "<table border=\"1\" class=\"dataframe\">\n",
       "  <thead>\n",
       "    <tr style=\"text-align: right;\">\n",
       "      <th></th>\n",
       "      <th>id</th>\n",
       "      <th>source</th>\n",
       "      <th>name</th>\n",
       "      <th>description</th>\n",
       "      <th>neighborhood_overview</th>\n",
       "      <th>host_is_superhost</th>\n",
       "      <th>zipcode</th>\n",
       "      <th>latitude</th>\n",
       "      <th>longitude</th>\n",
       "      <th>property_type</th>\n",
       "      <th>...</th>\n",
       "      <th>beds</th>\n",
       "      <th>amenities</th>\n",
       "      <th>price</th>\n",
       "      <th>minimum_nights</th>\n",
       "      <th>maximum_nights</th>\n",
       "      <th>number_of_reviews</th>\n",
       "      <th>review_scores_rating</th>\n",
       "      <th>occupancy_rate</th>\n",
       "      <th>time_quarter</th>\n",
       "      <th>host_id</th>\n",
       "    </tr>\n",
       "  </thead>\n",
       "  <tbody>\n",
       "    <tr>\n",
       "      <th>35715</th>\n",
       "      <td>5456</td>\n",
       "      <td>city scrape</td>\n",
       "      <td>Walk to 6th, Rainey St and Convention Ctr</td>\n",
       "      <td>Great central  location for walking to Convent...</td>\n",
       "      <td>My neighborhood is ideally located if you want...</td>\n",
       "      <td>t</td>\n",
       "      <td>78702</td>\n",
       "      <td>30.26057</td>\n",
       "      <td>-97.73441</td>\n",
       "      <td>Entire guesthouse</td>\n",
       "      <td>...</td>\n",
       "      <td>2.0</td>\n",
       "      <td>[\"Heating\", \"Backyard\", \"Bed linens\", \"Hot wat...</td>\n",
       "      <td>176.0</td>\n",
       "      <td>2</td>\n",
       "      <td>90</td>\n",
       "      <td>630</td>\n",
       "      <td>4.84</td>\n",
       "      <td>0.700000</td>\n",
       "      <td>Q1</td>\n",
       "      <td>8028</td>\n",
       "    </tr>\n",
       "    <tr>\n",
       "      <th>35716</th>\n",
       "      <td>5769</td>\n",
       "      <td>previous scrape</td>\n",
       "      <td>NW Austin Room</td>\n",
       "      <td>&lt;b&gt;The space&lt;/b&gt;&lt;br /&gt;Looking for a comfortabl...</td>\n",
       "      <td>Quiet neighborhood with lots of trees and good...</td>\n",
       "      <td>t</td>\n",
       "      <td>78729</td>\n",
       "      <td>30.45697</td>\n",
       "      <td>-97.78422</td>\n",
       "      <td>Private room in home</td>\n",
       "      <td>...</td>\n",
       "      <td>1.0</td>\n",
       "      <td>[\"Private backyard\", \"Free parking on premises...</td>\n",
       "      <td>42.0</td>\n",
       "      <td>1</td>\n",
       "      <td>14</td>\n",
       "      <td>275</td>\n",
       "      <td>4.90</td>\n",
       "      <td>0.539957</td>\n",
       "      <td>Q1</td>\n",
       "      <td>8186</td>\n",
       "    </tr>\n",
       "  </tbody>\n",
       "</table>\n",
       "<p>2 rows × 24 columns</p>\n",
       "</div>"
      ],
      "text/plain": [
       "         id           source                                       name  \\\n",
       "35715  5456      city scrape  Walk to 6th, Rainey St and Convention Ctr   \n",
       "35716  5769  previous scrape                             NW Austin Room   \n",
       "\n",
       "                                             description  \\\n",
       "35715  Great central  location for walking to Convent...   \n",
       "35716  <b>The space</b><br />Looking for a comfortabl...   \n",
       "\n",
       "                                   neighborhood_overview host_is_superhost  \\\n",
       "35715  My neighborhood is ideally located if you want...                 t   \n",
       "35716  Quiet neighborhood with lots of trees and good...                 t   \n",
       "\n",
       "       zipcode  latitude  longitude         property_type  ... beds  \\\n",
       "35715    78702  30.26057  -97.73441     Entire guesthouse  ...  2.0   \n",
       "35716    78729  30.45697  -97.78422  Private room in home  ...  1.0   \n",
       "\n",
       "                                               amenities  price  \\\n",
       "35715  [\"Heating\", \"Backyard\", \"Bed linens\", \"Hot wat...  176.0   \n",
       "35716  [\"Private backyard\", \"Free parking on premises...   42.0   \n",
       "\n",
       "       minimum_nights  maximum_nights number_of_reviews  review_scores_rating  \\\n",
       "35715               2              90               630                  4.84   \n",
       "35716               1              14               275                  4.90   \n",
       "\n",
       "       occupancy_rate  time_quarter  host_id  \n",
       "35715        0.700000            Q1     8028  \n",
       "35716        0.539957            Q1     8186  \n",
       "\n",
       "[2 rows x 24 columns]"
      ]
     },
     "execution_count": 568,
     "metadata": {},
     "output_type": "execute_result"
    }
   ],
   "source": [
    "df[df['name'].apply(lambda x: len(x.split('·'))) == 1].head(2)"
   ]
  },
  {
   "cell_type": "markdown",
   "metadata": {},
   "source": [
    "Let us look at the first listing from the list above."
   ]
  },
  {
   "cell_type": "code",
   "execution_count": 569,
   "metadata": {},
   "outputs": [
    {
     "data": {
      "text/html": [
       "<div>\n",
       "<style scoped>\n",
       "    .dataframe tbody tr th:only-of-type {\n",
       "        vertical-align: middle;\n",
       "    }\n",
       "\n",
       "    .dataframe tbody tr th {\n",
       "        vertical-align: top;\n",
       "    }\n",
       "\n",
       "    .dataframe thead th {\n",
       "        text-align: right;\n",
       "    }\n",
       "</style>\n",
       "<table border=\"1\" class=\"dataframe\">\n",
       "  <thead>\n",
       "    <tr style=\"text-align: right;\">\n",
       "      <th></th>\n",
       "      <th>id</th>\n",
       "      <th>source</th>\n",
       "      <th>name</th>\n",
       "      <th>description</th>\n",
       "      <th>neighborhood_overview</th>\n",
       "      <th>host_is_superhost</th>\n",
       "      <th>zipcode</th>\n",
       "      <th>latitude</th>\n",
       "      <th>longitude</th>\n",
       "      <th>property_type</th>\n",
       "      <th>...</th>\n",
       "      <th>beds</th>\n",
       "      <th>amenities</th>\n",
       "      <th>price</th>\n",
       "      <th>minimum_nights</th>\n",
       "      <th>maximum_nights</th>\n",
       "      <th>number_of_reviews</th>\n",
       "      <th>review_scores_rating</th>\n",
       "      <th>occupancy_rate</th>\n",
       "      <th>time_quarter</th>\n",
       "      <th>host_id</th>\n",
       "    </tr>\n",
       "  </thead>\n",
       "  <tbody>\n",
       "    <tr>\n",
       "      <th>0</th>\n",
       "      <td>5456</td>\n",
       "      <td>city scrape</td>\n",
       "      <td>Guesthouse in Austin · ★4.84 · 1 bedroom · 2 b...</td>\n",
       "      <td>NaN</td>\n",
       "      <td>My neighborhood is ideally located if you want...</td>\n",
       "      <td>t</td>\n",
       "      <td>78702</td>\n",
       "      <td>30.26057</td>\n",
       "      <td>-97.73441</td>\n",
       "      <td>Entire guesthouse</td>\n",
       "      <td>...</td>\n",
       "      <td>2.0</td>\n",
       "      <td>[]</td>\n",
       "      <td>101.0</td>\n",
       "      <td>2</td>\n",
       "      <td>90</td>\n",
       "      <td>668</td>\n",
       "      <td>4.84</td>\n",
       "      <td>0.7</td>\n",
       "      <td>Q4</td>\n",
       "      <td>8028</td>\n",
       "    </tr>\n",
       "    <tr>\n",
       "      <th>12264</th>\n",
       "      <td>5456</td>\n",
       "      <td>city scrape</td>\n",
       "      <td>Guesthouse in Austin · ★4.84 · 1 bedroom · 2 b...</td>\n",
       "      <td>Week of July 31 - Aug 10  require min of 5 nig...</td>\n",
       "      <td>My neighborhood is ideally located if you want...</td>\n",
       "      <td>t</td>\n",
       "      <td>78702</td>\n",
       "      <td>30.26057</td>\n",
       "      <td>-97.73441</td>\n",
       "      <td>Entire guesthouse</td>\n",
       "      <td>...</td>\n",
       "      <td>2.0</td>\n",
       "      <td>[\"Air conditioning\", \"Hot water\", \"Dishes and ...</td>\n",
       "      <td>126.0</td>\n",
       "      <td>2</td>\n",
       "      <td>90</td>\n",
       "      <td>657</td>\n",
       "      <td>4.84</td>\n",
       "      <td>0.7</td>\n",
       "      <td>Q3</td>\n",
       "      <td>8028</td>\n",
       "    </tr>\n",
       "    <tr>\n",
       "      <th>24007</th>\n",
       "      <td>5456</td>\n",
       "      <td>city scrape</td>\n",
       "      <td>Guesthouse in Austin · ★4.84 · 1 bedroom · 2 b...</td>\n",
       "      <td>Great central  location for walking to Convent...</td>\n",
       "      <td>My neighborhood is ideally located if you want...</td>\n",
       "      <td>t</td>\n",
       "      <td>78702</td>\n",
       "      <td>30.26057</td>\n",
       "      <td>-97.73441</td>\n",
       "      <td>Entire guesthouse</td>\n",
       "      <td>...</td>\n",
       "      <td>2.0</td>\n",
       "      <td>[\"HDTV with Amazon Prime Video, HBO Max, Hulu,...</td>\n",
       "      <td>107.0</td>\n",
       "      <td>2</td>\n",
       "      <td>90</td>\n",
       "      <td>648</td>\n",
       "      <td>4.84</td>\n",
       "      <td>0.7</td>\n",
       "      <td>Q2</td>\n",
       "      <td>8028</td>\n",
       "    </tr>\n",
       "    <tr>\n",
       "      <th>35715</th>\n",
       "      <td>5456</td>\n",
       "      <td>city scrape</td>\n",
       "      <td>Walk to 6th, Rainey St and Convention Ctr</td>\n",
       "      <td>Great central  location for walking to Convent...</td>\n",
       "      <td>My neighborhood is ideally located if you want...</td>\n",
       "      <td>t</td>\n",
       "      <td>78702</td>\n",
       "      <td>30.26057</td>\n",
       "      <td>-97.73441</td>\n",
       "      <td>Entire guesthouse</td>\n",
       "      <td>...</td>\n",
       "      <td>2.0</td>\n",
       "      <td>[\"Heating\", \"Backyard\", \"Bed linens\", \"Hot wat...</td>\n",
       "      <td>176.0</td>\n",
       "      <td>2</td>\n",
       "      <td>90</td>\n",
       "      <td>630</td>\n",
       "      <td>4.84</td>\n",
       "      <td>0.7</td>\n",
       "      <td>Q1</td>\n",
       "      <td>8028</td>\n",
       "    </tr>\n",
       "  </tbody>\n",
       "</table>\n",
       "<p>4 rows × 24 columns</p>\n",
       "</div>"
      ],
      "text/plain": [
       "         id       source                                               name  \\\n",
       "0      5456  city scrape  Guesthouse in Austin · ★4.84 · 1 bedroom · 2 b...   \n",
       "12264  5456  city scrape  Guesthouse in Austin · ★4.84 · 1 bedroom · 2 b...   \n",
       "24007  5456  city scrape  Guesthouse in Austin · ★4.84 · 1 bedroom · 2 b...   \n",
       "35715  5456  city scrape          Walk to 6th, Rainey St and Convention Ctr   \n",
       "\n",
       "                                             description  \\\n",
       "0                                                    NaN   \n",
       "12264  Week of July 31 - Aug 10  require min of 5 nig...   \n",
       "24007  Great central  location for walking to Convent...   \n",
       "35715  Great central  location for walking to Convent...   \n",
       "\n",
       "                                   neighborhood_overview host_is_superhost  \\\n",
       "0      My neighborhood is ideally located if you want...                 t   \n",
       "12264  My neighborhood is ideally located if you want...                 t   \n",
       "24007  My neighborhood is ideally located if you want...                 t   \n",
       "35715  My neighborhood is ideally located if you want...                 t   \n",
       "\n",
       "       zipcode  latitude  longitude      property_type  ... beds  \\\n",
       "0        78702  30.26057  -97.73441  Entire guesthouse  ...  2.0   \n",
       "12264    78702  30.26057  -97.73441  Entire guesthouse  ...  2.0   \n",
       "24007    78702  30.26057  -97.73441  Entire guesthouse  ...  2.0   \n",
       "35715    78702  30.26057  -97.73441  Entire guesthouse  ...  2.0   \n",
       "\n",
       "                                               amenities  price  \\\n",
       "0                                                     []  101.0   \n",
       "12264  [\"Air conditioning\", \"Hot water\", \"Dishes and ...  126.0   \n",
       "24007  [\"HDTV with Amazon Prime Video, HBO Max, Hulu,...  107.0   \n",
       "35715  [\"Heating\", \"Backyard\", \"Bed linens\", \"Hot wat...  176.0   \n",
       "\n",
       "       minimum_nights  maximum_nights number_of_reviews  review_scores_rating  \\\n",
       "0                   2              90               668                  4.84   \n",
       "12264               2              90               657                  4.84   \n",
       "24007               2              90               648                  4.84   \n",
       "35715               2              90               630                  4.84   \n",
       "\n",
       "       occupancy_rate  time_quarter  host_id  \n",
       "0                 0.7            Q4     8028  \n",
       "12264             0.7            Q3     8028  \n",
       "24007             0.7            Q2     8028  \n",
       "35715             0.7            Q1     8028  \n",
       "\n",
       "[4 rows x 24 columns]"
      ]
     },
     "execution_count": 569,
     "metadata": {},
     "output_type": "execute_result"
    }
   ],
   "source": [
    "df[df['id'] ==5456]"
   ]
  },
  {
   "cell_type": "markdown",
   "metadata": {},
   "source": [
    "As we can see, this property has some other listings as well and it looks like after Q1, airbnb has decided to follow the listing convention of using '.' in their names. let us check another listing. "
   ]
  },
  {
   "cell_type": "code",
   "execution_count": 570,
   "metadata": {},
   "outputs": [
    {
     "data": {
      "text/html": [
       "<div>\n",
       "<style scoped>\n",
       "    .dataframe tbody tr th:only-of-type {\n",
       "        vertical-align: middle;\n",
       "    }\n",
       "\n",
       "    .dataframe tbody tr th {\n",
       "        vertical-align: top;\n",
       "    }\n",
       "\n",
       "    .dataframe thead th {\n",
       "        text-align: right;\n",
       "    }\n",
       "</style>\n",
       "<table border=\"1\" class=\"dataframe\">\n",
       "  <thead>\n",
       "    <tr style=\"text-align: right;\">\n",
       "      <th></th>\n",
       "      <th>id</th>\n",
       "      <th>source</th>\n",
       "      <th>name</th>\n",
       "      <th>description</th>\n",
       "      <th>neighborhood_overview</th>\n",
       "      <th>host_is_superhost</th>\n",
       "      <th>zipcode</th>\n",
       "      <th>latitude</th>\n",
       "      <th>longitude</th>\n",
       "      <th>property_type</th>\n",
       "      <th>...</th>\n",
       "      <th>beds</th>\n",
       "      <th>amenities</th>\n",
       "      <th>price</th>\n",
       "      <th>minimum_nights</th>\n",
       "      <th>maximum_nights</th>\n",
       "      <th>number_of_reviews</th>\n",
       "      <th>review_scores_rating</th>\n",
       "      <th>occupancy_rate</th>\n",
       "      <th>time_quarter</th>\n",
       "      <th>host_id</th>\n",
       "    </tr>\n",
       "  </thead>\n",
       "  <tbody>\n",
       "    <tr>\n",
       "      <th>1</th>\n",
       "      <td>5769</td>\n",
       "      <td>previous scrape</td>\n",
       "      <td>Home in Austin · ★4.91 · 1 bedroom · 1 bed · 1...</td>\n",
       "      <td>NaN</td>\n",
       "      <td>Quiet neighborhood with lots of trees and good...</td>\n",
       "      <td>t</td>\n",
       "      <td>78729</td>\n",
       "      <td>30.45697</td>\n",
       "      <td>-97.78422</td>\n",
       "      <td>Private room in home</td>\n",
       "      <td>...</td>\n",
       "      <td>1.0</td>\n",
       "      <td>[]</td>\n",
       "      <td>43.0</td>\n",
       "      <td>1</td>\n",
       "      <td>14</td>\n",
       "      <td>294</td>\n",
       "      <td>4.91</td>\n",
       "      <td>0.544041</td>\n",
       "      <td>Q4</td>\n",
       "      <td>8186</td>\n",
       "    </tr>\n",
       "    <tr>\n",
       "      <th>12265</th>\n",
       "      <td>5769</td>\n",
       "      <td>previous scrape</td>\n",
       "      <td>Home in Austin · ★4.90 · 1 bedroom · 1 bed · 1...</td>\n",
       "      <td>&lt;b&gt;The space&lt;/b&gt;&lt;br /&gt;Looking for a comfortabl...</td>\n",
       "      <td>Quiet neighborhood with lots of trees and good...</td>\n",
       "      <td>t</td>\n",
       "      <td>78729</td>\n",
       "      <td>30.45697</td>\n",
       "      <td>-97.78422</td>\n",
       "      <td>Private room in home</td>\n",
       "      <td>...</td>\n",
       "      <td>1.0</td>\n",
       "      <td>[\"Wifi \\u2013 47 Mbps\", \"Lock on bedroom door\"...</td>\n",
       "      <td>45.0</td>\n",
       "      <td>1</td>\n",
       "      <td>14</td>\n",
       "      <td>290</td>\n",
       "      <td>4.90</td>\n",
       "      <td>0.549346</td>\n",
       "      <td>Q3</td>\n",
       "      <td>8186</td>\n",
       "    </tr>\n",
       "    <tr>\n",
       "      <th>24012</th>\n",
       "      <td>5769</td>\n",
       "      <td>previous scrape</td>\n",
       "      <td>Home in Austin · ★4.90 · 1 bedroom · 1 bed · 1...</td>\n",
       "      <td>&lt;b&gt;The space&lt;/b&gt;&lt;br /&gt;Looking for a comfortabl...</td>\n",
       "      <td>Quiet neighborhood with lots of trees and good...</td>\n",
       "      <td>NaN</td>\n",
       "      <td>78729</td>\n",
       "      <td>30.45697</td>\n",
       "      <td>-97.78422</td>\n",
       "      <td>Private room in home</td>\n",
       "      <td>...</td>\n",
       "      <td>1.0</td>\n",
       "      <td>[\"Host greets you\", \"Essentials\", \"Shampoo\", \"...</td>\n",
       "      <td>42.0</td>\n",
       "      <td>1</td>\n",
       "      <td>14</td>\n",
       "      <td>285</td>\n",
       "      <td>4.90</td>\n",
       "      <td>0.546291</td>\n",
       "      <td>Q2</td>\n",
       "      <td>8186</td>\n",
       "    </tr>\n",
       "    <tr>\n",
       "      <th>35716</th>\n",
       "      <td>5769</td>\n",
       "      <td>previous scrape</td>\n",
       "      <td>NW Austin Room</td>\n",
       "      <td>&lt;b&gt;The space&lt;/b&gt;&lt;br /&gt;Looking for a comfortabl...</td>\n",
       "      <td>Quiet neighborhood with lots of trees and good...</td>\n",
       "      <td>t</td>\n",
       "      <td>78729</td>\n",
       "      <td>30.45697</td>\n",
       "      <td>-97.78422</td>\n",
       "      <td>Private room in home</td>\n",
       "      <td>...</td>\n",
       "      <td>1.0</td>\n",
       "      <td>[\"Private backyard\", \"Free parking on premises...</td>\n",
       "      <td>42.0</td>\n",
       "      <td>1</td>\n",
       "      <td>14</td>\n",
       "      <td>275</td>\n",
       "      <td>4.90</td>\n",
       "      <td>0.539957</td>\n",
       "      <td>Q1</td>\n",
       "      <td>8186</td>\n",
       "    </tr>\n",
       "  </tbody>\n",
       "</table>\n",
       "<p>4 rows × 24 columns</p>\n",
       "</div>"
      ],
      "text/plain": [
       "         id           source  \\\n",
       "1      5769  previous scrape   \n",
       "12265  5769  previous scrape   \n",
       "24012  5769  previous scrape   \n",
       "35716  5769  previous scrape   \n",
       "\n",
       "                                                    name  \\\n",
       "1      Home in Austin · ★4.91 · 1 bedroom · 1 bed · 1...   \n",
       "12265  Home in Austin · ★4.90 · 1 bedroom · 1 bed · 1...   \n",
       "24012  Home in Austin · ★4.90 · 1 bedroom · 1 bed · 1...   \n",
       "35716                                     NW Austin Room   \n",
       "\n",
       "                                             description  \\\n",
       "1                                                    NaN   \n",
       "12265  <b>The space</b><br />Looking for a comfortabl...   \n",
       "24012  <b>The space</b><br />Looking for a comfortabl...   \n",
       "35716  <b>The space</b><br />Looking for a comfortabl...   \n",
       "\n",
       "                                   neighborhood_overview host_is_superhost  \\\n",
       "1      Quiet neighborhood with lots of trees and good...                 t   \n",
       "12265  Quiet neighborhood with lots of trees and good...                 t   \n",
       "24012  Quiet neighborhood with lots of trees and good...               NaN   \n",
       "35716  Quiet neighborhood with lots of trees and good...                 t   \n",
       "\n",
       "       zipcode  latitude  longitude         property_type  ... beds  \\\n",
       "1        78729  30.45697  -97.78422  Private room in home  ...  1.0   \n",
       "12265    78729  30.45697  -97.78422  Private room in home  ...  1.0   \n",
       "24012    78729  30.45697  -97.78422  Private room in home  ...  1.0   \n",
       "35716    78729  30.45697  -97.78422  Private room in home  ...  1.0   \n",
       "\n",
       "                                               amenities price  \\\n",
       "1                                                     []  43.0   \n",
       "12265  [\"Wifi \\u2013 47 Mbps\", \"Lock on bedroom door\"...  45.0   \n",
       "24012  [\"Host greets you\", \"Essentials\", \"Shampoo\", \"...  42.0   \n",
       "35716  [\"Private backyard\", \"Free parking on premises...  42.0   \n",
       "\n",
       "       minimum_nights  maximum_nights number_of_reviews  review_scores_rating  \\\n",
       "1                   1              14               294                  4.91   \n",
       "12265               1              14               290                  4.90   \n",
       "24012               1              14               285                  4.90   \n",
       "35716               1              14               275                  4.90   \n",
       "\n",
       "       occupancy_rate  time_quarter  host_id  \n",
       "1            0.544041            Q4     8186  \n",
       "12265        0.549346            Q3     8186  \n",
       "24012        0.546291            Q2     8186  \n",
       "35716        0.539957            Q1     8186  \n",
       "\n",
       "[4 rows x 24 columns]"
      ]
     },
     "execution_count": 570,
     "metadata": {},
     "output_type": "execute_result"
    }
   ],
   "source": [
    "df[df['id'] ==5769]"
   ]
  },
  {
   "cell_type": "markdown",
   "metadata": {},
   "source": [
    "Let us see how many missing values for bedrooms do we have for listing where the name is using the new convention of using '.' and indicating the number of beds and baths. "
   ]
  },
  {
   "cell_type": "code",
   "execution_count": 571,
   "metadata": {},
   "outputs": [
    {
     "name": "stdout",
     "output_type": "stream",
     "text": [
      "number of listing with missing bedrooms that use \".\" to separate the number of rooms in the listing name (5 dots)\n",
      "2840\n"
     ]
    }
   ],
   "source": [
    "print('number of listing with missing bedrooms that use \".\" to separate the number of rooms in the listing name (5 dots)')\n",
    "print(df[df['name'].apply(lambda x: len(x.split('·'))) == 5]['bedrooms'].isna().sum())"
   ]
  },
  {
   "cell_type": "code",
   "execution_count": 572,
   "metadata": {},
   "outputs": [
    {
     "name": "stdout",
     "output_type": "stream",
     "text": [
      "number of listing with missing bedrooms that use \".\" to separate the number of rooms in the listing name (4 dots)\n",
      "981\n"
     ]
    }
   ],
   "source": [
    "print('number of listing with missing bedrooms that use \".\" to separate the number of rooms in the listing name (4 dots)')\n",
    "print(df[df['name'].apply(lambda x: len(x.split('·'))) == 4]['bedrooms'].isna().sum())"
   ]
  },
  {
   "cell_type": "code",
   "execution_count": 573,
   "metadata": {},
   "outputs": [
    {
     "name": "stdout",
     "output_type": "stream",
     "text": [
      "number of listing with missing bedrooms that use \".\" to separate the number of rooms in the listing name (3 dots)\n",
      "24\n"
     ]
    }
   ],
   "source": [
    "print('number of listing with missing bedrooms that use \".\" to separate the number of rooms in the listing name (3 dots)')\n",
    "print(df[df['name'].apply(lambda x: len(x.split('·'))) == 3]['bedrooms'].isna().sum())"
   ]
  },
  {
   "cell_type": "code",
   "execution_count": 574,
   "metadata": {},
   "outputs": [
    {
     "name": "stdout",
     "output_type": "stream",
     "text": [
      "number of listing with missing bedrooms that use \".\" to separate the number of rooms in the listing name (2 dots)\n",
      "0\n"
     ]
    }
   ],
   "source": [
    "print('number of listing with missing bedrooms that use \".\" to separate the number of rooms in the listing name (2 dots)')\n",
    "print(df[df['name'].apply(lambda x: len(x.split('·'))) == 2]['bedrooms'].isna().sum())"
   ]
  },
  {
   "cell_type": "code",
   "execution_count": 575,
   "metadata": {},
   "outputs": [
    {
     "name": "stdout",
     "output_type": "stream",
     "text": [
      "number of listing with missing bedrooms that use \".\" to separate the number of rooms in the listing name (1 dots)\n",
      "586\n"
     ]
    }
   ],
   "source": [
    "print('number of listing with missing bedrooms that use \".\" to separate the number of rooms in the listing name (1 dots)')\n",
    "print(df[df['name'].apply(lambda x: len(x.split('·'))) == 1]['bedrooms'].isna().sum())"
   ]
  },
  {
   "cell_type": "markdown",
   "metadata": {},
   "source": [
    "It looks like most of the listings that have the number of bedrooms missing should have some indication of the number of bedrooms in their name listing. We will have to regex to extract the bedroom information from this data. The following regex will extract the first number before the words 'bedroom', 'Bedroom', 'bedrooms', or 'Bedrooms'. "
   ]
  },
  {
   "cell_type": "code",
   "execution_count": 576,
   "metadata": {},
   "outputs": [],
   "source": [
    "df['bedrooms_extracted'] = df['name'].apply(lambda x: re.search(r'\\D*(\\d+\\.\\d+|\\d+)\\D*(?:bedroom|bedrooms|Bedroom|Bedrooms)',x).group(1) if \n",
    "                                            re.search(r'\\D*(\\d+\\.\\d+|\\d+)\\D*(?:bedroom|bedrooms|Bedroom|Bedrooms)',x) else np.nan)                           \n"
   ]
  },
  {
   "cell_type": "code",
   "execution_count": 577,
   "metadata": {},
   "outputs": [],
   "source": [
    "# convert the string into int if they are not nan\n",
    "df['bedrooms_extracted'] = pd.to_numeric(df['bedrooms_extracted'], errors='coerce').astype('Int64')\n"
   ]
  },
  {
   "cell_type": "code",
   "execution_count": 578,
   "metadata": {},
   "outputs": [
    {
     "data": {
      "text/plain": [
       "1        14505\n",
       "2         8923\n",
       "3         6456\n",
       "4         3030\n",
       "5          949\n",
       "6          335\n",
       "7          146\n",
       "8           60\n",
       "9           30\n",
       "10          23\n",
       "13          10\n",
       "12           8\n",
       "23           4\n",
       "14           4\n",
       "15           3\n",
       "1940         2\n",
       "11           1\n",
       "78704        1\n",
       "33           1\n",
       "Name: bedrooms_extracted, dtype: Int64"
      ]
     },
     "execution_count": 578,
     "metadata": {},
     "output_type": "execute_result"
    }
   ],
   "source": [
    "df['bedrooms_extracted'].value_counts()"
   ]
  },
  {
   "cell_type": "code",
   "execution_count": 579,
   "metadata": {},
   "outputs": [
    {
     "data": {
      "text/plain": [
       "12513"
      ]
     },
     "execution_count": 579,
     "metadata": {},
     "output_type": "execute_result"
    }
   ],
   "source": [
    "df['bedrooms_extracted'].isna().sum()"
   ]
  },
  {
   "cell_type": "markdown",
   "metadata": {},
   "source": [
    "Now, let us take a look at the column beedrooms and bedrooms_extracted together and see how many listings dont have values in either of these columns."
   ]
  },
  {
   "cell_type": "code",
   "execution_count": 580,
   "metadata": {},
   "outputs": [
    {
     "data": {
      "text/plain": [
       "(2346, 25)"
      ]
     },
     "execution_count": 580,
     "metadata": {},
     "output_type": "execute_result"
    }
   ],
   "source": [
    "df[df['bedrooms'].isna() & df['bedrooms_extracted'].isna()].shape"
   ]
  },
  {
   "cell_type": "code",
   "execution_count": 581,
   "metadata": {},
   "outputs": [
    {
     "data": {
      "text/html": [
       "<div>\n",
       "<style scoped>\n",
       "    .dataframe tbody tr th:only-of-type {\n",
       "        vertical-align: middle;\n",
       "    }\n",
       "\n",
       "    .dataframe tbody tr th {\n",
       "        vertical-align: top;\n",
       "    }\n",
       "\n",
       "    .dataframe thead th {\n",
       "        text-align: right;\n",
       "    }\n",
       "</style>\n",
       "<table border=\"1\" class=\"dataframe\">\n",
       "  <thead>\n",
       "    <tr style=\"text-align: right;\">\n",
       "      <th></th>\n",
       "      <th>id</th>\n",
       "      <th>source</th>\n",
       "      <th>name</th>\n",
       "      <th>description</th>\n",
       "      <th>neighborhood_overview</th>\n",
       "      <th>host_is_superhost</th>\n",
       "      <th>zipcode</th>\n",
       "      <th>latitude</th>\n",
       "      <th>longitude</th>\n",
       "      <th>property_type</th>\n",
       "      <th>...</th>\n",
       "      <th>amenities</th>\n",
       "      <th>price</th>\n",
       "      <th>minimum_nights</th>\n",
       "      <th>maximum_nights</th>\n",
       "      <th>number_of_reviews</th>\n",
       "      <th>review_scores_rating</th>\n",
       "      <th>occupancy_rate</th>\n",
       "      <th>time_quarter</th>\n",
       "      <th>host_id</th>\n",
       "      <th>bedrooms_extracted</th>\n",
       "    </tr>\n",
       "  </thead>\n",
       "  <tbody>\n",
       "    <tr>\n",
       "      <th>2</th>\n",
       "      <td>6413</td>\n",
       "      <td>previous scrape</td>\n",
       "      <td>Guesthouse in Austin · ★4.97 · Studio · 1 bed ...</td>\n",
       "      <td>NaN</td>\n",
       "      <td>Travis Heights is one of the oldest neighborho...</td>\n",
       "      <td>f</td>\n",
       "      <td>78704</td>\n",
       "      <td>30.24885</td>\n",
       "      <td>-97.73587</td>\n",
       "      <td>Entire guesthouse</td>\n",
       "      <td>...</td>\n",
       "      <td>[]</td>\n",
       "      <td>91.666667</td>\n",
       "      <td>30</td>\n",
       "      <td>90</td>\n",
       "      <td>120</td>\n",
       "      <td>4.97</td>\n",
       "      <td>0.700000</td>\n",
       "      <td>Q4</td>\n",
       "      <td>13879</td>\n",
       "      <td>&lt;NA&gt;</td>\n",
       "    </tr>\n",
       "    <tr>\n",
       "      <th>18</th>\n",
       "      <td>219168</td>\n",
       "      <td>previous scrape</td>\n",
       "      <td>Rental unit in Austin · ★4.88 · Studio · 1 bed...</td>\n",
       "      <td>NaN</td>\n",
       "      <td>Despite its proximity to South Congress and th...</td>\n",
       "      <td>f</td>\n",
       "      <td>78704</td>\n",
       "      <td>30.24519</td>\n",
       "      <td>-97.74486</td>\n",
       "      <td>Entire rental unit</td>\n",
       "      <td>...</td>\n",
       "      <td>[]</td>\n",
       "      <td>250.000000</td>\n",
       "      <td>2</td>\n",
       "      <td>60</td>\n",
       "      <td>8</td>\n",
       "      <td>4.88</td>\n",
       "      <td>0.043080</td>\n",
       "      <td>Q4</td>\n",
       "      <td>1134580</td>\n",
       "      <td>&lt;NA&gt;</td>\n",
       "    </tr>\n",
       "    <tr>\n",
       "      <th>22</th>\n",
       "      <td>224603</td>\n",
       "      <td>city scrape</td>\n",
       "      <td>Guesthouse in Austin · ★4.94 · Studio · 1 bed ...</td>\n",
       "      <td>NaN</td>\n",
       "      <td>NaN</td>\n",
       "      <td>t</td>\n",
       "      <td>78751</td>\n",
       "      <td>30.30732</td>\n",
       "      <td>-97.72782</td>\n",
       "      <td>Entire guesthouse</td>\n",
       "      <td>...</td>\n",
       "      <td>[]</td>\n",
       "      <td>110.000000</td>\n",
       "      <td>60</td>\n",
       "      <td>365</td>\n",
       "      <td>116</td>\n",
       "      <td>4.94</td>\n",
       "      <td>0.700000</td>\n",
       "      <td>Q4</td>\n",
       "      <td>1169129</td>\n",
       "      <td>&lt;NA&gt;</td>\n",
       "    </tr>\n",
       "    <tr>\n",
       "      <th>43</th>\n",
       "      <td>78884</td>\n",
       "      <td>city scrape</td>\n",
       "      <td>Rental unit in Austin · ★4.78 · Studio · 2 bed...</td>\n",
       "      <td>NaN</td>\n",
       "      <td>The Barton Hills neighborhood is located in Au...</td>\n",
       "      <td>t</td>\n",
       "      <td>78704</td>\n",
       "      <td>30.26126</td>\n",
       "      <td>-97.77358</td>\n",
       "      <td>Entire rental unit</td>\n",
       "      <td>...</td>\n",
       "      <td>[]</td>\n",
       "      <td>101.000000</td>\n",
       "      <td>2</td>\n",
       "      <td>90</td>\n",
       "      <td>199</td>\n",
       "      <td>4.78</td>\n",
       "      <td>0.473922</td>\n",
       "      <td>Q4</td>\n",
       "      <td>2157243</td>\n",
       "      <td>&lt;NA&gt;</td>\n",
       "    </tr>\n",
       "    <tr>\n",
       "      <th>107</th>\n",
       "      <td>343889</td>\n",
       "      <td>city scrape</td>\n",
       "      <td>Rental unit in Austin · ★4.75 · Studio · 1 bed...</td>\n",
       "      <td>NaN</td>\n",
       "      <td>Friendly, walkable residential neighborhood wi...</td>\n",
       "      <td>f</td>\n",
       "      <td>78702</td>\n",
       "      <td>30.27293</td>\n",
       "      <td>-97.72288</td>\n",
       "      <td>Entire rental unit</td>\n",
       "      <td>...</td>\n",
       "      <td>[]</td>\n",
       "      <td>60.000000</td>\n",
       "      <td>30</td>\n",
       "      <td>1125</td>\n",
       "      <td>36</td>\n",
       "      <td>4.75</td>\n",
       "      <td>0.505027</td>\n",
       "      <td>Q4</td>\n",
       "      <td>1744639</td>\n",
       "      <td>&lt;NA&gt;</td>\n",
       "    </tr>\n",
       "  </tbody>\n",
       "</table>\n",
       "<p>5 rows × 25 columns</p>\n",
       "</div>"
      ],
      "text/plain": [
       "         id           source  \\\n",
       "2      6413  previous scrape   \n",
       "18   219168  previous scrape   \n",
       "22   224603      city scrape   \n",
       "43    78884      city scrape   \n",
       "107  343889      city scrape   \n",
       "\n",
       "                                                  name description  \\\n",
       "2    Guesthouse in Austin · ★4.97 · Studio · 1 bed ...         NaN   \n",
       "18   Rental unit in Austin · ★4.88 · Studio · 1 bed...         NaN   \n",
       "22   Guesthouse in Austin · ★4.94 · Studio · 1 bed ...         NaN   \n",
       "43   Rental unit in Austin · ★4.78 · Studio · 2 bed...         NaN   \n",
       "107  Rental unit in Austin · ★4.75 · Studio · 1 bed...         NaN   \n",
       "\n",
       "                                 neighborhood_overview host_is_superhost  \\\n",
       "2    Travis Heights is one of the oldest neighborho...                 f   \n",
       "18   Despite its proximity to South Congress and th...                 f   \n",
       "22                                                 NaN                 t   \n",
       "43   The Barton Hills neighborhood is located in Au...                 t   \n",
       "107  Friendly, walkable residential neighborhood wi...                 f   \n",
       "\n",
       "     zipcode  latitude  longitude       property_type  ... amenities  \\\n",
       "2      78704  30.24885  -97.73587   Entire guesthouse  ...        []   \n",
       "18     78704  30.24519  -97.74486  Entire rental unit  ...        []   \n",
       "22     78751  30.30732  -97.72782   Entire guesthouse  ...        []   \n",
       "43     78704  30.26126  -97.77358  Entire rental unit  ...        []   \n",
       "107    78702  30.27293  -97.72288  Entire rental unit  ...        []   \n",
       "\n",
       "          price minimum_nights  maximum_nights  number_of_reviews  \\\n",
       "2     91.666667             30              90                120   \n",
       "18   250.000000              2              60                  8   \n",
       "22   110.000000             60             365                116   \n",
       "43   101.000000              2              90                199   \n",
       "107   60.000000             30            1125                 36   \n",
       "\n",
       "    review_scores_rating  occupancy_rate  time_quarter  host_id  \\\n",
       "2                   4.97        0.700000            Q4    13879   \n",
       "18                  4.88        0.043080            Q4  1134580   \n",
       "22                  4.94        0.700000            Q4  1169129   \n",
       "43                  4.78        0.473922            Q4  2157243   \n",
       "107                 4.75        0.505027            Q4  1744639   \n",
       "\n",
       "     bedrooms_extracted  \n",
       "2                  <NA>  \n",
       "18                 <NA>  \n",
       "22                 <NA>  \n",
       "43                 <NA>  \n",
       "107                <NA>  \n",
       "\n",
       "[5 rows x 25 columns]"
      ]
     },
     "execution_count": 581,
     "metadata": {},
     "output_type": "execute_result"
    }
   ],
   "source": [
    "df[df['bedrooms'].isna() & df['bedrooms_extracted'].isna()].head(5)"
   ]
  },
  {
   "cell_type": "markdown",
   "metadata": {},
   "source": [
    "It seems like a lot of these places could be studios. What we can do here now is to see what listing has the word studio in it and then assign a value of 0 to its bedrooms_extracted column value. "
   ]
  },
  {
   "cell_type": "code",
   "execution_count": 582,
   "metadata": {},
   "outputs": [
    {
     "data": {
      "text/plain": [
       "(0, 25)"
      ]
     },
     "execution_count": 582,
     "metadata": {},
     "output_type": "execute_result"
    }
   ],
   "source": [
    "df.loc[(df['bedrooms_extracted'].isna() &\n",
    "       df['name'].str.contains('Studio|studio|STUDIO')),'bedrooms_extracted'] = 0\n",
    "df[df['bedrooms_extracted'].isna() &\n",
    "   df['name'].str.contains('Studio|studio|STUDIO')\n",
    "   ].shape"
   ]
  },
  {
   "cell_type": "markdown",
   "metadata": {},
   "source": [
    "Again, going back to the listings with no beedrooms reported in the bedrooms or bedrooms_extracted columns."
   ]
  },
  {
   "cell_type": "code",
   "execution_count": 583,
   "metadata": {},
   "outputs": [
    {
     "data": {
      "text/plain": [
       "(478, 25)"
      ]
     },
     "execution_count": 583,
     "metadata": {},
     "output_type": "execute_result"
    }
   ],
   "source": [
    "df[df['bedrooms'].isna() & df['bedrooms_extracted'].isna()].shape"
   ]
  },
  {
   "cell_type": "markdown",
   "metadata": {},
   "source": [
    "If we exclude the listing that are private or shared rooms (we will not be modeling those) we have:"
   ]
  },
  {
   "cell_type": "code",
   "execution_count": 584,
   "metadata": {},
   "outputs": [
    {
     "data": {
      "text/plain": [
       "(455, 25)"
      ]
     },
     "execution_count": 584,
     "metadata": {},
     "output_type": "execute_result"
    }
   ],
   "source": [
    "df[df['bedrooms_extracted'].isna() & \n",
    "   df['bedrooms'].isna() & \n",
    "   df['room_type'].str.contains('Entire home/apt')].shape"
   ]
  },
  {
   "cell_type": "markdown",
   "metadata": {},
   "source": [
    "We will only have 455 important listing with no bedroom information (later, we will have to drop these listings). At this time, let us combine the data from bedrooms and bedroom_extracted columns. To do that, we will first check if we have any information about bedroom in the bedroom column itself, if not, we will use that of bedroom extracted. "
   ]
  },
  {
   "cell_type": "code",
   "execution_count": 585,
   "metadata": {},
   "outputs": [
    {
     "data": {
      "text/plain": [
       "478"
      ]
     },
     "execution_count": 585,
     "metadata": {},
     "output_type": "execute_result"
    }
   ],
   "source": [
    "df['bedrooms'] = df.apply(lambda x: x['bedrooms'] if not np.isnan(x['bedrooms']) else x['bedrooms_extracted'], axis=1)\n",
    "df.drop(columns=['bedrooms_extracted'], inplace=True)\n",
    "df['bedrooms'].isna().sum()"
   ]
  },
  {
   "cell_type": "markdown",
   "metadata": {},
   "source": [
    "## Missing superhost information"
   ]
  },
  {
   "cell_type": "markdown",
   "metadata": {},
   "source": [
    "Let us take a look at the count of missing values again."
   ]
  },
  {
   "cell_type": "code",
   "execution_count": 586,
   "metadata": {},
   "outputs": [
    {
     "data": {
      "text/plain": [
       "neighborhood_overview    16056\n",
       "description              12482\n",
       "host_is_superhost         2058\n",
       "bedrooms                   478\n",
       "beds                       363\n",
       "bathrooms_text              34\n",
       "time_quarter                 0\n",
       "occupancy_rate               0\n",
       "review_scores_rating         0\n",
       "number_of_reviews            0\n",
       "maximum_nights               0\n",
       "minimum_nights               0\n",
       "price                        0\n",
       "amenities                    0\n",
       "id                           0\n",
       "source                       0\n",
       "accommodates                 0\n",
       "room_type                    0\n",
       "property_type                0\n",
       "longitude                    0\n",
       "latitude                     0\n",
       "zipcode                      0\n",
       "name                         0\n",
       "host_id                      0\n",
       "dtype: int64"
      ]
     },
     "execution_count": 586,
     "metadata": {},
     "output_type": "execute_result"
    }
   ],
   "source": [
    "df.isna().sum().sort_values(ascending=False)"
   ]
  },
  {
   "cell_type": "markdown",
   "metadata": {},
   "source": [
    "We see a lot of data is missing in the column of host_is_superhost. Since there could be multiple listings (different properties and/or same property listed at different times of the year), we will see if we can find data related to that host in other listings and use that."
   ]
  },
  {
   "cell_type": "code",
   "execution_count": 587,
   "metadata": {},
   "outputs": [],
   "source": [
    "# find the unique host ids for listings that are missing superhost info.\n",
    "missing_superhost_hostid = df[df['host_is_superhost'].isna()]['host_id'].unique()\n",
    "missing_superhost = {}\n",
    "# see if that host has the superhost tag or not in any of their lisitngs and count each of those tags\n",
    "# assign the majority tag to as the 'host_is_superhost' value when this column is missing\n",
    "for i in missing_superhost_hostid:\n",
    "    num_t = df[df['host_id'] == i]['host_is_superhost'].str.count('t').sum()\n",
    "    num_f = df[df['host_id'] == i]['host_is_superhost'].str.count('f').sum()\n",
    "    # assign the majority tag to that host id who has some listings that is missing superhost tag\n",
    "    if num_f + num_t > 0:\n",
    "        if num_t >= num_f:\n",
    "            missing_superhost[i] = 't'\n",
    "        else: \n",
    "            missing_superhost[i] = 'f'\n",
    "    else:\n",
    "        missing_superhost[i] = np.nan\n",
    "\n",
    "df.loc[df['host_is_superhost'].isna(),'host_is_superhost'] = df[df['host_is_superhost'].isna()].apply(lambda x: missing_superhost[x['host_id']], axis=1)\n"
   ]
  },
  {
   "cell_type": "code",
   "execution_count": 588,
   "metadata": {},
   "outputs": [
    {
     "data": {
      "text/plain": [
       "30"
      ]
     },
     "execution_count": 588,
     "metadata": {},
     "output_type": "execute_result"
    }
   ],
   "source": [
    "df['host_is_superhost'].isna().sum()"
   ]
  },
  {
   "cell_type": "markdown",
   "metadata": {},
   "source": [
    "We can see that we were able to reduce the number of data missing related to superhosts substantially."
   ]
  },
  {
   "cell_type": "markdown",
   "metadata": {},
   "source": [
    "## Important amenities "
   ]
  },
  {
   "cell_type": "markdown",
   "metadata": {},
   "source": [
    "The amenities in our dataset is stored as a string that contains the list of the items in the amenity section. Since there is no structure or template for which amenities listings might have, we will start our analysis by looking at some of that results and see what should we expect in the amenities section. Let us first start by looking at the data itself."
   ]
  },
  {
   "cell_type": "code",
   "execution_count": 589,
   "metadata": {},
   "outputs": [
    {
     "data": {
      "text/plain": [
       "[]                                                                                                                                                                                                                                                                                                                                                                                                                                                                                                                                                                                                                                                                                                                                                                                                                                                                                                                                                                                                                                                                                                                                                                                                                                                                                  12268\n",
       "[\"Air conditioning\", \"Hot water\", \"Hair dryer\", \"Dishwasher\", \"Washer \\u2013\\u00a0In unit\", \"Long term stays allowed\", \"Essentials\", \"Microwave\", \"Kitchen\", \"Gym\", \"Oven\", \"Bed linens\", \"Coffee maker\", \"Dryer \\u2013\\u00a0In unit\", \"Pets allowed\", \"Private entrance\", \"Hangers\", \"Refrigerator\", \"Lockbox\", \"Smoke alarm\", \"TV\", \"Patio or balcony\", \"Elevator\", \"Heating\", \"Bathtub\", \"Carbon monoxide alarm\", \"Wifi\", \"Paid parking on premises\", \"Shampoo\", \"Self check-in\", \"BBQ grill\", \"Cooking basics\", \"Iron\", \"Pool\"]                                                                                                                                                                                                                                                                                                                                                                                                                                                                                                                                                                                                                                                                                                                                                    19\n",
       "[\"Security cameras on property\", \"Washer\", \"Carbon monoxide alarm\", \"Fire extinguisher\", \"Free parking on premises\", \"Heating\", \"TV\", \"Pets allowed\", \"Smoke alarm\", \"Self check-in\", \"Wifi\", \"Kitchen\", \"Cooking basics\", \"Air conditioning\", \"Paid parking on premises\", \"Keypad\"]                                                                                                                                                                                                                                                                                                                                                                                                                                                                                                                                                                                                                                                                                                                                                                                                                                                                                                                                                                                                   18\n",
       "[\"Essentials\", \"Shampoo\", \"Microwave\", \"Gym\", \"Hair dryer\", \"TV\", \"Long term stays allowed\", \"Coffee maker\", \"BBQ grill\", \"Pets allowed\", \"Air conditioning\", \"Wifi\", \"Washer \\u2013\\u00a0In unit\", \"Iron\", \"Dryer \\u2013\\u00a0In unit\", \"Hangers\", \"Elevator\", \"Pool\", \"Kitchen\", \"Private entrance\", \"Bed linens\", \"Dishwasher\", \"Oven\", \"Patio or balcony\", \"Bathtub\", \"Smoke alarm\", \"Paid parking on premises\", \"Self check-in\", \"Hot water\", \"Lockbox\", \"Carbon monoxide alarm\", \"Refrigerator\", \"Heating\"]                                                                                                                                                                                                                                                                                                                                                                                                                                                                                                                                                                                                                                                                                                                                                                      16\n",
       "[\"Kitchen\", \"Free parking on premises\", \"Keypad\", \"Self check-in\", \"Pets allowed\", \"Air conditioning\", \"Wifi\", \"Carbon monoxide alarm\", \"TV\", \"Security cameras on property\", \"Washer\", \"Fire extinguisher\", \"Smoke alarm\", \"Paid parking on premises\", \"Heating\", \"Cooking basics\"]                                                                                                                                                                                                                                                                                                                                                                                                                                                                                                                                                                                                                                                                                                                                                                                                                                                                                                                                                                                                   15\n",
       "                                                                                                                                                                                                                                                                                                                                                                                                                                                                                                                                                                                                                                                                                                                                                                                                                                                                                                                                                                                                                                                                                                                                                                                                                                                                                    ...  \n",
       "[\"Paid street parking off premises\", \"Air conditioning\", \"Conditioner\", \"Public or shared beach access\", \"Hot water\", \"Coffee maker: Keurig coffee machine\", \"Lake access\", \"Dishes and silverware\", \"Wine glasses\", \"Ethernet connection\", \"Hair dryer\", \"Freezer\", \"Free street parking\", \"Dishwasher\", \"Cleaning available during stay\", \"Long term stays allowed\", \"Books and reading material\", \"Hot water kettle\", \"Essentials\", \"Shared backyard\", \"Coffee\", \"Microwave\", \"Kitchen\", \"Room-darkening shades\", \"Bed linens\", \"Washer\", \"Central heating\", \"Clothing storage: walk-in closet, closet, wardrobe, and dresser\", \"Baking sheet\", \"Body soap\", \"Stainless steel oven\", \"Pets allowed\", \"Private entrance\", \"Hangers\", \"Outdoor furniture\", \"Outdoor dining area\", \"First aid kit\", \"Gas stove\", \"Toaster\", \"Shower gel\", \"Refrigerator\", \"Fire extinguisher\", \"Smoke alarm\", \"TV\", \"Keypad\", \"Dedicated workspace\", \"Extra pillows and blankets\", \"Bathtub\", \"Carbon monoxide alarm\", \"Ceiling fan\", \"Wifi\", \"Shampoo\", \"Barbecue utensils\", \"Dining table\", \"Drying rack for clothing\", \"Self check-in\", \"BBQ grill\", \"Free parking on premises\", \"Cooking basics\", \"Cleaning products\", \"Free dryer \\u2013 In unit\", \"Laundromat nearby\", \"Iron\", \"Fire pit\"]        1\n",
       "[\"Lock on bedroom door\", \"Conditioner\", \"Clothing storage: walk-in closet\", \"Hot water\", \"Shared backyard \\u2013 Fully fenced\", \"Dishes and silverware\", \"Free street parking\", \"Dishwasher\", \"Hot water kettle\", \"Essentials\", \"Kitchen\", \"Shared BBQ grill: charcoal\", \"Bed linens\", \"Washer\", \"Coffee maker\", \"First aid kit\", \"Fast wifi \\u2013 76 Mbps\", \"Toaster\", \"Shower gel\", \"Refrigerator\", \"Fire extinguisher\", \"Security cameras on property\", \"Smoke alarm\", \"TV\", \"Keypad\", \"Extra pillows and blankets\", \"Bathtub\", \"Central air conditioning\", \"Stove\", \"Hammock\", \"Shampoo\", \"Dining table\", \"Self check-in\", \"Free parking on premises\", \"Cooking basics\", \"Cleaning products\", \"Free dryer \\u2013 In unit\", \"Iron\"]                                                                                                                                                                                                                                                                                                                                                                                                                                                                                                                                                 1\n",
       "[\"Air conditioning\", \"Hot water\", \"Coffee maker: Keurig coffee machine\", \"Dishes and silverware\", \"Freezer\", \"Free street parking\", \"Dishwasher\", \"Books and reading material\", \"Essentials\", \"Exercise equipment\", \"Microwave\", \"Kitchen\", \"Coffee\", \"Gym\", \"Oven\", \"Ping pong table\", \"Bed linens\", \"Washer\", \"Clothing storage\", \"Board games\", \"Hangers\", \"Outdoor furniture\", \"Rice maker\", \"Refrigerator\", \"Lockbox\", \"Sound system\", \"Smoke alarm\", \"TV\", \"Patio or balcony\", \"Heating\", \"Dryer\", \"Bathtub\", \"Carbon monoxide alarm\", \"Ceiling fan\", \"Wifi\", \"Self check-in\", \"BBQ grill\", \"Free parking on premises\", \"Cooking basics\", \"Iron\", \"Pool\"]                                                                                                                                                                                                                                                                                                                                                                                                                                                                                                                                                                                                                         1\n",
       "[\"Air conditioning\", \"Conditioner\", \"Hot water\", \"Dishes and silverware\", \"Luggage dropoff allowed\", \"Smart lock\", \"Hair dryer\", \"Freezer\", \"Single level home\", \"Long term stays allowed\", \"Hot water kettle\", \"Essentials\", \"Coffee\", \"Microwave\", \"Kitchen\", \"Oven\", \"Room-darkening shades\", \"Bed linens\", \"Coffee maker\", \"Baking sheet\", \"Clothing storage\", \"Body soap\", \"Private entrance\", \"Hangers\", \"First aid kit\", \"Shower gel\", \"Refrigerator\", \"Fire extinguisher\", \"Smoke alarm\", \"TV\", \"Dedicated workspace\", \"Heating\", \"Bathtub\", \"Carbon monoxide alarm\", \"Ceiling fan\", \"Wifi\", \"Shampoo\", \"Stove\", \"Dining table\", \"Self check-in\", \"Free parking on premises\", \"Cooking basics\", \"Cleaning products\", \"Laundromat nearby\", \"Iron\"]                                                                                                                                                                                                                                                                                                                                                                                                                                                                                                                               1\n",
       "[\"Free parking on premises\", \"Waterfront\", \"Bed linens\", \"Dishwasher\", \"Hot water\", \"Body soap\", \"Shampoo\", \"Freezer\", \"Shower gel\", \"Wifi \\u2013 31 Mbps\", \"Sun loungers\", \"First aid kit\", \"Washer\", \"Essentials\", \"Resort access\", \"Bathtub\", \"BBQ grill\", \"Smoke alarm\", \"Books and reading material\", \"Shared gym nearby\", \"55\\\" HDTV with Apple TV, Netflix, Hulu, Roku, Disney+\", \"Microwave\", \"Ceiling fan\", \"Refrigerator\", \"Carbon monoxide alarm\", \"Fire extinguisher\", \"Shared patio or balcony\", \"Exercise equipment\", \"Cleaning products\", \"Baking sheet\", \"Coffee\", \"Dishes and silverware\", \"Lock on bedroom door\", \"Stove\", \"Kitchen\", \"Conditioner\", \"Cooking basics\", \"Shared outdoor pool - available all year\", \"Shared hot tub - available all year, open specific hours\", \"Blender\", \"Oven\", \"Central heating\", \"Extra pillows and blankets\", \"Coffee maker: Keurig coffee machine\", \"Central air conditioning\", \"Long term stays allowed\", \"City skyline view\", \"Hair dryer\"]                                                                                                                                                                                                                                                                                   1\n",
       "Name: amenities, Length: 33350, dtype: int64"
      ]
     },
     "execution_count": 589,
     "metadata": {},
     "output_type": "execute_result"
    }
   ],
   "source": [
    "df['amenities'].value_counts()"
   ]
  },
  {
   "cell_type": "markdown",
   "metadata": {},
   "source": [
    "We can see a big portion of the amenities have '[]' in their column. Let us see if we can find any pattern for these listings that have no amenities info provided. "
   ]
  },
  {
   "cell_type": "code",
   "execution_count": 590,
   "metadata": {},
   "outputs": [
    {
     "data": {
      "text/plain": [
       "Q4    12231\n",
       "Q1       13\n",
       "Q3       12\n",
       "Q2       12\n",
       "Name: time_quarter, dtype: int64"
      ]
     },
     "execution_count": 590,
     "metadata": {},
     "output_type": "execute_result"
    }
   ],
   "source": [
    "df[df['amenities'] == '[]']['time_quarter'].value_counts()"
   ]
  },
  {
   "cell_type": "code",
   "execution_count": 591,
   "metadata": {},
   "outputs": [
    {
     "data": {
      "text/plain": [
       "12268"
      ]
     },
     "execution_count": 591,
     "metadata": {},
     "output_type": "execute_result"
    }
   ],
   "source": [
    "# set amenities with [] in them as nan as they have no info available\n",
    "df.loc[df['amenities'] == '[]', 'amenities'] = np.nan\n",
    "df['amenities'].isna().sum()"
   ]
  },
  {
   "cell_type": "markdown",
   "metadata": {},
   "source": [
    "It is clear that most of the missing amenities are from latest data scrape so there could be something with the datascrape at that period. Similar to what we did in previous sections, we will see if we can extract amenities for that specific listing from the previous listings of the same property. In this case, we will be using amenities from the closest period that has amenities available for us. "
   ]
  },
  {
   "cell_type": "code",
   "execution_count": 592,
   "metadata": {},
   "outputs": [],
   "source": [
    "# find all the lisitngs that have missing amenities\n",
    "missing_amen_id = df[df['amenities'].isna() ]['id'].unique()\n",
    "missing_amen = {}\n",
    "# iterate over the missing amenity ids and see if the same amenity has some \n",
    "# information about amenities in some other listings\n",
    "for i in missing_amen_id:\n",
    "    # set up a mask to find other postings with the same id that have amenities mentioned\n",
    "    mask = (df['id'] == i) & (df['amenities'].notnull())\n",
    "    # if for that id, there is some other listings with amenities mentioned, use the firs one (most recent)\n",
    "    if not df[mask].empty:\n",
    "        missing_amen[i] = df[mask]['amenities'].values[0]     \n",
    "    #otherwise return nan\n",
    "    else:\n",
    "        missing_amen[i] = np.nan\n",
    "# set the missing amenity \n",
    "df.loc[df['amenities'].isna(), 'amenities'] = df[df['amenities'].isna()].apply(lambda x: missing_amen[x['id']], axis=1)\n"
   ]
  },
  {
   "cell_type": "code",
   "execution_count": 593,
   "metadata": {},
   "outputs": [
    {
     "data": {
      "text/plain": [
       "1445"
      ]
     },
     "execution_count": 593,
     "metadata": {},
     "output_type": "execute_result"
    }
   ],
   "source": [
    "df['amenities'].isna().sum()"
   ]
  },
  {
   "cell_type": "markdown",
   "metadata": {},
   "source": [
    "As we can see, we were able to find a lot of information about amenities that are missing in our recent datascrape from the previous listings and used that in our data. Now, let us list the top 50 amenities in the listings."
   ]
  },
  {
   "cell_type": "code",
   "execution_count": 612,
   "metadata": {},
   "outputs": [
    {
     "name": "stdout",
     "output_type": "stream",
     "text": [
      "top 50 amenities and their occurances\n",
      "(' \"smoke alarm\"', 44105)\n",
      "(' \"kitchen\"', 42413)\n",
      "(' \"wifi\"', 39754)\n",
      "(' \"hangers\"', 37007)\n",
      "(' \"hair dryer\"', 36644)\n",
      "(' \"dishes and silverware\"', 35577)\n",
      "(' \"essentials\"', 35175)\n",
      "(' \"fire extinguisher\"', 35161)\n",
      "(' \"iron\"', 34652)\n",
      "(' \"carbon monoxide alarm\"', 34481)\n",
      "(' \"shampoo\"', 34109)\n",
      "(' \"cooking basics\"', 33650)\n",
      "(' \"refrigerator\"', 33422)\n",
      "(' \"hot water\"', 33183)\n",
      "(' \"self check-in\"', 32884)\n",
      "(' \"microwave\"', 32619)\n",
      "(' \"bed linens\"', 30868)\n",
      "(' \"free parking on premises\"', 30572)\n",
      "(' \"dedicated workspace\"', 27544)\n",
      "(' \"dishwasher\"', 27293)\n",
      "(' \"heating\"', 27200)\n",
      "(' \"first aid kit\"', 27196)\n",
      "(' \"private entrance\"', 25024)\n",
      "(' \"extra pillows and blankets\"', 24257)\n",
      "(' \"free street parking\"', 24095)\n",
      "(' \"washer\"', 22840)\n",
      "(' \"oven\"', 22216)\n",
      "(' \"long term stays allowed\"', 22064)\n",
      "(' \"coffee maker\"', 22058)\n",
      "(' \"tv\"', 21969)\n",
      "(' \"bathtub\"', 21518)\n",
      "(' \"freezer\"', 20394)\n",
      "(' \"ceiling fan\"', 20167)\n",
      "(' \"cleaning products\"', 19766)\n",
      "(' \"dryer\"', 18911)\n",
      "(' \"outdoor furniture\"', 18454)\n",
      "(' \"wine glasses\"', 18299)\n",
      "(' \"dining table\"', 18215)\n",
      "(' \"air conditioning\"', 17950)\n",
      "(' \"stove\"', 17699)\n",
      "(' \"coffee\"', 17117)\n",
      "(' \"security cameras on property\"', 16852)\n",
      "(' \"body soap\"', 16724)\n",
      "(' \"toaster\"', 16627)\n",
      "(' \"baking sheet\"', 16547)\n",
      "(' \"private patio or balcony\"', 16267)\n",
      "(' \"shower gel\"', 16259)\n",
      "(' \"central air conditioning\"', 15414)\n",
      "(' \"keypad\"', 15242)\n",
      "(' \"pets allowed\"', 14879)\n"
     ]
    }
   ],
   "source": [
    "# get all amenities and join them together with ','\n",
    "amenities = df[df['amenities'].notnull()][['amenities']]\n",
    "all_amenities = ','.join(amenities['amenities'])\n",
    "all_amenities = all_amenities.lower()\n",
    "# remove extra characters\n",
    "all_amenities = all_amenities.replace(']', '')\n",
    "all_amenities = all_amenities.replace('[', '')\n",
    "# make a list of all amenities by using comma as a separator\n",
    "list_all_amenities = all_amenities.split(',')\n",
    "# create an instance to count the occurrances\n",
    "element_counts = Counter(list_all_amenities)\n",
    "top_50_elements = element_counts.most_common(50)\n",
    "print('top 50 amenities and their occurances')\n",
    "for i in top_50_elements:\n",
    "    print(i)\n"
   ]
  },
  {
   "cell_type": "markdown",
   "metadata": {},
   "source": [
    "The features we are more interested in are having pool, pet friendly, work space, free parking, and gym. Please note that these features different from city to city based on where the city is located and the activities there. Let us start with pool and see what has been mentioned about pools in the listings. "
   ]
  },
  {
   "cell_type": "code",
   "execution_count": 614,
   "metadata": {},
   "outputs": [
    {
     "name": "stdout",
     "output_type": "stream",
     "text": [
      "top 30 pool occurances in the amenities\n",
      "(' \"pool\"', 5423)\n",
      "(' \"shared pool\"', 2468)\n",
      "(' \"pool view\"', 1336)\n",
      "(' \"private outdoor pool - available all year', 1098)\n",
      "(' \"shared outdoor pool - available all year', 1067)\n",
      "(' \"pool table\"', 1065)\n",
      "(' \"private pool\"', 839)\n",
      "(' pool toys\"', 471)\n",
      "(' \"shared outdoor pool - available seasonally', 364)\n",
      "('\"pool\"', 361)\n",
      "(' lap pool\"', 338)\n",
      "(' \"shared outdoor pool\"', 283)\n",
      "(' \"whirlpool stainless steel gas stove\"', 227)\n",
      "(' \"private outdoor pool - available seasonally', 177)\n",
      "(' \"whirlpool refrigerator\"', 143)\n",
      "(' \"whirlpool stainless steel oven\"', 139)\n",
      "(' \"shared pool - available all year\"', 130)\n",
      "(' \"shared pool - available all year', 123)\n",
      "('\"whirlpool refrigerator\"', 122)\n",
      "(' \"shared outdoor pool - available all year\"', 108)\n",
      "(' pool cover\"', 102)\n",
      "(' \"whirlpool gas stove\"', 100)\n",
      "(' pool cover', 85)\n",
      "(' \"whirlpool stainless steel electric stove\"', 78)\n",
      "(' \"private outdoor pool\"', 77)\n",
      "(' \"whirlpool  refrigerator\"', 63)\n",
      "(' \"shared pool - available seasonally\"', 58)\n",
      "(' lap pool', 57)\n",
      "(' \"shared outdoor pool - available seasonally\"', 54)\n",
      "(' \"shared outdoor pool - \"', 51)\n"
     ]
    }
   ],
   "source": [
    "list_pool = [i for i in list_all_amenities if 'pool' in i]\n",
    "element_counts = Counter(list_pool)\n",
    "top_30_elements = element_counts.most_common(30)\n",
    "print('top 30 pool occurances in the amenities')\n",
    "for i in top_30_elements:\n",
    "    print(i)\n"
   ]
  },
  {
   "cell_type": "markdown",
   "metadata": {},
   "source": [
    "Let us build a list for elements that could be used to identify pool occurances in listing."
   ]
  },
  {
   "cell_type": "code",
   "execution_count": 619,
   "metadata": {},
   "outputs": [],
   "source": [
    "pool_identifiers = ['\"pool\"', 'shared pool', 'private pool', 'outdoor pool']"
   ]
  },
  {
   "cell_type": "markdown",
   "metadata": {},
   "source": [
    "Now, let us doa similar analysis for pet in features. "
   ]
  },
  {
   "cell_type": "code",
   "execution_count": 620,
   "metadata": {},
   "outputs": [
    {
     "name": "stdout",
     "output_type": "stream",
     "text": [
      "top 30 pet occurances in the amenities\n",
      "(' \"pets allowed\"', 14879)\n",
      "('\"pets allowed\"', 150)\n",
      "(' \"le petit marseillais body soap\"', 4)\n",
      "(' \"not petroleum based', 2)\n"
     ]
    }
   ],
   "source": [
    "list_pool = [i for i in list_all_amenities if 'pet' in i]\n",
    "element_counts = Counter(list_pool)\n",
    "top_30_elements = element_counts.most_common(30)\n",
    "print('top 30 pet occurances in the amenities')\n",
    "for i in top_30_elements:\n",
    "    print(i)"
   ]
  },
  {
   "cell_type": "code",
   "execution_count": 621,
   "metadata": {},
   "outputs": [],
   "source": [
    "pet_identifiers = ['\"pets allowed\"']"
   ]
  },
  {
   "cell_type": "markdown",
   "metadata": {},
   "source": [
    "And for work space for work from home or remote work."
   ]
  },
  {
   "cell_type": "code",
   "execution_count": 622,
   "metadata": {},
   "outputs": [
    {
     "name": "stdout",
     "output_type": "stream",
     "text": [
      "top 30 work occurances in the amenities\n",
      "(' \"dedicated workspace\"', 27544)\n",
      "('\"dedicated workspace\"', 95)\n",
      "(' \"bath and body works shampoo\"', 12)\n",
      "(' \"bath and body works conditioner\"', 8)\n",
      "(' \"bath & body works body soap\"', 6)\n",
      "(' \"bath and body works body soap\"', 3)\n",
      "(' \"bath and bodyworks body soap\"', 2)\n",
      "(' \"bath and bodyworks shampoo\"', 2)\n",
      "(' \"bath and body works  body soap\"', 1)\n",
      "(' \"bath and body works; dove body soap\"', 1)\n",
      "('\"bath and body works; dove body soap\"', 1)\n"
     ]
    }
   ],
   "source": [
    "list_pool = [i for i in list_all_amenities if 'work' in i]\n",
    "element_counts = Counter(list_pool)\n",
    "top_30_elements = element_counts.most_common(30)\n",
    "print('top 30 work occurances in the amenities')\n",
    "for i in top_30_elements:\n",
    "    print(i)"
   ]
  },
  {
   "cell_type": "code",
   "execution_count": 623,
   "metadata": {},
   "outputs": [],
   "source": [
    "wfh_identifiers = ['\"dedicated workspace\"']"
   ]
  },
  {
   "cell_type": "markdown",
   "metadata": {},
   "source": [
    "And for free parking"
   ]
  },
  {
   "cell_type": "code",
   "execution_count": 624,
   "metadata": {},
   "outputs": [
    {
     "name": "stdout",
     "output_type": "stream",
     "text": [
      "top 30 parking occurances in the amenities\n",
      "(' \"free parking on premises\"', 30572)\n",
      "(' \"free street parking\"', 24095)\n",
      "('\"free parking on premises\"', 5375)\n",
      "(' \"paid parking on premises\"', 1770)\n",
      "(' \"paid parking off premises\"', 959)\n",
      "(' \"free driveway parking on premises \\\\u2013 2 spaces\"', 828)\n",
      "(' \"free driveway parking on premises \\\\u2013 1 space\"', 606)\n",
      "(' \"free driveway parking on premises\"', 596)\n",
      "(' \"free driveway parking on premises \\\\u2013 4 spaces\"', 236)\n",
      "(' \"paid street parking off premises\"', 217)\n",
      "('\"paid street parking off premises\"', 187)\n",
      "(' \"free parking garage on premises \\\\u2013 1 space\"', 155)\n",
      "(' \"free parking on premises \\\\u2013 1 space\"', 152)\n",
      "(' \"free driveway parking on premises \\\\u2013 3 spaces\"', 150)\n",
      "(' \"paid parking garage off premises\"', 137)\n",
      "(' \"paid parking garage on premises\"', 110)\n",
      "(' \"paid valet parking on premises\"', 110)\n",
      "(' \"free parking on premises \\\\u2013 2 spaces\"', 95)\n",
      "(' \"free parking garage on premises\"', 81)\n",
      "(' \"paid parking garage on premises \\\\u2013 5 spaces\"', 64)\n",
      "(' \"paid parking garage on premises \\\\u2013 1 space\"', 58)\n",
      "(' \"free driveway parking on premises \\\\u2013 5 spaces\"', 57)\n",
      "('\"free driveway parking on premises \\\\u2013 1 space\"', 56)\n",
      "(' \"free driveway parking on premises \\\\u2013 6 spaces\"', 54)\n",
      "(' \"paid parking lot on premises\"', 51)\n",
      "('\"free parking garage on premises \\\\u2013 2 spaces\"', 49)\n",
      "(' \"free parking garage on premises \\\\u2013 2 spaces\"', 49)\n",
      "(' \"paid valet parking on premises \\\\u2013 1 space\"', 48)\n",
      "(' \"paid parking lot off premises\"', 31)\n",
      "(' \"paid parking lot on premises \\\\u2013 1 space\"', 29)\n"
     ]
    }
   ],
   "source": [
    "list_pool = [i for i in list_all_amenities if 'parking' in i]\n",
    "element_counts = Counter(list_pool)\n",
    "top_30_elements = element_counts.most_common(30)\n",
    "print('top 30 parking occurances in the amenities')\n",
    "for i in top_30_elements:\n",
    "    print(i)"
   ]
  },
  {
   "cell_type": "code",
   "execution_count": 625,
   "metadata": {},
   "outputs": [],
   "source": [
    "parking_identifiers = ['free parking']"
   ]
  },
  {
   "cell_type": "markdown",
   "metadata": {},
   "source": [
    "And lastly for gym access."
   ]
  },
  {
   "cell_type": "code",
   "execution_count": 626,
   "metadata": {},
   "outputs": [
    {
     "name": "stdout",
     "output_type": "stream",
     "text": [
      "top 30 gym occurances in the amenities\n",
      "(' \"gym\"', 4318)\n",
      "(' \"shared gym in building\"', 1177)\n",
      "(' \"private gym in building\"', 519)\n",
      "(' \"shared gym nearby\"', 405)\n",
      "(' \"shared gym\"', 96)\n",
      "(' \"gym in building\"', 61)\n",
      "(' \"private gym\"', 49)\n",
      "(' \"private gym nearby\"', 27)\n",
      "(' \"gym nearby\"', 11)\n",
      "('\"gym\"', 3)\n"
     ]
    }
   ],
   "source": [
    "list_pool = [i for i in list_all_amenities if 'gym' in i]\n",
    "element_counts = Counter(list_pool)\n",
    "top_30_elements = element_counts.most_common(30)\n",
    "print('top 30 gym occurances in the amenities')\n",
    "for i in top_30_elements:\n",
    "    print(i)"
   ]
  },
  {
   "cell_type": "code",
   "execution_count": 627,
   "metadata": {},
   "outputs": [],
   "source": [
    "gym_identifiers = ['\"gym', '\"shared gym in building\"', '\"private gym in building\"', \n",
    "                   '\"shared gym\"', '\"gym in building\"', '\"private gym\"']"
   ]
  },
  {
   "cell_type": "markdown",
   "metadata": {},
   "source": [
    "We will now build some new columns and indicate whether the listings have any of the amenities mentioned above. This could be used for our EDA and modeling when needed. "
   ]
  },
  {
   "cell_type": "code",
   "execution_count": null,
   "metadata": {},
   "outputs": [],
   "source": []
  }
 ],
 "metadata": {
  "kernelspec": {
   "display_name": "base",
   "language": "python",
   "name": "python3"
  },
  "language_info": {
   "codemirror_mode": {
    "name": "ipython",
    "version": 3
   },
   "file_extension": ".py",
   "mimetype": "text/x-python",
   "name": "python",
   "nbconvert_exporter": "python",
   "pygments_lexer": "ipython3",
   "version": "3.11.4"
  }
 },
 "nbformat": 4,
 "nbformat_minor": 2
}
