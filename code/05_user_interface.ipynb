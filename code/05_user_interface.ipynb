{
 "cells": [
  {
   "cell_type": "markdown",
   "id": "163e5303-5d0a-4175-99a3-5ed7b688a959",
   "metadata": {},
   "source": [
    "for the user interface, in addition to the market analysis section (for the research tool section), when the user selects a zip, give them recommendation on what would be the income with and without certain amenities. for pool, plot is with number of beds. Also, give a warning if the data in that region is less than 500 points. \n",
    "\n",
    "for a selected region \n",
    "- what regions are the best for higher income, in those regions, what is the earning for cases with different number of rooms or beds. - How would you leverage house price vs. monthly income, find the best regions (close to the center or far, show on map return be dollor investment)\n",
    "\n",
    "- return for 100k of investment.\n",
    "\n",
    "doing clustering and outlier removal and a new set of modeling"
   ]
  },
  {
   "cell_type": "code",
   "execution_count": null,
   "id": "05a71244-b96b-44da-9b3c-518b4f9a1c53",
   "metadata": {},
   "outputs": [],
   "source": [
    "# Use DBSCAN to find outliers, then analyze those outliers and make decisions based on your audience and scope of the work you are doing\n",
    "# find the outliers in box plot of the price, make decision based on scope\n",
    "# what could be done when error for a specific value in feature is high, like have pool?\n",
    "# can we remove some of the zips because of not having enough information?\n",
    "# create another set of data where you dont have 0.7 cutoff for the occupancy rate. \n",
    "# do a bit of research to see how we should handle outliers-or consider a case where we focus on a more reasonable price range.\n",
    "# do error analysis for linear regression comprehensive like plot error vs. other factors as hue\n",
    "# is correlation between error and other factors\n",
    "# should I do test train for each model?\n",
    "# dimensionality reduction tests\n",
    "# regularization for linear models\n",
    "# functions if needed, like scaling and traintest\n",
    "# something other than gridsearch\n",
    "# error analysis in each of the models\n"
   ]
  }
 ],
 "metadata": {
  "kernelspec": {
   "display_name": "Python 3 (ipykernel)",
   "language": "python",
   "name": "python3"
  },
  "language_info": {
   "codemirror_mode": {
    "name": "ipython",
    "version": 3
   },
   "file_extension": ".py",
   "mimetype": "text/x-python",
   "name": "python",
   "nbconvert_exporter": "python",
   "pygments_lexer": "ipython3",
   "version": "3.11.4"
  }
 },
 "nbformat": 4,
 "nbformat_minor": 5
}
