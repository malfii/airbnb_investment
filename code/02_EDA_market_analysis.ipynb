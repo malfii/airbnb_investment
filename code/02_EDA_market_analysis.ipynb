{
 "cells": [
  {
   "cell_type": "markdown",
   "id": "00aabab1-1419-400f-9b69-db0670be63d5",
   "metadata": {},
   "source": [
    "in another notebook, do market analysis:\n",
    "- how much average income for airbnb in austin\n",
    "- what is the best time for airbnb\n",
    "- what regions are the best for higher income, in those regions, what is the earning for cases with different number of rooms or beds. - How would you leverage house price vs. monthly income, find the best regions (close to the center or far, show on map return be dollor investment)\n",
    "- how the number of rooms and bath affect income\n",
    "- what factors like experience or review could do for us\n",
    "- what factors should be considered to maximize the income \n",
    "- for each zipcode, we will plot income for factors like number of beds and baths, and will show average income."
   ]
  },
  {
   "cell_type": "code",
   "execution_count": null,
   "id": "f0dee8d2-202c-4e5d-bd42-4580db38e508",
   "metadata": {},
   "outputs": [],
   "source": []
  }
 ],
 "metadata": {
  "kernelspec": {
   "display_name": "Python 3 (ipykernel)",
   "language": "python",
   "name": "python3"
  },
  "language_info": {
   "codemirror_mode": {
    "name": "ipython",
    "version": 3
   },
   "file_extension": ".py",
   "mimetype": "text/x-python",
   "name": "python",
   "nbconvert_exporter": "python",
   "pygments_lexer": "ipython3",
   "version": "3.11.4"
  }
 },
 "nbformat": 4,
 "nbformat_minor": 5
}
