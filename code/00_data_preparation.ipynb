{
 "cells": [
  {
   "cell_type": "markdown",
   "metadata": {},
   "source": [
    "# Data preparation\n",
    "---\n",
    "In this notebook, we will go over the raw data and how we put the data together and prepare them for our analysis. \n",
    "data sources:"
   ]
  },
  {
   "cell_type": "code",
   "execution_count": 1,
   "metadata": {},
   "outputs": [],
   "source": [
    "#imports\n",
    "import pandas as pd \n",
    "import numpy as np \n",
    "import matplotlib.pyplot as plt \n",
    "import seaborn as sns \n",
    "from os import listdir\n",
    "import datetime as dt"
   ]
  },
  {
   "cell_type": "markdown",
   "metadata": {},
   "source": [
    "## Data source and structure"
   ]
  },
  {
   "cell_type": "markdown",
   "metadata": {},
   "source": [
    "## Read/combine listings\n"
   ]
  },
  {
   "cell_type": "markdown",
   "metadata": {},
   "source": [
    "Let us start with the listing files that contain information about different listings. These files are scraped on a quarterly basis and contain various information about airbnb listings. In this section we will check to make sure that all the files we are using have the same columns. At the end, we will combine them into one dataframe.\n"
   ]
  },
  {
   "cell_type": "code",
   "execution_count": 2,
   "metadata": {},
   "outputs": [
    {
     "name": "stdout",
     "output_type": "stream",
     "text": [
      "... file listings_12_15_23.csv is being read\n",
      "\tit has 15419 rows and 75 column\n",
      "... file listings_091023.csv is being read\n",
      "\tit has 14861 rows and 75 column\n",
      "... file listings_061023.csv is being read\n",
      "\tit has 14694 rows and 75 column\n",
      "... file listings_031623.csv is being read\n",
      "\tit has 14368 rows and 75 column\n",
      "Our data has a total of 59342 rows and 75 column\n"
     ]
    }
   ],
   "source": [
    "# read the data from different .csv files, and concatenate them together.\n",
    "first_call = True\n",
    "for file_name in listdir('./../data/')[::-1]:\n",
    "    if first_call:\n",
    "        print(f'... file {file_name} is being read')\n",
    "        df = pd.read_csv('./../data/'+file_name)\n",
    "        print(f'\\tit has {df.shape[0]} rows and {df.shape[1]} column')\n",
    "        main_columns = df.columns\n",
    "        first_call = False\n",
    "        continue\n",
    "    print(f'... file {file_name} is being read')\n",
    "    df1 = pd.read_csv('./../data/'+file_name)\n",
    "    print(f'\\tit has {df1.shape[0]} rows and {df1.shape[1]} column')\n",
    "    columns = df1.columns\n",
    "    # check if columns in different csv files are exactly the same\n",
    "    if (columns != main_columns).any():\n",
    "        for col in columns:\n",
    "            if col not in main_columns:\n",
    "                print(f'column {col} in the new .csv file does not have an equivalent in main dataframe')\n",
    "        for col in main_columns:\n",
    "            if col not in columns:\n",
    "                print(f'column {col} in the datafram does have an equivalent in the new .csv file')\n",
    "        print(f'!!! ERROR !!! columns in the {file_name} dont match the main dataframe')\n",
    "        break\n",
    "    df = pd.concat([df, df1], axis=0)\n",
    "print(f'Our data has a total of {df.shape[0]} rows and {df.shape[1]} column')"
   ]
  },
  {
   "cell_type": "code",
   "execution_count": 3,
   "metadata": {},
   "outputs": [
    {
     "data": {
      "text/html": [
       "<div>\n",
       "<style scoped>\n",
       "    .dataframe tbody tr th:only-of-type {\n",
       "        vertical-align: middle;\n",
       "    }\n",
       "\n",
       "    .dataframe tbody tr th {\n",
       "        vertical-align: top;\n",
       "    }\n",
       "\n",
       "    .dataframe thead th {\n",
       "        text-align: right;\n",
       "    }\n",
       "</style>\n",
       "<table border=\"1\" class=\"dataframe\">\n",
       "  <thead>\n",
       "    <tr style=\"text-align: right;\">\n",
       "      <th></th>\n",
       "      <th>id</th>\n",
       "      <th>listing_url</th>\n",
       "      <th>scrape_id</th>\n",
       "      <th>last_scraped</th>\n",
       "      <th>source</th>\n",
       "      <th>name</th>\n",
       "      <th>description</th>\n",
       "      <th>neighborhood_overview</th>\n",
       "      <th>picture_url</th>\n",
       "      <th>host_id</th>\n",
       "      <th>...</th>\n",
       "      <th>review_scores_communication</th>\n",
       "      <th>review_scores_location</th>\n",
       "      <th>review_scores_value</th>\n",
       "      <th>license</th>\n",
       "      <th>instant_bookable</th>\n",
       "      <th>calculated_host_listings_count</th>\n",
       "      <th>calculated_host_listings_count_entire_homes</th>\n",
       "      <th>calculated_host_listings_count_private_rooms</th>\n",
       "      <th>calculated_host_listings_count_shared_rooms</th>\n",
       "      <th>reviews_per_month</th>\n",
       "    </tr>\n",
       "  </thead>\n",
       "  <tbody>\n",
       "    <tr>\n",
       "      <th>0</th>\n",
       "      <td>5456</td>\n",
       "      <td>https://www.airbnb.com/rooms/5456</td>\n",
       "      <td>20231215200307</td>\n",
       "      <td>2023-12-16</td>\n",
       "      <td>city scrape</td>\n",
       "      <td>Guesthouse in Austin · ★4.84 · 1 bedroom · 2 b...</td>\n",
       "      <td>NaN</td>\n",
       "      <td>My neighborhood is ideally located if you want...</td>\n",
       "      <td>https://a0.muscache.com/pictures/14084884/b5a3...</td>\n",
       "      <td>8028</td>\n",
       "      <td>...</td>\n",
       "      <td>4.83</td>\n",
       "      <td>4.73</td>\n",
       "      <td>4.79</td>\n",
       "      <td>NaN</td>\n",
       "      <td>f</td>\n",
       "      <td>1</td>\n",
       "      <td>1</td>\n",
       "      <td>0</td>\n",
       "      <td>0</td>\n",
       "      <td>3.71</td>\n",
       "    </tr>\n",
       "    <tr>\n",
       "      <th>1</th>\n",
       "      <td>5769</td>\n",
       "      <td>https://www.airbnb.com/rooms/5769</td>\n",
       "      <td>20231215200307</td>\n",
       "      <td>2023-12-16</td>\n",
       "      <td>previous scrape</td>\n",
       "      <td>Home in Austin · ★4.91 · 1 bedroom · 1 bed · 1...</td>\n",
       "      <td>NaN</td>\n",
       "      <td>Quiet neighborhood with lots of trees and good...</td>\n",
       "      <td>https://a0.muscache.com/pictures/23822033/ac94...</td>\n",
       "      <td>8186</td>\n",
       "      <td>...</td>\n",
       "      <td>4.94</td>\n",
       "      <td>4.76</td>\n",
       "      <td>4.92</td>\n",
       "      <td>NaN</td>\n",
       "      <td>f</td>\n",
       "      <td>1</td>\n",
       "      <td>0</td>\n",
       "      <td>1</td>\n",
       "      <td>0</td>\n",
       "      <td>1.76</td>\n",
       "    </tr>\n",
       "    <tr>\n",
       "      <th>2</th>\n",
       "      <td>6413</td>\n",
       "      <td>https://www.airbnb.com/rooms/6413</td>\n",
       "      <td>20231215200307</td>\n",
       "      <td>2023-12-16</td>\n",
       "      <td>previous scrape</td>\n",
       "      <td>Guesthouse in Austin · ★4.97 · Studio · 1 bed ...</td>\n",
       "      <td>NaN</td>\n",
       "      <td>Travis Heights is one of the oldest neighborho...</td>\n",
       "      <td>https://a0.muscache.com/pictures/miso/Hosting-...</td>\n",
       "      <td>13879</td>\n",
       "      <td>...</td>\n",
       "      <td>4.98</td>\n",
       "      <td>4.87</td>\n",
       "      <td>4.93</td>\n",
       "      <td>NaN</td>\n",
       "      <td>f</td>\n",
       "      <td>1</td>\n",
       "      <td>1</td>\n",
       "      <td>0</td>\n",
       "      <td>0</td>\n",
       "      <td>0.70</td>\n",
       "    </tr>\n",
       "    <tr>\n",
       "      <th>3</th>\n",
       "      <td>6448</td>\n",
       "      <td>https://www.airbnb.com/rooms/6448</td>\n",
       "      <td>20231215200307</td>\n",
       "      <td>2023-12-16</td>\n",
       "      <td>city scrape</td>\n",
       "      <td>Guesthouse in Austin · ★4.97 · 1 bedroom · 2 b...</td>\n",
       "      <td>NaN</td>\n",
       "      <td>The neighborhood is fun and funky (but quiet)!...</td>\n",
       "      <td>https://a0.muscache.com/pictures/4513152/4ffc1...</td>\n",
       "      <td>14156</td>\n",
       "      <td>...</td>\n",
       "      <td>4.97</td>\n",
       "      <td>4.97</td>\n",
       "      <td>4.89</td>\n",
       "      <td>NaN</td>\n",
       "      <td>t</td>\n",
       "      <td>1</td>\n",
       "      <td>1</td>\n",
       "      <td>0</td>\n",
       "      <td>0</td>\n",
       "      <td>2.09</td>\n",
       "    </tr>\n",
       "    <tr>\n",
       "      <th>4</th>\n",
       "      <td>8502</td>\n",
       "      <td>https://www.airbnb.com/rooms/8502</td>\n",
       "      <td>20231215200307</td>\n",
       "      <td>2023-12-16</td>\n",
       "      <td>city scrape</td>\n",
       "      <td>Guest suite in Austin · ★4.56 · 1 bedroom · 1 ...</td>\n",
       "      <td>NaN</td>\n",
       "      <td>NaN</td>\n",
       "      <td>https://a0.muscache.com/pictures/miso/Hosting-...</td>\n",
       "      <td>25298</td>\n",
       "      <td>...</td>\n",
       "      <td>4.87</td>\n",
       "      <td>4.67</td>\n",
       "      <td>4.60</td>\n",
       "      <td>NaN</td>\n",
       "      <td>f</td>\n",
       "      <td>1</td>\n",
       "      <td>1</td>\n",
       "      <td>0</td>\n",
       "      <td>0</td>\n",
       "      <td>0.30</td>\n",
       "    </tr>\n",
       "  </tbody>\n",
       "</table>\n",
       "<p>5 rows × 75 columns</p>\n",
       "</div>"
      ],
      "text/plain": [
       "     id                        listing_url       scrape_id last_scraped  \\\n",
       "0  5456  https://www.airbnb.com/rooms/5456  20231215200307   2023-12-16   \n",
       "1  5769  https://www.airbnb.com/rooms/5769  20231215200307   2023-12-16   \n",
       "2  6413  https://www.airbnb.com/rooms/6413  20231215200307   2023-12-16   \n",
       "3  6448  https://www.airbnb.com/rooms/6448  20231215200307   2023-12-16   \n",
       "4  8502  https://www.airbnb.com/rooms/8502  20231215200307   2023-12-16   \n",
       "\n",
       "            source                                               name  \\\n",
       "0      city scrape  Guesthouse in Austin · ★4.84 · 1 bedroom · 2 b...   \n",
       "1  previous scrape  Home in Austin · ★4.91 · 1 bedroom · 1 bed · 1...   \n",
       "2  previous scrape  Guesthouse in Austin · ★4.97 · Studio · 1 bed ...   \n",
       "3      city scrape  Guesthouse in Austin · ★4.97 · 1 bedroom · 2 b...   \n",
       "4      city scrape  Guest suite in Austin · ★4.56 · 1 bedroom · 1 ...   \n",
       "\n",
       "  description                              neighborhood_overview  \\\n",
       "0         NaN  My neighborhood is ideally located if you want...   \n",
       "1         NaN  Quiet neighborhood with lots of trees and good...   \n",
       "2         NaN  Travis Heights is one of the oldest neighborho...   \n",
       "3         NaN  The neighborhood is fun and funky (but quiet)!...   \n",
       "4         NaN                                                NaN   \n",
       "\n",
       "                                         picture_url  host_id  ...  \\\n",
       "0  https://a0.muscache.com/pictures/14084884/b5a3...     8028  ...   \n",
       "1  https://a0.muscache.com/pictures/23822033/ac94...     8186  ...   \n",
       "2  https://a0.muscache.com/pictures/miso/Hosting-...    13879  ...   \n",
       "3  https://a0.muscache.com/pictures/4513152/4ffc1...    14156  ...   \n",
       "4  https://a0.muscache.com/pictures/miso/Hosting-...    25298  ...   \n",
       "\n",
       "  review_scores_communication review_scores_location review_scores_value  \\\n",
       "0                        4.83                   4.73                4.79   \n",
       "1                        4.94                   4.76                4.92   \n",
       "2                        4.98                   4.87                4.93   \n",
       "3                        4.97                   4.97                4.89   \n",
       "4                        4.87                   4.67                4.60   \n",
       "\n",
       "  license instant_bookable calculated_host_listings_count  \\\n",
       "0     NaN                f                              1   \n",
       "1     NaN                f                              1   \n",
       "2     NaN                f                              1   \n",
       "3     NaN                t                              1   \n",
       "4     NaN                f                              1   \n",
       "\n",
       "  calculated_host_listings_count_entire_homes  \\\n",
       "0                                           1   \n",
       "1                                           0   \n",
       "2                                           1   \n",
       "3                                           1   \n",
       "4                                           1   \n",
       "\n",
       "  calculated_host_listings_count_private_rooms  \\\n",
       "0                                            0   \n",
       "1                                            1   \n",
       "2                                            0   \n",
       "3                                            0   \n",
       "4                                            0   \n",
       "\n",
       "  calculated_host_listings_count_shared_rooms reviews_per_month  \n",
       "0                                           0              3.71  \n",
       "1                                           0              1.76  \n",
       "2                                           0              0.70  \n",
       "3                                           0              2.09  \n",
       "4                                           0              0.30  \n",
       "\n",
       "[5 rows x 75 columns]"
      ]
     },
     "execution_count": 3,
     "metadata": {},
     "output_type": "execute_result"
    }
   ],
   "source": [
    "df.head(5)"
   ]
  },
  {
   "cell_type": "markdown",
   "metadata": {},
   "source": [
    "## Modeling occupancy rate"
   ]
  },
  {
   "cell_type": "markdown",
   "metadata": {},
   "source": [
    "One of the challenges we have is to figure out the occupancy rate for a listing. Occupancy rate is the percentage of the nights a listing is reserved. If we multiply this number by today days (in the period of interest) and also by listing price, we can calculate the amount of money earned from the listing over the given period of time. This number is not published by airbnb and we need to be able to estimate it from different sources. There are various ways to estimate this number that we will discuss here:"
   ]
  },
  {
   "cell_type": "markdown",
   "metadata": {},
   "source": [
    "1. **Use the number of days a listing is available on the calendar:**<br>\n",
    "In this approach, we will look at the data scrapped from airbnb and see how many days in the calendar the listing is available for the next month, or two or so and 'assume' the number of days a listing is not available is in fact the number of days the listing is booked. This could cause several issues for us. Firstly, if the listing is not available, it could be either it is reserved by some guests or the host has not put it for rent in those specific dates, so it could be multiple factors. In addition to that, our current scrap has availability for 30, 60, 90, and 365 days from the day of scrapping the data. This means if we use 30 days as our reference, we will be missing the reservations that are made in less than 30 days. Another problem is that since our data is scraped once in every 3 months, when using 30 days data, we will have to use the same estimate for the 2nd and 3rd month (using 60 and 90 days availability is not a good idea either as it requires very far in advance booking). "
   ]
  },
  {
   "cell_type": "markdown",
   "metadata": {},
   "source": [
    "2. **Estimate the occupancy rate using other factors:** <br>\n",
    "In this case, we will try to use other information from the listing to estimate the occupancy rate. In this project, we will be using the model presented by Budget and Legislative Analyst’s Office in San Francisco ([source](https://sfbos.org/sites/default/files/FileCenter/Documents/52601-BLA.ShortTermRentals.051315.pdf)). The basis of this model revolves around the fact that if we know what percentage of airbnb guests leave a review after using the property, then when we have the total number of reviews (and also the average number of stays for each guest for each booking), then we can find the total number of nights a property has been booked and diving it by the total number of nights the property is listed, we can find the occupancy rate. This model requires a series of assumptions. The first one would be to assume what percent of guests leave a review on airbnb. [Sources](http://insideairbnb.com/data-assumptions) have indicated that Airbnb at some point has mentioned that about 72% of the guests leave a review. However, there are some other [reports](https://sfbos.org/sites/default/files/FileCenter/Documents/52601-BLA.ShortTermRentals.051315.pdf) showing the review rate as low as 30% in cities like NYC. Also discussions in forums and resources indicate a number between 30 to 80% ([source](https://blog.keycafe.com/should-airbnb-hosts-ask-guests-to-leave-a-review/#:~:text=The%20average%20review%20rate%20according,a%20review%20from%20your%20guests.)). In this work, we will use all of these numbers and compare them and will decide on which number to use. <br>\n",
    "Another import assumption in this model is number of nights per booking. This number for San Francisco is mentioned to be 5 ([source](https://sfbos.org/sites/default/files/FileCenter/Documents/52601-BLA.ShortTermRentals.051315.pdf)). While in Austin, some [websites](https://www.alltherooms.com/) report the average booking per night to be 7 for the last three month (as of Jan 2024), some other [resources](http://insideairbnb.com/data-assumptions) have used 3 days for cities without explicit information. We have opted to go with 5 days in this work (an average value). \n",
    "\n",
    "\n"
   ]
  },
  {
   "cell_type": "markdown",
   "metadata": {},
   "source": [
    "**NOTES:** <br>\n",
    "If the minimum number of stays in a listing is more that 5 days (our nights per reservation), we will use the minimum stay to calculate the occupancy rate, but will cap the occupancy rate to a maximum of 70% per the highly occupied hotels. "
   ]
  },
  {
   "cell_type": "markdown",
   "metadata": {},
   "source": [
    "Let us start calculating the occupancy rate."
   ]
  },
  {
   "cell_type": "markdown",
   "metadata": {},
   "source": [
    "First, we will find the monthly occupancy rate by the number of nights the booking is not available in 30 days (max occupancy 0.7)\n"
   ]
  },
  {
   "cell_type": "code",
   "execution_count": 4,
   "metadata": {},
   "outputs": [
    {
     "data": {
      "text/plain": [
       "0        0.300000\n",
       "1        0.700000\n",
       "2        0.700000\n",
       "3        0.666667\n",
       "4        0.500000\n",
       "           ...   \n",
       "14363    0.266667\n",
       "14364    0.200000\n",
       "14365    0.300000\n",
       "14366    0.166667\n",
       "14367    0.100000\n",
       "Name: occ_rate_calendar, Length: 59342, dtype: float64"
      ]
     },
     "execution_count": 4,
     "metadata": {},
     "output_type": "execute_result"
    }
   ],
   "source": [
    "# first, we will find the monthly occupancy rate by the number \n",
    "# of nights the booking is not available in 30 days (max occupancy 0.7)\n",
    "df['occ_rate_calendar'] = df['availability_30'].apply(lambda x: min((30-x)/30, 0.7))\n",
    "df['occ_rate_calendar']"
   ]
  },
  {
   "cell_type": "markdown",
   "metadata": {},
   "source": [
    "Now, let us create some columns with the formula we mentioned above for the occupancy rate. First we will start with with data about the date the host starting hosting and the date of the last review."
   ]
  },
  {
   "cell_type": "code",
   "execution_count": 5,
   "metadata": {},
   "outputs": [],
   "source": [
    "# convert some dates to datetime object\n",
    "df['last_scraped'] = pd.to_datetime(df['last_scraped'])\n",
    "df['host_since'] = pd.to_datetime(df['host_since'])\n",
    "df['last_review'] = pd.to_datetime(df['last_review'])"
   ]
  },
  {
   "cell_type": "code",
   "execution_count": 6,
   "metadata": {},
   "outputs": [
    {
     "name": "stdout",
     "output_type": "stream",
     "text": [
      "9\n",
      "12242\n"
     ]
    }
   ],
   "source": [
    "print(df['host_since'].isna().sum())\n",
    "print(df['last_review'].isna().sum())"
   ]
  },
  {
   "cell_type": "markdown",
   "metadata": {},
   "source": [
    "It is interesting to see about 12000 listings dont have a date for the last review. Let us dive deeper into those listings."
   ]
  },
  {
   "cell_type": "code",
   "execution_count": 7,
   "metadata": {},
   "outputs": [
    {
     "data": {
      "text/plain": [
       "neighbourhood_group_cleansed    12242\n",
       "reviews_per_month               12242\n",
       "calendar_updated                12242\n",
       "first_review                    12242\n",
       "license                         12242\n",
       "last_review                     12242\n",
       "bathrooms                       12242\n",
       "review_scores_accuracy          12232\n",
       "review_scores_location          12232\n",
       "review_scores_communication     12232\n",
       "review_scores_checkin           12232\n",
       "review_scores_rating            12232\n",
       "review_scores_cleanliness       12232\n",
       "review_scores_value             12232\n",
       "neighbourhood                    7087\n",
       "neighborhood_overview            7087\n",
       "host_about                       5821\n",
       "host_response_time               5107\n",
       "host_response_rate               5107\n",
       "host_acceptance_rate             4909\n",
       "bedrooms                         4488\n",
       "description                      3275\n",
       "host_location                    2677\n",
       "host_neighbourhood               1434\n",
       "price                             989\n",
       "has_availability                  989\n",
       "host_is_superhost                 483\n",
       "beds                              150\n",
       "bathrooms_text                     17\n",
       "picture_url                         4\n",
       "dtype: int64"
      ]
     },
     "execution_count": 7,
     "metadata": {},
     "output_type": "execute_result"
    }
   ],
   "source": [
    "no_last_review = df[df['last_review'].isna()]\n",
    "no_last_review.isna().sum().sort_values(ascending=False).head(30)"
   ]
  },
  {
   "cell_type": "markdown",
   "metadata": {},
   "source": [
    "Let us see if these listing have any review at all or not."
   ]
  },
  {
   "cell_type": "code",
   "execution_count": 8,
   "metadata": {},
   "outputs": [
    {
     "data": {
      "text/plain": [
       "count    12242.0\n",
       "mean         0.0\n",
       "std          0.0\n",
       "min          0.0\n",
       "25%          0.0\n",
       "50%          0.0\n",
       "75%          0.0\n",
       "max          0.0\n",
       "Name: number_of_reviews, dtype: float64"
      ]
     },
     "execution_count": 8,
     "metadata": {},
     "output_type": "execute_result"
    }
   ],
   "source": [
    "no_last_review['number_of_reviews'].describe()"
   ]
  },
  {
   "cell_type": "markdown",
   "metadata": {},
   "source": [
    "As we can see, the listings with no last review date indeed don't have any review. Let us see if that is because those are fairly recent listings and because of that, have no review or not. "
   ]
  },
  {
   "cell_type": "code",
   "execution_count": 9,
   "metadata": {},
   "outputs": [
    {
     "name": "stderr",
     "output_type": "stream",
     "text": [
      "C:\\Users\\masou\\AppData\\Local\\Temp\\ipykernel_14680\\2979526765.py:1: SettingWithCopyWarning: \n",
      "A value is trying to be set on a copy of a slice from a DataFrame.\n",
      "Try using .loc[row_indexer,col_indexer] = value instead\n",
      "\n",
      "See the caveats in the documentation: https://pandas.pydata.org/pandas-docs/stable/user_guide/indexing.html#returning-a-view-versus-a-copy\n",
      "  no_last_review['days_since_first_listing'] = (no_last_review['last_scraped'] - no_last_review['host_since']).dt.days\n"
     ]
    },
    {
     "data": {
      "text/plain": [
       "count    12241.000000\n",
       "mean      2236.925823\n",
       "std       1213.547430\n",
       "min          1.000000\n",
       "25%       1394.000000\n",
       "50%       2446.000000\n",
       "75%       3149.000000\n",
       "max       5481.000000\n",
       "Name: days_since_first_listing, dtype: float64"
      ]
     },
     "execution_count": 9,
     "metadata": {},
     "output_type": "execute_result"
    }
   ],
   "source": [
    "no_last_review['days_since_first_listing'] = (no_last_review['last_scraped'] - no_last_review['host_since']).dt.days\n",
    "no_last_review['days_since_first_listing'].describe()"
   ]
  },
  {
   "cell_type": "markdown",
   "metadata": {},
   "source": [
    "As we can see, not all of these listings are new, so we can say these listings (for whatever reason) have no reviews (either recent listings or reviews are deleted or ...). Looking at the other columns for those listing we no reviews, we cannot find any special thing or correlation with other columns. "
   ]
  },
  {
   "cell_type": "code",
   "execution_count": 10,
   "metadata": {},
   "outputs": [
    {
     "data": {
      "text/html": [
       "<div>\n",
       "<style scoped>\n",
       "    .dataframe tbody tr th:only-of-type {\n",
       "        vertical-align: middle;\n",
       "    }\n",
       "\n",
       "    .dataframe tbody tr th {\n",
       "        vertical-align: top;\n",
       "    }\n",
       "\n",
       "    .dataframe thead th {\n",
       "        text-align: right;\n",
       "    }\n",
       "</style>\n",
       "<table border=\"1\" class=\"dataframe\">\n",
       "  <thead>\n",
       "    <tr style=\"text-align: right;\">\n",
       "      <th></th>\n",
       "      <th>count</th>\n",
       "      <th>mean</th>\n",
       "      <th>std</th>\n",
       "      <th>min</th>\n",
       "      <th>25%</th>\n",
       "      <th>50%</th>\n",
       "      <th>75%</th>\n",
       "      <th>max</th>\n",
       "    </tr>\n",
       "  </thead>\n",
       "  <tbody>\n",
       "    <tr>\n",
       "      <th>id</th>\n",
       "      <td>12242.0</td>\n",
       "      <td>4.828062e+17</td>\n",
       "      <td>4.149786e+17</td>\n",
       "      <td>2.349600e+04</td>\n",
       "      <td>3.247974e+07</td>\n",
       "      <td>6.903947e+17</td>\n",
       "      <td>8.449594e+17</td>\n",
       "      <td>1.046492e+18</td>\n",
       "    </tr>\n",
       "    <tr>\n",
       "      <th>scrape_id</th>\n",
       "      <td>12242.0</td>\n",
       "      <td>2.023077e+13</td>\n",
       "      <td>3.362199e+08</td>\n",
       "      <td>2.023032e+13</td>\n",
       "      <td>2.023061e+13</td>\n",
       "      <td>2.023091e+13</td>\n",
       "      <td>2.023122e+13</td>\n",
       "      <td>2.023122e+13</td>\n",
       "    </tr>\n",
       "    <tr>\n",
       "      <th>host_id</th>\n",
       "      <td>12242.0</td>\n",
       "      <td>1.759100e+08</td>\n",
       "      <td>1.742760e+08</td>\n",
       "      <td>7.960000e+02</td>\n",
       "      <td>2.613666e+07</td>\n",
       "      <td>1.074344e+08</td>\n",
       "      <td>2.935563e+08</td>\n",
       "      <td>5.505729e+08</td>\n",
       "    </tr>\n",
       "    <tr>\n",
       "      <th>host_listings_count</th>\n",
       "      <td>12241.0</td>\n",
       "      <td>4.251663e+02</td>\n",
       "      <td>1.096049e+03</td>\n",
       "      <td>1.000000e+00</td>\n",
       "      <td>1.000000e+00</td>\n",
       "      <td>2.000000e+00</td>\n",
       "      <td>5.100000e+01</td>\n",
       "      <td>4.816000e+03</td>\n",
       "    </tr>\n",
       "    <tr>\n",
       "      <th>host_total_listings_count</th>\n",
       "      <td>12241.0</td>\n",
       "      <td>5.665715e+02</td>\n",
       "      <td>1.455011e+03</td>\n",
       "      <td>1.000000e+00</td>\n",
       "      <td>1.000000e+00</td>\n",
       "      <td>3.000000e+00</td>\n",
       "      <td>7.100000e+01</td>\n",
       "      <td>7.977000e+03</td>\n",
       "    </tr>\n",
       "    <tr>\n",
       "      <th>neighbourhood_cleansed</th>\n",
       "      <td>12242.0</td>\n",
       "      <td>7.872462e+04</td>\n",
       "      <td>2.098050e+01</td>\n",
       "      <td>7.870100e+04</td>\n",
       "      <td>7.870400e+04</td>\n",
       "      <td>7.872300e+04</td>\n",
       "      <td>7.874500e+04</td>\n",
       "      <td>7.875900e+04</td>\n",
       "    </tr>\n",
       "    <tr>\n",
       "      <th>neighbourhood_group_cleansed</th>\n",
       "      <td>0.0</td>\n",
       "      <td>NaN</td>\n",
       "      <td>NaN</td>\n",
       "      <td>NaN</td>\n",
       "      <td>NaN</td>\n",
       "      <td>NaN</td>\n",
       "      <td>NaN</td>\n",
       "      <td>NaN</td>\n",
       "    </tr>\n",
       "    <tr>\n",
       "      <th>latitude</th>\n",
       "      <td>12242.0</td>\n",
       "      <td>3.028664e+01</td>\n",
       "      <td>6.712872e-02</td>\n",
       "      <td>3.011138e+01</td>\n",
       "      <td>3.024744e+01</td>\n",
       "      <td>3.027239e+01</td>\n",
       "      <td>3.031424e+01</td>\n",
       "      <td>3.051835e+01</td>\n",
       "    </tr>\n",
       "    <tr>\n",
       "      <th>longitude</th>\n",
       "      <td>12242.0</td>\n",
       "      <td>-9.775106e+01</td>\n",
       "      <td>6.030749e-02</td>\n",
       "      <td>-9.804347e+01</td>\n",
       "      <td>-9.776961e+01</td>\n",
       "      <td>-9.774483e+01</td>\n",
       "      <td>-9.771962e+01</td>\n",
       "      <td>-9.755930e+01</td>\n",
       "    </tr>\n",
       "    <tr>\n",
       "      <th>accommodates</th>\n",
       "      <td>12242.0</td>\n",
       "      <td>4.395279e+00</td>\n",
       "      <td>2.986699e+00</td>\n",
       "      <td>0.000000e+00</td>\n",
       "      <td>2.000000e+00</td>\n",
       "      <td>4.000000e+00</td>\n",
       "      <td>6.000000e+00</td>\n",
       "      <td>1.600000e+01</td>\n",
       "    </tr>\n",
       "    <tr>\n",
       "      <th>bathrooms</th>\n",
       "      <td>0.0</td>\n",
       "      <td>NaN</td>\n",
       "      <td>NaN</td>\n",
       "      <td>NaN</td>\n",
       "      <td>NaN</td>\n",
       "      <td>NaN</td>\n",
       "      <td>NaN</td>\n",
       "      <td>NaN</td>\n",
       "    </tr>\n",
       "    <tr>\n",
       "      <th>bedrooms</th>\n",
       "      <td>7754.0</td>\n",
       "      <td>2.054424e+00</td>\n",
       "      <td>1.306555e+00</td>\n",
       "      <td>1.000000e+00</td>\n",
       "      <td>1.000000e+00</td>\n",
       "      <td>2.000000e+00</td>\n",
       "      <td>3.000000e+00</td>\n",
       "      <td>1.400000e+01</td>\n",
       "    </tr>\n",
       "    <tr>\n",
       "      <th>beds</th>\n",
       "      <td>12092.0</td>\n",
       "      <td>2.354780e+00</td>\n",
       "      <td>3.021167e+00</td>\n",
       "      <td>1.000000e+00</td>\n",
       "      <td>1.000000e+00</td>\n",
       "      <td>2.000000e+00</td>\n",
       "      <td>3.000000e+00</td>\n",
       "      <td>1.320000e+02</td>\n",
       "    </tr>\n",
       "    <tr>\n",
       "      <th>minimum_nights</th>\n",
       "      <td>12242.0</td>\n",
       "      <td>1.158724e+01</td>\n",
       "      <td>2.607171e+01</td>\n",
       "      <td>1.000000e+00</td>\n",
       "      <td>1.000000e+00</td>\n",
       "      <td>2.000000e+00</td>\n",
       "      <td>1.400000e+01</td>\n",
       "      <td>3.650000e+02</td>\n",
       "    </tr>\n",
       "    <tr>\n",
       "      <th>maximum_nights</th>\n",
       "      <td>12242.0</td>\n",
       "      <td>5.179922e+02</td>\n",
       "      <td>4.445545e+02</td>\n",
       "      <td>1.000000e+00</td>\n",
       "      <td>9.000000e+01</td>\n",
       "      <td>3.650000e+02</td>\n",
       "      <td>1.125000e+03</td>\n",
       "      <td>1.125000e+03</td>\n",
       "    </tr>\n",
       "    <tr>\n",
       "      <th>minimum_minimum_nights</th>\n",
       "      <td>12240.0</td>\n",
       "      <td>1.300114e+01</td>\n",
       "      <td>3.541710e+01</td>\n",
       "      <td>1.000000e+00</td>\n",
       "      <td>1.000000e+00</td>\n",
       "      <td>2.000000e+00</td>\n",
       "      <td>1.000000e+01</td>\n",
       "      <td>3.650000e+02</td>\n",
       "    </tr>\n",
       "    <tr>\n",
       "      <th>maximum_minimum_nights</th>\n",
       "      <td>12240.0</td>\n",
       "      <td>2.333423e+01</td>\n",
       "      <td>6.846733e+01</td>\n",
       "      <td>1.000000e+00</td>\n",
       "      <td>1.000000e+00</td>\n",
       "      <td>3.000000e+00</td>\n",
       "      <td>1.500000e+01</td>\n",
       "      <td>3.660000e+02</td>\n",
       "    </tr>\n",
       "    <tr>\n",
       "      <th>minimum_maximum_nights</th>\n",
       "      <td>12240.0</td>\n",
       "      <td>2.632315e+06</td>\n",
       "      <td>7.513393e+07</td>\n",
       "      <td>1.000000e+00</td>\n",
       "      <td>1.800000e+02</td>\n",
       "      <td>3.650000e+02</td>\n",
       "      <td>1.125000e+03</td>\n",
       "      <td>2.147484e+09</td>\n",
       "    </tr>\n",
       "    <tr>\n",
       "      <th>maximum_maximum_nights</th>\n",
       "      <td>12240.0</td>\n",
       "      <td>2.807795e+06</td>\n",
       "      <td>7.759482e+07</td>\n",
       "      <td>1.000000e+00</td>\n",
       "      <td>1.800000e+02</td>\n",
       "      <td>3.650000e+02</td>\n",
       "      <td>1.125000e+03</td>\n",
       "      <td>2.147484e+09</td>\n",
       "    </tr>\n",
       "    <tr>\n",
       "      <th>minimum_nights_avg_ntm</th>\n",
       "      <td>12240.0</td>\n",
       "      <td>2.255750e+01</td>\n",
       "      <td>6.668533e+01</td>\n",
       "      <td>1.000000e+00</td>\n",
       "      <td>1.000000e+00</td>\n",
       "      <td>2.000000e+00</td>\n",
       "      <td>1.400000e+01</td>\n",
       "      <td>3.650000e+02</td>\n",
       "    </tr>\n",
       "    <tr>\n",
       "      <th>maximum_nights_avg_ntm</th>\n",
       "      <td>12240.0</td>\n",
       "      <td>2.807380e+06</td>\n",
       "      <td>7.758368e+07</td>\n",
       "      <td>1.000000e+00</td>\n",
       "      <td>1.800000e+02</td>\n",
       "      <td>3.650000e+02</td>\n",
       "      <td>1.125000e+03</td>\n",
       "      <td>2.147484e+09</td>\n",
       "    </tr>\n",
       "    <tr>\n",
       "      <th>calendar_updated</th>\n",
       "      <td>0.0</td>\n",
       "      <td>NaN</td>\n",
       "      <td>NaN</td>\n",
       "      <td>NaN</td>\n",
       "      <td>NaN</td>\n",
       "      <td>NaN</td>\n",
       "      <td>NaN</td>\n",
       "      <td>NaN</td>\n",
       "    </tr>\n",
       "    <tr>\n",
       "      <th>availability_30</th>\n",
       "      <td>12242.0</td>\n",
       "      <td>1.125927e+01</td>\n",
       "      <td>1.270810e+01</td>\n",
       "      <td>0.000000e+00</td>\n",
       "      <td>0.000000e+00</td>\n",
       "      <td>2.000000e+00</td>\n",
       "      <td>2.600000e+01</td>\n",
       "      <td>3.000000e+01</td>\n",
       "    </tr>\n",
       "    <tr>\n",
       "      <th>availability_60</th>\n",
       "      <td>12242.0</td>\n",
       "      <td>2.471557e+01</td>\n",
       "      <td>2.555599e+01</td>\n",
       "      <td>0.000000e+00</td>\n",
       "      <td>0.000000e+00</td>\n",
       "      <td>1.500000e+01</td>\n",
       "      <td>5.400000e+01</td>\n",
       "      <td>6.000000e+01</td>\n",
       "    </tr>\n",
       "    <tr>\n",
       "      <th>availability_90</th>\n",
       "      <td>12242.0</td>\n",
       "      <td>3.928745e+01</td>\n",
       "      <td>3.868141e+01</td>\n",
       "      <td>0.000000e+00</td>\n",
       "      <td>0.000000e+00</td>\n",
       "      <td>3.200000e+01</td>\n",
       "      <td>8.300000e+01</td>\n",
       "      <td>9.000000e+01</td>\n",
       "    </tr>\n",
       "    <tr>\n",
       "      <th>availability_365</th>\n",
       "      <td>12242.0</td>\n",
       "      <td>1.469919e+02</td>\n",
       "      <td>1.488693e+02</td>\n",
       "      <td>0.000000e+00</td>\n",
       "      <td>0.000000e+00</td>\n",
       "      <td>8.900000e+01</td>\n",
       "      <td>3.200000e+02</td>\n",
       "      <td>3.650000e+02</td>\n",
       "    </tr>\n",
       "    <tr>\n",
       "      <th>number_of_reviews</th>\n",
       "      <td>12242.0</td>\n",
       "      <td>0.000000e+00</td>\n",
       "      <td>0.000000e+00</td>\n",
       "      <td>0.000000e+00</td>\n",
       "      <td>0.000000e+00</td>\n",
       "      <td>0.000000e+00</td>\n",
       "      <td>0.000000e+00</td>\n",
       "      <td>0.000000e+00</td>\n",
       "    </tr>\n",
       "    <tr>\n",
       "      <th>number_of_reviews_ltm</th>\n",
       "      <td>12242.0</td>\n",
       "      <td>0.000000e+00</td>\n",
       "      <td>0.000000e+00</td>\n",
       "      <td>0.000000e+00</td>\n",
       "      <td>0.000000e+00</td>\n",
       "      <td>0.000000e+00</td>\n",
       "      <td>0.000000e+00</td>\n",
       "      <td>0.000000e+00</td>\n",
       "    </tr>\n",
       "    <tr>\n",
       "      <th>number_of_reviews_l30d</th>\n",
       "      <td>12242.0</td>\n",
       "      <td>0.000000e+00</td>\n",
       "      <td>0.000000e+00</td>\n",
       "      <td>0.000000e+00</td>\n",
       "      <td>0.000000e+00</td>\n",
       "      <td>0.000000e+00</td>\n",
       "      <td>0.000000e+00</td>\n",
       "      <td>0.000000e+00</td>\n",
       "    </tr>\n",
       "    <tr>\n",
       "      <th>review_scores_rating</th>\n",
       "      <td>10.0</td>\n",
       "      <td>4.600000e+00</td>\n",
       "      <td>1.264911e+00</td>\n",
       "      <td>1.000000e+00</td>\n",
       "      <td>5.000000e+00</td>\n",
       "      <td>5.000000e+00</td>\n",
       "      <td>5.000000e+00</td>\n",
       "      <td>5.000000e+00</td>\n",
       "    </tr>\n",
       "    <tr>\n",
       "      <th>review_scores_accuracy</th>\n",
       "      <td>10.0</td>\n",
       "      <td>4.800000e+00</td>\n",
       "      <td>6.324555e-01</td>\n",
       "      <td>3.000000e+00</td>\n",
       "      <td>5.000000e+00</td>\n",
       "      <td>5.000000e+00</td>\n",
       "      <td>5.000000e+00</td>\n",
       "      <td>5.000000e+00</td>\n",
       "    </tr>\n",
       "    <tr>\n",
       "      <th>review_scores_cleanliness</th>\n",
       "      <td>10.0</td>\n",
       "      <td>4.600000e+00</td>\n",
       "      <td>1.264911e+00</td>\n",
       "      <td>1.000000e+00</td>\n",
       "      <td>5.000000e+00</td>\n",
       "      <td>5.000000e+00</td>\n",
       "      <td>5.000000e+00</td>\n",
       "      <td>5.000000e+00</td>\n",
       "    </tr>\n",
       "    <tr>\n",
       "      <th>review_scores_checkin</th>\n",
       "      <td>10.0</td>\n",
       "      <td>4.600000e+00</td>\n",
       "      <td>1.264911e+00</td>\n",
       "      <td>1.000000e+00</td>\n",
       "      <td>5.000000e+00</td>\n",
       "      <td>5.000000e+00</td>\n",
       "      <td>5.000000e+00</td>\n",
       "      <td>5.000000e+00</td>\n",
       "    </tr>\n",
       "    <tr>\n",
       "      <th>review_scores_communication</th>\n",
       "      <td>10.0</td>\n",
       "      <td>4.700000e+00</td>\n",
       "      <td>9.486833e-01</td>\n",
       "      <td>2.000000e+00</td>\n",
       "      <td>5.000000e+00</td>\n",
       "      <td>5.000000e+00</td>\n",
       "      <td>5.000000e+00</td>\n",
       "      <td>5.000000e+00</td>\n",
       "    </tr>\n",
       "    <tr>\n",
       "      <th>review_scores_location</th>\n",
       "      <td>10.0</td>\n",
       "      <td>4.700000e+00</td>\n",
       "      <td>6.749486e-01</td>\n",
       "      <td>3.000000e+00</td>\n",
       "      <td>5.000000e+00</td>\n",
       "      <td>5.000000e+00</td>\n",
       "      <td>5.000000e+00</td>\n",
       "      <td>5.000000e+00</td>\n",
       "    </tr>\n",
       "    <tr>\n",
       "      <th>review_scores_value</th>\n",
       "      <td>10.0</td>\n",
       "      <td>4.500000e+00</td>\n",
       "      <td>1.269296e+00</td>\n",
       "      <td>1.000000e+00</td>\n",
       "      <td>5.000000e+00</td>\n",
       "      <td>5.000000e+00</td>\n",
       "      <td>5.000000e+00</td>\n",
       "      <td>5.000000e+00</td>\n",
       "    </tr>\n",
       "    <tr>\n",
       "      <th>license</th>\n",
       "      <td>0.0</td>\n",
       "      <td>NaN</td>\n",
       "      <td>NaN</td>\n",
       "      <td>NaN</td>\n",
       "      <td>NaN</td>\n",
       "      <td>NaN</td>\n",
       "      <td>NaN</td>\n",
       "      <td>NaN</td>\n",
       "    </tr>\n",
       "    <tr>\n",
       "      <th>calculated_host_listings_count</th>\n",
       "      <td>12242.0</td>\n",
       "      <td>2.007956e+01</td>\n",
       "      <td>3.988628e+01</td>\n",
       "      <td>1.000000e+00</td>\n",
       "      <td>1.000000e+00</td>\n",
       "      <td>1.000000e+00</td>\n",
       "      <td>1.500000e+01</td>\n",
       "      <td>1.750000e+02</td>\n",
       "    </tr>\n",
       "    <tr>\n",
       "      <th>calculated_host_listings_count_entire_homes</th>\n",
       "      <td>12242.0</td>\n",
       "      <td>1.663993e+01</td>\n",
       "      <td>3.871387e+01</td>\n",
       "      <td>0.000000e+00</td>\n",
       "      <td>1.000000e+00</td>\n",
       "      <td>1.000000e+00</td>\n",
       "      <td>6.000000e+00</td>\n",
       "      <td>1.750000e+02</td>\n",
       "    </tr>\n",
       "    <tr>\n",
       "      <th>calculated_host_listings_count_private_rooms</th>\n",
       "      <td>12242.0</td>\n",
       "      <td>3.295703e+00</td>\n",
       "      <td>1.244917e+01</td>\n",
       "      <td>0.000000e+00</td>\n",
       "      <td>0.000000e+00</td>\n",
       "      <td>0.000000e+00</td>\n",
       "      <td>1.000000e+00</td>\n",
       "      <td>8.100000e+01</td>\n",
       "    </tr>\n",
       "    <tr>\n",
       "      <th>calculated_host_listings_count_shared_rooms</th>\n",
       "      <td>12242.0</td>\n",
       "      <td>1.418069e-01</td>\n",
       "      <td>2.669586e+00</td>\n",
       "      <td>0.000000e+00</td>\n",
       "      <td>0.000000e+00</td>\n",
       "      <td>0.000000e+00</td>\n",
       "      <td>0.000000e+00</td>\n",
       "      <td>5.700000e+01</td>\n",
       "    </tr>\n",
       "    <tr>\n",
       "      <th>reviews_per_month</th>\n",
       "      <td>0.0</td>\n",
       "      <td>NaN</td>\n",
       "      <td>NaN</td>\n",
       "      <td>NaN</td>\n",
       "      <td>NaN</td>\n",
       "      <td>NaN</td>\n",
       "      <td>NaN</td>\n",
       "      <td>NaN</td>\n",
       "    </tr>\n",
       "    <tr>\n",
       "      <th>occ_rate_calendar</th>\n",
       "      <td>12242.0</td>\n",
       "      <td>4.685727e-01</td>\n",
       "      <td>2.928990e-01</td>\n",
       "      <td>0.000000e+00</td>\n",
       "      <td>1.333333e-01</td>\n",
       "      <td>7.000000e-01</td>\n",
       "      <td>7.000000e-01</td>\n",
       "      <td>7.000000e-01</td>\n",
       "    </tr>\n",
       "    <tr>\n",
       "      <th>days_since_first_listing</th>\n",
       "      <td>12241.0</td>\n",
       "      <td>2.236926e+03</td>\n",
       "      <td>1.213547e+03</td>\n",
       "      <td>1.000000e+00</td>\n",
       "      <td>1.394000e+03</td>\n",
       "      <td>2.446000e+03</td>\n",
       "      <td>3.149000e+03</td>\n",
       "      <td>5.481000e+03</td>\n",
       "    </tr>\n",
       "  </tbody>\n",
       "</table>\n",
       "</div>"
      ],
      "text/plain": [
       "                                                count          mean  \\\n",
       "id                                            12242.0  4.828062e+17   \n",
       "scrape_id                                     12242.0  2.023077e+13   \n",
       "host_id                                       12242.0  1.759100e+08   \n",
       "host_listings_count                           12241.0  4.251663e+02   \n",
       "host_total_listings_count                     12241.0  5.665715e+02   \n",
       "neighbourhood_cleansed                        12242.0  7.872462e+04   \n",
       "neighbourhood_group_cleansed                      0.0           NaN   \n",
       "latitude                                      12242.0  3.028664e+01   \n",
       "longitude                                     12242.0 -9.775106e+01   \n",
       "accommodates                                  12242.0  4.395279e+00   \n",
       "bathrooms                                         0.0           NaN   \n",
       "bedrooms                                       7754.0  2.054424e+00   \n",
       "beds                                          12092.0  2.354780e+00   \n",
       "minimum_nights                                12242.0  1.158724e+01   \n",
       "maximum_nights                                12242.0  5.179922e+02   \n",
       "minimum_minimum_nights                        12240.0  1.300114e+01   \n",
       "maximum_minimum_nights                        12240.0  2.333423e+01   \n",
       "minimum_maximum_nights                        12240.0  2.632315e+06   \n",
       "maximum_maximum_nights                        12240.0  2.807795e+06   \n",
       "minimum_nights_avg_ntm                        12240.0  2.255750e+01   \n",
       "maximum_nights_avg_ntm                        12240.0  2.807380e+06   \n",
       "calendar_updated                                  0.0           NaN   \n",
       "availability_30                               12242.0  1.125927e+01   \n",
       "availability_60                               12242.0  2.471557e+01   \n",
       "availability_90                               12242.0  3.928745e+01   \n",
       "availability_365                              12242.0  1.469919e+02   \n",
       "number_of_reviews                             12242.0  0.000000e+00   \n",
       "number_of_reviews_ltm                         12242.0  0.000000e+00   \n",
       "number_of_reviews_l30d                        12242.0  0.000000e+00   \n",
       "review_scores_rating                             10.0  4.600000e+00   \n",
       "review_scores_accuracy                           10.0  4.800000e+00   \n",
       "review_scores_cleanliness                        10.0  4.600000e+00   \n",
       "review_scores_checkin                            10.0  4.600000e+00   \n",
       "review_scores_communication                      10.0  4.700000e+00   \n",
       "review_scores_location                           10.0  4.700000e+00   \n",
       "review_scores_value                              10.0  4.500000e+00   \n",
       "license                                           0.0           NaN   \n",
       "calculated_host_listings_count                12242.0  2.007956e+01   \n",
       "calculated_host_listings_count_entire_homes   12242.0  1.663993e+01   \n",
       "calculated_host_listings_count_private_rooms  12242.0  3.295703e+00   \n",
       "calculated_host_listings_count_shared_rooms   12242.0  1.418069e-01   \n",
       "reviews_per_month                                 0.0           NaN   \n",
       "occ_rate_calendar                             12242.0  4.685727e-01   \n",
       "days_since_first_listing                      12241.0  2.236926e+03   \n",
       "\n",
       "                                                       std           min  \\\n",
       "id                                            4.149786e+17  2.349600e+04   \n",
       "scrape_id                                     3.362199e+08  2.023032e+13   \n",
       "host_id                                       1.742760e+08  7.960000e+02   \n",
       "host_listings_count                           1.096049e+03  1.000000e+00   \n",
       "host_total_listings_count                     1.455011e+03  1.000000e+00   \n",
       "neighbourhood_cleansed                        2.098050e+01  7.870100e+04   \n",
       "neighbourhood_group_cleansed                           NaN           NaN   \n",
       "latitude                                      6.712872e-02  3.011138e+01   \n",
       "longitude                                     6.030749e-02 -9.804347e+01   \n",
       "accommodates                                  2.986699e+00  0.000000e+00   \n",
       "bathrooms                                              NaN           NaN   \n",
       "bedrooms                                      1.306555e+00  1.000000e+00   \n",
       "beds                                          3.021167e+00  1.000000e+00   \n",
       "minimum_nights                                2.607171e+01  1.000000e+00   \n",
       "maximum_nights                                4.445545e+02  1.000000e+00   \n",
       "minimum_minimum_nights                        3.541710e+01  1.000000e+00   \n",
       "maximum_minimum_nights                        6.846733e+01  1.000000e+00   \n",
       "minimum_maximum_nights                        7.513393e+07  1.000000e+00   \n",
       "maximum_maximum_nights                        7.759482e+07  1.000000e+00   \n",
       "minimum_nights_avg_ntm                        6.668533e+01  1.000000e+00   \n",
       "maximum_nights_avg_ntm                        7.758368e+07  1.000000e+00   \n",
       "calendar_updated                                       NaN           NaN   \n",
       "availability_30                               1.270810e+01  0.000000e+00   \n",
       "availability_60                               2.555599e+01  0.000000e+00   \n",
       "availability_90                               3.868141e+01  0.000000e+00   \n",
       "availability_365                              1.488693e+02  0.000000e+00   \n",
       "number_of_reviews                             0.000000e+00  0.000000e+00   \n",
       "number_of_reviews_ltm                         0.000000e+00  0.000000e+00   \n",
       "number_of_reviews_l30d                        0.000000e+00  0.000000e+00   \n",
       "review_scores_rating                          1.264911e+00  1.000000e+00   \n",
       "review_scores_accuracy                        6.324555e-01  3.000000e+00   \n",
       "review_scores_cleanliness                     1.264911e+00  1.000000e+00   \n",
       "review_scores_checkin                         1.264911e+00  1.000000e+00   \n",
       "review_scores_communication                   9.486833e-01  2.000000e+00   \n",
       "review_scores_location                        6.749486e-01  3.000000e+00   \n",
       "review_scores_value                           1.269296e+00  1.000000e+00   \n",
       "license                                                NaN           NaN   \n",
       "calculated_host_listings_count                3.988628e+01  1.000000e+00   \n",
       "calculated_host_listings_count_entire_homes   3.871387e+01  0.000000e+00   \n",
       "calculated_host_listings_count_private_rooms  1.244917e+01  0.000000e+00   \n",
       "calculated_host_listings_count_shared_rooms   2.669586e+00  0.000000e+00   \n",
       "reviews_per_month                                      NaN           NaN   \n",
       "occ_rate_calendar                             2.928990e-01  0.000000e+00   \n",
       "days_since_first_listing                      1.213547e+03  1.000000e+00   \n",
       "\n",
       "                                                       25%           50%  \\\n",
       "id                                            3.247974e+07  6.903947e+17   \n",
       "scrape_id                                     2.023061e+13  2.023091e+13   \n",
       "host_id                                       2.613666e+07  1.074344e+08   \n",
       "host_listings_count                           1.000000e+00  2.000000e+00   \n",
       "host_total_listings_count                     1.000000e+00  3.000000e+00   \n",
       "neighbourhood_cleansed                        7.870400e+04  7.872300e+04   \n",
       "neighbourhood_group_cleansed                           NaN           NaN   \n",
       "latitude                                      3.024744e+01  3.027239e+01   \n",
       "longitude                                    -9.776961e+01 -9.774483e+01   \n",
       "accommodates                                  2.000000e+00  4.000000e+00   \n",
       "bathrooms                                              NaN           NaN   \n",
       "bedrooms                                      1.000000e+00  2.000000e+00   \n",
       "beds                                          1.000000e+00  2.000000e+00   \n",
       "minimum_nights                                1.000000e+00  2.000000e+00   \n",
       "maximum_nights                                9.000000e+01  3.650000e+02   \n",
       "minimum_minimum_nights                        1.000000e+00  2.000000e+00   \n",
       "maximum_minimum_nights                        1.000000e+00  3.000000e+00   \n",
       "minimum_maximum_nights                        1.800000e+02  3.650000e+02   \n",
       "maximum_maximum_nights                        1.800000e+02  3.650000e+02   \n",
       "minimum_nights_avg_ntm                        1.000000e+00  2.000000e+00   \n",
       "maximum_nights_avg_ntm                        1.800000e+02  3.650000e+02   \n",
       "calendar_updated                                       NaN           NaN   \n",
       "availability_30                               0.000000e+00  2.000000e+00   \n",
       "availability_60                               0.000000e+00  1.500000e+01   \n",
       "availability_90                               0.000000e+00  3.200000e+01   \n",
       "availability_365                              0.000000e+00  8.900000e+01   \n",
       "number_of_reviews                             0.000000e+00  0.000000e+00   \n",
       "number_of_reviews_ltm                         0.000000e+00  0.000000e+00   \n",
       "number_of_reviews_l30d                        0.000000e+00  0.000000e+00   \n",
       "review_scores_rating                          5.000000e+00  5.000000e+00   \n",
       "review_scores_accuracy                        5.000000e+00  5.000000e+00   \n",
       "review_scores_cleanliness                     5.000000e+00  5.000000e+00   \n",
       "review_scores_checkin                         5.000000e+00  5.000000e+00   \n",
       "review_scores_communication                   5.000000e+00  5.000000e+00   \n",
       "review_scores_location                        5.000000e+00  5.000000e+00   \n",
       "review_scores_value                           5.000000e+00  5.000000e+00   \n",
       "license                                                NaN           NaN   \n",
       "calculated_host_listings_count                1.000000e+00  1.000000e+00   \n",
       "calculated_host_listings_count_entire_homes   1.000000e+00  1.000000e+00   \n",
       "calculated_host_listings_count_private_rooms  0.000000e+00  0.000000e+00   \n",
       "calculated_host_listings_count_shared_rooms   0.000000e+00  0.000000e+00   \n",
       "reviews_per_month                                      NaN           NaN   \n",
       "occ_rate_calendar                             1.333333e-01  7.000000e-01   \n",
       "days_since_first_listing                      1.394000e+03  2.446000e+03   \n",
       "\n",
       "                                                       75%           max  \n",
       "id                                            8.449594e+17  1.046492e+18  \n",
       "scrape_id                                     2.023122e+13  2.023122e+13  \n",
       "host_id                                       2.935563e+08  5.505729e+08  \n",
       "host_listings_count                           5.100000e+01  4.816000e+03  \n",
       "host_total_listings_count                     7.100000e+01  7.977000e+03  \n",
       "neighbourhood_cleansed                        7.874500e+04  7.875900e+04  \n",
       "neighbourhood_group_cleansed                           NaN           NaN  \n",
       "latitude                                      3.031424e+01  3.051835e+01  \n",
       "longitude                                    -9.771962e+01 -9.755930e+01  \n",
       "accommodates                                  6.000000e+00  1.600000e+01  \n",
       "bathrooms                                              NaN           NaN  \n",
       "bedrooms                                      3.000000e+00  1.400000e+01  \n",
       "beds                                          3.000000e+00  1.320000e+02  \n",
       "minimum_nights                                1.400000e+01  3.650000e+02  \n",
       "maximum_nights                                1.125000e+03  1.125000e+03  \n",
       "minimum_minimum_nights                        1.000000e+01  3.650000e+02  \n",
       "maximum_minimum_nights                        1.500000e+01  3.660000e+02  \n",
       "minimum_maximum_nights                        1.125000e+03  2.147484e+09  \n",
       "maximum_maximum_nights                        1.125000e+03  2.147484e+09  \n",
       "minimum_nights_avg_ntm                        1.400000e+01  3.650000e+02  \n",
       "maximum_nights_avg_ntm                        1.125000e+03  2.147484e+09  \n",
       "calendar_updated                                       NaN           NaN  \n",
       "availability_30                               2.600000e+01  3.000000e+01  \n",
       "availability_60                               5.400000e+01  6.000000e+01  \n",
       "availability_90                               8.300000e+01  9.000000e+01  \n",
       "availability_365                              3.200000e+02  3.650000e+02  \n",
       "number_of_reviews                             0.000000e+00  0.000000e+00  \n",
       "number_of_reviews_ltm                         0.000000e+00  0.000000e+00  \n",
       "number_of_reviews_l30d                        0.000000e+00  0.000000e+00  \n",
       "review_scores_rating                          5.000000e+00  5.000000e+00  \n",
       "review_scores_accuracy                        5.000000e+00  5.000000e+00  \n",
       "review_scores_cleanliness                     5.000000e+00  5.000000e+00  \n",
       "review_scores_checkin                         5.000000e+00  5.000000e+00  \n",
       "review_scores_communication                   5.000000e+00  5.000000e+00  \n",
       "review_scores_location                        5.000000e+00  5.000000e+00  \n",
       "review_scores_value                           5.000000e+00  5.000000e+00  \n",
       "license                                                NaN           NaN  \n",
       "calculated_host_listings_count                1.500000e+01  1.750000e+02  \n",
       "calculated_host_listings_count_entire_homes   6.000000e+00  1.750000e+02  \n",
       "calculated_host_listings_count_private_rooms  1.000000e+00  8.100000e+01  \n",
       "calculated_host_listings_count_shared_rooms   0.000000e+00  5.700000e+01  \n",
       "reviews_per_month                                      NaN           NaN  \n",
       "occ_rate_calendar                             7.000000e-01  7.000000e-01  \n",
       "days_since_first_listing                      3.149000e+03  5.481000e+03  "
      ]
     },
     "execution_count": 10,
     "metadata": {},
     "output_type": "execute_result"
    }
   ],
   "source": [
    "no_last_review.describe().T"
   ]
  },
  {
   "cell_type": "markdown",
   "metadata": {},
   "source": [
    "Hence, we will have to drop the listings with no information about the last review."
   ]
  },
  {
   "cell_type": "code",
   "execution_count": 11,
   "metadata": {},
   "outputs": [],
   "source": [
    "df = df.dropna(subset=['last_review'])"
   ]
  },
  {
   "cell_type": "code",
   "execution_count": 12,
   "metadata": {},
   "outputs": [],
   "source": [
    "# create a new column for the duration of the host joining till the time of the last review\n",
    "df['active_duration_days'] = (df['last_review'] - df['host_since']).dt.days"
   ]
  },
  {
   "cell_type": "markdown",
   "metadata": {},
   "source": [
    "Let us take a look at the active days duration before using it for occupancy rate calculations."
   ]
  },
  {
   "cell_type": "code",
   "execution_count": 13,
   "metadata": {},
   "outputs": [
    {
     "data": {
      "text/plain": [
       "count    47092.000000\n",
       "mean      2176.238299\n",
       "std       1225.815531\n",
       "min      -1080.000000\n",
       "25%       1169.000000\n",
       "50%       2281.000000\n",
       "75%       3106.000000\n",
       "max       5614.000000\n",
       "Name: active_duration_days, dtype: float64"
      ]
     },
     "execution_count": 13,
     "metadata": {},
     "output_type": "execute_result"
    }
   ],
   "source": [
    "df['active_duration_days'].describe()"
   ]
  },
  {
   "cell_type": "code",
   "execution_count": 14,
   "metadata": {},
   "outputs": [
    {
     "data": {
      "text/plain": [
       "8"
      ]
     },
     "execution_count": 14,
     "metadata": {},
     "output_type": "execute_result"
    }
   ],
   "source": [
    "df['active_duration_days'].isna().sum()"
   ]
  },
  {
   "cell_type": "markdown",
   "metadata": {},
   "source": [
    "Active day duration should not have any zero or negative values. Let us see how many negative values do we have."
   ]
  },
  {
   "cell_type": "code",
   "execution_count": 15,
   "metadata": {},
   "outputs": [
    {
     "data": {
      "text/plain": [
       "(53, 2)"
      ]
     },
     "execution_count": 15,
     "metadata": {},
     "output_type": "execute_result"
    }
   ],
   "source": [
    "df[df['active_duration_days'] <= 0][['host_since', 'last_review']].shape"
   ]
  },
  {
   "cell_type": "markdown",
   "metadata": {},
   "source": [
    "Let us remove listings with negative or zero active days and take a look at the description again."
   ]
  },
  {
   "cell_type": "code",
   "execution_count": 16,
   "metadata": {},
   "outputs": [
    {
     "name": "stdout",
     "output_type": "stream",
     "text": [
      "(47039, 77)\n"
     ]
    },
    {
     "data": {
      "text/plain": [
       "count    47039.000000\n",
       "mean      2179.206892\n",
       "std       1223.257098\n",
       "min          1.000000\n",
       "25%       1173.500000\n",
       "50%       2284.000000\n",
       "75%       3107.000000\n",
       "max       5614.000000\n",
       "Name: active_duration_days, dtype: float64"
      ]
     },
     "execution_count": 16,
     "metadata": {},
     "output_type": "execute_result"
    }
   ],
   "source": [
    "df = df[df['active_duration_days'] > 0]\n",
    "print(df.shape)\n",
    "df['active_duration_days'].describe()"
   ]
  },
  {
   "cell_type": "code",
   "execution_count": 17,
   "metadata": {},
   "outputs": [
    {
     "data": {
      "image/png": "[encoded data removed]",
      "text/plain": [
       "<Figure size 1200x800 with 1 Axes>"
      ]
     },
     "metadata": {},
     "output_type": "display_data"
    }
   ],
   "source": [
    "plt.figure(figsize=(12, 8))\n",
    "sns.histplot(df['active_duration_days'], bins=50)\n",
    "plt.xlabel('Active days')\n",
    "plt.ylabel('Count')\n",
    "plt.title('Distribution of active days for listings');"
   ]
  },
  {
   "cell_type": "markdown",
   "metadata": {},
   "source": [
    "Typically, if listings have a small active day number, they should have small number of reviews as well. Let us take a look at lisitngs with less than 100 days active days."
   ]
  },
  {
   "cell_type": "code",
   "execution_count": 18,
   "metadata": {},
   "outputs": [
    {
     "data": {
      "text/html": [
       "<div>\n",
       "<style scoped>\n",
       "    .dataframe tbody tr th:only-of-type {\n",
       "        vertical-align: middle;\n",
       "    }\n",
       "\n",
       "    .dataframe tbody tr th {\n",
       "        vertical-align: top;\n",
       "    }\n",
       "\n",
       "    .dataframe thead th {\n",
       "        text-align: right;\n",
       "    }\n",
       "</style>\n",
       "<table border=\"1\" class=\"dataframe\">\n",
       "  <thead>\n",
       "    <tr style=\"text-align: right;\">\n",
       "      <th></th>\n",
       "      <th>active_duration_days</th>\n",
       "      <th>number_of_reviews</th>\n",
       "    </tr>\n",
       "  </thead>\n",
       "  <tbody>\n",
       "    <tr>\n",
       "      <th>450</th>\n",
       "      <td>22.0</td>\n",
       "      <td>232</td>\n",
       "    </tr>\n",
       "    <tr>\n",
       "      <th>1559</th>\n",
       "      <td>28.0</td>\n",
       "      <td>214</td>\n",
       "    </tr>\n",
       "  </tbody>\n",
       "</table>\n",
       "</div>"
      ],
      "text/plain": [
       "      active_duration_days  number_of_reviews\n",
       "450                   22.0                232\n",
       "1559                  28.0                214"
      ]
     },
     "execution_count": 18,
     "metadata": {},
     "output_type": "execute_result"
    }
   ],
   "source": [
    "df[(df['active_duration_days'] <= 100) & (df['number_of_reviews'] >50)][['active_duration_days', 'number_of_reviews']]"
   ]
  },
  {
   "cell_type": "markdown",
   "metadata": {},
   "source": [
    "Let us remove these listings as there is something wrong here (most likely the data for host joined has changed)."
   ]
  },
  {
   "cell_type": "code",
   "execution_count": 19,
   "metadata": {},
   "outputs": [
    {
     "data": {
      "text/plain": [
       "(47037, 77)"
      ]
     },
     "execution_count": 19,
     "metadata": {},
     "output_type": "execute_result"
    }
   ],
   "source": [
    "df = df[~((df['active_duration_days'] <= 100) & (df['number_of_reviews'] >50))]\n",
    "df.shape"
   ]
  },
  {
   "cell_type": "markdown",
   "metadata": {},
   "source": [
    "We can now start to estimate the occupancy rates for different review rates. As mentioned before, we have capped the occupancy rate to 70% per maximum occupancy of popular hotels and short term stays."
   ]
  },
  {
   "cell_type": "code",
   "execution_count": 20,
   "metadata": {},
   "outputs": [],
   "source": [
    "# occ_rate_70 is the occupancy rate assuming 70 percent of the guests leave a review\n",
    "\n",
    "df['occ_rate_70'] = df.apply(lambda x: min(x['number_of_reviews'] / 0.7 \n",
    "                                           * max(x['minimum_nights'], 5) / x['active_duration_days']\n",
    "                                           , 0.7), axis=1)"
   ]
  },
  {
   "cell_type": "code",
   "execution_count": 21,
   "metadata": {},
   "outputs": [
    {
     "data": {
      "text/plain": [
       "count    47037.000000\n",
       "mean         0.189579\n",
       "std          0.218192\n",
       "min          0.001322\n",
       "25%          0.027211\n",
       "50%          0.091128\n",
       "75%          0.279446\n",
       "max          0.700000\n",
       "Name: occ_rate_70, dtype: float64"
      ]
     },
     "execution_count": 21,
     "metadata": {},
     "output_type": "execute_result"
    }
   ],
   "source": [
    "df['occ_rate_70'].describe()"
   ]
  },
  {
   "cell_type": "code",
   "execution_count": 22,
   "metadata": {},
   "outputs": [
    {
     "data": {
      "image/png": "[encoded data removed]",
      "text/plain": [
       "<Figure size 1200x800 with 1 Axes>"
      ]
     },
     "metadata": {},
     "output_type": "display_data"
    }
   ],
   "source": [
    "plt.figure(figsize=(12, 8))\n",
    "sns.histplot(df['occ_rate_70'])\n",
    "plt.xlabel('Occupancy rate')\n",
    "plt.ylabel('Count')\n",
    "plt.title('Distribution of occupancy rates');\n"
   ]
  },
  {
   "cell_type": "code",
   "execution_count": 23,
   "metadata": {},
   "outputs": [
    {
     "data": {
      "text/plain": [
       "0.1895786703806457"
      ]
     },
     "execution_count": 23,
     "metadata": {},
     "output_type": "execute_result"
    }
   ],
   "source": [
    "df['occ_rate_70'].mean()"
   ]
  },
  {
   "cell_type": "markdown",
   "metadata": {},
   "source": [
    "Now, let us do the same calculations for review rates of 0.5 and 0.3 and look at all of the 4 models for occupancy rate calculations."
   ]
  },
  {
   "cell_type": "code",
   "execution_count": 24,
   "metadata": {},
   "outputs": [],
   "source": [
    "# occ_rate_50 is the occupancy rate assuming 50 percent of the guests leave a review\n",
    "# occ_rate_30 is the occupancy rate assuming 50 percent of the guests leave a review\n",
    "df['occ_rate_50'] = df.apply(lambda x: min(x['number_of_reviews'] / 0.5 \n",
    "                                           * max(x['minimum_nights'], 5) / x['active_duration_days']\n",
    "                                           , 0.7), axis=1)\n",
    "df['occ_rate_30'] = df.apply(lambda x: min(x['number_of_reviews'] / 0.3 \n",
    "                                           * max(x['minimum_nights'], 5) / x['active_duration_days']\n",
    "                                           , 0.7), axis=1)"
   ]
  },
  {
   "cell_type": "markdown",
   "metadata": {},
   "source": [
    "Mean occupancy rates for all of the 4 models we have used:"
   ]
  },
  {
   "cell_type": "code",
   "execution_count": 25,
   "metadata": {},
   "outputs": [
    {
     "name": "stdout",
     "output_type": "stream",
     "text": [
      "Average occupancy rate for using unavailable days in the calendar: 0.48\n",
      "Average occupancy rate for the model with a review rate of 70%: 0.19\n",
      "Average occupancy rate for the model with a review rate of 50%: 0.24\n",
      "Average occupancy rate for the model with a review rate of 30%: 0.31\n"
     ]
    }
   ],
   "source": [
    "print(f\"Average occupancy rate for using unavailable days in the calendar: {round(df['occ_rate_calendar'].mean(), 2)}\")\n",
    "print(f\"Average occupancy rate for the model with a review rate of 70%: {round(df['occ_rate_70'].mean(), 2)}\")\n",
    "print(f\"Average occupancy rate for the model with a review rate of 50%: {round(df['occ_rate_50'].mean(), 2)}\")\n",
    "print(f\"Average occupancy rate for the model with a review rate of 30%: {round(df['occ_rate_30'].mean(), 2)}\")"
   ]
  },
  {
   "cell_type": "code",
   "execution_count": 26,
   "metadata": {},
   "outputs": [
    {
     "data": {
      "image/png": "[encoded data removed]",
      "text/plain": [
       "<Figure size 800x1500 with 4 Axes>"
      ]
     },
     "metadata": {},
     "output_type": "display_data"
    }
   ],
   "source": [
    "fig, axes = plt.subplots(4, figsize=(8, 15))\n",
    "sns.histplot(df['occ_rate_calendar'], ax=axes[0])\n",
    "axes[0].set_xlabel('Occupancy rate')\n",
    "axes[0].set_title('Occupancy rate from available days in calendar')\n",
    "\n",
    "sns.histplot(df['occ_rate_70'], ax=axes[1])\n",
    "axes[1].set_xlabel('Occupancy rate')\n",
    "axes[1].set_title('Occupancy rate for 70% review rate')\n",
    "\n",
    "sns.histplot(df['occ_rate_50'], ax=axes[2])\n",
    "axes[2].set_xlabel('Occupancy rate')\n",
    "axes[2].set_title('Occupancy rate for 50% review rate')\n",
    "\n",
    "sns.histplot(df['occ_rate_30'], ax=axes[3])\n",
    "axes[3].set_xlabel('Occupancy rate')\n",
    "axes[3].set_title('Occupancy rate for 30% review rate')\n",
    "\n",
    "plt.tight_layout();"
   ]
  },
  {
   "cell_type": "markdown",
   "metadata": {},
   "source": [
    "To sum up what have we done, we have used different occupancy models to estimate the occupancy rate based on the number of reviews for the listings. While assuming 70% seems very optimistic (for the percentage of guests who actually leave a review), 30% review rate would lead into the occupancy rates (and hence average income) that is not conservative enough. For these reasons, we have decided to go with the 50% review rates to estimate the occupancy rate. The mean occupancy rate of 25% percent from this model is comparable to what is currently reported by airbnb rental analysis websites about Austin market. "
   ]
  },
  {
   "cell_type": "markdown",
   "metadata": {},
   "source": [
    "## Listing time period"
   ]
  },
  {
   "cell_type": "markdown",
   "metadata": {},
   "source": [
    "Our data has been scraped over a period of one year in which one scraped has performed every 3 months. "
   ]
  },
  {
   "cell_type": "code",
   "execution_count": 27,
   "metadata": {},
   "outputs": [
    {
     "data": {
      "text/plain": [
       "2023-06-11    11709\n",
       "2023-09-10     9461\n",
       "2023-03-16     8663\n",
       "2023-12-16     8302\n",
       "2023-12-17     3849\n",
       "2023-03-17     2640\n",
       "2023-09-11     2281\n",
       "2023-12-15      104\n",
       "2023-03-31       19\n",
       "2023-12-26        9\n",
       "Name: last_scraped, dtype: int64"
      ]
     },
     "execution_count": 27,
     "metadata": {},
     "output_type": "execute_result"
    }
   ],
   "source": [
    "df['last_scraped'].value_counts()"
   ]
  },
  {
   "cell_type": "code",
   "execution_count": 31,
   "metadata": {},
   "outputs": [
    {
     "data": {
      "text/plain": [
       "dtype('<M8[ns]')"
      ]
     },
     "execution_count": 31,
     "metadata": {},
     "output_type": "execute_result"
    }
   ],
   "source": [
    "df['last_scraped'].dtypes"
   ]
  },
  {
   "cell_type": "code",
   "execution_count": null,
   "metadata": {},
   "outputs": [],
   "source": []
  }
 ],
 "metadata": {
  "kernelspec": {
   "display_name": "base",
   "language": "python",
   "name": "python3"
  },
  "language_info": {
   "codemirror_mode": {
    "name": "ipython",
    "version": 3
   },
   "file_extension": ".py",
   "mimetype": "text/x-python",
   "name": "python",
   "nbconvert_exporter": "python",
   "pygments_lexer": "ipython3",
   "version": "3.11.4"
  }
 },
 "nbformat": 4,
 "nbformat_minor": 2
}
