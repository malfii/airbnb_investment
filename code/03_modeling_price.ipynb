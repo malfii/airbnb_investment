{
 "cells": [
  {
   "cell_type": "markdown",
   "id": "6f0cf7d7",
   "metadata": {
    "colab_type": "text",
    "id": "view-in-github"
   },
   "source": [
    "<a href=\"https://colab.research.google.com/github/malfii/airbnb_investment/blob/main/code/03_modeling_price.ipynb\" target=\"_parent\"><img src=\"https://colab.research.google.com/assets/colab-badge.svg\" alt=\"Open In Colab\"/></a>"
   ]
  },
  {
   "cell_type": "markdown",
   "id": "fd7aedad-7585-4c12-937b-11b1a61a480c",
   "metadata": {
    "id": "fd7aedad-7585-4c12-937b-11b1a61a480c"
   },
   "source": [
    "# 03-Modeling 'listing price'"
   ]
  },
  {
   "cell_type": "markdown",
   "id": "294a6507",
   "metadata": {
    "id": "294a6507"
   },
   "source": [
    "In this notebook, we will use different approaches to model listing price. The target variable in this notebook is the `price` column in our cleaned data. Linear regression, Neural Network, and XGBoost are used as our estimator in this work. "
   ]
  },
  {
   "cell_type": "code",
   "execution_count": 1,
   "id": "d8d04b0a",
   "metadata": {
    "colab": {
     "base_uri": "https://localhost:8080/"
    },
    "id": "d8d04b0a",
    "outputId": "64335d5b-89b6-4a9b-9266-7ff002423048",
    "tags": []
   },
   "outputs": [],
   "source": [
    "# imports\n",
    "import pandas as pd\n",
    "import numpy as np\n",
    "import matplotlib.pyplot as plt\n",
    "import seaborn as sns\n",
    "import pickle\n",
    "\n",
    "# sklearn\n",
    "from sklearn.model_selection import train_test_split, GridSearchCV, RandomizedSearchCV\n",
    "\n",
    "from sklearn.preprocessing import OneHotEncoder, StandardScaler, PolynomialFeatures\n",
    "from sklearn.compose import ColumnTransformer\n",
    "from sklearn.pipeline import Pipeline\n",
    "from sklearn.linear_model import LinearRegression, Ridge, Lasso\n",
    "from sklearn.metrics import mean_absolute_error, mean_squared_error, r2_score, silhouette_score\n",
    "\n",
    "# xgboost\n",
    "import xgboost as xgb\n",
    "\n",
    "#Bayesian optimizer\n",
    "#!pip install scikit-optimize\n",
    "from skopt import BayesSearchCV\n",
    "\n",
    "# tensorflow/keras\n",
    "from tensorflow.keras.models import Sequential\n",
    "from tensorflow.keras.layers import Dense\n",
    "from tensorflow.keras.callbacks import EarlyStopping\n",
    "# for controlling randomness in NN\n",
    "import keras\n",
    "keras.utils.set_random_seed(812)\n",
    "\n",
    "# clustering\n",
    "from sklearn.cluster import DBSCAN\n"
   ]
  },
  {
   "cell_type": "code",
   "execution_count": 2,
   "id": "d5ffb61b",
   "metadata": {
    "colab": {
     "base_uri": "https://localhost:8080/",
     "height": 226
    },
    "id": "d5ffb61b",
    "outputId": "39dffa93-2856-4b3f-f702-56359e618d7b",
    "tags": []
   },
   "outputs": [
    {
     "data": {
      "text/html": [
       "<div>\n",
       "<style scoped>\n",
       "    .dataframe tbody tr th:only-of-type {\n",
       "        vertical-align: middle;\n",
       "    }\n",
       "\n",
       "    .dataframe tbody tr th {\n",
       "        vertical-align: top;\n",
       "    }\n",
       "\n",
       "    .dataframe thead th {\n",
       "        text-align: right;\n",
       "    }\n",
       "</style>\n",
       "<table border=\"1\" class=\"dataframe\">\n",
       "  <thead>\n",
       "    <tr style=\"text-align: right;\">\n",
       "      <th></th>\n",
       "      <th>bedrooms</th>\n",
       "      <th>beds</th>\n",
       "      <th>bath</th>\n",
       "      <th>zipcode</th>\n",
       "      <th>host_is_superhost</th>\n",
       "      <th>review_scores_rating</th>\n",
       "      <th>time_quarter</th>\n",
       "      <th>has_pool</th>\n",
       "      <th>is_petfriendly</th>\n",
       "      <th>has_workspace</th>\n",
       "      <th>has_freeparking</th>\n",
       "      <th>has_gym</th>\n",
       "      <th>home_price_aprx</th>\n",
       "      <th>price</th>\n",
       "    </tr>\n",
       "  </thead>\n",
       "  <tbody>\n",
       "    <tr>\n",
       "      <th>0</th>\n",
       "      <td>1</td>\n",
       "      <td>2</td>\n",
       "      <td>1.0</td>\n",
       "      <td>78702</td>\n",
       "      <td>1</td>\n",
       "      <td>4.84</td>\n",
       "      <td>Q4</td>\n",
       "      <td>0</td>\n",
       "      <td>0</td>\n",
       "      <td>0</td>\n",
       "      <td>0</td>\n",
       "      <td>0</td>\n",
       "      <td>359197.038337</td>\n",
       "      <td>101.000000</td>\n",
       "    </tr>\n",
       "    <tr>\n",
       "      <th>1</th>\n",
       "      <td>0</td>\n",
       "      <td>1</td>\n",
       "      <td>1.0</td>\n",
       "      <td>78704</td>\n",
       "      <td>0</td>\n",
       "      <td>4.97</td>\n",
       "      <td>Q4</td>\n",
       "      <td>0</td>\n",
       "      <td>0</td>\n",
       "      <td>1</td>\n",
       "      <td>0</td>\n",
       "      <td>0</td>\n",
       "      <td>327170.306567</td>\n",
       "      <td>91.666667</td>\n",
       "    </tr>\n",
       "    <tr>\n",
       "      <th>2</th>\n",
       "      <td>1</td>\n",
       "      <td>2</td>\n",
       "      <td>1.0</td>\n",
       "      <td>78704</td>\n",
       "      <td>1</td>\n",
       "      <td>4.97</td>\n",
       "      <td>Q4</td>\n",
       "      <td>0</td>\n",
       "      <td>0</td>\n",
       "      <td>1</td>\n",
       "      <td>1</td>\n",
       "      <td>0</td>\n",
       "      <td>327170.306567</td>\n",
       "      <td>159.000000</td>\n",
       "    </tr>\n",
       "    <tr>\n",
       "      <th>3</th>\n",
       "      <td>1</td>\n",
       "      <td>1</td>\n",
       "      <td>1.0</td>\n",
       "      <td>78741</td>\n",
       "      <td>0</td>\n",
       "      <td>4.56</td>\n",
       "      <td>Q4</td>\n",
       "      <td>0</td>\n",
       "      <td>1</td>\n",
       "      <td>0</td>\n",
       "      <td>0</td>\n",
       "      <td>0</td>\n",
       "      <td>190189.768301</td>\n",
       "      <td>48.000000</td>\n",
       "    </tr>\n",
       "    <tr>\n",
       "      <th>4</th>\n",
       "      <td>2</td>\n",
       "      <td>2</td>\n",
       "      <td>2.0</td>\n",
       "      <td>78702</td>\n",
       "      <td>1</td>\n",
       "      <td>5.00</td>\n",
       "      <td>Q4</td>\n",
       "      <td>0</td>\n",
       "      <td>0</td>\n",
       "      <td>1</td>\n",
       "      <td>0</td>\n",
       "      <td>0</td>\n",
       "      <td>470342.688268</td>\n",
       "      <td>123.000000</td>\n",
       "    </tr>\n",
       "  </tbody>\n",
       "</table>\n",
       "</div>"
      ],
      "text/plain": [
       "   bedrooms  beds  bath  zipcode  host_is_superhost  review_scores_rating  \\\n",
       "0         1     2   1.0    78702                  1                  4.84   \n",
       "1         0     1   1.0    78704                  0                  4.97   \n",
       "2         1     2   1.0    78704                  1                  4.97   \n",
       "3         1     1   1.0    78741                  0                  4.56   \n",
       "4         2     2   2.0    78702                  1                  5.00   \n",
       "\n",
       "  time_quarter  has_pool  is_petfriendly  has_workspace  has_freeparking  \\\n",
       "0           Q4         0               0              0                0   \n",
       "1           Q4         0               0              1                0   \n",
       "2           Q4         0               0              1                1   \n",
       "3           Q4         0               1              0                0   \n",
       "4           Q4         0               0              1                0   \n",
       "\n",
       "   has_gym  home_price_aprx       price  \n",
       "0        0    359197.038337  101.000000  \n",
       "1        0    327170.306567   91.666667  \n",
       "2        0    327170.306567  159.000000  \n",
       "3        0    190189.768301   48.000000  \n",
       "4        0    470342.688268  123.000000  "
      ]
     },
     "execution_count": 2,
     "metadata": {},
     "output_type": "execute_result"
    }
   ],
   "source": [
    "df = pd.read_csv('./../data/austin_listings_clean.csv').drop(columns=['occupancy_rate'])\n",
    "#df = pd.read_csv('https://raw.githubusercontent.com/malfii/airbnb_investment/main/data/austin_listings_clean.csv').drop(columns=['occupancy_rate'])\n",
    "df.head(5)"
   ]
  },
  {
   "cell_type": "markdown",
   "id": "d54523d5",
   "metadata": {
    "id": "d54523d5"
   },
   "source": [
    "## Correlation between different features"
   ]
  },
  {
   "cell_type": "code",
   "execution_count": 3,
   "id": "cbb0ce0e",
   "metadata": {
    "colab": {
     "base_uri": "https://localhost:8080/",
     "height": 731
    },
    "id": "cbb0ce0e",
    "outputId": "8c8f0a90-004f-46ee-88ca-9232bfb60d70",
    "tags": []
   },
   "outputs": [
    {
     "name": "stderr",
     "output_type": "stream",
     "text": [
      "C:\\Users\\masou\\AppData\\Local\\Temp\\ipykernel_8300\\2086646879.py:3: FutureWarning: The default value of numeric_only in DataFrame.corr is deprecated. In a future version, it will default to False. Select only valid columns or specify the value of numeric_only to silence this warning.\n",
      "  corr = round(df.corr(), 2)\n"
     ]
    },
    {
     "data": {
      "image/png": "[encoded data removed]",
      "text/plain": [
       "<Figure size 800x600 with 2 Axes>"
      ]
     },
     "metadata": {},
     "output_type": "display_data"
    }
   ],
   "source": [
    "# plot the correlation matrix heatmap\n",
    "plt.figure(figsize=(8, 6))\n",
    "corr = round(df.corr(), 2)\n",
    "mask = np.triu(np.ones_like(corr))\n",
    "sns.heatmap(corr, mask=mask, annot=True, cmap='bone',\n",
    "            vmin = -1, vmax=1)\n",
    "plt.title('Correlation heatmap');"
   ]
  },
  {
   "cell_type": "markdown",
   "id": "0c116735",
   "metadata": {
    "id": "0c116735"
   },
   "source": [
    "From this graph, we can see the listing price shows the highest correlation with bedrooms, baths, and home price. Note that categorical features like the time of the listing is not considered here."
   ]
  },
  {
   "cell_type": "markdown",
   "id": "1d04e905",
   "metadata": {
    "id": "1d04e905"
   },
   "source": [
    "Also, looking at the correlation matrix heatmap, we can say features like beds, bedrooms, and bath are correlated to each other. Another interesting observation is the fact that the houses that have pool are more likely to have gym as well. Review ratings are usually higher when the host is experienced (superhost)."
   ]
  },
  {
   "cell_type": "markdown",
   "id": "16724b10",
   "metadata": {
    "id": "16724b10"
   },
   "source": [
    "## Null model"
   ]
  },
  {
   "cell_type": "markdown",
   "id": "7e87b5cb",
   "metadata": {
    "id": "7e87b5cb"
   },
   "source": [
    "We will start our analysis with the null model. For this, the average listing price will be considered as our prediction."
   ]
  },
  {
   "cell_type": "code",
   "execution_count": 4,
   "id": "327b069b",
   "metadata": {
    "colab": {
     "base_uri": "https://localhost:8080/"
    },
    "id": "327b069b",
    "outputId": "38432949-9adc-43f5-e108-178ecee0768e"
   },
   "outputs": [
    {
     "name": "stdout",
     "output_type": "stream",
     "text": [
      "predicted price for the null model: $246/night\n"
     ]
    }
   ],
   "source": [
    "# create a dataframe for the null model\n",
    "\n",
    "X = df.drop(columns=['price'])\n",
    "y = df['price']\n",
    "# train test split\n",
    "X_train, X_test, y_train, y_test = train_test_split(X, y,\n",
    "                                                    random_state=42,\n",
    "                                                    test_size=0.2)\n",
    "pred = y_train.mean()\n",
    "print(f'predicted price for the null model: ${int(pred)}/night')"
   ]
  },
  {
   "cell_type": "code",
   "execution_count": 5,
   "id": "686e590b",
   "metadata": {
    "colab": {
     "base_uri": "https://localhost:8080/"
    },
    "id": "686e590b",
    "outputId": "e93467c9-eaa1-4d8b-b733-8e3b8aaa18d6"
   },
   "outputs": [
    {
     "name": "stdout",
     "output_type": "stream",
     "text": [
      "Train data R2 = 0.0\n",
      "Train data MAE ($) = 152\n",
      "Test data R2 = -0.0002555833763804305\n",
      "Test data MAE ($) = 154\n"
     ]
    }
   ],
   "source": [
    "preds_train = pred*np.ones(len(y_train))\n",
    "preds_test = pred*np.ones(len(y_test))\n",
    "print(f'Train data R2 = {r2_score(y_train, preds_train)}')\n",
    "print(f'Train data MAE ($) = {int(mean_absolute_error(y_train, preds_train))}')\n",
    "print(f'Test data R2 = {r2_score(y_test, preds_test)}')\n",
    "print(f'Test data MAE ($) = {int(mean_absolute_error(y_test, preds_test))}')"
   ]
  },
  {
   "cell_type": "markdown",
   "id": "35c3b145-c469-4b50-a432-066f5b94de7d",
   "metadata": {
    "id": "35c3b145-c469-4b50-a432-066f5b94de7d"
   },
   "source": [
    "__Highlights__:\n",
    "- Null model predicts an average of $246 per night for listing price in Austin. It has a mean absolute error or $154 for the test data."
   ]
  },
  {
   "cell_type": "markdown",
   "id": "aecdd372-5151-4297-accd-d4e8b7fbfa65",
   "metadata": {
    "id": "aecdd372-5151-4297-accd-d4e8b7fbfa65"
   },
   "source": [
    "## Simple linear regression"
   ]
  },
  {
   "cell_type": "markdown",
   "id": "d9110512-1a46-45d5-9132-88646494e1a3",
   "metadata": {
    "id": "d9110512-1a46-45d5-9132-88646494e1a3"
   },
   "source": [
    "We will start our modeling by building a simple linear regression model with a few features that seem to have the highest impact on listing price. The featues are `bedrooms`, `beds`, `bath`, `has_pool`, `time_quarter`, and `home_price_aprx`."
   ]
  },
  {
   "cell_type": "code",
   "execution_count": 6,
   "id": "70c44945-63c7-4c6b-9c94-21e7ee483b52",
   "metadata": {
    "id": "70c44945-63c7-4c6b-9c94-21e7ee483b52",
    "tags": []
   },
   "outputs": [],
   "source": [
    "X = df[['bedrooms', 'beds', 'bath', 'has_pool', 'time_quarter', 'home_price_aprx']]\n",
    "y = df['price']\n",
    "# train_test split\n",
    "X_train, X_test, y_train, y_test = train_test_split(X, y,\n",
    "                                                    random_state=42,\n",
    "                                                    test_size=0.2)\n",
    "\n",
    "# column transformer to one hot encode categorical features\n",
    "ohe = OneHotEncoder(drop='first', handle_unknown='ignore', sparse_output=False)\n",
    "onehot_cat = ColumnTransformer(\n",
    "    transformers=[\n",
    "        ('ohe_time', ohe, ['time_quarter'])\n",
    "    ], remainder='passthrough')\n",
    "# create pipeline\n",
    "lr_simple_pipeline = Pipeline([\n",
    "    ('ohe_cols', onehot_cat), # column transformer for cat features\n",
    "    ('ss', StandardScaler()), # standard scaler\n",
    "    ('lr', LinearRegression())]\n",
    ")\n",
    "\n",
    "# fit the model\n",
    "lr_simple_pipeline.fit(X_train, y_train)\n",
    "\n",
    "# predict data\n",
    "preds_train = lr_simple_pipeline.predict(X_train)\n",
    "preds_test = lr_simple_pipeline.predict(X_test)"
   ]
  },
  {
   "cell_type": "code",
   "execution_count": 7,
   "id": "e4deab29-23a4-454c-943c-4fecac19102e",
   "metadata": {
    "colab": {
     "base_uri": "https://localhost:8080/"
    },
    "id": "e4deab29-23a4-454c-943c-4fecac19102e",
    "outputId": "f7620a64-9be1-4aea-f123-f6b1bd1b0873",
    "tags": []
   },
   "outputs": [
    {
     "name": "stdout",
     "output_type": "stream",
     "text": [
      "Train data R2 = 0.4562\n",
      "Train data MAE ($) = 105\n",
      "Test data R2 = 0.4505\n",
      "Test data MAE ($) = 106\n"
     ]
    }
   ],
   "source": [
    "print(f'Train data R2 = {round(r2_score(y_train, preds_train), 4)}')\n",
    "print(f'Train data MAE ($) = {int(mean_absolute_error(y_train, preds_train))}')\n",
    "print(f'Test data R2 = {round(r2_score(y_test, preds_test), 4)}')\n",
    "print(f'Test data MAE ($) = {int(mean_absolute_error(y_test, preds_test))}')"
   ]
  },
  {
   "cell_type": "code",
   "execution_count": 8,
   "id": "9416eff5-dcfd-419a-9064-c30742c7225f",
   "metadata": {
    "colab": {
     "base_uri": "https://localhost:8080/",
     "height": 564
    },
    "id": "9416eff5-dcfd-419a-9064-c30742c7225f",
    "outputId": "56af4419-98fc-4db9-8168-06ee7911fc62",
    "tags": []
   },
   "outputs": [
    {
     "data": {
      "image/png": "[encoded data removed]",
      "text/plain": [
       "<Figure size 800x600 with 1 Axes>"
      ]
     },
     "metadata": {},
     "output_type": "display_data"
    }
   ],
   "source": [
    "error = y_test - preds_test\n",
    "plt.figure(figsize=(8, 6))\n",
    "sns.scatterplot(x=y_test, y=error)\n",
    "plt.xlabel('Price, $')\n",
    "plt.ylabel('error, $')\n",
    "plt.title('Simple linear regression error')\n",
    "plt.axhline(0, color='orange');"
   ]
  },
  {
   "cell_type": "markdown",
   "id": "699a471a-464b-4ea3-9621-cc70185be5fd",
   "metadata": {
    "id": "699a471a-464b-4ea3-9621-cc70185be5fd"
   },
   "source": [
    "As we can see, the model shows issues modeling the listing prices. Let us see if adding some polynomial terms could help improve the linear model performance.  "
   ]
  },
  {
   "cell_type": "code",
   "execution_count": 9,
   "id": "491413cd-edef-4a55-b3ee-d923f1f53a46",
   "metadata": {
    "colab": {
     "base_uri": "https://localhost:8080/"
    },
    "id": "491413cd-edef-4a55-b3ee-d923f1f53a46",
    "outputId": "8e951c5b-a23e-4da5-bde7-0ba36f40b73e",
    "tags": []
   },
   "outputs": [
    {
     "name": "stdout",
     "output_type": "stream",
     "text": [
      "New features used in our model:\n"
     ]
    },
    {
     "data": {
      "text/plain": [
       "array(['1', 'time_quarter_Q2', 'time_quarter_Q3', 'time_quarter_Q4',\n",
       "       'bedrooms', 'beds', 'bath', 'has_pool', 'home_price_aprx',\n",
       "       'time_quarter_Q2^2', 'time_quarter_Q2 time_quarter_Q3',\n",
       "       'time_quarter_Q2 time_quarter_Q4', 'time_quarter_Q2 bedrooms',\n",
       "       'time_quarter_Q2 beds', 'time_quarter_Q2 bath',\n",
       "       'time_quarter_Q2 has_pool', 'time_quarter_Q2 home_price_aprx',\n",
       "       'time_quarter_Q3^2', 'time_quarter_Q3 time_quarter_Q4',\n",
       "       'time_quarter_Q3 bedrooms', 'time_quarter_Q3 beds',\n",
       "       'time_quarter_Q3 bath', 'time_quarter_Q3 has_pool',\n",
       "       'time_quarter_Q3 home_price_aprx', 'time_quarter_Q4^2',\n",
       "       'time_quarter_Q4 bedrooms', 'time_quarter_Q4 beds',\n",
       "       'time_quarter_Q4 bath', 'time_quarter_Q4 has_pool',\n",
       "       'time_quarter_Q4 home_price_aprx', 'bedrooms^2', 'bedrooms beds',\n",
       "       'bedrooms bath', 'bedrooms has_pool', 'bedrooms home_price_aprx',\n",
       "       'beds^2', 'beds bath', 'beds has_pool', 'beds home_price_aprx',\n",
       "       'bath^2', 'bath has_pool', 'bath home_price_aprx', 'has_pool^2',\n",
       "       'has_pool home_price_aprx', 'home_price_aprx^2'], dtype=object)"
      ]
     },
     "execution_count": 9,
     "metadata": {},
     "output_type": "execute_result"
    }
   ],
   "source": [
    "X = df[['bedrooms', 'beds', 'bath', 'has_pool', 'time_quarter', 'home_price_aprx']]\n",
    "y = df['price']\n",
    "# train_test split\n",
    "X_train, X_test, y_train, y_test = train_test_split(X, y,\n",
    "                                                    random_state=42,\n",
    "                                                    test_size=0.2)\n",
    "\n",
    "# column transformer to one hot encode categorical features\n",
    "ohe = OneHotEncoder(drop='first', handle_unknown='ignore', sparse_output=False)\n",
    "onehot_cat = ColumnTransformer(\n",
    "    transformers=[\n",
    "        ('ohe_time', ohe, ['time_quarter'])\n",
    "    ], remainder='passthrough')\n",
    "# create pipeline\n",
    "lr_simple_poly_pipeline = Pipeline([\n",
    "    ('ohe_cols', onehot_cat), # column transformer for cat features\n",
    "    ('ss', StandardScaler()), # standard scaler\n",
    "    ('poly', PolynomialFeatures(degree=2)), # polynomial feature, quadratic\n",
    "    ('lr', LinearRegression())]\n",
    ")\n",
    "\n",
    "# fit the model\n",
    "lr_simple_poly_pipeline.fit(X_train, y_train)\n",
    "\n",
    "# predict data\n",
    "preds_train = lr_simple_poly_pipeline.predict(X_train)\n",
    "preds_test = lr_simple_poly_pipeline.predict(X_test)\n",
    "\n",
    "# quadratic and first degree interaction terms created\n",
    "print('New features used in our model:')\n",
    "lr_simple_poly_pipeline.named_steps['poly'].get_feature_names_out([\n",
    "            'time_quarter_Q2', 'time_quarter_Q3',\n",
    "            'time_quarter_Q4', 'bedrooms',\n",
    "            'beds', 'bath', 'has_pool','home_price_aprx'])\n"
   ]
  },
  {
   "cell_type": "code",
   "execution_count": 10,
   "id": "95b378bb-29a3-4958-8605-96f732b07ca5",
   "metadata": {
    "colab": {
     "base_uri": "https://localhost:8080/"
    },
    "id": "95b378bb-29a3-4958-8605-96f732b07ca5",
    "outputId": "5d569c2f-9727-4333-8e84-48d8ed03bad2",
    "tags": []
   },
   "outputs": [
    {
     "name": "stdout",
     "output_type": "stream",
     "text": [
      "Train data R2 = 0.4984\n",
      "Train data MAE ($) = 99\n",
      "Test data R2 = 0.4763\n",
      "Test data MAE ($) = 101\n"
     ]
    }
   ],
   "source": [
    "print(f'Train data R2 = {round(r2_score(y_train, preds_train), 4)}')\n",
    "print(f'Train data MAE ($) = {int(mean_absolute_error(y_train, preds_train))}')\n",
    "print(f'Test data R2 = {round(r2_score(y_test, preds_test), 4)}')\n",
    "print(f'Test data MAE ($) = {int(mean_absolute_error(y_test, preds_test))}')"
   ]
  },
  {
   "cell_type": "markdown",
   "id": "8e74f6b9-559c-4a56-95c7-20e705edb2dd",
   "metadata": {
    "id": "8e74f6b9-559c-4a56-95c7-20e705edb2dd"
   },
   "source": [
    "We can see using polynomial features has slightly improved the performance of our linear regression."
   ]
  },
  {
   "cell_type": "markdown",
   "id": "da940883-5979-436b-8154-35c6a92b73c4",
   "metadata": {
    "id": "da940883-5979-436b-8154-35c6a92b73c4"
   },
   "source": [
    "__Highlights:__\n",
    "- By using some of the most important features and interaction terms in linear regression, we can achieve an R2 of 0.47."
   ]
  },
  {
   "cell_type": "markdown",
   "id": "939acb57",
   "metadata": {
    "id": "939acb57"
   },
   "source": [
    "## Linear regression (with all features)"
   ]
  },
  {
   "cell_type": "markdown",
   "id": "bf9709cb",
   "metadata": {
    "id": "bf9709cb"
   },
   "source": [
    "In  this case, we will use a simple linear regression model to predict the house price. Note that there are multiple categorical features (zipcode and time of the listing) that needs to be onehot encoded. We will use a pipeline to chain multiple operations."
   ]
  },
  {
   "cell_type": "code",
   "execution_count": 11,
   "id": "8a6b31e9",
   "metadata": {
    "id": "8a6b31e9"
   },
   "outputs": [],
   "source": [
    "X = df.drop(columns=['price'])\n",
    "y = df['price']\n",
    "# train_test split\n",
    "X_train, X_test, y_train, y_test = train_test_split(X, y,\n",
    "                                                    random_state=42,\n",
    "                                                    test_size=0.2)\n",
    "\n",
    "# column transformer to one hot encode categorical features\n",
    "ohe = OneHotEncoder(drop='first', handle_unknown='ignore', sparse_output=False)\n",
    "onehot_cat = ColumnTransformer(\n",
    "    transformers=[\n",
    "        ('ohe_zip', ohe, ['zipcode']),\n",
    "        ('ohe_time', ohe, ['time_quarter'])\n",
    "    ], remainder='passthrough')\n",
    "# create pipeline\n",
    "lr_pipeline = Pipeline([\n",
    "    ('ohe_cols', onehot_cat), # column transformer for cat features\n",
    "    ('ss', StandardScaler()), # standard scaler\n",
    "    ('lr', LinearRegression())]\n",
    ")\n",
    "\n",
    "# fit the model\n",
    "lr_pipeline.fit(X_train, y_train)\n",
    "\n",
    "# predict data\n",
    "preds_train = lr_pipeline.predict(X_train)\n",
    "preds_test = lr_pipeline.predict(X_test)\n",
    "\n"
   ]
  },
  {
   "cell_type": "code",
   "execution_count": 12,
   "id": "12925be6",
   "metadata": {
    "colab": {
     "base_uri": "https://localhost:8080/"
    },
    "id": "12925be6",
    "outputId": "11c7050b-0479-40a9-9c81-538e456a105b"
   },
   "outputs": [
    {
     "name": "stdout",
     "output_type": "stream",
     "text": [
      "Train data R2 = 0.4792\n",
      "Train data MAE ($) = 105\n",
      "Test data R2 = 0.4722\n",
      "Test data MAE ($) = 107\n"
     ]
    }
   ],
   "source": [
    "print(f'Train data R2 = {round(r2_score(y_train, preds_train), 4)}')\n",
    "print(f'Train data MAE ($) = {int(mean_absolute_error(y_train, preds_train))}')\n",
    "print(f'Test data R2 = {round(r2_score(y_test, preds_test), 4)}')\n",
    "print(f'Test data MAE ($) = {int(mean_absolute_error(y_test, preds_test))}')"
   ]
  },
  {
   "cell_type": "markdown",
   "id": "58e8ce7c",
   "metadata": {
    "id": "58e8ce7c"
   },
   "source": [
    "As we can see, the model is performing just ok. Let us take a look at the errors to see where we are standing."
   ]
  },
  {
   "cell_type": "code",
   "execution_count": 13,
   "id": "c8e907ea",
   "metadata": {
    "colab": {
     "base_uri": "https://localhost:8080/",
     "height": 564
    },
    "id": "c8e907ea",
    "outputId": "c5cb471b-a7c2-4a06-bace-1c4654036fe7",
    "tags": []
   },
   "outputs": [
    {
     "data": {
      "image/png": "[encoded data removed]",
      "text/plain": [
       "<Figure size 800x600 with 1 Axes>"
      ]
     },
     "metadata": {},
     "output_type": "display_data"
    }
   ],
   "source": [
    "error = y_test - preds_test\n",
    "plt.figure(figsize=(8, 6))\n",
    "sns.scatterplot(x=y_test, y=error)\n",
    "plt.xlabel('Price, $')\n",
    "plt.ylabel('error, $')\n",
    "plt.title('Linear regression error')\n",
    "plt.axhline(0, color='orange');"
   ]
  },
  {
   "cell_type": "markdown",
   "id": "381da355-d6f8-4480-a815-d63c9cbcb608",
   "metadata": {
    "id": "381da355-d6f8-4480-a815-d63c9cbcb608"
   },
   "source": [
    "We can see that for higher prices the error becomes larger. Let us take a look at the coefficients to see if there is anything unusual there."
   ]
  },
  {
   "cell_type": "code",
   "execution_count": 15,
   "id": "33bdf3fd-2e45-46e2-a658-acd73f320bf8",
   "metadata": {
    "colab": {
     "base_uri": "https://localhost:8080/",
     "height": 1000
    },
    "id": "33bdf3fd-2e45-46e2-a658-acd73f320bf8",
    "outputId": "980f4e14-d3b2-4885-c8b5-b5601deabd4c",
    "tags": []
   },
   "outputs": [
    {
     "data": {
      "text/html": [
       "<div>\n",
       "<style scoped>\n",
       "    .dataframe tbody tr th:only-of-type {\n",
       "        vertical-align: middle;\n",
       "    }\n",
       "\n",
       "    .dataframe tbody tr th {\n",
       "        vertical-align: top;\n",
       "    }\n",
       "\n",
       "    .dataframe thead th {\n",
       "        text-align: right;\n",
       "    }\n",
       "</style>\n",
       "<table border=\"1\" class=\"dataframe\">\n",
       "  <thead>\n",
       "    <tr style=\"text-align: right;\">\n",
       "      <th></th>\n",
       "      <th>feature</th>\n",
       "      <th>coef</th>\n",
       "    </tr>\n",
       "  </thead>\n",
       "  <tbody>\n",
       "    <tr>\n",
       "      <th>0</th>\n",
       "      <td>ohe_zip__zipcode_78702</td>\n",
       "      <td>5.653861</td>\n",
       "    </tr>\n",
       "    <tr>\n",
       "      <th>1</th>\n",
       "      <td>ohe_zip__zipcode_78703</td>\n",
       "      <td>4.274644</td>\n",
       "    </tr>\n",
       "    <tr>\n",
       "      <th>2</th>\n",
       "      <td>ohe_zip__zipcode_78704</td>\n",
       "      <td>4.051681</td>\n",
       "    </tr>\n",
       "    <tr>\n",
       "      <th>3</th>\n",
       "      <td>ohe_zip__zipcode_78705</td>\n",
       "      <td>-8.226427</td>\n",
       "    </tr>\n",
       "    <tr>\n",
       "      <th>4</th>\n",
       "      <td>ohe_zip__zipcode_78717</td>\n",
       "      <td>-5.017593</td>\n",
       "    </tr>\n",
       "    <tr>\n",
       "      <th>5</th>\n",
       "      <td>ohe_zip__zipcode_78719</td>\n",
       "      <td>-1.313842</td>\n",
       "    </tr>\n",
       "    <tr>\n",
       "      <th>6</th>\n",
       "      <td>ohe_zip__zipcode_78721</td>\n",
       "      <td>-8.822327</td>\n",
       "    </tr>\n",
       "    <tr>\n",
       "      <th>7</th>\n",
       "      <td>ohe_zip__zipcode_78722</td>\n",
       "      <td>-2.923545</td>\n",
       "    </tr>\n",
       "    <tr>\n",
       "      <th>8</th>\n",
       "      <td>ohe_zip__zipcode_78723</td>\n",
       "      <td>-10.766453</td>\n",
       "    </tr>\n",
       "    <tr>\n",
       "      <th>9</th>\n",
       "      <td>ohe_zip__zipcode_78724</td>\n",
       "      <td>-3.992264</td>\n",
       "    </tr>\n",
       "    <tr>\n",
       "      <th>10</th>\n",
       "      <td>ohe_zip__zipcode_78725</td>\n",
       "      <td>-5.357491</td>\n",
       "    </tr>\n",
       "    <tr>\n",
       "      <th>11</th>\n",
       "      <td>ohe_zip__zipcode_78726</td>\n",
       "      <td>-3.218221</td>\n",
       "    </tr>\n",
       "    <tr>\n",
       "      <th>12</th>\n",
       "      <td>ohe_zip__zipcode_78727</td>\n",
       "      <td>-8.319848</td>\n",
       "    </tr>\n",
       "    <tr>\n",
       "      <th>13</th>\n",
       "      <td>ohe_zip__zipcode_78728</td>\n",
       "      <td>-8.456979</td>\n",
       "    </tr>\n",
       "    <tr>\n",
       "      <th>14</th>\n",
       "      <td>ohe_zip__zipcode_78729</td>\n",
       "      <td>-12.120996</td>\n",
       "    </tr>\n",
       "    <tr>\n",
       "      <th>15</th>\n",
       "      <td>ohe_zip__zipcode_78730</td>\n",
       "      <td>5.441639</td>\n",
       "    </tr>\n",
       "    <tr>\n",
       "      <th>16</th>\n",
       "      <td>ohe_zip__zipcode_78731</td>\n",
       "      <td>6.024017</td>\n",
       "    </tr>\n",
       "    <tr>\n",
       "      <th>17</th>\n",
       "      <td>ohe_zip__zipcode_78732</td>\n",
       "      <td>5.310815</td>\n",
       "    </tr>\n",
       "    <tr>\n",
       "      <th>18</th>\n",
       "      <td>ohe_zip__zipcode_78733</td>\n",
       "      <td>2.934614</td>\n",
       "    </tr>\n",
       "    <tr>\n",
       "      <th>19</th>\n",
       "      <td>ohe_zip__zipcode_78734</td>\n",
       "      <td>4.039284</td>\n",
       "    </tr>\n",
       "    <tr>\n",
       "      <th>20</th>\n",
       "      <td>ohe_zip__zipcode_78735</td>\n",
       "      <td>-3.788022</td>\n",
       "    </tr>\n",
       "    <tr>\n",
       "      <th>21</th>\n",
       "      <td>ohe_zip__zipcode_78736</td>\n",
       "      <td>0.392910</td>\n",
       "    </tr>\n",
       "    <tr>\n",
       "      <th>22</th>\n",
       "      <td>ohe_zip__zipcode_78737</td>\n",
       "      <td>-0.883492</td>\n",
       "    </tr>\n",
       "    <tr>\n",
       "      <th>23</th>\n",
       "      <td>ohe_zip__zipcode_78738</td>\n",
       "      <td>-6.447759</td>\n",
       "    </tr>\n",
       "    <tr>\n",
       "      <th>24</th>\n",
       "      <td>ohe_zip__zipcode_78739</td>\n",
       "      <td>-1.094853</td>\n",
       "    </tr>\n",
       "    <tr>\n",
       "      <th>25</th>\n",
       "      <td>ohe_zip__zipcode_78741</td>\n",
       "      <td>-9.490289</td>\n",
       "    </tr>\n",
       "    <tr>\n",
       "      <th>26</th>\n",
       "      <td>ohe_zip__zipcode_78742</td>\n",
       "      <td>-1.166705</td>\n",
       "    </tr>\n",
       "    <tr>\n",
       "      <th>27</th>\n",
       "      <td>ohe_zip__zipcode_78744</td>\n",
       "      <td>-6.184294</td>\n",
       "    </tr>\n",
       "    <tr>\n",
       "      <th>28</th>\n",
       "      <td>ohe_zip__zipcode_78745</td>\n",
       "      <td>-7.750129</td>\n",
       "    </tr>\n",
       "    <tr>\n",
       "      <th>29</th>\n",
       "      <td>ohe_zip__zipcode_78746</td>\n",
       "      <td>6.758407</td>\n",
       "    </tr>\n",
       "    <tr>\n",
       "      <th>30</th>\n",
       "      <td>ohe_zip__zipcode_78747</td>\n",
       "      <td>-4.017986</td>\n",
       "    </tr>\n",
       "    <tr>\n",
       "      <th>31</th>\n",
       "      <td>ohe_zip__zipcode_78748</td>\n",
       "      <td>-7.172492</td>\n",
       "    </tr>\n",
       "    <tr>\n",
       "      <th>32</th>\n",
       "      <td>ohe_zip__zipcode_78749</td>\n",
       "      <td>0.090122</td>\n",
       "    </tr>\n",
       "    <tr>\n",
       "      <th>33</th>\n",
       "      <td>ohe_zip__zipcode_78750</td>\n",
       "      <td>-6.119775</td>\n",
       "    </tr>\n",
       "    <tr>\n",
       "      <th>34</th>\n",
       "      <td>ohe_zip__zipcode_78751</td>\n",
       "      <td>-6.548780</td>\n",
       "    </tr>\n",
       "    <tr>\n",
       "      <th>35</th>\n",
       "      <td>ohe_zip__zipcode_78752</td>\n",
       "      <td>-5.022567</td>\n",
       "    </tr>\n",
       "    <tr>\n",
       "      <th>36</th>\n",
       "      <td>ohe_zip__zipcode_78753</td>\n",
       "      <td>-3.532371</td>\n",
       "    </tr>\n",
       "    <tr>\n",
       "      <th>37</th>\n",
       "      <td>ohe_zip__zipcode_78754</td>\n",
       "      <td>-8.085079</td>\n",
       "    </tr>\n",
       "    <tr>\n",
       "      <th>38</th>\n",
       "      <td>ohe_zip__zipcode_78756</td>\n",
       "      <td>-4.137104</td>\n",
       "    </tr>\n",
       "    <tr>\n",
       "      <th>39</th>\n",
       "      <td>ohe_zip__zipcode_78757</td>\n",
       "      <td>-5.206619</td>\n",
       "    </tr>\n",
       "    <tr>\n",
       "      <th>40</th>\n",
       "      <td>ohe_zip__zipcode_78758</td>\n",
       "      <td>-7.989425</td>\n",
       "    </tr>\n",
       "    <tr>\n",
       "      <th>41</th>\n",
       "      <td>ohe_zip__zipcode_78759</td>\n",
       "      <td>-6.207689</td>\n",
       "    </tr>\n",
       "    <tr>\n",
       "      <th>42</th>\n",
       "      <td>ohe_time__time_quarter_Q2</td>\n",
       "      <td>-20.685550</td>\n",
       "    </tr>\n",
       "    <tr>\n",
       "      <th>43</th>\n",
       "      <td>ohe_time__time_quarter_Q3</td>\n",
       "      <td>-19.991413</td>\n",
       "    </tr>\n",
       "    <tr>\n",
       "      <th>44</th>\n",
       "      <td>ohe_time__time_quarter_Q4</td>\n",
       "      <td>-26.375562</td>\n",
       "    </tr>\n",
       "    <tr>\n",
       "      <th>45</th>\n",
       "      <td>remainder__bedrooms</td>\n",
       "      <td>24.216238</td>\n",
       "    </tr>\n",
       "    <tr>\n",
       "      <th>46</th>\n",
       "      <td>remainder__beds</td>\n",
       "      <td>25.824908</td>\n",
       "    </tr>\n",
       "    <tr>\n",
       "      <th>47</th>\n",
       "      <td>remainder__bath</td>\n",
       "      <td>81.616054</td>\n",
       "    </tr>\n",
       "    <tr>\n",
       "      <th>48</th>\n",
       "      <td>remainder__host_is_superhost</td>\n",
       "      <td>-11.176325</td>\n",
       "    </tr>\n",
       "    <tr>\n",
       "      <th>49</th>\n",
       "      <td>remainder__review_scores_rating</td>\n",
       "      <td>7.824838</td>\n",
       "    </tr>\n",
       "    <tr>\n",
       "      <th>50</th>\n",
       "      <td>remainder__has_pool</td>\n",
       "      <td>23.142242</td>\n",
       "    </tr>\n",
       "    <tr>\n",
       "      <th>51</th>\n",
       "      <td>remainder__is_petfriendly</td>\n",
       "      <td>-11.735833</td>\n",
       "    </tr>\n",
       "    <tr>\n",
       "      <th>52</th>\n",
       "      <td>remainder__has_workspace</td>\n",
       "      <td>-4.680902</td>\n",
       "    </tr>\n",
       "    <tr>\n",
       "      <th>53</th>\n",
       "      <td>remainder__has_freeparking</td>\n",
       "      <td>-0.867209</td>\n",
       "    </tr>\n",
       "    <tr>\n",
       "      <th>54</th>\n",
       "      <td>remainder__has_gym</td>\n",
       "      <td>-0.787655</td>\n",
       "    </tr>\n",
       "    <tr>\n",
       "      <th>55</th>\n",
       "      <td>remainder__home_price_aprx</td>\n",
       "      <td>41.944157</td>\n",
       "    </tr>\n",
       "  </tbody>\n",
       "</table>\n",
       "</div>"
      ],
      "text/plain": [
       "                            feature       coef\n",
       "0            ohe_zip__zipcode_78702   5.653861\n",
       "1            ohe_zip__zipcode_78703   4.274644\n",
       "2            ohe_zip__zipcode_78704   4.051681\n",
       "3            ohe_zip__zipcode_78705  -8.226427\n",
       "4            ohe_zip__zipcode_78717  -5.017593\n",
       "5            ohe_zip__zipcode_78719  -1.313842\n",
       "6            ohe_zip__zipcode_78721  -8.822327\n",
       "7            ohe_zip__zipcode_78722  -2.923545\n",
       "8            ohe_zip__zipcode_78723 -10.766453\n",
       "9            ohe_zip__zipcode_78724  -3.992264\n",
       "10           ohe_zip__zipcode_78725  -5.357491\n",
       "11           ohe_zip__zipcode_78726  -3.218221\n",
       "12           ohe_zip__zipcode_78727  -8.319848\n",
       "13           ohe_zip__zipcode_78728  -8.456979\n",
       "14           ohe_zip__zipcode_78729 -12.120996\n",
       "15           ohe_zip__zipcode_78730   5.441639\n",
       "16           ohe_zip__zipcode_78731   6.024017\n",
       "17           ohe_zip__zipcode_78732   5.310815\n",
       "18           ohe_zip__zipcode_78733   2.934614\n",
       "19           ohe_zip__zipcode_78734   4.039284\n",
       "20           ohe_zip__zipcode_78735  -3.788022\n",
       "21           ohe_zip__zipcode_78736   0.392910\n",
       "22           ohe_zip__zipcode_78737  -0.883492\n",
       "23           ohe_zip__zipcode_78738  -6.447759\n",
       "24           ohe_zip__zipcode_78739  -1.094853\n",
       "25           ohe_zip__zipcode_78741  -9.490289\n",
       "26           ohe_zip__zipcode_78742  -1.166705\n",
       "27           ohe_zip__zipcode_78744  -6.184294\n",
       "28           ohe_zip__zipcode_78745  -7.750129\n",
       "29           ohe_zip__zipcode_78746   6.758407\n",
       "30           ohe_zip__zipcode_78747  -4.017986\n",
       "31           ohe_zip__zipcode_78748  -7.172492\n",
       "32           ohe_zip__zipcode_78749   0.090122\n",
       "33           ohe_zip__zipcode_78750  -6.119775\n",
       "34           ohe_zip__zipcode_78751  -6.548780\n",
       "35           ohe_zip__zipcode_78752  -5.022567\n",
       "36           ohe_zip__zipcode_78753  -3.532371\n",
       "37           ohe_zip__zipcode_78754  -8.085079\n",
       "38           ohe_zip__zipcode_78756  -4.137104\n",
       "39           ohe_zip__zipcode_78757  -5.206619\n",
       "40           ohe_zip__zipcode_78758  -7.989425\n",
       "41           ohe_zip__zipcode_78759  -6.207689\n",
       "42        ohe_time__time_quarter_Q2 -20.685550\n",
       "43        ohe_time__time_quarter_Q3 -19.991413\n",
       "44        ohe_time__time_quarter_Q4 -26.375562\n",
       "45              remainder__bedrooms  24.216238\n",
       "46                  remainder__beds  25.824908\n",
       "47                  remainder__bath  81.616054\n",
       "48     remainder__host_is_superhost -11.176325\n",
       "49  remainder__review_scores_rating   7.824838\n",
       "50              remainder__has_pool  23.142242\n",
       "51        remainder__is_petfriendly -11.735833\n",
       "52         remainder__has_workspace  -4.680902\n",
       "53       remainder__has_freeparking  -0.867209\n",
       "54               remainder__has_gym  -0.787655\n",
       "55       remainder__home_price_aprx  41.944157"
      ]
     },
     "execution_count": 15,
     "metadata": {},
     "output_type": "execute_result"
    }
   ],
   "source": [
    "pd.DataFrame(zip(lr_pipeline.named_steps['ohe_cols'].get_feature_names_out(),lr_pipeline.named_steps['lr'].coef_ ), columns=['feature', 'coef'])"
   ]
  },
  {
   "cell_type": "markdown",
   "id": "bf5ad6e9-5316-4c22-ae94-b4c77b3433d3",
   "metadata": {
    "id": "bf5ad6e9-5316-4c22-ae94-b4c77b3433d3"
   },
   "source": [
    "As we can see, the coeficients for the one hot encoded features do not show any special trend or so. Let build another linear regression model without any zipcode data since zipcode data are creating a lot of extra features."
   ]
  },
  {
   "cell_type": "code",
   "execution_count": 16,
   "id": "23f76e0d-d104-42f5-907f-ce423f824308",
   "metadata": {
    "id": "23f76e0d-d104-42f5-907f-ce423f824308",
    "tags": []
   },
   "outputs": [],
   "source": [
    "X = df.drop(columns=['price', 'zipcode'])\n",
    "y = df['price']\n",
    "# train_test split\n",
    "X_train, X_test, y_train, y_test = train_test_split(X, y,\n",
    "                                                    random_state=42,\n",
    "                                                    test_size=0.2)\n",
    "\n",
    "# column transformer to one hot encode categorical features\n",
    "ohe = OneHotEncoder(drop='first', handle_unknown='ignore', sparse_output=False)\n",
    "onehot_cat = ColumnTransformer(\n",
    "    transformers=[\n",
    "#        ('ohe_zip', ohe, ['zipcode']),\n",
    "        ('ohe_time', ohe, ['time_quarter'])\n",
    "    ], remainder='passthrough')\n",
    "# create pipeline\n",
    "lr_pipeline = Pipeline([\n",
    "    ('ohe_cols', onehot_cat), # column transformer for cat features\n",
    "    ('ss', StandardScaler()), # standard scaler\n",
    "    ('lr', LinearRegression())]\n",
    ")\n",
    "\n",
    "# fit the model\n",
    "lr_pipeline.fit(X_train, y_train)\n",
    "\n",
    "# predict data\n",
    "preds_train = lr_pipeline.predict(X_train)\n",
    "preds_test = lr_pipeline.predict(X_test)"
   ]
  },
  {
   "cell_type": "code",
   "execution_count": 17,
   "id": "f7c87a2d-1cb5-4c82-a75a-32ad51951b5e",
   "metadata": {
    "colab": {
     "base_uri": "https://localhost:8080/"
    },
    "id": "f7c87a2d-1cb5-4c82-a75a-32ad51951b5e",
    "outputId": "f617003e-4522-4c28-a10a-4a4d9856a1c9",
    "tags": []
   },
   "outputs": [
    {
     "name": "stdout",
     "output_type": "stream",
     "text": [
      "Train data R2 = 0.4628\n",
      "Train data MAE ($) = 105\n",
      "Test data R2 = 0.4595\n",
      "Test data MAE ($) = 107\n"
     ]
    }
   ],
   "source": [
    "print(f'Train data R2 = {round(r2_score(y_train, preds_train), 4)}')\n",
    "print(f'Train data MAE ($) = {int(mean_absolute_error(y_train, preds_train))}')\n",
    "print(f'Test data R2 = {round(r2_score(y_test, preds_test), 4)}')\n",
    "print(f'Test data MAE ($) = {int(mean_absolute_error(y_test, preds_test))}')"
   ]
  },
  {
   "cell_type": "markdown",
   "id": "a6d75308-70ca-480c-b897-75b60ef91cf5",
   "metadata": {
    "id": "a6d75308-70ca-480c-b897-75b60ef91cf5"
   },
   "source": [
    "We can see that excluding zipcode data slightly decreases our R2 score but the effect is not that much."
   ]
  },
  {
   "cell_type": "markdown",
   "id": "915a0d47-c262-4536-986c-232c4d69ea7b",
   "metadata": {
    "id": "915a0d47-c262-4536-986c-232c4d69ea7b"
   },
   "source": [
    "__Highlights:__\n",
    "- Linear regression with all features included shows an average performance (R2 = 0.47)\n",
    "- Removing zipcode from our linear model does not impact R2 noticably (R2 = 0.46)."
   ]
  },
  {
   "cell_type": "markdown",
   "id": "bc80d41e-070e-42cc-b45e-2d405e64f7df",
   "metadata": {
    "id": "bc80d41e-070e-42cc-b45e-2d405e64f7df"
   },
   "source": [
    "## Linear regression with polynomial features (Ridge/LASSO)"
   ]
  },
  {
   "cell_type": "markdown",
   "id": "57460673-82e2-488c-807a-675e604bf0d6",
   "metadata": {
    "id": "57460673-82e2-488c-807a-675e604bf0d6"
   },
   "source": [
    "We will now build a linear regression model that uses most of the original features and polynomial features as well."
   ]
  },
  {
   "cell_type": "code",
   "execution_count": 18,
   "id": "89ec1487-350f-4a8f-aa1e-97668efc75eb",
   "metadata": {
    "id": "89ec1487-350f-4a8f-aa1e-97668efc75eb",
    "tags": []
   },
   "outputs": [],
   "source": [
    "X = df.drop(columns=['price'])\n",
    "y = df['price']\n",
    "# train_test split\n",
    "X_train, X_test, y_train, y_test = train_test_split(X, y,\n",
    "                                                    random_state=42,\n",
    "                                                    test_size=0.2)\n",
    "\n",
    "# column transformer to one hot encode categorical features\n",
    "ohe = OneHotEncoder(drop='first', handle_unknown='ignore', sparse_output=False)\n",
    "onehot_cat = ColumnTransformer(\n",
    "    transformers=[\n",
    "        ('ohe_zip', ohe, ['zipcode']),\n",
    "        ('ohe_time', ohe, ['time_quarter'])\n",
    "    ], remainder='passthrough')\n",
    "# create pipeline\n",
    "lr_poly_pipeline = Pipeline([\n",
    "    ('ohe_cols', onehot_cat), # column transformer for cat features\n",
    "    ('ss', StandardScaler()), # standard scaler\n",
    "    ('poly', PolynomialFeatures(degree=2, interaction_only=False)),\n",
    "    ('lr', LinearRegression())]\n",
    ")\n",
    "\n",
    "# fit the model\n",
    "lr_poly_pipeline.fit(X_train, y_train)\n",
    "\n",
    "# predict data\n",
    "preds_train = lr_poly_pipeline.predict(X_train)\n",
    "preds_test = lr_poly_pipeline.predict(X_test)\n",
    "\n"
   ]
  },
  {
   "cell_type": "code",
   "execution_count": 19,
   "id": "673e0d15-2be4-446b-bbcf-c7b34db8ebb8",
   "metadata": {
    "colab": {
     "base_uri": "https://localhost:8080/"
    },
    "id": "673e0d15-2be4-446b-bbcf-c7b34db8ebb8",
    "outputId": "053f22c7-27e7-4cd8-c6c0-92f5b34d9eb6",
    "tags": []
   },
   "outputs": [
    {
     "name": "stdout",
     "output_type": "stream",
     "text": [
      "Train data R2 = 0.5674\n",
      "Train data MAE ($) = 93\n",
      "Test data R2 = -19419510684228.48\n",
      "Test data MAE ($) = 15207272\n"
     ]
    }
   ],
   "source": [
    "print(f'Train data R2 = {round(r2_score(y_train, preds_train), 4)}')\n",
    "print(f'Train data MAE ($) = {int(mean_absolute_error(y_train, preds_train))}')\n",
    "print(f'Test data R2 = {round(r2_score(y_test, preds_test), 4)}')\n",
    "print(f'Test data MAE ($) = {int(mean_absolute_error(y_test, preds_test))}')"
   ]
  },
  {
   "cell_type": "markdown",
   "id": "5df52c2b-a39c-451a-94c0-586fa1717888",
   "metadata": {
    "id": "5df52c2b-a39c-451a-94c0-586fa1717888"
   },
   "source": [
    "As expected, this model shows tremendous amount of overfitting. Let us see if we can get better results buy regularizing the model. We will start with gridsearching over different ridge regularization alphas."
   ]
  },
  {
   "cell_type": "code",
   "execution_count": 22,
   "id": "4a715659-273e-409d-a29b-4ccf65bcfdec",
   "metadata": {
    "colab": {
     "base_uri": "https://localhost:8080/"
    },
    "id": "4a715659-273e-409d-a29b-4ccf65bcfdec",
    "outputId": "12c60b9c-69f9-4afe-b47a-89ebb981f030",
    "tags": []
   },
   "outputs": [
    {
     "name": "stdout",
     "output_type": "stream",
     "text": [
      "Fitting 5 folds for each of 25 candidates, totalling 125 fits\n",
      "{'ridge__alpha': 1211.5276586285877}\n"
     ]
    }
   ],
   "source": [
    "X = df.drop(columns=['price'])\n",
    "y = df['price']\n",
    "# train_test split\n",
    "X_train, X_test, y_train, y_test = train_test_split(X, y,\n",
    "                                                    random_state=42,\n",
    "                                                    test_size=0.2)\n",
    "\n",
    "# column transformer to one hot encode categorical features\n",
    "ohe = OneHotEncoder(drop='first', handle_unknown='ignore', sparse_output=False)\n",
    "onehot_cat = ColumnTransformer(\n",
    "    transformers=[\n",
    "        ('ohe_zip', ohe, ['zipcode']),\n",
    "        ('ohe_time', ohe, ['time_quarter'])\n",
    "    ], remainder='passthrough')\n",
    "# create pipeline\n",
    "ridge_poly_pipeline = Pipeline([\n",
    "    ('ohe_cols', onehot_cat), # column transformer for cat features\n",
    "    ('ss', StandardScaler()), # standard scaler\n",
    "    ('poly', PolynomialFeatures(degree=2, interaction_only=False)),\n",
    "    ('ridge', Ridge())]\n",
    ")\n",
    "\n",
    "# gridsearch object\n",
    "gs_ridge_poly_pipeline = GridSearchCV(ridge_poly_pipeline,\n",
    "                                     param_grid={'ridge__alpha': np.logspace(2, 4, 25)},\n",
    "                                      verbose = 2,\n",
    "                                      cv =5,\n",
    "                                      n_jobs=-1\n",
    "                                     )\n",
    "\n",
    "# fit the model\n",
    "gs_ridge_poly_pipeline.fit(X_train, y_train)\n",
    "\n",
    "# predict data\n",
    "preds_train = gs_ridge_poly_pipeline.predict(X_train)\n",
    "preds_test = gs_ridge_poly_pipeline.predict(X_test)\n",
    "\n",
    "# best alpha\n",
    "print(gs_ridge_poly_pipeline.best_params_)"
   ]
  },
  {
   "cell_type": "code",
   "execution_count": 43,
   "id": "21a63a32-c2ba-4487-bc65-2b819e207526",
   "metadata": {
    "colab": {
     "base_uri": "https://localhost:8080/"
    },
    "id": "21a63a32-c2ba-4487-bc65-2b819e207526",
    "outputId": "d6324d7a-8457-4cd1-8d1d-ebf33640b5d5",
    "tags": []
   },
   "outputs": [
    {
     "name": "stdout",
     "output_type": "stream",
     "text": [
      "Train data R2 = 0.5598\n",
      "Train data MAE ($) = 93\n",
      "Test data R2 = 0.5215\n",
      "Test data MAE ($) = 97\n"
     ]
    }
   ],
   "source": [
    "print(f'Train data R2 = {round(r2_score(y_train, preds_train), 4)}')\n",
    "print(f'Train data MAE ($) = {int(mean_absolute_error(y_train, preds_train))}')\n",
    "print(f'Test data R2 = {round(r2_score(y_test, preds_test), 4)}')\n",
    "print(f'Test data MAE ($) = {int(mean_absolute_error(y_test, preds_test))}')"
   ]
  },
  {
   "cell_type": "markdown",
   "id": "28a3a058-e561-4285-94f6-815869b25b0f",
   "metadata": {
    "id": "28a3a058-e561-4285-94f6-815869b25b0f"
   },
   "source": [
    "We see using ridge helps with the high variance considerably. We will also see if LASSO provides any better results."
   ]
  },
  {
   "cell_type": "code",
   "execution_count": 42,
   "id": "9559d1fb-2079-46e7-811a-69ef22e1173f",
   "metadata": {
    "colab": {
     "base_uri": "https://localhost:8080/"
    },
    "id": "9559d1fb-2079-46e7-811a-69ef22e1173f",
    "outputId": "754a3ab1-fee4-495b-8746-bf69c224ebfe",
    "tags": []
   },
   "outputs": [
    {
     "name": "stdout",
     "output_type": "stream",
     "text": [
      "Fitting 3 folds for each of 25 candidates, totalling 75 fits\n",
      "{'lasso__alpha': 0.5623413251903491}\n"
     ]
    }
   ],
   "source": [
    "X = df.drop(columns=['price'])\n",
    "y = df['price']\n",
    "# train_test split\n",
    "X_train, X_test, y_train, y_test = train_test_split(X, y,\n",
    "                                                    random_state=42,\n",
    "                                                    test_size=0.2)\n",
    "\n",
    "# column transformer to one hot encode categorical features\n",
    "ohe = OneHotEncoder(drop='first', handle_unknown='ignore', sparse_output=False)\n",
    "onehot_cat = ColumnTransformer(\n",
    "    transformers=[\n",
    "        ('ohe_zip', ohe, ['zipcode']),\n",
    "        ('ohe_time', ohe, ['time_quarter'])\n",
    "    ], remainder='passthrough')\n",
    "# create pipeline\n",
    "lasso_poly_pipeline = Pipeline([\n",
    "    ('ohe_cols', onehot_cat), # column transformer for cat features\n",
    "    ('ss', StandardScaler()), # standard scaler\n",
    "    ('poly', PolynomialFeatures(degree=2, interaction_only=False)),\n",
    "    ('lasso', Lasso())]\n",
    ")\n",
    "\n",
    "# gridsearch object\n",
    "gs_lasso_poly_pipeline = GridSearchCV(lasso_poly_pipeline,\n",
    "                                     param_grid={'lasso__alpha': np.logspace(-1, 1, 25)},\n",
    "                                      verbose = 5,\n",
    "                                      cv =3,\n",
    "                                      n_jobs=-1\n",
    "                                     )\n",
    "\n",
    "# fit the model\n",
    "gs_lasso_poly_pipeline.fit(X_train, y_train)\n",
    "\n",
    "# predict data\n",
    "preds_train = gs_lasso_poly_pipeline.predict(X_train)\n",
    "preds_test = gs_lasso_poly_pipeline.predict(X_test)\n",
    "\n",
    "# best alpha\n",
    "print(gs_lasso_poly_pipeline.best_params_)"
   ]
  },
  {
   "cell_type": "code",
   "execution_count": 44,
   "id": "f72572a2-9fc5-4e3a-82de-309b6fd47ac6",
   "metadata": {
    "colab": {
     "base_uri": "https://localhost:8080/"
    },
    "id": "f72572a2-9fc5-4e3a-82de-309b6fd47ac6",
    "outputId": "5ede128f-f5f4-43c0-ad5e-05872aff55fc",
    "tags": []
   },
   "outputs": [
    {
     "name": "stdout",
     "output_type": "stream",
     "text": [
      "Train data R2 = 0.5598\n",
      "Train data MAE ($) = 93\n",
      "Test data R2 = 0.5215\n",
      "Test data MAE ($) = 97\n"
     ]
    }
   ],
   "source": [
    "print(f'Train data R2 = {round(r2_score(y_train, preds_train), 4)}')\n",
    "print(f'Train data MAE ($) = {int(mean_absolute_error(y_train, preds_train))}')\n",
    "print(f'Test data R2 = {round(r2_score(y_test, preds_test), 4)}')\n",
    "print(f'Test data MAE ($) = {int(mean_absolute_error(y_test, preds_test))}')"
   ]
  },
  {
   "cell_type": "markdown",
   "id": "d12d6357-cad2-463e-a6af-c291efaa814f",
   "metadata": {
    "id": "d12d6357-cad2-463e-a6af-c291efaa814f"
   },
   "source": [
    "LASSO shows a performance similar to that of ridge but takes longer to run."
   ]
  },
  {
   "cell_type": "markdown",
   "id": "489792d4-2168-4c5c-9fd0-5cdb52a7d0c4",
   "metadata": {
    "id": "489792d4-2168-4c5c-9fd0-5cdb52a7d0c4"
   },
   "source": [
    "Before wrapping up this section, we will dig a little more into the error terms to see if we can get some information about how error is distributed and what contributes more to our error."
   ]
  },
  {
   "cell_type": "code",
   "execution_count": 26,
   "id": "ba5837f3-200a-4fc1-b333-22fe717f7d95",
   "metadata": {
    "id": "ba5837f3-200a-4fc1-b333-22fe717f7d95",
    "tags": []
   },
   "outputs": [],
   "source": [
    "# create a new dataframe for error analysis\n",
    "df_error = df.copy()\n",
    "# assign predictions to train and test data\n",
    "df_error['is_train'] = 1\n",
    "df_error.loc[X_test.index, 'is_train'] = 0\n",
    "df_error['price_pred'] = 0\n",
    "df_error.loc[X_test.index, 'price_pred'] = preds_test\n",
    "df_error.loc[X_train.index, 'price_pred'] = preds_train\n",
    "# calcuate error terms\n",
    "df_error['error_abs'] = (df_error['price'] - df_error['price_pred']).abs()\n",
    "df_error['error_perc'] = df_error['error_abs'] / df_error['price'] * 100"
   ]
  },
  {
   "cell_type": "markdown",
   "id": "df627b0a-21a0-4ae9-8504-dd525416c3ee",
   "metadata": {
    "id": "df627b0a-21a0-4ae9-8504-dd525416c3ee"
   },
   "source": [
    "We will first print the average of the modeling error for each of the features."
   ]
  },
  {
   "cell_type": "code",
   "execution_count": 27,
   "id": "3a9e12b3-f746-4065-8c27-e3632ac2a8c5",
   "metadata": {
    "colab": {
     "base_uri": "https://localhost:8080/"
    },
    "id": "3a9e12b3-f746-4065-8c27-e3632ac2a8c5",
    "outputId": "d724947c-aff1-465d-c4de-9c9a2ec90ec7",
    "tags": []
   },
   "outputs": [
    {
     "name": "stdout",
     "output_type": "stream",
     "text": [
      "\n",
      "==> Analyzing modeling errors with bedrooms\n",
      "           error_abs  error_perc\n",
      "bedrooms                        \n",
      "0          44.634460   41.330766\n",
      "1          52.621848   39.106106\n",
      "2          80.663770   49.354582\n",
      "3         118.376388   45.946123\n",
      "4         174.554728   44.070683\n",
      "5         249.035809   63.702498\n",
      "6         278.921778   57.107178\n",
      "7         265.443457   65.352671\n",
      "\n",
      "==> Analyzing modeling errors with beds\n",
      "       error_abs  error_perc\n",
      "beds                        \n",
      "1      52.539816   41.618489\n",
      "2      68.541429   43.462041\n",
      "3     100.463843   46.250394\n",
      "4     129.345947   47.082425\n",
      "5     146.405267   49.513002\n",
      "6     176.436780   47.344567\n",
      "7     183.196436   43.690591\n",
      "8     222.489400   72.396878\n",
      "9     198.891368   46.239882\n",
      "10    212.112338   56.530796\n",
      "11    259.711400   35.621839\n",
      "12    244.217387   71.633381\n",
      "13    233.615228   47.953405\n",
      "14    232.960975   39.246918\n",
      "15    278.911373   49.738599\n",
      "\n",
      "==> Analyzing modeling errors with bath\n",
      "       error_abs  error_perc\n",
      "bath                        \n",
      "0.0   105.145045   35.932541\n",
      "0.5    49.658586   41.651291\n",
      "1.0    54.217366   40.202647\n",
      "1.5    77.794440   47.674714\n",
      "2.0   101.876839   50.314992\n",
      "2.5   128.866167   45.389602\n",
      "3.0   197.741825   57.415259\n",
      "3.5   231.948054   44.540776\n",
      "4.0   254.316717   51.133887\n",
      "4.5   295.684676   45.084757\n",
      "5.0   325.925157   47.946718\n",
      "5.5   380.138344   48.542875\n",
      "6.0   277.042084   38.985838\n",
      "6.5   575.888934   91.287109\n",
      "7.0   311.916954   51.986845\n",
      "7.5   152.951071   11.554519\n",
      "8.0   370.763358   19.220495\n",
      "\n",
      "==> Analyzing modeling errors with host_is_superhost\n",
      "                    error_abs  error_perc\n",
      "host_is_superhost                        \n",
      "0                  103.722464   49.439256\n",
      "1                   83.503629   39.839332\n",
      "\n",
      "==> Analyzing modeling errors with time_quarter\n",
      "               error_abs  error_perc\n",
      "time_quarter                        \n",
      "Q1            104.960731   45.089563\n",
      "Q2             89.810485   43.540676\n",
      "Q3             92.271976   44.630545\n",
      "Q4             91.134926   47.037531\n",
      "\n",
      "==> Analyzing modeling errors with has_pool\n",
      "           error_abs  error_perc\n",
      "has_pool                        \n",
      "0          86.887014   42.399756\n",
      "1         111.755489   51.067921\n",
      "\n",
      "==> Analyzing modeling errors with is_petfriendly\n",
      "                error_abs  error_perc\n",
      "is_petfriendly                       \n",
      "0               98.441778   46.322208\n",
      "1               87.448858   42.779452\n",
      "\n",
      "==> Analyzing modeling errors with has_workspace\n",
      "               error_abs  error_perc\n",
      "has_workspace                       \n",
      "0              98.489264   48.745466\n",
      "1              92.117432   42.899197\n",
      "\n",
      "==> Analyzing modeling errors with has_freeparking\n",
      "                 error_abs  error_perc\n",
      "has_freeparking                       \n",
      "0                84.029140   43.585584\n",
      "1                97.037518   45.394443\n",
      "\n",
      "==> Analyzing modeling errors with has_gym\n",
      "         error_abs  error_perc\n",
      "has_gym                       \n",
      "0        95.084526   44.425058\n",
      "1        90.662955   48.626699\n"
     ]
    }
   ],
   "source": [
    "for i in ['bedrooms', 'beds', 'bath', 'host_is_superhost',\n",
    "       'time_quarter', 'has_pool', 'is_petfriendly',\n",
    "       'has_workspace', 'has_freeparking', 'has_gym']:\n",
    "    print(f'\\n==> Analyzing modeling errors with {i}')\n",
    "    print(df_error.groupby(i).mean(numeric_only=True)[['error_abs', 'error_perc']])"
   ]
  },
  {
   "cell_type": "markdown",
   "id": "61b95aa5-a03f-4bcb-8b8a-0c0fa0649d1e",
   "metadata": {
    "id": "61b95aa5-a03f-4bcb-8b8a-0c0fa0649d1e",
    "tags": []
   },
   "source": [
    "Interesting trends we see here is that how error is affected by the number of bedrooms and beds. Also, when a house has pool, the prediction error increases 10%. Also, prediction errors are 10% smaller in cases where the host is a superhost.\n",
    "Let us dive deeper into some of these features and error distribution in them."
   ]
  },
  {
   "cell_type": "code",
   "execution_count": 28,
   "id": "5c0c6f39-eb20-4c4a-9f10-313c9aa067ff",
   "metadata": {
    "colab": {
     "base_uri": "https://localhost:8080/",
     "height": 366
    },
    "id": "5c0c6f39-eb20-4c4a-9f10-313c9aa067ff",
    "outputId": "fb0b291e-f54c-4661-931e-5314e1a9d11c",
    "tags": []
   },
   "outputs": [
    {
     "name": "stderr",
     "output_type": "stream",
     "text": [
      "C:\\Users\\masou\\AppData\\Local\\Temp\\ipykernel_8300\\767266100.py:1: FutureWarning: Indexing with multiple keys (implicitly converted to a tuple of keys) will be deprecated, use a list instead.\n",
      "  df_error.groupby('bedrooms')['error_abs', 'error_perc'].mean()\n"
     ]
    },
    {
     "data": {
      "text/html": [
       "<div>\n",
       "<style scoped>\n",
       "    .dataframe tbody tr th:only-of-type {\n",
       "        vertical-align: middle;\n",
       "    }\n",
       "\n",
       "    .dataframe tbody tr th {\n",
       "        vertical-align: top;\n",
       "    }\n",
       "\n",
       "    .dataframe thead th {\n",
       "        text-align: right;\n",
       "    }\n",
       "</style>\n",
       "<table border=\"1\" class=\"dataframe\">\n",
       "  <thead>\n",
       "    <tr style=\"text-align: right;\">\n",
       "      <th></th>\n",
       "      <th>error_abs</th>\n",
       "      <th>error_perc</th>\n",
       "    </tr>\n",
       "    <tr>\n",
       "      <th>bedrooms</th>\n",
       "      <th></th>\n",
       "      <th></th>\n",
       "    </tr>\n",
       "  </thead>\n",
       "  <tbody>\n",
       "    <tr>\n",
       "      <th>0</th>\n",
       "      <td>44.634460</td>\n",
       "      <td>41.330766</td>\n",
       "    </tr>\n",
       "    <tr>\n",
       "      <th>1</th>\n",
       "      <td>52.621848</td>\n",
       "      <td>39.106106</td>\n",
       "    </tr>\n",
       "    <tr>\n",
       "      <th>2</th>\n",
       "      <td>80.663770</td>\n",
       "      <td>49.354582</td>\n",
       "    </tr>\n",
       "    <tr>\n",
       "      <th>3</th>\n",
       "      <td>118.376388</td>\n",
       "      <td>45.946123</td>\n",
       "    </tr>\n",
       "    <tr>\n",
       "      <th>4</th>\n",
       "      <td>174.554728</td>\n",
       "      <td>44.070683</td>\n",
       "    </tr>\n",
       "    <tr>\n",
       "      <th>5</th>\n",
       "      <td>249.035809</td>\n",
       "      <td>63.702498</td>\n",
       "    </tr>\n",
       "    <tr>\n",
       "      <th>6</th>\n",
       "      <td>278.921778</td>\n",
       "      <td>57.107178</td>\n",
       "    </tr>\n",
       "    <tr>\n",
       "      <th>7</th>\n",
       "      <td>265.443457</td>\n",
       "      <td>65.352671</td>\n",
       "    </tr>\n",
       "  </tbody>\n",
       "</table>\n",
       "</div>"
      ],
      "text/plain": [
       "           error_abs  error_perc\n",
       "bedrooms                        \n",
       "0          44.634460   41.330766\n",
       "1          52.621848   39.106106\n",
       "2          80.663770   49.354582\n",
       "3         118.376388   45.946123\n",
       "4         174.554728   44.070683\n",
       "5         249.035809   63.702498\n",
       "6         278.921778   57.107178\n",
       "7         265.443457   65.352671"
      ]
     },
     "execution_count": 28,
     "metadata": {},
     "output_type": "execute_result"
    }
   ],
   "source": [
    "df_error.groupby('bedrooms')['error_abs', 'error_perc'].mean()"
   ]
  },
  {
   "cell_type": "code",
   "execution_count": 29,
   "id": "5a9823d7-667c-491b-a478-ae3250c9f1d4",
   "metadata": {
    "colab": {
     "base_uri": "https://localhost:8080/",
     "height": 564
    },
    "id": "5a9823d7-667c-491b-a478-ae3250c9f1d4",
    "outputId": "be84f652-3cd2-42c2-db50-69b807ba3820",
    "tags": []
   },
   "outputs": [
    {
     "data": {
      "image/png": "[encoded data removed]",
      "text/plain": [
       "<Figure size 800x600 with 1 Axes>"
      ]
     },
     "metadata": {},
     "output_type": "display_data"
    }
   ],
   "source": [
    "plt.figure(figsize=(8, 6))\n",
    "df_error.groupby('bedrooms')['error_perc'].mean().plot.bar()\n",
    "plt.xlabel('Bedrooms')\n",
    "plt.ylabel('Modeling error, %')\n",
    "plt.title('Price predication error for number of bedrooms')\n",
    "plt.xticks(rotation=0);"
   ]
  },
  {
   "cell_type": "markdown",
   "id": "c2273500-34da-4f59-9f6f-6ee0dcddb134",
   "metadata": {
    "id": "c2273500-34da-4f59-9f6f-6ee0dcddb134"
   },
   "source": [
    "From the above figure, we can say that the price prediction error increases when the number of bedrooms increases to 5 or more."
   ]
  },
  {
   "cell_type": "code",
   "execution_count": 30,
   "id": "2ed0c780-ba8b-4f23-9066-78b517b55e73",
   "metadata": {
    "colab": {
     "base_uri": "https://localhost:8080/",
     "height": 564
    },
    "id": "2ed0c780-ba8b-4f23-9066-78b517b55e73",
    "outputId": "8ba8f0cc-23f4-49a4-9348-45ff683b0051",
    "tags": []
   },
   "outputs": [
    {
     "data": {
      "image/png": "[encoded data removed]",
      "text/plain": [
       "<Figure size 800x600 with 1 Axes>"
      ]
     },
     "metadata": {},
     "output_type": "display_data"
    }
   ],
   "source": [
    "plt.figure(figsize=(8, 6))\n",
    "df_error.groupby('beds')['error_perc'].mean().plot.bar()\n",
    "plt.xlabel('Beds')\n",
    "plt.ylabel('Modeling error, %')\n",
    "plt.title('Price predication error for number of beds')\n",
    "plt.xticks(rotation=0);"
   ]
  },
  {
   "cell_type": "code",
   "execution_count": 31,
   "id": "e2fcaf69-30ee-4515-8a6b-caf0fa5e4d31",
   "metadata": {
    "colab": {
     "base_uri": "https://localhost:8080/"
    },
    "id": "e2fcaf69-30ee-4515-8a6b-caf0fa5e4d31",
    "outputId": "a204a28e-5c58-46bc-d11f-389bda614b65",
    "tags": []
   },
   "outputs": [
    {
     "name": "stdout",
     "output_type": "stream",
     "text": [
      "Value count for different number of beds:\n"
     ]
    },
    {
     "data": {
      "text/plain": [
       "1      9029\n",
       "2     11009\n",
       "3      7507\n",
       "4      4219\n",
       "5      2043\n",
       "6      1243\n",
       "7       806\n",
       "8       510\n",
       "9       295\n",
       "10      240\n",
       "11      118\n",
       "12      131\n",
       "13       86\n",
       "14       73\n",
       "15       32\n",
       "Name: beds, dtype: int64"
      ]
     },
     "execution_count": 31,
     "metadata": {},
     "output_type": "execute_result"
    }
   ],
   "source": [
    "print('Value count for different number of beds:')\n",
    "df_error['beds'].value_counts().sort_index()"
   ]
  },
  {
   "cell_type": "markdown",
   "id": "763cb6e5-8f46-4bc3-89ab-0cb00a1644bd",
   "metadata": {
    "id": "763cb6e5-8f46-4bc3-89ab-0cb00a1644bd"
   },
   "source": [
    "Modeling error for the number of beds increases slowly up to 5-6 beds and then goes ups and down. We cannot draw a solide conclusion on how the error is impacted by number of beds but it should be noticed that the trend we are seeing for beds after 9 or more is not that significant as the number of listings in that range is relatively small."
   ]
  },
  {
   "cell_type": "markdown",
   "id": "0c017035-ba71-41dd-a5dc-c9b70e60b6e1",
   "metadata": {
    "id": "0c017035-ba71-41dd-a5dc-c9b70e60b6e1"
   },
   "source": [
    "The following plot shows error analysis at different zip codes (also the number of listing at each zipcode)."
   ]
  },
  {
   "cell_type": "code",
   "execution_count": 32,
   "id": "072a9d29-98aa-4cb4-99f4-03987b8f1345",
   "metadata": {
    "id": "072a9d29-98aa-4cb4-99f4-03987b8f1345",
    "tags": []
   },
   "outputs": [],
   "source": [
    "# find the number average modeling error in each zip code and create a df to plot it as well as the number of listings\n",
    "zip_error = pd.concat([df_error.groupby('zipcode')['error_perc'].count().sort_values(ascending=False),\n",
    "                       df_error.groupby('zipcode')['error_perc'].mean().sort_values(ascending=False)], axis=1 )\n",
    "zip_error.columns = ['count', 'error_perc']\n",
    "zip_error = zip_error.sort_values(by='error_perc', ascending=False)\n"
   ]
  },
  {
   "cell_type": "code",
   "execution_count": 33,
   "id": "26e1ad5f-c72a-4595-a08e-fe661292b567",
   "metadata": {
    "colab": {
     "base_uri": "https://localhost:8080/",
     "height": 594
    },
    "id": "26e1ad5f-c72a-4595-a08e-fe661292b567",
    "outputId": "a1a23c31-8576-414f-c51b-0302540d224c",
    "tags": []
   },
   "outputs": [
    {
     "data": {
      "image/png": "[encoded data removed]",
      "text/plain": [
       "<Figure size 1200x600 with 2 Axes>"
      ]
     },
     "metadata": {},
     "output_type": "display_data"
    }
   ],
   "source": [
    "zip_error.plot.bar(secondary_y='count', figsize=(12, 6))\n",
    "plt.title('Prediction error (and number of listings) vs. zipcode');"
   ]
  },
  {
   "cell_type": "markdown",
   "id": "1005cd93-ccee-45a4-8071-68a9c0eff973",
   "metadata": {
    "id": "1005cd93-ccee-45a4-8071-68a9c0eff973"
   },
   "source": [
    "Zipcode analysis shows errors as high as 60% in some neighborhoods and as low as 30% in others. The number of listings in each neighborhood is ploted in this plot so that we know the error is calcualted based on how many observations. Caution should be practiced when interpreting the data from zip codes without too many listings."
   ]
  },
  {
   "cell_type": "markdown",
   "id": "f74ef53f-9f31-4fe5-aebd-57cae71e4789",
   "metadata": {
    "id": "f74ef53f-9f31-4fe5-aebd-57cae71e4789"
   },
   "source": [
    "At the end, let us see if we can find any meaningful correlation between our model error and the price of homes in each neighborhood."
   ]
  },
  {
   "cell_type": "code",
   "execution_count": 37,
   "id": "a9682dba",
   "metadata": {},
   "outputs": [
    {
     "data": {
      "text/html": [
       "<div>\n",
       "<style scoped>\n",
       "    .dataframe tbody tr th:only-of-type {\n",
       "        vertical-align: middle;\n",
       "    }\n",
       "\n",
       "    .dataframe tbody tr th {\n",
       "        vertical-align: top;\n",
       "    }\n",
       "\n",
       "    .dataframe thead th {\n",
       "        text-align: right;\n",
       "    }\n",
       "</style>\n",
       "<table border=\"1\" class=\"dataframe\">\n",
       "  <thead>\n",
       "    <tr style=\"text-align: right;\">\n",
       "      <th></th>\n",
       "      <th>bedrooms</th>\n",
       "      <th>beds</th>\n",
       "      <th>bath</th>\n",
       "      <th>zipcode</th>\n",
       "      <th>host_is_superhost</th>\n",
       "      <th>review_scores_rating</th>\n",
       "      <th>time_quarter</th>\n",
       "      <th>has_pool</th>\n",
       "      <th>is_petfriendly</th>\n",
       "      <th>has_workspace</th>\n",
       "      <th>has_freeparking</th>\n",
       "      <th>has_gym</th>\n",
       "      <th>home_price_aprx</th>\n",
       "      <th>price</th>\n",
       "      <th>is_train</th>\n",
       "      <th>price_pred</th>\n",
       "      <th>error_abs</th>\n",
       "      <th>error_perc</th>\n",
       "    </tr>\n",
       "  </thead>\n",
       "  <tbody>\n",
       "    <tr>\n",
       "      <th>0</th>\n",
       "      <td>1</td>\n",
       "      <td>2</td>\n",
       "      <td>1.0</td>\n",
       "      <td>78702</td>\n",
       "      <td>1</td>\n",
       "      <td>4.84</td>\n",
       "      <td>Q4</td>\n",
       "      <td>0</td>\n",
       "      <td>0</td>\n",
       "      <td>0</td>\n",
       "      <td>0</td>\n",
       "      <td>0</td>\n",
       "      <td>359197.038337</td>\n",
       "      <td>101.000000</td>\n",
       "      <td>1</td>\n",
       "      <td>114.371996</td>\n",
       "      <td>13.371996</td>\n",
       "      <td>13.239600</td>\n",
       "    </tr>\n",
       "    <tr>\n",
       "      <th>1</th>\n",
       "      <td>0</td>\n",
       "      <td>1</td>\n",
       "      <td>1.0</td>\n",
       "      <td>78704</td>\n",
       "      <td>0</td>\n",
       "      <td>4.97</td>\n",
       "      <td>Q4</td>\n",
       "      <td>0</td>\n",
       "      <td>0</td>\n",
       "      <td>1</td>\n",
       "      <td>0</td>\n",
       "      <td>0</td>\n",
       "      <td>327170.306567</td>\n",
       "      <td>91.666667</td>\n",
       "      <td>1</td>\n",
       "      <td>172.332405</td>\n",
       "      <td>80.665738</td>\n",
       "      <td>87.998987</td>\n",
       "    </tr>\n",
       "    <tr>\n",
       "      <th>2</th>\n",
       "      <td>1</td>\n",
       "      <td>2</td>\n",
       "      <td>1.0</td>\n",
       "      <td>78704</td>\n",
       "      <td>1</td>\n",
       "      <td>4.97</td>\n",
       "      <td>Q4</td>\n",
       "      <td>0</td>\n",
       "      <td>0</td>\n",
       "      <td>1</td>\n",
       "      <td>1</td>\n",
       "      <td>0</td>\n",
       "      <td>327170.306567</td>\n",
       "      <td>159.000000</td>\n",
       "      <td>1</td>\n",
       "      <td>99.954438</td>\n",
       "      <td>59.045562</td>\n",
       "      <td>37.135573</td>\n",
       "    </tr>\n",
       "    <tr>\n",
       "      <th>3</th>\n",
       "      <td>1</td>\n",
       "      <td>1</td>\n",
       "      <td>1.0</td>\n",
       "      <td>78741</td>\n",
       "      <td>0</td>\n",
       "      <td>4.56</td>\n",
       "      <td>Q4</td>\n",
       "      <td>0</td>\n",
       "      <td>1</td>\n",
       "      <td>0</td>\n",
       "      <td>0</td>\n",
       "      <td>0</td>\n",
       "      <td>190189.768301</td>\n",
       "      <td>48.000000</td>\n",
       "      <td>1</td>\n",
       "      <td>105.622883</td>\n",
       "      <td>57.622883</td>\n",
       "      <td>120.047673</td>\n",
       "    </tr>\n",
       "    <tr>\n",
       "      <th>4</th>\n",
       "      <td>2</td>\n",
       "      <td>2</td>\n",
       "      <td>2.0</td>\n",
       "      <td>78702</td>\n",
       "      <td>1</td>\n",
       "      <td>5.00</td>\n",
       "      <td>Q4</td>\n",
       "      <td>0</td>\n",
       "      <td>0</td>\n",
       "      <td>1</td>\n",
       "      <td>0</td>\n",
       "      <td>0</td>\n",
       "      <td>470342.688268</td>\n",
       "      <td>123.000000</td>\n",
       "      <td>0</td>\n",
       "      <td>177.792941</td>\n",
       "      <td>54.792941</td>\n",
       "      <td>44.547107</td>\n",
       "    </tr>\n",
       "  </tbody>\n",
       "</table>\n",
       "</div>"
      ],
      "text/plain": [
       "   bedrooms  beds  bath  zipcode  host_is_superhost  review_scores_rating  \\\n",
       "0         1     2   1.0    78702                  1                  4.84   \n",
       "1         0     1   1.0    78704                  0                  4.97   \n",
       "2         1     2   1.0    78704                  1                  4.97   \n",
       "3         1     1   1.0    78741                  0                  4.56   \n",
       "4         2     2   2.0    78702                  1                  5.00   \n",
       "\n",
       "  time_quarter  has_pool  is_petfriendly  has_workspace  has_freeparking  \\\n",
       "0           Q4         0               0              0                0   \n",
       "1           Q4         0               0              1                0   \n",
       "2           Q4         0               0              1                1   \n",
       "3           Q4         0               1              0                0   \n",
       "4           Q4         0               0              1                0   \n",
       "\n",
       "   has_gym  home_price_aprx       price  is_train  price_pred  error_abs  \\\n",
       "0        0    359197.038337  101.000000         1  114.371996  13.371996   \n",
       "1        0    327170.306567   91.666667         1  172.332405  80.665738   \n",
       "2        0    327170.306567  159.000000         1   99.954438  59.045562   \n",
       "3        0    190189.768301   48.000000         1  105.622883  57.622883   \n",
       "4        0    470342.688268  123.000000         0  177.792941  54.792941   \n",
       "\n",
       "   error_perc  \n",
       "0   13.239600  \n",
       "1   87.998987  \n",
       "2   37.135573  \n",
       "3  120.047673  \n",
       "4   44.547107  "
      ]
     },
     "execution_count": 37,
     "metadata": {},
     "output_type": "execute_result"
    }
   ],
   "source": [
    "df_error.head()"
   ]
  },
  {
   "cell_type": "code",
   "execution_count": 41,
   "id": "4ad3f680-2032-4b8e-9b4d-afd6793e92d0",
   "metadata": {
    "colab": {
     "base_uri": "https://localhost:8080/",
     "height": 604
    },
    "id": "4ad3f680-2032-4b8e-9b4d-afd6793e92d0",
    "outputId": "90d27bb4-311c-43ab-d634-920d3756d0be",
    "tags": []
   },
   "outputs": [
    {
     "name": "stderr",
     "output_type": "stream",
     "text": [
      "C:\\Users\\masou\\AppData\\Local\\Temp\\ipykernel_8300\\3355886998.py:2: FutureWarning: The default value of numeric_only in DataFrameGroupBy.mean is deprecated. In a future version, numeric_only will default to False. Either specify numeric_only or select only columns which should be valid for the function.\n",
      "  sns.scatterplot(x = df_error.groupby('home_price_aprx').mean().index, y = df_error.groupby('home_price_aprx').mean()['error_perc'])\n",
      "C:\\Users\\masou\\AppData\\Local\\Temp\\ipykernel_8300\\3355886998.py:2: FutureWarning: The default value of numeric_only in DataFrameGroupBy.mean is deprecated. In a future version, numeric_only will default to False. Either specify numeric_only or select only columns which should be valid for the function.\n",
      "  sns.scatterplot(x = df_error.groupby('home_price_aprx').mean().index, y = df_error.groupby('home_price_aprx').mean()['error_perc'])\n"
     ]
    },
    {
     "data": {
      "image/png": "[encoded data removed]",
      "text/plain": [
       "<Figure size 800x600 with 1 Axes>"
      ]
     },
     "metadata": {},
     "output_type": "display_data"
    }
   ],
   "source": [
    "plt.figure(figsize=(8, 6))\n",
    "sns.scatterplot(x = df_error.groupby('home_price_aprx').mean().index, y = df_error.groupby('home_price_aprx').mean()['error_perc'])\n",
    "#df_error.groupby('home_price_aprx')['error_perc'].mean().sort_index(ascending=True).plot.scatter()\n",
    "plt.xlabel('Average home price, $')\n",
    "plt.ylabel('Modeling error, %')\n",
    "plt.title('Price predication error vs. home values')\n",
    "plt.xticks(rotation=0);"
   ]
  },
  {
   "cell_type": "markdown",
   "id": "8c259961-e596-45d9-8f3f-8e5b7c6491c9",
   "metadata": {
    "id": "8c259961-e596-45d9-8f3f-8e5b7c6491c9"
   },
   "source": [
    "The above plot does not show any meaningful correlation between the average home price and the airbnb home listing price error."
   ]
  },
  {
   "cell_type": "markdown",
   "id": "31221848",
   "metadata": {},
   "source": [
    "Before wrapping up this section, let us use the Ridge model and see if doing log transformation on y variables would help the issue with high errors on higher listing prices we notices previously. "
   ]
  },
  {
   "cell_type": "code",
   "execution_count": 3,
   "id": "9c7a1c1c",
   "metadata": {},
   "outputs": [
    {
     "name": "stdout",
     "output_type": "stream",
     "text": [
      "Fitting 5 folds for each of 25 candidates, totalling 125 fits\n",
      "{'ridge__alpha': 1000.0}\n"
     ]
    }
   ],
   "source": [
    "X = df.drop(columns=['price'])\n",
    "y = df['price']\n",
    "# train_test split\n",
    "X_train, X_test, y_train, y_test = train_test_split(X, y,\n",
    "                                                    random_state=42,\n",
    "                                                    test_size=0.2)\n",
    "\n",
    "y_train = np.log10(y_train)\n",
    "y_test = np.log10(y_test)\n",
    "\n",
    "# column transformer to one hot encode categorical features\n",
    "ohe = OneHotEncoder(drop='first', handle_unknown='ignore', sparse_output=False)\n",
    "onehot_cat = ColumnTransformer(\n",
    "    transformers=[\n",
    "        ('ohe_zip', ohe, ['zipcode']),\n",
    "        ('ohe_time', ohe, ['time_quarter'])\n",
    "    ], remainder='passthrough')\n",
    "# create pipeline\n",
    "ridge_poly_pipeline = Pipeline([\n",
    "    ('ohe_cols', onehot_cat), # column transformer for cat features\n",
    "    ('ss', StandardScaler()), # standard scaler\n",
    "    ('poly', PolynomialFeatures(degree=2, interaction_only=False)),\n",
    "    ('ridge', Ridge())]\n",
    ")\n",
    "\n",
    "# gridsearch object\n",
    "gs_ridge_poly_pipeline = GridSearchCV(ridge_poly_pipeline,\n",
    "                                     param_grid={'ridge__alpha': np.logspace(2, 4, 25)},\n",
    "                                      verbose = 1,\n",
    "                                      cv =5,\n",
    "                                     )\n",
    "\n",
    "# fit the model\n",
    "gs_ridge_poly_pipeline.fit(X_train, y_train)\n",
    "\n",
    "# predict data\n",
    "preds_train = gs_ridge_poly_pipeline.predict(X_train)\n",
    "preds_test = gs_ridge_poly_pipeline.predict(X_test)\n",
    "\n",
    "y_train = np.power(y_train, 10)\n",
    "y_test = np.power(y_test, 10)\n",
    "preds_train = np.power(preds_train, 10)\n",
    "preds_test = np.power(preds_test, 10)\n",
    "\n",
    "\n",
    "# best alpha\n",
    "print(gs_ridge_poly_pipeline.best_params_)"
   ]
  },
  {
   "cell_type": "code",
   "execution_count": 4,
   "id": "4c7e6977",
   "metadata": {},
   "outputs": [
    {
     "name": "stdout",
     "output_type": "stream",
     "text": [
      "Train data R2 = 0.4439\n",
      "Train data MAE ($) = 4796\n",
      "Test data R2 = 0.3881\n",
      "Test data MAE ($) = 5063\n"
     ]
    }
   ],
   "source": [
    "print(f'Train data R2 = {round(r2_score(y_train, preds_train), 4)}')\n",
    "print(f'Train data MAE ($) = {int(mean_absolute_error(y_train, preds_train))}')\n",
    "print(f'Test data R2 = {round(r2_score(y_test, preds_test), 4)}')\n",
    "print(f'Test data MAE ($) = {int(mean_absolute_error(y_test, preds_test))}')"
   ]
  },
  {
   "cell_type": "markdown",
   "id": "56753539",
   "metadata": {},
   "source": [
    "From the above results, log transforming the data did not help with better predictions."
   ]
  },
  {
   "cell_type": "markdown",
   "id": "ae8b595f-1ee9-4190-8266-8bfa5f823963",
   "metadata": {
    "id": "ae8b595f-1ee9-4190-8266-8bfa5f823963"
   },
   "source": [
    "__Highlights:__\n",
    "- Using polynomial features (quadratic terms) along with regularization has improved our linear regression model (R2 = 0.52). Both Ridge and LASSO have the same performance.\n",
    "\n",
    "_Error analysis:_\n",
    "- Prediction error shows a big jump for 5 bedrooms and more.\n",
    "- Prediction error for listings that have pool is 10% higher than the ones without pool.\n",
    "- Prediction error for listings with a super host is 10% lower than the listings without superhost.\n"
   ]
  },
  {
   "cell_type": "markdown",
   "id": "X-zUbFTQB_Jn",
   "metadata": {
    "id": "X-zUbFTQB_Jn"
   },
   "source": [
    "## Neural Networks regressor"
   ]
  },
  {
   "cell_type": "markdown",
   "id": "tIK7EfvDCG6O",
   "metadata": {
    "id": "tIK7EfvDCG6O"
   },
   "source": [
    "In this section, we will try to use neural networks (NN) to build a model and estimate the listing price for airbnb houses. Since NN requires the data to be in numeric format (no categorical data), we will start our analysis by a model that only includes the numeric features so that we don't increase the dimensionality at the beginning. Please note that we have tried various combination of different hidden layers and number of nodes and the below mentioned model has given us the best performance. "
   ]
  },
  {
   "cell_type": "code",
   "execution_count": 10,
   "id": "D0ve3u12DlWC",
   "metadata": {
    "colab": {
     "base_uri": "https://localhost:8080/"
    },
    "id": "D0ve3u12DlWC",
    "outputId": "67699099-8794-463e-b951-9cec9b820205"
   },
   "outputs": [
    {
     "name": "stdout",
     "output_type": "stream",
     "text": [
      "Epoch 1/200\n",
      "117/117 [==============================] - 1s 6ms/step - loss: 55508.4375 - val_loss: 30792.8926\n",
      "Epoch 2/200\n",
      "117/117 [==============================] - 1s 4ms/step - loss: 29424.3613 - val_loss: 29994.7188\n",
      "Epoch 3/200\n",
      "117/117 [==============================] - 0s 4ms/step - loss: 29020.1094 - val_loss: 29582.7168\n",
      "Epoch 4/200\n",
      "117/117 [==============================] - 0s 4ms/step - loss: 28489.1172 - val_loss: 29445.0391\n",
      "Epoch 5/200\n",
      "117/117 [==============================] - 0s 4ms/step - loss: 28001.7012 - val_loss: 29348.1797\n",
      "Epoch 6/200\n",
      "117/117 [==============================] - 0s 4ms/step - loss: 27677.2441 - val_loss: 29017.8301\n",
      "Epoch 7/200\n",
      "117/117 [==============================] - 0s 4ms/step - loss: 27349.3301 - val_loss: 28451.3398\n",
      "Epoch 8/200\n",
      "117/117 [==============================] - 0s 4ms/step - loss: 27073.6504 - val_loss: 28542.5586\n",
      "Epoch 9/200\n",
      "117/117 [==============================] - 0s 4ms/step - loss: 26878.0410 - val_loss: 28613.6270\n",
      "Epoch 10/200\n",
      "117/117 [==============================] - 0s 4ms/step - loss: 26625.5781 - val_loss: 28127.4766\n",
      "Epoch 11/200\n",
      "117/117 [==============================] - 0s 4ms/step - loss: 26476.9316 - val_loss: 28796.3105\n",
      "Epoch 12/200\n",
      "117/117 [==============================] - 0s 4ms/step - loss: 26277.5293 - val_loss: 28070.2578\n",
      "Epoch 13/200\n",
      "117/117 [==============================] - 0s 4ms/step - loss: 26151.1191 - val_loss: 28135.5176\n",
      "Epoch 14/200\n",
      "117/117 [==============================] - 0s 4ms/step - loss: 25971.6484 - val_loss: 27990.0996\n",
      "Epoch 15/200\n",
      "117/117 [==============================] - 1s 4ms/step - loss: 25947.1016 - val_loss: 27871.8652\n",
      "Epoch 16/200\n",
      "117/117 [==============================] - 0s 4ms/step - loss: 25798.2031 - val_loss: 27768.6895\n",
      "Epoch 17/200\n",
      "117/117 [==============================] - 0s 4ms/step - loss: 25682.8164 - val_loss: 27826.9824\n",
      "Epoch 18/200\n",
      "117/117 [==============================] - 1s 4ms/step - loss: 25529.3691 - val_loss: 27837.3164\n",
      "Epoch 19/200\n",
      "117/117 [==============================] - 1s 6ms/step - loss: 25391.0195 - val_loss: 27688.7676\n",
      "Epoch 20/200\n",
      "117/117 [==============================] - 1s 5ms/step - loss: 25428.3281 - val_loss: 27709.9395\n",
      "Epoch 21/200\n",
      "117/117 [==============================] - 1s 6ms/step - loss: 25212.0000 - val_loss: 28173.3750\n",
      "Epoch 22/200\n",
      "117/117 [==============================] - 1s 6ms/step - loss: 25191.9844 - val_loss: 27751.5410\n",
      "Epoch 23/200\n",
      "117/117 [==============================] - 1s 5ms/step - loss: 25093.8652 - val_loss: 27884.9062\n",
      "Epoch 24/200\n",
      "117/117 [==============================] - 1s 5ms/step - loss: 25043.8184 - val_loss: 27656.7207\n",
      "Epoch 25/200\n",
      "117/117 [==============================] - 1s 5ms/step - loss: 24801.7988 - val_loss: 28022.5293\n",
      "Epoch 26/200\n",
      "117/117 [==============================] - 1s 5ms/step - loss: 24808.5391 - val_loss: 27609.2500\n",
      "Epoch 27/200\n",
      "117/117 [==============================] - 1s 6ms/step - loss: 24535.3594 - val_loss: 27480.8926\n",
      "Epoch 28/200\n",
      "117/117 [==============================] - 1s 5ms/step - loss: 24442.6816 - val_loss: 27721.5176\n",
      "Epoch 29/200\n",
      "117/117 [==============================] - 1s 6ms/step - loss: 24547.7812 - val_loss: 27344.8398\n",
      "Epoch 30/200\n",
      "117/117 [==============================] - 1s 5ms/step - loss: 24300.8398 - val_loss: 27286.1602\n",
      "Epoch 31/200\n",
      "117/117 [==============================] - 1s 6ms/step - loss: 24182.4160 - val_loss: 27100.9102\n",
      "Epoch 32/200\n",
      "117/117 [==============================] - 1s 6ms/step - loss: 24270.3828 - val_loss: 27347.8047\n",
      "Epoch 33/200\n",
      "117/117 [==============================] - 1s 5ms/step - loss: 24206.7402 - val_loss: 27061.3203\n",
      "Epoch 34/200\n",
      "117/117 [==============================] - 1s 5ms/step - loss: 23876.4219 - val_loss: 26775.8613\n",
      "Epoch 35/200\n",
      "117/117 [==============================] - 1s 5ms/step - loss: 23793.2520 - val_loss: 26717.6855\n",
      "Epoch 36/200\n",
      "117/117 [==============================] - 1s 5ms/step - loss: 23819.3105 - val_loss: 27176.9453\n",
      "Epoch 37/200\n",
      "117/117 [==============================] - 1s 6ms/step - loss: 23912.1172 - val_loss: 26625.0801\n",
      "Epoch 38/200\n",
      "117/117 [==============================] - 1s 5ms/step - loss: 23500.1641 - val_loss: 27111.3457\n",
      "Epoch 39/200\n",
      "117/117 [==============================] - 1s 5ms/step - loss: 23348.8047 - val_loss: 26584.2715\n",
      "Epoch 40/200\n",
      "117/117 [==============================] - 1s 6ms/step - loss: 23268.6855 - val_loss: 26425.8477\n",
      "Epoch 41/200\n",
      "117/117 [==============================] - 1s 5ms/step - loss: 23298.6680 - val_loss: 27067.3887\n",
      "Epoch 42/200\n",
      "117/117 [==============================] - 1s 5ms/step - loss: 23413.4512 - val_loss: 27197.5977\n",
      "Epoch 43/200\n",
      "117/117 [==============================] - 1s 5ms/step - loss: 23098.3828 - val_loss: 26312.9922\n",
      "Epoch 44/200\n",
      "117/117 [==============================] - 1s 5ms/step - loss: 23033.9082 - val_loss: 26187.4824\n",
      "Epoch 45/200\n",
      "117/117 [==============================] - 1s 5ms/step - loss: 22985.8281 - val_loss: 27268.6504\n",
      "Epoch 46/200\n",
      "117/117 [==============================] - 1s 5ms/step - loss: 22873.1953 - val_loss: 26270.8242\n",
      "Epoch 47/200\n",
      "117/117 [==============================] - 1s 6ms/step - loss: 22652.5801 - val_loss: 26382.4492\n",
      "Epoch 48/200\n",
      "117/117 [==============================] - 1s 5ms/step - loss: 22806.2383 - val_loss: 26446.0117\n",
      "Epoch 49/200\n",
      "117/117 [==============================] - 1s 6ms/step - loss: 22382.6738 - val_loss: 26592.7969\n",
      "934/934 [==============================] - 2s 2ms/step\n",
      "234/234 [==============================] - 0s 2ms/step\n"
     ]
    }
   ],
   "source": [
    "X = df.drop(columns=['price', 'zipcode', 'time_quarter'])\n",
    "y = df['price']\n",
    "\n",
    "# train_test split\n",
    "X_train, X_test, y_train, y_test = train_test_split(X, y,\n",
    "                                                    random_state=42,\n",
    "                                                    test_size=0.2)\n",
    "\n",
    "# scale the data\n",
    "ss = StandardScaler()\n",
    "Z_train = ss.fit_transform(X_train)\n",
    "Z_test = ss.transform(X_test)\n",
    "\n",
    "# build the sequential nn\n",
    "nn_numeric = Sequential()\n",
    "# add a hidden layer\n",
    "nn_numeric.add(Dense(128,\n",
    "                     activation='relu',\n",
    "                     input_shape=(11,)))\n",
    "# add a hidden layer\n",
    "nn_numeric.add(Dense(256,\n",
    "                     activation='relu'))\n",
    "# add a hidden layer\n",
    "nn_numeric.add(Dense(128,\n",
    "                     activation='relu'))\n",
    "# add a hidden layer\n",
    "nn_numeric.add(Dense(32,\n",
    "                     activation='relu'))\n",
    "# add output layer\n",
    "nn_numeric.add(Dense(1,\n",
    "                     activation=None))\n",
    "\n",
    "# compile the model\n",
    "nn_numeric.compile(loss='mse',\n",
    "                   optimizer='adam')\n",
    "\n",
    "# fit the model\n",
    "es = EarlyStopping(patience = 5)\n",
    "nn_numeric.fit(Z_train, y_train,\n",
    "               epochs=200,\n",
    "               batch_size=256,\n",
    "               callbacks=[es],\n",
    "               validation_data=(Z_test, y_test))\n",
    "\n",
    "# predict data\n",
    "preds_train = nn_numeric.predict(Z_train)\n",
    "preds_test = nn_numeric.predict(Z_test)"
   ]
  },
  {
   "cell_type": "code",
   "execution_count": 11,
   "id": "5mgJB3giFeuR",
   "metadata": {
    "colab": {
     "base_uri": "https://localhost:8080/"
    },
    "id": "5mgJB3giFeuR",
    "outputId": "ca180ff2-0cbb-4e05-b484-181514493bb5"
   },
   "outputs": [
    {
     "name": "stdout",
     "output_type": "stream",
     "text": [
      "Train data R2 = 0.6043\n",
      "Train data MAE ($) = 90\n",
      "Test data R2 = 0.5334\n",
      "Test data MAE ($) = 97\n"
     ]
    }
   ],
   "source": [
    "print(f'Train data R2 = {round(r2_score(y_train, preds_train), 4)}')\n",
    "print(f'Train data MAE ($) = {int(mean_absolute_error(y_train, preds_train))}')\n",
    "print(f'Test data R2 = {round(r2_score(y_test, preds_test), 4)}')\n",
    "print(f'Test data MAE ($) = {int(mean_absolute_error(y_test, preds_test))}')"
   ]
  },
  {
   "cell_type": "markdown",
   "id": "NroeiACsiVe8",
   "metadata": {
    "id": "NroeiACsiVe8"
   },
   "source": [
    "The best performance we got (for the current set of features) with different topographies of neural networks and various hyperparameter tuning efforts was R2 of 0.50-0.60. Now, let us include the categorical features as well and see if this makes the NN model any better."
   ]
  },
  {
   "cell_type": "code",
   "execution_count": 12,
   "id": "yN1m9wYblP2k",
   "metadata": {
    "colab": {
     "base_uri": "https://localhost:8080/"
    },
    "id": "yN1m9wYblP2k",
    "outputId": "1f42cfcf-30f5-4d23-8d49-149af905c8a3"
   },
   "outputs": [
    {
     "name": "stdout",
     "output_type": "stream",
     "text": [
      "Epoch 1/200\n",
      "117/117 [==============================] - 1s 5ms/step - loss: 54487.0000 - val_loss: 30426.2832\n",
      "Epoch 2/200\n",
      "117/117 [==============================] - 0s 4ms/step - loss: 28543.3457 - val_loss: 29180.0918\n",
      "Epoch 3/200\n",
      "117/117 [==============================] - 0s 4ms/step - loss: 27683.4629 - val_loss: 28742.0156\n",
      "Epoch 4/200\n",
      "117/117 [==============================] - 0s 4ms/step - loss: 27014.3516 - val_loss: 28693.5508\n",
      "Epoch 5/200\n",
      "117/117 [==============================] - 0s 4ms/step - loss: 26445.2363 - val_loss: 28616.7539\n",
      "Epoch 6/200\n",
      "117/117 [==============================] - 0s 4ms/step - loss: 26042.3516 - val_loss: 27537.0371\n",
      "Epoch 7/200\n",
      "117/117 [==============================] - 0s 4ms/step - loss: 25540.9492 - val_loss: 27364.7070\n",
      "Epoch 8/200\n",
      "117/117 [==============================] - 0s 4ms/step - loss: 25073.8750 - val_loss: 27207.2676\n",
      "Epoch 9/200\n",
      "117/117 [==============================] - 1s 4ms/step - loss: 24664.3711 - val_loss: 27295.4121\n",
      "Epoch 10/200\n",
      "117/117 [==============================] - 1s 5ms/step - loss: 24256.2969 - val_loss: 26598.0996\n",
      "Epoch 11/200\n",
      "117/117 [==============================] - 0s 4ms/step - loss: 23891.7793 - val_loss: 27140.6406\n",
      "Epoch 12/200\n",
      "117/117 [==============================] - 0s 4ms/step - loss: 23398.9141 - val_loss: 26268.3789\n",
      "Epoch 13/200\n",
      "117/117 [==============================] - 1s 5ms/step - loss: 23104.1641 - val_loss: 26366.0059\n",
      "Epoch 14/200\n",
      "117/117 [==============================] - 1s 6ms/step - loss: 22761.6719 - val_loss: 25986.6758\n",
      "Epoch 15/200\n",
      "117/117 [==============================] - 1s 6ms/step - loss: 22620.7988 - val_loss: 26026.6484\n",
      "Epoch 16/200\n",
      "117/117 [==============================] - 1s 7ms/step - loss: 22282.0117 - val_loss: 25520.9707\n",
      "Epoch 17/200\n",
      "117/117 [==============================] - 1s 7ms/step - loss: 22050.6289 - val_loss: 25977.5312\n",
      "Epoch 18/200\n",
      "117/117 [==============================] - 1s 6ms/step - loss: 21785.7441 - val_loss: 25729.5840\n",
      "Epoch 19/200\n",
      "117/117 [==============================] - 1s 6ms/step - loss: 21571.0312 - val_loss: 25592.2188\n",
      "Epoch 20/200\n",
      "117/117 [==============================] - 1s 6ms/step - loss: 21585.4375 - val_loss: 25081.8105\n",
      "Epoch 21/200\n",
      "117/117 [==============================] - 1s 8ms/step - loss: 21202.4629 - val_loss: 25695.7129\n",
      "Epoch 22/200\n",
      "117/117 [==============================] - 1s 6ms/step - loss: 20992.0566 - val_loss: 25382.0781\n",
      "Epoch 23/200\n",
      "117/117 [==============================] - 1s 6ms/step - loss: 20819.8262 - val_loss: 25071.1445\n",
      "Epoch 24/200\n",
      "117/117 [==============================] - 1s 6ms/step - loss: 20804.1680 - val_loss: 24847.0938\n",
      "Epoch 25/200\n",
      "117/117 [==============================] - 1s 5ms/step - loss: 20419.8145 - val_loss: 25323.4863\n",
      "Epoch 26/200\n",
      "117/117 [==============================] - 1s 6ms/step - loss: 20337.0371 - val_loss: 25063.9004\n",
      "Epoch 27/200\n",
      "117/117 [==============================] - 1s 6ms/step - loss: 20087.1250 - val_loss: 25012.4219\n",
      "Epoch 28/200\n",
      "117/117 [==============================] - 1s 5ms/step - loss: 19878.7695 - val_loss: 25679.4277\n",
      "Epoch 29/200\n",
      "117/117 [==============================] - 1s 6ms/step - loss: 19869.0020 - val_loss: 24800.1758\n",
      "Epoch 30/200\n",
      "117/117 [==============================] - 1s 6ms/step - loss: 19626.6250 - val_loss: 25236.2520\n",
      "Epoch 31/200\n",
      "117/117 [==============================] - 1s 6ms/step - loss: 19356.7676 - val_loss: 24631.3945\n",
      "Epoch 32/200\n",
      "117/117 [==============================] - 1s 5ms/step - loss: 19160.0820 - val_loss: 24724.2852\n",
      "Epoch 33/200\n",
      "117/117 [==============================] - 1s 6ms/step - loss: 19222.7598 - val_loss: 25057.9980\n",
      "Epoch 34/200\n",
      "117/117 [==============================] - 1s 7ms/step - loss: 18726.2480 - val_loss: 24490.1699\n",
      "Epoch 35/200\n",
      "117/117 [==============================] - 1s 6ms/step - loss: 18672.0039 - val_loss: 24065.6504\n",
      "Epoch 36/200\n",
      "117/117 [==============================] - 1s 6ms/step - loss: 18659.6914 - val_loss: 24096.4883\n",
      "Epoch 37/200\n",
      "117/117 [==============================] - 1s 6ms/step - loss: 18510.0195 - val_loss: 24426.4492\n",
      "Epoch 38/200\n",
      "117/117 [==============================] - 1s 5ms/step - loss: 18375.0664 - val_loss: 24138.5879\n",
      "Epoch 39/200\n",
      "117/117 [==============================] - 1s 6ms/step - loss: 18175.4883 - val_loss: 24391.2812\n",
      "Epoch 40/200\n",
      "117/117 [==============================] - 1s 6ms/step - loss: 17967.0977 - val_loss: 24047.7852\n",
      "Epoch 41/200\n",
      "117/117 [==============================] - 1s 5ms/step - loss: 18007.5488 - val_loss: 24370.9688\n",
      "Epoch 42/200\n",
      "117/117 [==============================] - 1s 5ms/step - loss: 17938.8457 - val_loss: 24157.5488\n",
      "Epoch 43/200\n",
      "117/117 [==============================] - 1s 5ms/step - loss: 17479.3945 - val_loss: 24394.6504\n",
      "Epoch 44/200\n",
      "117/117 [==============================] - 1s 5ms/step - loss: 17555.0508 - val_loss: 24038.3691\n",
      "Epoch 45/200\n",
      "117/117 [==============================] - 1s 6ms/step - loss: 17251.1133 - val_loss: 24140.7852\n",
      "Epoch 46/200\n",
      "117/117 [==============================] - 1s 6ms/step - loss: 17134.8105 - val_loss: 23619.2773\n",
      "Epoch 47/200\n",
      "117/117 [==============================] - 1s 6ms/step - loss: 16928.4707 - val_loss: 23630.1133\n",
      "Epoch 48/200\n",
      "117/117 [==============================] - 1s 6ms/step - loss: 17155.0508 - val_loss: 23375.8398\n",
      "Epoch 49/200\n",
      "117/117 [==============================] - 1s 9ms/step - loss: 16586.9941 - val_loss: 24380.3848\n",
      "Epoch 50/200\n",
      "117/117 [==============================] - 1s 8ms/step - loss: 16505.9727 - val_loss: 23779.2910\n",
      "Epoch 51/200\n",
      "117/117 [==============================] - 1s 8ms/step - loss: 16485.5977 - val_loss: 23908.1016\n",
      "Epoch 52/200\n",
      "117/117 [==============================] - 1s 6ms/step - loss: 16251.5996 - val_loss: 24114.3887\n",
      "Epoch 53/200\n",
      "117/117 [==============================] - 1s 6ms/step - loss: 16022.8174 - val_loss: 23747.9531\n",
      "934/934 [==============================] - 2s 2ms/step\n",
      "234/234 [==============================] - 0s 2ms/step\n"
     ]
    }
   ],
   "source": [
    "X = df.drop(columns=['price'])\n",
    "y = df['price']\n",
    "# train_test split\n",
    "X_train, X_test, y_train, y_test = train_test_split(X, y,\n",
    "                                                    random_state=42,\n",
    "                                                    test_size=0.2)\n",
    "\n",
    "# column transformer to one hot encode categorical features\n",
    "ohe = OneHotEncoder(drop='first', handle_unknown='ignore', sparse_output=False)\n",
    "onehot_cat = ColumnTransformer(\n",
    "    transformers=[\n",
    "        ('ohe_zip', ohe, ['zipcode']),\n",
    "        ('ohe_time', ohe, ['time_quarter'])\n",
    "    ], remainder='passthrough')\n",
    "# create pipeline\n",
    "nn_pipeline = Pipeline([\n",
    "    ('ohe_cols', onehot_cat), # column transformer for cat features\n",
    "    ('ss', StandardScaler()), # standard scaler\n",
    "    ])\n",
    "\n",
    "Z_train = nn_pipeline.fit_transform(X_train)\n",
    "Z_test = nn_pipeline.transform(X_test)\n",
    "\n",
    "# build the sequential nn\n",
    "nn_numeric = Sequential()\n",
    "# add a hidden layer\n",
    "nn_numeric.add(Dense(128,\n",
    "                     activation='relu',\n",
    "                     input_shape=(56,)))\n",
    "# add a hidden layer\n",
    "nn_numeric.add(Dense(256,\n",
    "                     activation='relu'))\n",
    "# add a hidden layer\n",
    "nn_numeric.add(Dense(128,\n",
    "                     activation='relu'))\n",
    "# add a hidden layer\n",
    "nn_numeric.add(Dense(32,\n",
    "                     activation='relu'))\n",
    "# add output layer\n",
    "nn_numeric.add(Dense(1,\n",
    "                     activation=None))\n",
    "\n",
    "# compile the model\n",
    "nn_numeric.compile(loss='mse',\n",
    "                   optimizer='adam')\n",
    "\n",
    "# fit the model\n",
    "es = EarlyStopping(patience = 5)\n",
    "nn_numeric.fit(Z_train, y_train,\n",
    "               epochs=200,\n",
    "               batch_size=256,\n",
    "               callbacks=[es],\n",
    "               validation_data=(Z_test, y_test))\n",
    "\n",
    "# predict data\n",
    "preds_train = nn_numeric.predict(Z_train)\n",
    "preds_test = nn_numeric.predict(Z_test)"
   ]
  },
  {
   "cell_type": "code",
   "execution_count": 13,
   "id": "JOiIBLAnpQaN",
   "metadata": {
    "colab": {
     "base_uri": "https://localhost:8080/"
    },
    "id": "JOiIBLAnpQaN",
    "outputId": "cb838c43-39bf-47dd-94bd-ad1643375be2"
   },
   "outputs": [
    {
     "name": "stdout",
     "output_type": "stream",
     "text": [
      "Train data R2 = 0.7168\n",
      "Train data MAE ($) = 73\n",
      "Test data R2 = 0.5833\n",
      "Test data MAE ($) = 88\n"
     ]
    }
   ],
   "source": [
    "print(f'Train data R2 = {round(r2_score(y_train, preds_train), 4)}')\n",
    "print(f'Train data MAE ($) = {int(mean_absolute_error(y_train, preds_train))}')\n",
    "print(f'Test data R2 = {round(r2_score(y_test, preds_test), 4)}')\n",
    "print(f'Test data MAE ($) = {int(mean_absolute_error(y_test, preds_test))}')"
   ]
  },
  {
   "cell_type": "markdown",
   "id": "UjxPscbSsfKB",
   "metadata": {
    "id": "UjxPscbSsfKB"
   },
   "source": [
    "By using all of the features, we were able to bump the test R2 score closer to 0.60 for modeling airbnb prices."
   ]
  },
  {
   "cell_type": "markdown",
   "id": "rMa_YnPntOvg",
   "metadata": {
    "id": "rMa_YnPntOvg"
   },
   "source": [
    "__Highlights:__\n",
    "- Using NN with multiple hidden layers and all of the features improved the R2 score of the test data to values close to 0.60."
   ]
  },
  {
   "cell_type": "markdown",
   "id": "d71a857b-e5d5-430c-9a55-6c8f70088aac",
   "metadata": {
    "id": "d71a857b-e5d5-430c-9a55-6c8f70088aac"
   },
   "source": [
    "## XGBoost regressor"
   ]
  },
  {
   "cell_type": "markdown",
   "id": "cf48cbf3-86e5-4b9c-8c3f-633c46fabc94",
   "metadata": {
    "id": "cf48cbf3-86e5-4b9c-8c3f-633c46fabc94"
   },
   "source": [
    "In this section, we will try to model the listing price using XGBoost. First, define the object columns as categories and then create the object and run it. "
   ]
  },
  {
   "cell_type": "code",
   "execution_count": 3,
   "id": "g7jmXO72d_sV",
   "metadata": {
    "colab": {
     "base_uri": "https://localhost:8080/"
    },
    "id": "g7jmXO72d_sV",
    "outputId": "6564965c-cf8e-4fbe-a21e-a59a0bd5ddb5"
   },
   "outputs": [
    {
     "name": "stderr",
     "output_type": "stream",
     "text": [
      "c:\\Users\\masou\\anaconda3\\Lib\\site-packages\\skopt\\optimizer\\optimizer.py:449: UserWarning: The objective has been evaluated at this point before.\n",
      "  warnings.warn(\"The objective has been evaluated \"\n",
      "c:\\Users\\masou\\anaconda3\\Lib\\site-packages\\skopt\\optimizer\\optimizer.py:449: UserWarning: The objective has been evaluated at this point before.\n",
      "  warnings.warn(\"The objective has been evaluated \"\n",
      "c:\\Users\\masou\\anaconda3\\Lib\\site-packages\\skopt\\optimizer\\optimizer.py:449: UserWarning: The objective has been evaluated at this point before.\n",
      "  warnings.warn(\"The objective has been evaluated \"\n"
     ]
    },
    {
     "name": "stdout",
     "output_type": "stream",
     "text": [
      "=============\n",
      "OrderedDict([('colsample_bytree', 1.0), ('eta', 0.2), ('gamma', 0.1), ('learning_rate', 0.1), ('max_depth', 10), ('min_child_weight', 5), ('n_estimators', 150), ('reg_alpha', 0.1), ('subsample', 0.9)])\n",
      "-74.26020099242271\n"
     ]
    }
   ],
   "source": [
    "df_xgb = df.copy()\n",
    "# convert the type into category\n",
    "df_xgb[['zipcode', 'time_quarter']] = df_xgb[['zipcode', 'time_quarter']].astype('category')\n",
    "\n",
    "X = df_xgb.drop(columns=['price'])\n",
    "y = df_xgb['price']\n",
    "# train_test split\n",
    "X_train, X_test, y_train, y_test = train_test_split(X, y,\n",
    "                                                    random_state=42,\n",
    "                                                    test_size=0.2)\n",
    "\n",
    "\n",
    "# create the xgb instance\n",
    "xgb_reg = xgb.XGBRegressor(enable_categorical=True)\n",
    "\n",
    "param_space = {\n",
    "    'n_estimators': [50, 100, 150],\n",
    "    'learning_rate': [0.1, 0.2, 0.4, 0.6, 0.8],\n",
    "    'max_depth': [5, 8, 10], # this has significant effects on R2\n",
    "    'subsample': [0.5, 0.9, 1.0],\n",
    "    'colsample_bytree': [0.5, 0.8, 1.0],\n",
    "    'reg_alpha': [ 0.001, 0.01, 0.1, 1],\n",
    "    'gamma': [0.1, 1, 3],\n",
    "    'eta': [0.2, 0.5],\n",
    "    'min_child_weight': [5, 7]\n",
    "\n",
    "}\n",
    "bayes_xgb_reg = BayesSearchCV(xgb_reg,\n",
    "                         param_space,\n",
    "                         cv=5,\n",
    "                         verbose=0,\n",
    "                         n_iter=50,\n",
    "                         scoring='neg_mean_absolute_error',\n",
    "                         random_state=42)\n",
    "bayes_xgb_reg.fit(X_train, y_train)\n",
    "\n",
    "\n",
    "# predict data\n",
    "preds_train = bayes_xgb_reg.predict(X_train)\n",
    "preds_test = bayes_xgb_reg.predict(X_test)\n",
    "\n",
    "# parameters for the best estimator\n",
    "print('=============')\n",
    "print(bayes_xgb_reg.best_params_)\n",
    "print(bayes_xgb_reg.best_score_)"
   ]
  },
  {
   "cell_type": "code",
   "execution_count": 4,
   "id": "JK198REzeEt5",
   "metadata": {
    "id": "JK198REzeEt5"
   },
   "outputs": [
    {
     "name": "stdout",
     "output_type": "stream",
     "text": [
      "Train data R2 = 0.904\n",
      "Train data MAE ($) = 42\n",
      "Test data R2 = 0.7039\n",
      "Test data MAE ($) = 72\n"
     ]
    }
   ],
   "source": [
    "print(f'Train data R2 = {round(r2_score(y_train, preds_train), 4)}')\n",
    "print(f'Train data MAE ($) = {int(mean_absolute_error(y_train, preds_train))}')\n",
    "print(f'Test data R2 = {round(r2_score(y_test, preds_test), 4)}')\n",
    "print(f'Test data MAE ($) = {int(mean_absolute_error(y_test, preds_test))}')"
   ]
  },
  {
   "cell_type": "markdown",
   "id": "x2l7wy5TeNSm",
   "metadata": {
    "id": "x2l7wy5TeNSm"
   },
   "source": [
    "As we can see from the results, we have been able to get a R2 score of 0.71 with XGBoost. The tree based algorithms are prone to overfitting and in order to control it, we have tried different hyperparameter tunings. `BayesSearchCV` was used to exhaust all the possible hyperparameter tunining options without increasing the runtime drastically."
   ]
  },
  {
   "cell_type": "markdown",
   "id": "694304c9",
   "metadata": {},
   "source": [
    "We will save this model to use for our predictions."
   ]
  },
  {
   "cell_type": "code",
   "execution_count": 7,
   "id": "6513c49b",
   "metadata": {},
   "outputs": [],
   "source": [
    "# save\n",
    "pickle.dump(bayes_xgb_reg, open('./../model_files/xgb_price.pkl', \"wb\"))"
   ]
  },
  {
   "cell_type": "markdown",
   "id": "Htc5TKvUZ6Ud",
   "metadata": {
    "id": "Htc5TKvUZ6Ud"
   },
   "source": [
    "__Highlights:__\n",
    "- XGBoost gives us a test R2 of 0.71 after trying different hyperparameter tuning approaches."
   ]
  },
  {
   "cell_type": "markdown",
   "id": "fc23554c",
   "metadata": {},
   "source": [
    "## Key takeaways:\n",
    "- Linear regression model performs better when we consider quadratic interaction terms and use Ridge/Lasso regularization. \n",
    "- Our model strugle more for the higher home prices and also for cases with a higher number of bedrooms/baths.\n",
    "- Neural networks doesn't provide that much of improvements in modeling compared to the best linear regression model and need more work.\n",
    "- XGBoost performed the best with an R2 score of 0.71 on the test data. "
   ]
  }
 ],
 "metadata": {
  "colab": {
   "include_colab_link": true,
   "provenance": []
  },
  "kernelspec": {
   "display_name": "Python 3 (ipykernel)",
   "language": "python",
   "name": "python3"
  },
  "language_info": {
   "codemirror_mode": {
    "name": "ipython",
    "version": 3
   },
   "file_extension": ".py",
   "mimetype": "text/x-python",
   "name": "python",
   "nbconvert_exporter": "python",
   "pygments_lexer": "ipython3",
   "version": "3.11.4"
  }
 },
 "nbformat": 4,
 "nbformat_minor": 5
}
