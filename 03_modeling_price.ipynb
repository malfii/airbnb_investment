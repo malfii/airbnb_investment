{
  "cells": [
    {
      "cell_type": "markdown",
      "metadata": {
        "id": "view-in-github",
        "colab_type": "text"
      },
      "source": [
        "<a href=\"https://colab.research.google.com/github/malfii/airbnb_investment/blob/main/03_modeling_price.ipynb\" target=\"_parent\"><img src=\"https://colab.research.google.com/assets/colab-badge.svg\" alt=\"Open In Colab\"/></a>"
      ]
    },
    {
      "cell_type": "markdown",
      "id": "fd7aedad-7585-4c12-937b-11b1a61a480c",
      "metadata": {
        "id": "fd7aedad-7585-4c12-937b-11b1a61a480c"
      },
      "source": [
        "# Modeling listing prices"
      ]
    },
    {
      "cell_type": "markdown",
      "id": "294a6507",
      "metadata": {
        "id": "294a6507"
      },
      "source": [
        "In this notebook, we will use different approaches to model listing price. The target variable in this notebook is the `price` column in our cleaned data."
      ]
    },
    {
      "cell_type": "code",
      "execution_count": 2,
      "id": "d8d04b0a",
      "metadata": {
        "colab": {
          "base_uri": "https://localhost:8080/"
        },
        "id": "d8d04b0a",
        "outputId": "7d2b0499-22ee-4216-bce3-09c067cd5362"
      },
      "outputs": [
        {
          "output_type": "stream",
          "name": "stdout",
          "text": [
            "Collecting scikit-optimize\n",
            "  Downloading scikit_optimize-0.9.0-py2.py3-none-any.whl (100 kB)\n",
            "\u001b[2K     \u001b[90m━━━━━━━━━━━━━━━━━━━━━━━━━━━━━━━━━━━━━━━━\u001b[0m \u001b[32m100.3/100.3 kB\u001b[0m \u001b[31m2.1 MB/s\u001b[0m eta \u001b[36m0:00:00\u001b[0m\n",
            "\u001b[?25hRequirement already satisfied: joblib>=0.11 in /usr/local/lib/python3.10/dist-packages (from scikit-optimize) (1.3.2)\n",
            "Collecting pyaml>=16.9 (from scikit-optimize)\n",
            "  Downloading pyaml-23.12.0-py3-none-any.whl (23 kB)\n",
            "Requirement already satisfied: numpy>=1.13.3 in /usr/local/lib/python3.10/dist-packages (from scikit-optimize) (1.23.5)\n",
            "Requirement already satisfied: scipy>=0.19.1 in /usr/local/lib/python3.10/dist-packages (from scikit-optimize) (1.11.4)\n",
            "Requirement already satisfied: scikit-learn>=0.20.0 in /usr/local/lib/python3.10/dist-packages (from scikit-optimize) (1.2.2)\n",
            "Requirement already satisfied: PyYAML in /usr/local/lib/python3.10/dist-packages (from pyaml>=16.9->scikit-optimize) (6.0.1)\n",
            "Requirement already satisfied: threadpoolctl>=2.0.0 in /usr/local/lib/python3.10/dist-packages (from scikit-learn>=0.20.0->scikit-optimize) (3.2.0)\n",
            "Installing collected packages: pyaml, scikit-optimize\n",
            "Successfully installed pyaml-23.12.0 scikit-optimize-0.9.0\n"
          ]
        }
      ],
      "source": [
        "# imports\n",
        "import pandas as pd\n",
        "import numpy as np\n",
        "import matplotlib.pyplot as plt\n",
        "import seaborn as sns\n",
        "\n",
        "# sklearn\n",
        "from sklearn.model_selection import train_test_split, GridSearchCV, RandomizedSearchCV\n",
        "\n",
        "from sklearn.preprocessing import OneHotEncoder, StandardScaler, PolynomialFeatures\n",
        "from sklearn.compose import ColumnTransformer\n",
        "from sklearn.pipeline import Pipeline\n",
        "from sklearn.linear_model import LinearRegression, Ridge, Lasso\n",
        "from sklearn.metrics import mean_absolute_error, mean_squared_error, r2_score\n",
        "\n",
        "# xgboost\n",
        "import xgboost as xgb\n",
        "\n",
        "#Bayesian optimizer\n",
        "!pip install scikit-optimize\n",
        "from skopt import BayesSearchCV\n",
        "\n",
        "# tensorflow/keras\n",
        "from tensorflow.keras.models import Sequential\n",
        "from tensorflow.keras.layers import Dense\n",
        "from tensorflow.keras.callbacks import EarlyStopping\n",
        "\n"
      ]
    },
    {
      "cell_type": "code",
      "execution_count": 3,
      "id": "d5ffb61b",
      "metadata": {
        "colab": {
          "base_uri": "https://localhost:8080/",
          "height": 226
        },
        "id": "d5ffb61b",
        "outputId": "6d593228-029a-44b8-e4a3-fd117dcdd5ea"
      },
      "outputs": [
        {
          "output_type": "execute_result",
          "data": {
            "text/plain": [
              "   bedrooms  beds  bath  zipcode  host_is_superhost  review_scores_rating  \\\n",
              "0         1     2   1.0    78702                  1                  4.84   \n",
              "1         0     1   1.0    78704                  0                  4.97   \n",
              "2         1     2   1.0    78704                  1                  4.97   \n",
              "3         1     1   1.0    78741                  0                  4.56   \n",
              "4         2     2   2.0    78702                  1                  5.00   \n",
              "\n",
              "  time_quarter  has_pool  is_petfriendly  has_workspace  has_freeparking  \\\n",
              "0           Q4         0               0              0                0   \n",
              "1           Q4         0               0              1                0   \n",
              "2           Q4         0               0              1                1   \n",
              "3           Q4         0               1              0                0   \n",
              "4           Q4         0               0              1                0   \n",
              "\n",
              "   has_gym  home_price_aprx       price  \n",
              "0        0           613000  101.000000  \n",
              "1        0           802000   91.666667  \n",
              "2        0           802000  159.000000  \n",
              "3        0           397000   48.000000  \n",
              "4        0           613000  123.000000  "
            ],
            "text/html": [
              "\n",
              "  <div id=\"df-4bd49c11-e86e-4e27-9110-a4251dc570a7\" class=\"colab-df-container\">\n",
              "    <div>\n",
              "<style scoped>\n",
              "    .dataframe tbody tr th:only-of-type {\n",
              "        vertical-align: middle;\n",
              "    }\n",
              "\n",
              "    .dataframe tbody tr th {\n",
              "        vertical-align: top;\n",
              "    }\n",
              "\n",
              "    .dataframe thead th {\n",
              "        text-align: right;\n",
              "    }\n",
              "</style>\n",
              "<table border=\"1\" class=\"dataframe\">\n",
              "  <thead>\n",
              "    <tr style=\"text-align: right;\">\n",
              "      <th></th>\n",
              "      <th>bedrooms</th>\n",
              "      <th>beds</th>\n",
              "      <th>bath</th>\n",
              "      <th>zipcode</th>\n",
              "      <th>host_is_superhost</th>\n",
              "      <th>review_scores_rating</th>\n",
              "      <th>time_quarter</th>\n",
              "      <th>has_pool</th>\n",
              "      <th>is_petfriendly</th>\n",
              "      <th>has_workspace</th>\n",
              "      <th>has_freeparking</th>\n",
              "      <th>has_gym</th>\n",
              "      <th>home_price_aprx</th>\n",
              "      <th>price</th>\n",
              "    </tr>\n",
              "  </thead>\n",
              "  <tbody>\n",
              "    <tr>\n",
              "      <th>0</th>\n",
              "      <td>1</td>\n",
              "      <td>2</td>\n",
              "      <td>1.0</td>\n",
              "      <td>78702</td>\n",
              "      <td>1</td>\n",
              "      <td>4.84</td>\n",
              "      <td>Q4</td>\n",
              "      <td>0</td>\n",
              "      <td>0</td>\n",
              "      <td>0</td>\n",
              "      <td>0</td>\n",
              "      <td>0</td>\n",
              "      <td>613000</td>\n",
              "      <td>101.000000</td>\n",
              "    </tr>\n",
              "    <tr>\n",
              "      <th>1</th>\n",
              "      <td>0</td>\n",
              "      <td>1</td>\n",
              "      <td>1.0</td>\n",
              "      <td>78704</td>\n",
              "      <td>0</td>\n",
              "      <td>4.97</td>\n",
              "      <td>Q4</td>\n",
              "      <td>0</td>\n",
              "      <td>0</td>\n",
              "      <td>1</td>\n",
              "      <td>0</td>\n",
              "      <td>0</td>\n",
              "      <td>802000</td>\n",
              "      <td>91.666667</td>\n",
              "    </tr>\n",
              "    <tr>\n",
              "      <th>2</th>\n",
              "      <td>1</td>\n",
              "      <td>2</td>\n",
              "      <td>1.0</td>\n",
              "      <td>78704</td>\n",
              "      <td>1</td>\n",
              "      <td>4.97</td>\n",
              "      <td>Q4</td>\n",
              "      <td>0</td>\n",
              "      <td>0</td>\n",
              "      <td>1</td>\n",
              "      <td>1</td>\n",
              "      <td>0</td>\n",
              "      <td>802000</td>\n",
              "      <td>159.000000</td>\n",
              "    </tr>\n",
              "    <tr>\n",
              "      <th>3</th>\n",
              "      <td>1</td>\n",
              "      <td>1</td>\n",
              "      <td>1.0</td>\n",
              "      <td>78741</td>\n",
              "      <td>0</td>\n",
              "      <td>4.56</td>\n",
              "      <td>Q4</td>\n",
              "      <td>0</td>\n",
              "      <td>1</td>\n",
              "      <td>0</td>\n",
              "      <td>0</td>\n",
              "      <td>0</td>\n",
              "      <td>397000</td>\n",
              "      <td>48.000000</td>\n",
              "    </tr>\n",
              "    <tr>\n",
              "      <th>4</th>\n",
              "      <td>2</td>\n",
              "      <td>2</td>\n",
              "      <td>2.0</td>\n",
              "      <td>78702</td>\n",
              "      <td>1</td>\n",
              "      <td>5.00</td>\n",
              "      <td>Q4</td>\n",
              "      <td>0</td>\n",
              "      <td>0</td>\n",
              "      <td>1</td>\n",
              "      <td>0</td>\n",
              "      <td>0</td>\n",
              "      <td>613000</td>\n",
              "      <td>123.000000</td>\n",
              "    </tr>\n",
              "  </tbody>\n",
              "</table>\n",
              "</div>\n",
              "    <div class=\"colab-df-buttons\">\n",
              "\n",
              "  <div class=\"colab-df-container\">\n",
              "    <button class=\"colab-df-convert\" onclick=\"convertToInteractive('df-4bd49c11-e86e-4e27-9110-a4251dc570a7')\"\n",
              "            title=\"Convert this dataframe to an interactive table.\"\n",
              "            style=\"display:none;\">\n",
              "\n",
              "  <svg xmlns=\"http://www.w3.org/2000/svg\" height=\"24px\" viewBox=\"0 -960 960 960\">\n",
              "    <path d=\"M120-120v-720h720v720H120Zm60-500h600v-160H180v160Zm220 220h160v-160H400v160Zm0 220h160v-160H400v160ZM180-400h160v-160H180v160Zm440 0h160v-160H620v160ZM180-180h160v-160H180v160Zm440 0h160v-160H620v160Z\"/>\n",
              "  </svg>\n",
              "    </button>\n",
              "\n",
              "  <style>\n",
              "    .colab-df-container {\n",
              "      display:flex;\n",
              "      gap: 12px;\n",
              "    }\n",
              "\n",
              "    .colab-df-convert {\n",
              "      background-color: #E8F0FE;\n",
              "      border: none;\n",
              "      border-radius: 50%;\n",
              "      cursor: pointer;\n",
              "      display: none;\n",
              "      fill: #1967D2;\n",
              "      height: 32px;\n",
              "      padding: 0 0 0 0;\n",
              "      width: 32px;\n",
              "    }\n",
              "\n",
              "    .colab-df-convert:hover {\n",
              "      background-color: #E2EBFA;\n",
              "      box-shadow: 0px 1px 2px rgba(60, 64, 67, 0.3), 0px 1px 3px 1px rgba(60, 64, 67, 0.15);\n",
              "      fill: #174EA6;\n",
              "    }\n",
              "\n",
              "    .colab-df-buttons div {\n",
              "      margin-bottom: 4px;\n",
              "    }\n",
              "\n",
              "    [theme=dark] .colab-df-convert {\n",
              "      background-color: #3B4455;\n",
              "      fill: #D2E3FC;\n",
              "    }\n",
              "\n",
              "    [theme=dark] .colab-df-convert:hover {\n",
              "      background-color: #434B5C;\n",
              "      box-shadow: 0px 1px 3px 1px rgba(0, 0, 0, 0.15);\n",
              "      filter: drop-shadow(0px 1px 2px rgba(0, 0, 0, 0.3));\n",
              "      fill: #FFFFFF;\n",
              "    }\n",
              "  </style>\n",
              "\n",
              "    <script>\n",
              "      const buttonEl =\n",
              "        document.querySelector('#df-4bd49c11-e86e-4e27-9110-a4251dc570a7 button.colab-df-convert');\n",
              "      buttonEl.style.display =\n",
              "        google.colab.kernel.accessAllowed ? 'block' : 'none';\n",
              "\n",
              "      async function convertToInteractive(key) {\n",
              "        const element = document.querySelector('#df-4bd49c11-e86e-4e27-9110-a4251dc570a7');\n",
              "        const dataTable =\n",
              "          await google.colab.kernel.invokeFunction('convertToInteractive',\n",
              "                                                    [key], {});\n",
              "        if (!dataTable) return;\n",
              "\n",
              "        const docLinkHtml = 'Like what you see? Visit the ' +\n",
              "          '<a target=\"_blank\" href=https://colab.research.google.com/notebooks/data_table.ipynb>data table notebook</a>'\n",
              "          + ' to learn more about interactive tables.';\n",
              "        element.innerHTML = '';\n",
              "        dataTable['output_type'] = 'display_data';\n",
              "        await google.colab.output.renderOutput(dataTable, element);\n",
              "        const docLink = document.createElement('div');\n",
              "        docLink.innerHTML = docLinkHtml;\n",
              "        element.appendChild(docLink);\n",
              "      }\n",
              "    </script>\n",
              "  </div>\n",
              "\n",
              "\n",
              "<div id=\"df-115d1fd2-ac00-4d8e-b22e-cfd0fa5977a0\">\n",
              "  <button class=\"colab-df-quickchart\" onclick=\"quickchart('df-115d1fd2-ac00-4d8e-b22e-cfd0fa5977a0')\"\n",
              "            title=\"Suggest charts\"\n",
              "            style=\"display:none;\">\n",
              "\n",
              "<svg xmlns=\"http://www.w3.org/2000/svg\" height=\"24px\"viewBox=\"0 0 24 24\"\n",
              "     width=\"24px\">\n",
              "    <g>\n",
              "        <path d=\"M19 3H5c-1.1 0-2 .9-2 2v14c0 1.1.9 2 2 2h14c1.1 0 2-.9 2-2V5c0-1.1-.9-2-2-2zM9 17H7v-7h2v7zm4 0h-2V7h2v10zm4 0h-2v-4h2v4z\"/>\n",
              "    </g>\n",
              "</svg>\n",
              "  </button>\n",
              "\n",
              "<style>\n",
              "  .colab-df-quickchart {\n",
              "      --bg-color: #E8F0FE;\n",
              "      --fill-color: #1967D2;\n",
              "      --hover-bg-color: #E2EBFA;\n",
              "      --hover-fill-color: #174EA6;\n",
              "      --disabled-fill-color: #AAA;\n",
              "      --disabled-bg-color: #DDD;\n",
              "  }\n",
              "\n",
              "  [theme=dark] .colab-df-quickchart {\n",
              "      --bg-color: #3B4455;\n",
              "      --fill-color: #D2E3FC;\n",
              "      --hover-bg-color: #434B5C;\n",
              "      --hover-fill-color: #FFFFFF;\n",
              "      --disabled-bg-color: #3B4455;\n",
              "      --disabled-fill-color: #666;\n",
              "  }\n",
              "\n",
              "  .colab-df-quickchart {\n",
              "    background-color: var(--bg-color);\n",
              "    border: none;\n",
              "    border-radius: 50%;\n",
              "    cursor: pointer;\n",
              "    display: none;\n",
              "    fill: var(--fill-color);\n",
              "    height: 32px;\n",
              "    padding: 0;\n",
              "    width: 32px;\n",
              "  }\n",
              "\n",
              "  .colab-df-quickchart:hover {\n",
              "    background-color: var(--hover-bg-color);\n",
              "    box-shadow: 0 1px 2px rgba(60, 64, 67, 0.3), 0 1px 3px 1px rgba(60, 64, 67, 0.15);\n",
              "    fill: var(--button-hover-fill-color);\n",
              "  }\n",
              "\n",
              "  .colab-df-quickchart-complete:disabled,\n",
              "  .colab-df-quickchart-complete:disabled:hover {\n",
              "    background-color: var(--disabled-bg-color);\n",
              "    fill: var(--disabled-fill-color);\n",
              "    box-shadow: none;\n",
              "  }\n",
              "\n",
              "  .colab-df-spinner {\n",
              "    border: 2px solid var(--fill-color);\n",
              "    border-color: transparent;\n",
              "    border-bottom-color: var(--fill-color);\n",
              "    animation:\n",
              "      spin 1s steps(1) infinite;\n",
              "  }\n",
              "\n",
              "  @keyframes spin {\n",
              "    0% {\n",
              "      border-color: transparent;\n",
              "      border-bottom-color: var(--fill-color);\n",
              "      border-left-color: var(--fill-color);\n",
              "    }\n",
              "    20% {\n",
              "      border-color: transparent;\n",
              "      border-left-color: var(--fill-color);\n",
              "      border-top-color: var(--fill-color);\n",
              "    }\n",
              "    30% {\n",
              "      border-color: transparent;\n",
              "      border-left-color: var(--fill-color);\n",
              "      border-top-color: var(--fill-color);\n",
              "      border-right-color: var(--fill-color);\n",
              "    }\n",
              "    40% {\n",
              "      border-color: transparent;\n",
              "      border-right-color: var(--fill-color);\n",
              "      border-top-color: var(--fill-color);\n",
              "    }\n",
              "    60% {\n",
              "      border-color: transparent;\n",
              "      border-right-color: var(--fill-color);\n",
              "    }\n",
              "    80% {\n",
              "      border-color: transparent;\n",
              "      border-right-color: var(--fill-color);\n",
              "      border-bottom-color: var(--fill-color);\n",
              "    }\n",
              "    90% {\n",
              "      border-color: transparent;\n",
              "      border-bottom-color: var(--fill-color);\n",
              "    }\n",
              "  }\n",
              "</style>\n",
              "\n",
              "  <script>\n",
              "    async function quickchart(key) {\n",
              "      const quickchartButtonEl =\n",
              "        document.querySelector('#' + key + ' button');\n",
              "      quickchartButtonEl.disabled = true;  // To prevent multiple clicks.\n",
              "      quickchartButtonEl.classList.add('colab-df-spinner');\n",
              "      try {\n",
              "        const charts = await google.colab.kernel.invokeFunction(\n",
              "            'suggestCharts', [key], {});\n",
              "      } catch (error) {\n",
              "        console.error('Error during call to suggestCharts:', error);\n",
              "      }\n",
              "      quickchartButtonEl.classList.remove('colab-df-spinner');\n",
              "      quickchartButtonEl.classList.add('colab-df-quickchart-complete');\n",
              "    }\n",
              "    (() => {\n",
              "      let quickchartButtonEl =\n",
              "        document.querySelector('#df-115d1fd2-ac00-4d8e-b22e-cfd0fa5977a0 button');\n",
              "      quickchartButtonEl.style.display =\n",
              "        google.colab.kernel.accessAllowed ? 'block' : 'none';\n",
              "    })();\n",
              "  </script>\n",
              "</div>\n",
              "\n",
              "    </div>\n",
              "  </div>\n"
            ]
          },
          "metadata": {},
          "execution_count": 3
        }
      ],
      "source": [
        "#df = pd.read_csv('./../data/austin_listings_clean.csv').drop(columns=['occupancy_rate'])\n",
        "df = pd.read_csv('https://raw.githubusercontent.com/malfii/airbnb_investment/main/data/austin_listings_clean.csv').drop(columns=['occupancy_rate'])\n",
        "df.head(5)"
      ]
    },
    {
      "cell_type": "markdown",
      "id": "d54523d5",
      "metadata": {
        "id": "d54523d5"
      },
      "source": [
        "## Correlation between different features"
      ]
    },
    {
      "cell_type": "code",
      "execution_count": 8,
      "id": "cbb0ce0e",
      "metadata": {
        "colab": {
          "base_uri": "https://localhost:8080/",
          "height": 731
        },
        "id": "cbb0ce0e",
        "outputId": "8c8f0a90-004f-46ee-88ca-9232bfb60d70"
      },
      "outputs": [
        {
          "output_type": "stream",
          "name": "stderr",
          "text": [
            "<ipython-input-8-afb412dfb271>:3: FutureWarning: The default value of numeric_only in DataFrame.corr is deprecated. In a future version, it will default to False. Select only valid columns or specify the value of numeric_only to silence this warning.\n",
            "  corr = round(df.corr(), 2)\n"
          ]
        },
        {
          "output_type": "display_data",
          "data": {
            "text/plain": [
              "<Figure size 800x600 with 2 Axes>"
            ],
            "image/png": "[encoded data removed]"
          },
          "metadata": {}
        }
      ],
      "source": [
        "# plot the correlation matrix heatmap\n",
        "plt.figure(figsize=(8, 6))\n",
        "corr = round(df.corr(), 2)\n",
        "mask = np.triu(np.ones_like(corr))\n",
        "sns.heatmap(corr, mask=mask, annot=True, cmap='bone',\n",
        "            vmin = -1, vmax=1)\n",
        "plt.title('Correlation heatmap');\n",
        "\n"
      ]
    },
    {
      "cell_type": "markdown",
      "id": "0c116735",
      "metadata": {
        "id": "0c116735"
      },
      "source": [
        "From this graph, we can see the listing price shows the highest correlation with bedrooms, baths,and homeprice. Note that categorical features like the time of the listing is not considered here."
      ]
    },
    {
      "cell_type": "markdown",
      "id": "1d04e905",
      "metadata": {
        "id": "1d04e905"
      },
      "source": [
        "Also, looking at the correlation matrix heatmap, we can say features like beds, bedrooms, and bath are correlated to each other. Another interesting observation is the fact that the houses that have pool are more likely to have gym as well."
      ]
    },
    {
      "cell_type": "markdown",
      "id": "16724b10",
      "metadata": {
        "id": "16724b10"
      },
      "source": [
        "## Null model"
      ]
    },
    {
      "cell_type": "markdown",
      "id": "7e87b5cb",
      "metadata": {
        "id": "7e87b5cb"
      },
      "source": [
        "We will start our analysis with the null model. For this, the average listing price will be considered as our prediction."
      ]
    },
    {
      "cell_type": "code",
      "execution_count": 9,
      "id": "327b069b",
      "metadata": {
        "colab": {
          "base_uri": "https://localhost:8080/"
        },
        "id": "327b069b",
        "outputId": "38432949-9adc-43f5-e108-178ecee0768e"
      },
      "outputs": [
        {
          "output_type": "stream",
          "name": "stdout",
          "text": [
            "predicted price for the null model: $246/night\n"
          ]
        }
      ],
      "source": [
        "# create a dataframe for the null model\n",
        "df_null_model = df.copy()\n",
        "X = df_null_model.drop(columns=['price'])\n",
        "y = df_null_model['price']\n",
        "# train test split\n",
        "X_train, X_test, y_train, y_test = train_test_split(X, y,\n",
        "                                                    random_state=42,\n",
        "                                                    test_size=0.2)\n",
        "pred = y_train.mean()\n",
        "print(f'predicted price for the null model: ${int(pred)}/night')"
      ]
    },
    {
      "cell_type": "code",
      "execution_count": 10,
      "id": "686e590b",
      "metadata": {
        "colab": {
          "base_uri": "https://localhost:8080/"
        },
        "id": "686e590b",
        "outputId": "e93467c9-eaa1-4d8b-b733-8e3b8aaa18d6"
      },
      "outputs": [
        {
          "output_type": "stream",
          "name": "stdout",
          "text": [
            "Train data R2 = 0.0\n",
            "Train data MAE ($) = 152\n",
            "Test data R2 = -0.0002555833763804305\n",
            "Test data MAE ($) = 154\n"
          ]
        }
      ],
      "source": [
        "preds_train = pred*np.ones(len(y_train))\n",
        "preds_test = pred*np.ones(len(y_test))\n",
        "print(f'Train data R2 = {r2_score(y_train, preds_train)}')\n",
        "print(f'Train data MAE ($) = {int(mean_absolute_error(y_train, preds_train))}')\n",
        "print(f'Test data R2 = {r2_score(y_test, preds_test)}')\n",
        "print(f'Test data MAE ($) = {int(mean_absolute_error(y_test, preds_test))}')"
      ]
    },
    {
      "cell_type": "markdown",
      "id": "35c3b145-c469-4b50-a432-066f5b94de7d",
      "metadata": {
        "id": "35c3b145-c469-4b50-a432-066f5b94de7d"
      },
      "source": [
        "__Highlights__:"
      ]
    },
    {
      "cell_type": "markdown",
      "id": "aecdd372-5151-4297-accd-d4e8b7fbfa65",
      "metadata": {
        "id": "aecdd372-5151-4297-accd-d4e8b7fbfa65"
      },
      "source": [
        "## Simple linear regression"
      ]
    },
    {
      "cell_type": "markdown",
      "id": "d9110512-1a46-45d5-9132-88646494e1a3",
      "metadata": {
        "id": "d9110512-1a46-45d5-9132-88646494e1a3"
      },
      "source": [
        "We will start our modeling by building a simple linear regression model with a few features that seem to have the highest impact on listing price. The featues are `bedrooms`, `beds`, `bath`, `has_pool`, `time_quarter`, and `home_price_aprx`."
      ]
    },
    {
      "cell_type": "code",
      "execution_count": 11,
      "id": "70c44945-63c7-4c6b-9c94-21e7ee483b52",
      "metadata": {
        "tags": [],
        "id": "70c44945-63c7-4c6b-9c94-21e7ee483b52"
      },
      "outputs": [],
      "source": [
        "X = df[['bedrooms', 'beds', 'bath', 'has_pool', 'time_quarter', 'home_price_aprx']]\n",
        "y = df['price']\n",
        "# train_test split\n",
        "X_train, X_test, y_train, y_test = train_test_split(X, y,\n",
        "                                                    random_state=42,\n",
        "                                                    test_size=0.2)\n",
        "\n",
        "# column transformer to one hot encode categorical features\n",
        "ohe = OneHotEncoder(drop='first', handle_unknown='ignore', sparse_output=False)\n",
        "onehot_cat = ColumnTransformer(\n",
        "    transformers=[\n",
        "        ('ohe_time', ohe, ['time_quarter'])\n",
        "    ], remainder='passthrough')\n",
        "# create pipeline\n",
        "lr_simple_pipeline = Pipeline([\n",
        "    ('ohe_cols', onehot_cat), # column transformer for cat features\n",
        "    ('ss', StandardScaler()), # standard scaler\n",
        "    ('lr', LinearRegression())]\n",
        ")\n",
        "\n",
        "# fit the model\n",
        "lr_simple_pipeline.fit(X_train, y_train)\n",
        "\n",
        "# predict data\n",
        "preds_train = lr_simple_pipeline.predict(X_train)\n",
        "preds_test = lr_simple_pipeline.predict(X_test)"
      ]
    },
    {
      "cell_type": "code",
      "execution_count": 12,
      "id": "e4deab29-23a4-454c-943c-4fecac19102e",
      "metadata": {
        "tags": [],
        "colab": {
          "base_uri": "https://localhost:8080/"
        },
        "id": "e4deab29-23a4-454c-943c-4fecac19102e",
        "outputId": "f7620a64-9be1-4aea-f123-f6b1bd1b0873"
      },
      "outputs": [
        {
          "output_type": "stream",
          "name": "stdout",
          "text": [
            "Train data R2 = 0.4398\n",
            "Train data MAE ($) = 110\n",
            "Test data R2 = 0.4288\n",
            "Test data MAE ($) = 111\n"
          ]
        }
      ],
      "source": [
        "print(f'Train data R2 = {round(r2_score(y_train, preds_train), 4)}')\n",
        "print(f'Train data MAE ($) = {int(mean_absolute_error(y_train, preds_train))}')\n",
        "print(f'Test data R2 = {round(r2_score(y_test, preds_test), 4)}')\n",
        "print(f'Test data MAE ($) = {int(mean_absolute_error(y_test, preds_test))}')"
      ]
    },
    {
      "cell_type": "code",
      "execution_count": 13,
      "id": "9416eff5-dcfd-419a-9064-c30742c7225f",
      "metadata": {
        "tags": [],
        "colab": {
          "base_uri": "https://localhost:8080/",
          "height": 564
        },
        "id": "9416eff5-dcfd-419a-9064-c30742c7225f",
        "outputId": "56af4419-98fc-4db9-8168-06ee7911fc62"
      },
      "outputs": [
        {
          "output_type": "display_data",
          "data": {
            "text/plain": [
              "<Figure size 800x600 with 1 Axes>"
            ],
            "image/png": "[encoded data removed]"
          },
          "metadata": {}
        }
      ],
      "source": [
        "error = y_test - preds_test\n",
        "plt.figure(figsize=(8, 6))\n",
        "sns.scatterplot(x=y_test, y=error)\n",
        "plt.xlabel('Price, $')\n",
        "plt.ylabel('error, $')\n",
        "plt.title('Simple linear regression error')\n",
        "plt.axhline(0, color='orange');"
      ]
    },
    {
      "cell_type": "markdown",
      "id": "699a471a-464b-4ea3-9621-cc70185be5fd",
      "metadata": {
        "id": "699a471a-464b-4ea3-9621-cc70185be5fd"
      },
      "source": [
        "As we can see, the model shows issues modeling the listing prices. Let us see if adding some polynomial terms could help improce the linear model performance.  "
      ]
    },
    {
      "cell_type": "code",
      "execution_count": 14,
      "id": "491413cd-edef-4a55-b3ee-d923f1f53a46",
      "metadata": {
        "tags": [],
        "colab": {
          "base_uri": "https://localhost:8080/"
        },
        "id": "491413cd-edef-4a55-b3ee-d923f1f53a46",
        "outputId": "8e951c5b-a23e-4da5-bde7-0ba36f40b73e"
      },
      "outputs": [
        {
          "output_type": "stream",
          "name": "stdout",
          "text": [
            "New features used in our model:\n"
          ]
        },
        {
          "output_type": "execute_result",
          "data": {
            "text/plain": [
              "array(['1', 'time_quarter_Q2', 'time_quarter_Q3', 'time_quarter_Q4',\n",
              "       'bedrooms', 'beds', 'bath', 'has_pool', 'home_price_aprx',\n",
              "       'time_quarter_Q2^2', 'time_quarter_Q2 time_quarter_Q3',\n",
              "       'time_quarter_Q2 time_quarter_Q4', 'time_quarter_Q2 bedrooms',\n",
              "       'time_quarter_Q2 beds', 'time_quarter_Q2 bath',\n",
              "       'time_quarter_Q2 has_pool', 'time_quarter_Q2 home_price_aprx',\n",
              "       'time_quarter_Q3^2', 'time_quarter_Q3 time_quarter_Q4',\n",
              "       'time_quarter_Q3 bedrooms', 'time_quarter_Q3 beds',\n",
              "       'time_quarter_Q3 bath', 'time_quarter_Q3 has_pool',\n",
              "       'time_quarter_Q3 home_price_aprx', 'time_quarter_Q4^2',\n",
              "       'time_quarter_Q4 bedrooms', 'time_quarter_Q4 beds',\n",
              "       'time_quarter_Q4 bath', 'time_quarter_Q4 has_pool',\n",
              "       'time_quarter_Q4 home_price_aprx', 'bedrooms^2', 'bedrooms beds',\n",
              "       'bedrooms bath', 'bedrooms has_pool', 'bedrooms home_price_aprx',\n",
              "       'beds^2', 'beds bath', 'beds has_pool', 'beds home_price_aprx',\n",
              "       'bath^2', 'bath has_pool', 'bath home_price_aprx', 'has_pool^2',\n",
              "       'has_pool home_price_aprx', 'home_price_aprx^2'], dtype=object)"
            ]
          },
          "metadata": {},
          "execution_count": 14
        }
      ],
      "source": [
        "X = df[['bedrooms', 'beds', 'bath', 'has_pool', 'time_quarter', 'home_price_aprx']]\n",
        "y = df['price']\n",
        "# train_test split\n",
        "X_train, X_test, y_train, y_test = train_test_split(X, y,\n",
        "                                                    random_state=42,\n",
        "                                                    test_size=0.2)\n",
        "\n",
        "# column transformer to one hot encode categorical features\n",
        "ohe = OneHotEncoder(drop='first', handle_unknown='ignore', sparse_output=False)\n",
        "onehot_cat = ColumnTransformer(\n",
        "    transformers=[\n",
        "        ('ohe_time', ohe, ['time_quarter'])\n",
        "    ], remainder='passthrough')\n",
        "# create pipeline\n",
        "lr_simple_poly_pipeline = Pipeline([\n",
        "    ('ohe_cols', onehot_cat), # column transformer for cat features\n",
        "    ('ss', StandardScaler()), # standard scaler\n",
        "    ('poly', PolynomialFeatures(degree=2)), # polynomial feature, quadratic\n",
        "    ('lr', LinearRegression())]\n",
        ")\n",
        "\n",
        "# fit the model\n",
        "lr_simple_poly_pipeline.fit(X_train, y_train)\n",
        "\n",
        "# predict data\n",
        "preds_train = lr_simple_poly_pipeline.predict(X_train)\n",
        "preds_test = lr_simple_poly_pipeline.predict(X_test)\n",
        "\n",
        "# quadratic and first degree interaction terms created\n",
        "print('New features used in our model:')\n",
        "lr_simple_poly_pipeline.named_steps['poly'].get_feature_names_out([\n",
        "            'time_quarter_Q2', 'time_quarter_Q3',\n",
        "            'time_quarter_Q4', 'bedrooms',\n",
        "            'beds', 'bath', 'has_pool','home_price_aprx'])\n"
      ]
    },
    {
      "cell_type": "code",
      "execution_count": 15,
      "id": "95b378bb-29a3-4958-8605-96f732b07ca5",
      "metadata": {
        "tags": [],
        "colab": {
          "base_uri": "https://localhost:8080/"
        },
        "id": "95b378bb-29a3-4958-8605-96f732b07ca5",
        "outputId": "5d569c2f-9727-4333-8e84-48d8ed03bad2"
      },
      "outputs": [
        {
          "output_type": "stream",
          "name": "stdout",
          "text": [
            "Train data R2 = 0.452\n",
            "Train data MAE ($) = 107\n",
            "Test data R2 = 0.4342\n",
            "Test data MAE ($) = 110\n"
          ]
        }
      ],
      "source": [
        "print(f'Train data R2 = {round(r2_score(y_train, preds_train), 4)}')\n",
        "print(f'Train data MAE ($) = {int(mean_absolute_error(y_train, preds_train))}')\n",
        "print(f'Test data R2 = {round(r2_score(y_test, preds_test), 4)}')\n",
        "print(f'Test data MAE ($) = {int(mean_absolute_error(y_test, preds_test))}')"
      ]
    },
    {
      "cell_type": "markdown",
      "id": "8e74f6b9-559c-4a56-95c7-20e705edb2dd",
      "metadata": {
        "id": "8e74f6b9-559c-4a56-95c7-20e705edb2dd"
      },
      "source": [
        "We can see using polynomial features has slightly improved the performance of our linear regression."
      ]
    },
    {
      "cell_type": "markdown",
      "id": "da940883-5979-436b-8154-35c6a92b73c4",
      "metadata": {
        "id": "da940883-5979-436b-8154-35c6a92b73c4"
      },
      "source": [
        "__Highlights:__\n",
        "- By using some of the most important features and interaction terms in linear regression, we can achieve an R2 of 0.47."
      ]
    },
    {
      "cell_type": "markdown",
      "id": "939acb57",
      "metadata": {
        "id": "939acb57"
      },
      "source": [
        "## Linear regression (with all features)"
      ]
    },
    {
      "cell_type": "markdown",
      "id": "bf9709cb",
      "metadata": {
        "id": "bf9709cb"
      },
      "source": [
        "In  this case, we will use a simple linear regression model to predict the house price. Note that there are multiple categorical features (zipcode and time of the listing) that needs to be onehot encoded. We will use a pipeline to chain multiple operations."
      ]
    },
    {
      "cell_type": "code",
      "execution_count": 16,
      "id": "8a6b31e9",
      "metadata": {
        "id": "8a6b31e9"
      },
      "outputs": [],
      "source": [
        "X = df.drop(columns=['price'])\n",
        "y = df['price']\n",
        "# train_test split\n",
        "X_train, X_test, y_train, y_test = train_test_split(X, y,\n",
        "                                                    random_state=42,\n",
        "                                                    test_size=0.2)\n",
        "\n",
        "# column transformer to one hot encode categorical features\n",
        "ohe = OneHotEncoder(drop='first', handle_unknown='ignore', sparse_output=False)\n",
        "onehot_cat = ColumnTransformer(\n",
        "    transformers=[\n",
        "        ('ohe_zip', ohe, ['zipcode']),\n",
        "        ('ohe_time', ohe, ['time_quarter'])\n",
        "    ], remainder='passthrough')\n",
        "# create pipeline\n",
        "lr_pipeline = Pipeline([\n",
        "    ('ohe_cols', onehot_cat), # column transformer for cat features\n",
        "    ('ss', StandardScaler()), # standard scaler\n",
        "    ('lr', LinearRegression())]\n",
        ")\n",
        "\n",
        "# fit the model\n",
        "lr_pipeline.fit(X_train, y_train)\n",
        "\n",
        "# predict data\n",
        "preds_train = lr_pipeline.predict(X_train)\n",
        "preds_test = lr_pipeline.predict(X_test)\n",
        "\n"
      ]
    },
    {
      "cell_type": "code",
      "execution_count": 17,
      "id": "12925be6",
      "metadata": {
        "colab": {
          "base_uri": "https://localhost:8080/"
        },
        "id": "12925be6",
        "outputId": "11c7050b-0479-40a9-9c81-538e456a105b"
      },
      "outputs": [
        {
          "output_type": "stream",
          "name": "stdout",
          "text": [
            "Train data R2 = 0.4716\n",
            "Train data MAE ($) = 107\n",
            "Test data R2 = 0.4598\n",
            "Test data MAE ($) = 110\n"
          ]
        }
      ],
      "source": [
        "print(f'Train data R2 = {round(r2_score(y_train, preds_train), 4)}')\n",
        "print(f'Train data MAE ($) = {int(mean_absolute_error(y_train, preds_train))}')\n",
        "print(f'Test data R2 = {round(r2_score(y_test, preds_test), 4)}')\n",
        "print(f'Test data MAE ($) = {int(mean_absolute_error(y_test, preds_test))}')"
      ]
    },
    {
      "cell_type": "markdown",
      "id": "58e8ce7c",
      "metadata": {
        "id": "58e8ce7c"
      },
      "source": [
        "As we can see, the model is performing just ok. Let us take a look at the errors to see where we are standing."
      ]
    },
    {
      "cell_type": "code",
      "execution_count": 18,
      "id": "c8e907ea",
      "metadata": {
        "tags": [],
        "colab": {
          "base_uri": "https://localhost:8080/",
          "height": 564
        },
        "id": "c8e907ea",
        "outputId": "c5cb471b-a7c2-4a06-bace-1c4654036fe7"
      },
      "outputs": [
        {
          "output_type": "display_data",
          "data": {
            "text/plain": [
              "<Figure size 800x600 with 1 Axes>"
            ],
            "image/png": "[encoded data removed]"
          },
          "metadata": {}
        }
      ],
      "source": [
        "error = y_test - preds_test\n",
        "plt.figure(figsize=(8, 6))\n",
        "sns.scatterplot(x=y_test, y=error)\n",
        "plt.xlabel('Price, $')\n",
        "plt.ylabel('error, $')\n",
        "plt.title('Linear regression error')\n",
        "plt.axhline(0, color='orange');"
      ]
    },
    {
      "cell_type": "markdown",
      "id": "381da355-d6f8-4480-a815-d63c9cbcb608",
      "metadata": {
        "id": "381da355-d6f8-4480-a815-d63c9cbcb608"
      },
      "source": [
        "We can see that for higher prices the error becomes larger. We will try to see if we can help with this issue by doing a log tranform of the price variable but before that, let us take a look at the coefficients of the linear regression."
      ]
    },
    {
      "cell_type": "code",
      "execution_count": 19,
      "id": "33bdf3fd-2e45-46e2-a658-acd73f320bf8",
      "metadata": {
        "tags": [],
        "colab": {
          "base_uri": "https://localhost:8080/",
          "height": 1000
        },
        "id": "33bdf3fd-2e45-46e2-a658-acd73f320bf8",
        "outputId": "980f4e14-d3b2-4885-c8b5-b5601deabd4c"
      },
      "outputs": [
        {
          "output_type": "execute_result",
          "data": {
            "text/plain": [
              "                            feature          coef\n",
              "0            ohe_zip__zipcode_78702 -4.802767e+12\n",
              "1            ohe_zip__zipcode_78703  1.510039e+13\n",
              "2            ohe_zip__zipcode_78704  3.488742e+12\n",
              "3            ohe_zip__zipcode_78705 -8.616935e+12\n",
              "4            ohe_zip__zipcode_78717 -8.420294e+11\n",
              "5            ohe_zip__zipcode_78719 -1.762098e+12\n",
              "6            ohe_zip__zipcode_78721 -5.520181e+12\n",
              "7            ohe_zip__zipcode_78722 -2.130443e+12\n",
              "8            ohe_zip__zipcode_78723 -4.932200e+12\n",
              "9            ohe_zip__zipcode_78724 -4.347306e+12\n",
              "10           ohe_zip__zipcode_78725 -3.748752e+12\n",
              "11           ohe_zip__zipcode_78726 -3.663780e+10\n",
              "12           ohe_zip__zipcode_78727 -3.259494e+12\n",
              "13           ohe_zip__zipcode_78728 -2.687165e+12\n",
              "14           ohe_zip__zipcode_78729 -3.332896e+12\n",
              "15           ohe_zip__zipcode_78730  2.152396e+12\n",
              "16           ohe_zip__zipcode_78731  3.723228e+12\n",
              "17           ohe_zip__zipcode_78732  8.590328e+11\n",
              "18           ohe_zip__zipcode_78733  3.932803e+12\n",
              "19           ohe_zip__zipcode_78734 -1.595390e+12\n",
              "20           ohe_zip__zipcode_78735  6.265226e+11\n",
              "21           ohe_zip__zipcode_78736 -1.995899e+12\n",
              "22           ohe_zip__zipcode_78737  8.520796e+11\n",
              "23           ohe_zip__zipcode_78738  1.236356e+12\n",
              "24           ohe_zip__zipcode_78739  3.945997e+11\n",
              "25           ohe_zip__zipcode_78741 -9.824281e+12\n",
              "26           ohe_zip__zipcode_78742 -5.636584e+11\n",
              "27           ohe_zip__zipcode_78744 -6.592076e+12\n",
              "28           ohe_zip__zipcode_78745 -7.052057e+12\n",
              "29           ohe_zip__zipcode_78746  1.586485e+13\n",
              "30           ohe_zip__zipcode_78747 -2.586918e+12\n",
              "31           ohe_zip__zipcode_78748 -4.037924e+12\n",
              "32           ohe_zip__zipcode_78749 -1.802412e+12\n",
              "33           ohe_zip__zipcode_78750 -1.042534e+12\n",
              "34           ohe_zip__zipcode_78751 -2.050649e+12\n",
              "35           ohe_zip__zipcode_78752 -5.012243e+12\n",
              "36           ohe_zip__zipcode_78753 -4.551822e+12\n",
              "37           ohe_zip__zipcode_78754 -3.161042e+12\n",
              "38           ohe_zip__zipcode_78756  1.460807e+10\n",
              "39           ohe_zip__zipcode_78757 -1.974813e+12\n",
              "40           ohe_zip__zipcode_78758 -6.386591e+12\n",
              "41           ohe_zip__zipcode_78759 -7.608456e+11\n",
              "42        ohe_time__time_quarter_Q2 -2.057211e+01\n",
              "43        ohe_time__time_quarter_Q3 -1.981072e+01\n",
              "44        ohe_time__time_quarter_Q4 -2.609991e+01\n",
              "45              remainder__bedrooms  4.976609e+01\n",
              "46                  remainder__beds  2.659840e+01\n",
              "47                  remainder__bath  8.641007e+01\n",
              "48     remainder__host_is_superhost -1.172243e+01\n",
              "49  remainder__review_scores_rating  7.638181e+00\n",
              "50              remainder__has_pool  2.318113e+01\n",
              "51        remainder__is_petfriendly -1.244900e+01\n",
              "52         remainder__has_workspace -5.090291e+00\n",
              "53       remainder__has_freeparking -1.334493e-01\n",
              "54               remainder__has_gym -1.047592e+00\n",
              "55       remainder__home_price_aprx -3.222040e+13"
            ],
            "text/html": [
              "\n",
              "  <div id=\"df-5dcb56d5-cdab-4041-8ab2-f45d6bd1b9b7\" class=\"colab-df-container\">\n",
              "    <div>\n",
              "<style scoped>\n",
              "    .dataframe tbody tr th:only-of-type {\n",
              "        vertical-align: middle;\n",
              "    }\n",
              "\n",
              "    .dataframe tbody tr th {\n",
              "        vertical-align: top;\n",
              "    }\n",
              "\n",
              "    .dataframe thead th {\n",
              "        text-align: right;\n",
              "    }\n",
              "</style>\n",
              "<table border=\"1\" class=\"dataframe\">\n",
              "  <thead>\n",
              "    <tr style=\"text-align: right;\">\n",
              "      <th></th>\n",
              "      <th>feature</th>\n",
              "      <th>coef</th>\n",
              "    </tr>\n",
              "  </thead>\n",
              "  <tbody>\n",
              "    <tr>\n",
              "      <th>0</th>\n",
              "      <td>ohe_zip__zipcode_78702</td>\n",
              "      <td>-4.802767e+12</td>\n",
              "    </tr>\n",
              "    <tr>\n",
              "      <th>1</th>\n",
              "      <td>ohe_zip__zipcode_78703</td>\n",
              "      <td>1.510039e+13</td>\n",
              "    </tr>\n",
              "    <tr>\n",
              "      <th>2</th>\n",
              "      <td>ohe_zip__zipcode_78704</td>\n",
              "      <td>3.488742e+12</td>\n",
              "    </tr>\n",
              "    <tr>\n",
              "      <th>3</th>\n",
              "      <td>ohe_zip__zipcode_78705</td>\n",
              "      <td>-8.616935e+12</td>\n",
              "    </tr>\n",
              "    <tr>\n",
              "      <th>4</th>\n",
              "      <td>ohe_zip__zipcode_78717</td>\n",
              "      <td>-8.420294e+11</td>\n",
              "    </tr>\n",
              "    <tr>\n",
              "      <th>5</th>\n",
              "      <td>ohe_zip__zipcode_78719</td>\n",
              "      <td>-1.762098e+12</td>\n",
              "    </tr>\n",
              "    <tr>\n",
              "      <th>6</th>\n",
              "      <td>ohe_zip__zipcode_78721</td>\n",
              "      <td>-5.520181e+12</td>\n",
              "    </tr>\n",
              "    <tr>\n",
              "      <th>7</th>\n",
              "      <td>ohe_zip__zipcode_78722</td>\n",
              "      <td>-2.130443e+12</td>\n",
              "    </tr>\n",
              "    <tr>\n",
              "      <th>8</th>\n",
              "      <td>ohe_zip__zipcode_78723</td>\n",
              "      <td>-4.932200e+12</td>\n",
              "    </tr>\n",
              "    <tr>\n",
              "      <th>9</th>\n",
              "      <td>ohe_zip__zipcode_78724</td>\n",
              "      <td>-4.347306e+12</td>\n",
              "    </tr>\n",
              "    <tr>\n",
              "      <th>10</th>\n",
              "      <td>ohe_zip__zipcode_78725</td>\n",
              "      <td>-3.748752e+12</td>\n",
              "    </tr>\n",
              "    <tr>\n",
              "      <th>11</th>\n",
              "      <td>ohe_zip__zipcode_78726</td>\n",
              "      <td>-3.663780e+10</td>\n",
              "    </tr>\n",
              "    <tr>\n",
              "      <th>12</th>\n",
              "      <td>ohe_zip__zipcode_78727</td>\n",
              "      <td>-3.259494e+12</td>\n",
              "    </tr>\n",
              "    <tr>\n",
              "      <th>13</th>\n",
              "      <td>ohe_zip__zipcode_78728</td>\n",
              "      <td>-2.687165e+12</td>\n",
              "    </tr>\n",
              "    <tr>\n",
              "      <th>14</th>\n",
              "      <td>ohe_zip__zipcode_78729</td>\n",
              "      <td>-3.332896e+12</td>\n",
              "    </tr>\n",
              "    <tr>\n",
              "      <th>15</th>\n",
              "      <td>ohe_zip__zipcode_78730</td>\n",
              "      <td>2.152396e+12</td>\n",
              "    </tr>\n",
              "    <tr>\n",
              "      <th>16</th>\n",
              "      <td>ohe_zip__zipcode_78731</td>\n",
              "      <td>3.723228e+12</td>\n",
              "    </tr>\n",
              "    <tr>\n",
              "      <th>17</th>\n",
              "      <td>ohe_zip__zipcode_78732</td>\n",
              "      <td>8.590328e+11</td>\n",
              "    </tr>\n",
              "    <tr>\n",
              "      <th>18</th>\n",
              "      <td>ohe_zip__zipcode_78733</td>\n",
              "      <td>3.932803e+12</td>\n",
              "    </tr>\n",
              "    <tr>\n",
              "      <th>19</th>\n",
              "      <td>ohe_zip__zipcode_78734</td>\n",
              "      <td>-1.595390e+12</td>\n",
              "    </tr>\n",
              "    <tr>\n",
              "      <th>20</th>\n",
              "      <td>ohe_zip__zipcode_78735</td>\n",
              "      <td>6.265226e+11</td>\n",
              "    </tr>\n",
              "    <tr>\n",
              "      <th>21</th>\n",
              "      <td>ohe_zip__zipcode_78736</td>\n",
              "      <td>-1.995899e+12</td>\n",
              "    </tr>\n",
              "    <tr>\n",
              "      <th>22</th>\n",
              "      <td>ohe_zip__zipcode_78737</td>\n",
              "      <td>8.520796e+11</td>\n",
              "    </tr>\n",
              "    <tr>\n",
              "      <th>23</th>\n",
              "      <td>ohe_zip__zipcode_78738</td>\n",
              "      <td>1.236356e+12</td>\n",
              "    </tr>\n",
              "    <tr>\n",
              "      <th>24</th>\n",
              "      <td>ohe_zip__zipcode_78739</td>\n",
              "      <td>3.945997e+11</td>\n",
              "    </tr>\n",
              "    <tr>\n",
              "      <th>25</th>\n",
              "      <td>ohe_zip__zipcode_78741</td>\n",
              "      <td>-9.824281e+12</td>\n",
              "    </tr>\n",
              "    <tr>\n",
              "      <th>26</th>\n",
              "      <td>ohe_zip__zipcode_78742</td>\n",
              "      <td>-5.636584e+11</td>\n",
              "    </tr>\n",
              "    <tr>\n",
              "      <th>27</th>\n",
              "      <td>ohe_zip__zipcode_78744</td>\n",
              "      <td>-6.592076e+12</td>\n",
              "    </tr>\n",
              "    <tr>\n",
              "      <th>28</th>\n",
              "      <td>ohe_zip__zipcode_78745</td>\n",
              "      <td>-7.052057e+12</td>\n",
              "    </tr>\n",
              "    <tr>\n",
              "      <th>29</th>\n",
              "      <td>ohe_zip__zipcode_78746</td>\n",
              "      <td>1.586485e+13</td>\n",
              "    </tr>\n",
              "    <tr>\n",
              "      <th>30</th>\n",
              "      <td>ohe_zip__zipcode_78747</td>\n",
              "      <td>-2.586918e+12</td>\n",
              "    </tr>\n",
              "    <tr>\n",
              "      <th>31</th>\n",
              "      <td>ohe_zip__zipcode_78748</td>\n",
              "      <td>-4.037924e+12</td>\n",
              "    </tr>\n",
              "    <tr>\n",
              "      <th>32</th>\n",
              "      <td>ohe_zip__zipcode_78749</td>\n",
              "      <td>-1.802412e+12</td>\n",
              "    </tr>\n",
              "    <tr>\n",
              "      <th>33</th>\n",
              "      <td>ohe_zip__zipcode_78750</td>\n",
              "      <td>-1.042534e+12</td>\n",
              "    </tr>\n",
              "    <tr>\n",
              "      <th>34</th>\n",
              "      <td>ohe_zip__zipcode_78751</td>\n",
              "      <td>-2.050649e+12</td>\n",
              "    </tr>\n",
              "    <tr>\n",
              "      <th>35</th>\n",
              "      <td>ohe_zip__zipcode_78752</td>\n",
              "      <td>-5.012243e+12</td>\n",
              "    </tr>\n",
              "    <tr>\n",
              "      <th>36</th>\n",
              "      <td>ohe_zip__zipcode_78753</td>\n",
              "      <td>-4.551822e+12</td>\n",
              "    </tr>\n",
              "    <tr>\n",
              "      <th>37</th>\n",
              "      <td>ohe_zip__zipcode_78754</td>\n",
              "      <td>-3.161042e+12</td>\n",
              "    </tr>\n",
              "    <tr>\n",
              "      <th>38</th>\n",
              "      <td>ohe_zip__zipcode_78756</td>\n",
              "      <td>1.460807e+10</td>\n",
              "    </tr>\n",
              "    <tr>\n",
              "      <th>39</th>\n",
              "      <td>ohe_zip__zipcode_78757</td>\n",
              "      <td>-1.974813e+12</td>\n",
              "    </tr>\n",
              "    <tr>\n",
              "      <th>40</th>\n",
              "      <td>ohe_zip__zipcode_78758</td>\n",
              "      <td>-6.386591e+12</td>\n",
              "    </tr>\n",
              "    <tr>\n",
              "      <th>41</th>\n",
              "      <td>ohe_zip__zipcode_78759</td>\n",
              "      <td>-7.608456e+11</td>\n",
              "    </tr>\n",
              "    <tr>\n",
              "      <th>42</th>\n",
              "      <td>ohe_time__time_quarter_Q2</td>\n",
              "      <td>-2.057211e+01</td>\n",
              "    </tr>\n",
              "    <tr>\n",
              "      <th>43</th>\n",
              "      <td>ohe_time__time_quarter_Q3</td>\n",
              "      <td>-1.981072e+01</td>\n",
              "    </tr>\n",
              "    <tr>\n",
              "      <th>44</th>\n",
              "      <td>ohe_time__time_quarter_Q4</td>\n",
              "      <td>-2.609991e+01</td>\n",
              "    </tr>\n",
              "    <tr>\n",
              "      <th>45</th>\n",
              "      <td>remainder__bedrooms</td>\n",
              "      <td>4.976609e+01</td>\n",
              "    </tr>\n",
              "    <tr>\n",
              "      <th>46</th>\n",
              "      <td>remainder__beds</td>\n",
              "      <td>2.659840e+01</td>\n",
              "    </tr>\n",
              "    <tr>\n",
              "      <th>47</th>\n",
              "      <td>remainder__bath</td>\n",
              "      <td>8.641007e+01</td>\n",
              "    </tr>\n",
              "    <tr>\n",
              "      <th>48</th>\n",
              "      <td>remainder__host_is_superhost</td>\n",
              "      <td>-1.172243e+01</td>\n",
              "    </tr>\n",
              "    <tr>\n",
              "      <th>49</th>\n",
              "      <td>remainder__review_scores_rating</td>\n",
              "      <td>7.638181e+00</td>\n",
              "    </tr>\n",
              "    <tr>\n",
              "      <th>50</th>\n",
              "      <td>remainder__has_pool</td>\n",
              "      <td>2.318113e+01</td>\n",
              "    </tr>\n",
              "    <tr>\n",
              "      <th>51</th>\n",
              "      <td>remainder__is_petfriendly</td>\n",
              "      <td>-1.244900e+01</td>\n",
              "    </tr>\n",
              "    <tr>\n",
              "      <th>52</th>\n",
              "      <td>remainder__has_workspace</td>\n",
              "      <td>-5.090291e+00</td>\n",
              "    </tr>\n",
              "    <tr>\n",
              "      <th>53</th>\n",
              "      <td>remainder__has_freeparking</td>\n",
              "      <td>-1.334493e-01</td>\n",
              "    </tr>\n",
              "    <tr>\n",
              "      <th>54</th>\n",
              "      <td>remainder__has_gym</td>\n",
              "      <td>-1.047592e+00</td>\n",
              "    </tr>\n",
              "    <tr>\n",
              "      <th>55</th>\n",
              "      <td>remainder__home_price_aprx</td>\n",
              "      <td>-3.222040e+13</td>\n",
              "    </tr>\n",
              "  </tbody>\n",
              "</table>\n",
              "</div>\n",
              "    <div class=\"colab-df-buttons\">\n",
              "\n",
              "  <div class=\"colab-df-container\">\n",
              "    <button class=\"colab-df-convert\" onclick=\"convertToInteractive('df-5dcb56d5-cdab-4041-8ab2-f45d6bd1b9b7')\"\n",
              "            title=\"Convert this dataframe to an interactive table.\"\n",
              "            style=\"display:none;\">\n",
              "\n",
              "  <svg xmlns=\"http://www.w3.org/2000/svg\" height=\"24px\" viewBox=\"0 -960 960 960\">\n",
              "    <path d=\"M120-120v-720h720v720H120Zm60-500h600v-160H180v160Zm220 220h160v-160H400v160Zm0 220h160v-160H400v160ZM180-400h160v-160H180v160Zm440 0h160v-160H620v160ZM180-180h160v-160H180v160Zm440 0h160v-160H620v160Z\"/>\n",
              "  </svg>\n",
              "    </button>\n",
              "\n",
              "  <style>\n",
              "    .colab-df-container {\n",
              "      display:flex;\n",
              "      gap: 12px;\n",
              "    }\n",
              "\n",
              "    .colab-df-convert {\n",
              "      background-color: #E8F0FE;\n",
              "      border: none;\n",
              "      border-radius: 50%;\n",
              "      cursor: pointer;\n",
              "      display: none;\n",
              "      fill: #1967D2;\n",
              "      height: 32px;\n",
              "      padding: 0 0 0 0;\n",
              "      width: 32px;\n",
              "    }\n",
              "\n",
              "    .colab-df-convert:hover {\n",
              "      background-color: #E2EBFA;\n",
              "      box-shadow: 0px 1px 2px rgba(60, 64, 67, 0.3), 0px 1px 3px 1px rgba(60, 64, 67, 0.15);\n",
              "      fill: #174EA6;\n",
              "    }\n",
              "\n",
              "    .colab-df-buttons div {\n",
              "      margin-bottom: 4px;\n",
              "    }\n",
              "\n",
              "    [theme=dark] .colab-df-convert {\n",
              "      background-color: #3B4455;\n",
              "      fill: #D2E3FC;\n",
              "    }\n",
              "\n",
              "    [theme=dark] .colab-df-convert:hover {\n",
              "      background-color: #434B5C;\n",
              "      box-shadow: 0px 1px 3px 1px rgba(0, 0, 0, 0.15);\n",
              "      filter: drop-shadow(0px 1px 2px rgba(0, 0, 0, 0.3));\n",
              "      fill: #FFFFFF;\n",
              "    }\n",
              "  </style>\n",
              "\n",
              "    <script>\n",
              "      const buttonEl =\n",
              "        document.querySelector('#df-5dcb56d5-cdab-4041-8ab2-f45d6bd1b9b7 button.colab-df-convert');\n",
              "      buttonEl.style.display =\n",
              "        google.colab.kernel.accessAllowed ? 'block' : 'none';\n",
              "\n",
              "      async function convertToInteractive(key) {\n",
              "        const element = document.querySelector('#df-5dcb56d5-cdab-4041-8ab2-f45d6bd1b9b7');\n",
              "        const dataTable =\n",
              "          await google.colab.kernel.invokeFunction('convertToInteractive',\n",
              "                                                    [key], {});\n",
              "        if (!dataTable) return;\n",
              "\n",
              "        const docLinkHtml = 'Like what you see? Visit the ' +\n",
              "          '<a target=\"_blank\" href=https://colab.research.google.com/notebooks/data_table.ipynb>data table notebook</a>'\n",
              "          + ' to learn more about interactive tables.';\n",
              "        element.innerHTML = '';\n",
              "        dataTable['output_type'] = 'display_data';\n",
              "        await google.colab.output.renderOutput(dataTable, element);\n",
              "        const docLink = document.createElement('div');\n",
              "        docLink.innerHTML = docLinkHtml;\n",
              "        element.appendChild(docLink);\n",
              "      }\n",
              "    </script>\n",
              "  </div>\n",
              "\n",
              "\n",
              "<div id=\"df-8c235be3-add1-477a-a037-b50dd52c2cb7\">\n",
              "  <button class=\"colab-df-quickchart\" onclick=\"quickchart('df-8c235be3-add1-477a-a037-b50dd52c2cb7')\"\n",
              "            title=\"Suggest charts\"\n",
              "            style=\"display:none;\">\n",
              "\n",
              "<svg xmlns=\"http://www.w3.org/2000/svg\" height=\"24px\"viewBox=\"0 0 24 24\"\n",
              "     width=\"24px\">\n",
              "    <g>\n",
              "        <path d=\"M19 3H5c-1.1 0-2 .9-2 2v14c0 1.1.9 2 2 2h14c1.1 0 2-.9 2-2V5c0-1.1-.9-2-2-2zM9 17H7v-7h2v7zm4 0h-2V7h2v10zm4 0h-2v-4h2v4z\"/>\n",
              "    </g>\n",
              "</svg>\n",
              "  </button>\n",
              "\n",
              "<style>\n",
              "  .colab-df-quickchart {\n",
              "      --bg-color: #E8F0FE;\n",
              "      --fill-color: #1967D2;\n",
              "      --hover-bg-color: #E2EBFA;\n",
              "      --hover-fill-color: #174EA6;\n",
              "      --disabled-fill-color: #AAA;\n",
              "      --disabled-bg-color: #DDD;\n",
              "  }\n",
              "\n",
              "  [theme=dark] .colab-df-quickchart {\n",
              "      --bg-color: #3B4455;\n",
              "      --fill-color: #D2E3FC;\n",
              "      --hover-bg-color: #434B5C;\n",
              "      --hover-fill-color: #FFFFFF;\n",
              "      --disabled-bg-color: #3B4455;\n",
              "      --disabled-fill-color: #666;\n",
              "  }\n",
              "\n",
              "  .colab-df-quickchart {\n",
              "    background-color: var(--bg-color);\n",
              "    border: none;\n",
              "    border-radius: 50%;\n",
              "    cursor: pointer;\n",
              "    display: none;\n",
              "    fill: var(--fill-color);\n",
              "    height: 32px;\n",
              "    padding: 0;\n",
              "    width: 32px;\n",
              "  }\n",
              "\n",
              "  .colab-df-quickchart:hover {\n",
              "    background-color: var(--hover-bg-color);\n",
              "    box-shadow: 0 1px 2px rgba(60, 64, 67, 0.3), 0 1px 3px 1px rgba(60, 64, 67, 0.15);\n",
              "    fill: var(--button-hover-fill-color);\n",
              "  }\n",
              "\n",
              "  .colab-df-quickchart-complete:disabled,\n",
              "  .colab-df-quickchart-complete:disabled:hover {\n",
              "    background-color: var(--disabled-bg-color);\n",
              "    fill: var(--disabled-fill-color);\n",
              "    box-shadow: none;\n",
              "  }\n",
              "\n",
              "  .colab-df-spinner {\n",
              "    border: 2px solid var(--fill-color);\n",
              "    border-color: transparent;\n",
              "    border-bottom-color: var(--fill-color);\n",
              "    animation:\n",
              "      spin 1s steps(1) infinite;\n",
              "  }\n",
              "\n",
              "  @keyframes spin {\n",
              "    0% {\n",
              "      border-color: transparent;\n",
              "      border-bottom-color: var(--fill-color);\n",
              "      border-left-color: var(--fill-color);\n",
              "    }\n",
              "    20% {\n",
              "      border-color: transparent;\n",
              "      border-left-color: var(--fill-color);\n",
              "      border-top-color: var(--fill-color);\n",
              "    }\n",
              "    30% {\n",
              "      border-color: transparent;\n",
              "      border-left-color: var(--fill-color);\n",
              "      border-top-color: var(--fill-color);\n",
              "      border-right-color: var(--fill-color);\n",
              "    }\n",
              "    40% {\n",
              "      border-color: transparent;\n",
              "      border-right-color: var(--fill-color);\n",
              "      border-top-color: var(--fill-color);\n",
              "    }\n",
              "    60% {\n",
              "      border-color: transparent;\n",
              "      border-right-color: var(--fill-color);\n",
              "    }\n",
              "    80% {\n",
              "      border-color: transparent;\n",
              "      border-right-color: var(--fill-color);\n",
              "      border-bottom-color: var(--fill-color);\n",
              "    }\n",
              "    90% {\n",
              "      border-color: transparent;\n",
              "      border-bottom-color: var(--fill-color);\n",
              "    }\n",
              "  }\n",
              "</style>\n",
              "\n",
              "  <script>\n",
              "    async function quickchart(key) {\n",
              "      const quickchartButtonEl =\n",
              "        document.querySelector('#' + key + ' button');\n",
              "      quickchartButtonEl.disabled = true;  // To prevent multiple clicks.\n",
              "      quickchartButtonEl.classList.add('colab-df-spinner');\n",
              "      try {\n",
              "        const charts = await google.colab.kernel.invokeFunction(\n",
              "            'suggestCharts', [key], {});\n",
              "      } catch (error) {\n",
              "        console.error('Error during call to suggestCharts:', error);\n",
              "      }\n",
              "      quickchartButtonEl.classList.remove('colab-df-spinner');\n",
              "      quickchartButtonEl.classList.add('colab-df-quickchart-complete');\n",
              "    }\n",
              "    (() => {\n",
              "      let quickchartButtonEl =\n",
              "        document.querySelector('#df-8c235be3-add1-477a-a037-b50dd52c2cb7 button');\n",
              "      quickchartButtonEl.style.display =\n",
              "        google.colab.kernel.accessAllowed ? 'block' : 'none';\n",
              "    })();\n",
              "  </script>\n",
              "</div>\n",
              "\n",
              "    </div>\n",
              "  </div>\n"
            ]
          },
          "metadata": {},
          "execution_count": 19
        }
      ],
      "source": [
        "pd.DataFrame(zip(lr_pipeline.named_steps['ohe_cols'].get_feature_names_out(),lr_pipeline.named_steps['lr'].coef_ ), columns=['feature', 'coef'])"
      ]
    },
    {
      "cell_type": "markdown",
      "id": "bf5ad6e9-5316-4c22-ae94-b4c77b3433d3",
      "metadata": {
        "id": "bf5ad6e9-5316-4c22-ae94-b4c77b3433d3"
      },
      "source": [
        "As we can see, the coeficients for the one hot encoded features realated to the zip code take very large numbers. This could be due to the fact that some zip codes will have very sparse data and it gives the column a strange structure that could impact the coefficients of linear regression and how linear regression performs. Let build another linear regression model without any zipcode data."
      ]
    },
    {
      "cell_type": "code",
      "execution_count": 20,
      "id": "23f76e0d-d104-42f5-907f-ce423f824308",
      "metadata": {
        "tags": [],
        "id": "23f76e0d-d104-42f5-907f-ce423f824308"
      },
      "outputs": [],
      "source": [
        "X = df.drop(columns=['price', 'zipcode'])\n",
        "y = df['price']\n",
        "# train_test split\n",
        "X_train, X_test, y_train, y_test = train_test_split(X, y,\n",
        "                                                    random_state=42,\n",
        "                                                    test_size=0.2)\n",
        "\n",
        "# column transformer to one hot encode categorical features\n",
        "ohe = OneHotEncoder(drop='first', handle_unknown='ignore', sparse_output=False)\n",
        "onehot_cat = ColumnTransformer(\n",
        "    transformers=[\n",
        "#        ('ohe_zip', ohe, ['zipcode']),\n",
        "        ('ohe_time', ohe, ['time_quarter'])\n",
        "    ], remainder='passthrough')\n",
        "# create pipeline\n",
        "lr_pipeline = Pipeline([\n",
        "    ('ohe_cols', onehot_cat), # column transformer for cat features\n",
        "    ('ss', StandardScaler()), # standard scaler\n",
        "    ('lr', LinearRegression())]\n",
        ")\n",
        "\n",
        "# fit the model\n",
        "lr_pipeline.fit(X_train, y_train)\n",
        "\n",
        "# predict data\n",
        "preds_train = lr_pipeline.predict(X_train)\n",
        "preds_test = lr_pipeline.predict(X_test)"
      ]
    },
    {
      "cell_type": "code",
      "execution_count": 21,
      "id": "f7c87a2d-1cb5-4c82-a75a-32ad51951b5e",
      "metadata": {
        "tags": [],
        "colab": {
          "base_uri": "https://localhost:8080/"
        },
        "id": "f7c87a2d-1cb5-4c82-a75a-32ad51951b5e",
        "outputId": "f617003e-4522-4c28-a10a-4a4d9856a1c9"
      },
      "outputs": [
        {
          "output_type": "stream",
          "name": "stdout",
          "text": [
            "Train data R2 = 0.4486\n",
            "Train data MAE ($) = 109\n",
            "Test data R2 = 0.4393\n",
            "Test data MAE ($) = 111\n"
          ]
        }
      ],
      "source": [
        "print(f'Train data R2 = {round(r2_score(y_train, preds_train), 4)}')\n",
        "print(f'Train data MAE ($) = {int(mean_absolute_error(y_train, preds_train))}')\n",
        "print(f'Test data R2 = {round(r2_score(y_test, preds_test), 4)}')\n",
        "print(f'Test data MAE ($) = {int(mean_absolute_error(y_test, preds_test))}')"
      ]
    },
    {
      "cell_type": "markdown",
      "id": "a6d75308-70ca-480c-b897-75b60ef91cf5",
      "metadata": {
        "id": "a6d75308-70ca-480c-b897-75b60ef91cf5"
      },
      "source": [
        "We can see that excluding zipcode data slightly decreases our R2 score but the effect is not that much."
      ]
    },
    {
      "cell_type": "markdown",
      "id": "915a0d47-c262-4536-986c-232c4d69ea7b",
      "metadata": {
        "id": "915a0d47-c262-4536-986c-232c4d69ea7b"
      },
      "source": [
        "__Highlights:__\n",
        "- Linear regression with all features included shows an average performance (R2 = 0.46)\n",
        "- Adding zipcode feature makes the linear model coefficients to behave strangely due to the sparse nature of the zipcode regions. Zipcode related coefficients take very high values in our linear regression model.\n",
        "- Removing zipcode from our linear model does not impact R2 noticably (R2 = 0.43)."
      ]
    },
    {
      "cell_type": "markdown",
      "id": "bc80d41e-070e-42cc-b45e-2d405e64f7df",
      "metadata": {
        "id": "bc80d41e-070e-42cc-b45e-2d405e64f7df"
      },
      "source": [
        "## Linear regression with polynomial features (Ridge/LASSO)"
      ]
    },
    {
      "cell_type": "markdown",
      "id": "57460673-82e2-488c-807a-675e604bf0d6",
      "metadata": {
        "id": "57460673-82e2-488c-807a-675e604bf0d6"
      },
      "source": [
        "We will now build a linear regression model that uses most of the original features and polynomial features as well."
      ]
    },
    {
      "cell_type": "code",
      "execution_count": 22,
      "id": "89ec1487-350f-4a8f-aa1e-97668efc75eb",
      "metadata": {
        "tags": [],
        "id": "89ec1487-350f-4a8f-aa1e-97668efc75eb"
      },
      "outputs": [],
      "source": [
        "X = df.drop(columns=['price'])\n",
        "y = df['price']\n",
        "# train_test split\n",
        "X_train, X_test, y_train, y_test = train_test_split(X, y,\n",
        "                                                    random_state=42,\n",
        "                                                    test_size=0.2)\n",
        "\n",
        "# column transformer to one hot encode categorical features\n",
        "ohe = OneHotEncoder(drop='first', handle_unknown='ignore', sparse_output=False)\n",
        "onehot_cat = ColumnTransformer(\n",
        "    transformers=[\n",
        "        ('ohe_zip', ohe, ['zipcode']),\n",
        "        ('ohe_time', ohe, ['time_quarter'])\n",
        "    ], remainder='passthrough')\n",
        "# create pipeline\n",
        "lr_poly_pipeline = Pipeline([\n",
        "    ('ohe_cols', onehot_cat), # column transformer for cat features\n",
        "    ('ss', StandardScaler()), # standard scaler\n",
        "    ('poly', PolynomialFeatures(degree=2, interaction_only=False)),\n",
        "    ('lr', LinearRegression())]\n",
        ")\n",
        "\n",
        "# fit the model\n",
        "lr_poly_pipeline.fit(X_train, y_train)\n",
        "\n",
        "# predict data\n",
        "preds_train = lr_poly_pipeline.predict(X_train)\n",
        "preds_test = lr_poly_pipeline.predict(X_test)\n",
        "\n"
      ]
    },
    {
      "cell_type": "code",
      "execution_count": 23,
      "id": "673e0d15-2be4-446b-bbcf-c7b34db8ebb8",
      "metadata": {
        "tags": [],
        "colab": {
          "base_uri": "https://localhost:8080/"
        },
        "id": "673e0d15-2be4-446b-bbcf-c7b34db8ebb8",
        "outputId": "053f22c7-27e7-4cd8-c6c0-92f5b34d9eb6"
      },
      "outputs": [
        {
          "output_type": "stream",
          "name": "stdout",
          "text": [
            "Train data R2 = 0.5612\n",
            "Train data MAE ($) = 94\n",
            "Test data R2 = -9.739320984926727e+19\n",
            "Test data MAE ($) = 38164241729\n"
          ]
        }
      ],
      "source": [
        "print(f'Train data R2 = {round(r2_score(y_train, preds_train), 4)}')\n",
        "print(f'Train data MAE ($) = {int(mean_absolute_error(y_train, preds_train))}')\n",
        "print(f'Test data R2 = {round(r2_score(y_test, preds_test), 4)}')\n",
        "print(f'Test data MAE ($) = {int(mean_absolute_error(y_test, preds_test))}')"
      ]
    },
    {
      "cell_type": "markdown",
      "id": "5df52c2b-a39c-451a-94c0-586fa1717888",
      "metadata": {
        "id": "5df52c2b-a39c-451a-94c0-586fa1717888"
      },
      "source": [
        "As expected, this model shows tremendous amount of overfitting. Let us see if we can get better results buy regularizing the model. We will start with gridsearching over different ridge regularization alphas."
      ]
    },
    {
      "cell_type": "code",
      "execution_count": 24,
      "id": "4a715659-273e-409d-a29b-4ccf65bcfdec",
      "metadata": {
        "tags": [],
        "colab": {
          "base_uri": "https://localhost:8080/"
        },
        "id": "4a715659-273e-409d-a29b-4ccf65bcfdec",
        "outputId": "12c60b9c-69f9-4afe-b47a-89ebb981f030"
      },
      "outputs": [
        {
          "output_type": "stream",
          "name": "stdout",
          "text": [
            "Fitting 3 folds for each of 25 candidates, totalling 75 fits\n",
            "{'ridge__alpha': 1778.2794100389228}\n"
          ]
        }
      ],
      "source": [
        "X = df.drop(columns=['price'])\n",
        "y = df['price']\n",
        "# train_test split\n",
        "X_train, X_test, y_train, y_test = train_test_split(X, y,\n",
        "                                                    random_state=42,\n",
        "                                                    test_size=0.2)\n",
        "\n",
        "# column transformer to one hot encode categorical features\n",
        "ohe = OneHotEncoder(drop='first', handle_unknown='ignore', sparse_output=False)\n",
        "onehot_cat = ColumnTransformer(\n",
        "    transformers=[\n",
        "        ('ohe_zip', ohe, ['zipcode']),\n",
        "        ('ohe_time', ohe, ['time_quarter'])\n",
        "    ], remainder='passthrough')\n",
        "# create pipeline\n",
        "ridge_poly_pipeline = Pipeline([\n",
        "    ('ohe_cols', onehot_cat), # column transformer for cat features\n",
        "    ('ss', StandardScaler()), # standard scaler\n",
        "    ('poly', PolynomialFeatures(degree=2, interaction_only=False)),\n",
        "    ('ridge', Ridge())]\n",
        ")\n",
        "\n",
        "# gridsearch object\n",
        "gs_ridge_poly_pipeline = GridSearchCV(ridge_poly_pipeline,\n",
        "                                     param_grid={'ridge__alpha': np.logspace(2, 4, 25)},\n",
        "                                      verbose = 2,\n",
        "                                      cv =3,\n",
        "                                      n_jobs=-1\n",
        "                                     )\n",
        "\n",
        "# fit the model\n",
        "gs_ridge_poly_pipeline.fit(X_train, y_train)\n",
        "\n",
        "# predict data\n",
        "preds_train = gs_ridge_poly_pipeline.predict(X_train)\n",
        "preds_test = gs_ridge_poly_pipeline.predict(X_test)\n",
        "\n",
        "# best alpha\n",
        "print(gs_ridge_poly_pipeline.best_params_)"
      ]
    },
    {
      "cell_type": "code",
      "execution_count": 25,
      "id": "21a63a32-c2ba-4487-bc65-2b819e207526",
      "metadata": {
        "tags": [],
        "colab": {
          "base_uri": "https://localhost:8080/"
        },
        "id": "21a63a32-c2ba-4487-bc65-2b819e207526",
        "outputId": "d6324d7a-8457-4cd1-8d1d-ebf33640b5d5"
      },
      "outputs": [
        {
          "output_type": "stream",
          "name": "stdout",
          "text": [
            "Train data R2 = 0.5586\n",
            "Train data MAE ($) = 94\n",
            "Test data R2 = 0.5194\n",
            "Test data MAE ($) = 98\n"
          ]
        }
      ],
      "source": [
        "print(f'Train data R2 = {round(r2_score(y_train, preds_train), 4)}')\n",
        "print(f'Train data MAE ($) = {int(mean_absolute_error(y_train, preds_train))}')\n",
        "print(f'Test data R2 = {round(r2_score(y_test, preds_test), 4)}')\n",
        "print(f'Test data MAE ($) = {int(mean_absolute_error(y_test, preds_test))}')"
      ]
    },
    {
      "cell_type": "markdown",
      "id": "28a3a058-e561-4285-94f6-815869b25b0f",
      "metadata": {
        "id": "28a3a058-e561-4285-94f6-815869b25b0f"
      },
      "source": [
        "We see using ridge helps with the high variance considerably. We will also see if LASSO provides any better results."
      ]
    },
    {
      "cell_type": "code",
      "execution_count": 26,
      "id": "9559d1fb-2079-46e7-811a-69ef22e1173f",
      "metadata": {
        "tags": [],
        "colab": {
          "base_uri": "https://localhost:8080/"
        },
        "id": "9559d1fb-2079-46e7-811a-69ef22e1173f",
        "outputId": "754a3ab1-fee4-495b-8746-bf69c224ebfe"
      },
      "outputs": [
        {
          "output_type": "stream",
          "name": "stdout",
          "text": [
            "Fitting 3 folds for each of 25 candidates, totalling 75 fits\n",
            "{'lasso__alpha': 0.5623413251903491}\n"
          ]
        }
      ],
      "source": [
        "X = df.drop(columns=['price'])\n",
        "y = df['price']\n",
        "# train_test split\n",
        "X_train, X_test, y_train, y_test = train_test_split(X, y,\n",
        "                                                    random_state=42,\n",
        "                                                    test_size=0.2)\n",
        "\n",
        "# column transformer to one hot encode categorical features\n",
        "ohe = OneHotEncoder(drop='first', handle_unknown='ignore', sparse_output=False)\n",
        "onehot_cat = ColumnTransformer(\n",
        "    transformers=[\n",
        "        ('ohe_zip', ohe, ['zipcode']),\n",
        "        ('ohe_time', ohe, ['time_quarter'])\n",
        "    ], remainder='passthrough')\n",
        "# create pipeline\n",
        "lasso_poly_pipeline = Pipeline([\n",
        "    ('ohe_cols', onehot_cat), # column transformer for cat features\n",
        "    ('ss', StandardScaler()), # standard scaler\n",
        "    ('poly', PolynomialFeatures(degree=2, interaction_only=False)),\n",
        "    ('lasso', Lasso())]\n",
        ")\n",
        "\n",
        "# gridsearch object\n",
        "gs_lasso_poly_pipeline = GridSearchCV(lasso_poly_pipeline,\n",
        "                                     param_grid={'lasso__alpha': np.logspace(-1, 1, 25)},\n",
        "                                      verbose = 3,\n",
        "                                      cv =3,\n",
        "                                      n_jobs=-1\n",
        "                                     )\n",
        "\n",
        "# fit the model\n",
        "gs_lasso_poly_pipeline.fit(X_train, y_train)\n",
        "\n",
        "# predict data\n",
        "preds_train = gs_lasso_poly_pipeline.predict(X_train)\n",
        "preds_test = gs_lasso_poly_pipeline.predict(X_test)\n",
        "\n",
        "# best alpha\n",
        "print(gs_lasso_poly_pipeline.best_params_)"
      ]
    },
    {
      "cell_type": "code",
      "execution_count": 27,
      "id": "f72572a2-9fc5-4e3a-82de-309b6fd47ac6",
      "metadata": {
        "tags": [],
        "colab": {
          "base_uri": "https://localhost:8080/"
        },
        "id": "f72572a2-9fc5-4e3a-82de-309b6fd47ac6",
        "outputId": "5ede128f-f5f4-43c0-ad5e-05872aff55fc"
      },
      "outputs": [
        {
          "output_type": "stream",
          "name": "stdout",
          "text": [
            "Train data R2 = 0.5549\n",
            "Train data MAE ($) = 94\n",
            "Test data R2 = 0.5205\n",
            "Test data MAE ($) = 98\n"
          ]
        }
      ],
      "source": [
        "print(f'Train data R2 = {round(r2_score(y_train, preds_train), 4)}')\n",
        "print(f'Train data MAE ($) = {int(mean_absolute_error(y_train, preds_train))}')\n",
        "print(f'Test data R2 = {round(r2_score(y_test, preds_test), 4)}')\n",
        "print(f'Test data MAE ($) = {int(mean_absolute_error(y_test, preds_test))}')"
      ]
    },
    {
      "cell_type": "markdown",
      "id": "d12d6357-cad2-463e-a6af-c291efaa814f",
      "metadata": {
        "id": "d12d6357-cad2-463e-a6af-c291efaa814f"
      },
      "source": [
        "LASSO shows a performance similar to that of ridge but takes longer to run."
      ]
    },
    {
      "cell_type": "markdown",
      "id": "489792d4-2168-4c5c-9fd0-5cdb52a7d0c4",
      "metadata": {
        "id": "489792d4-2168-4c5c-9fd0-5cdb52a7d0c4"
      },
      "source": [
        "Before wrapping up this section, we will dig a little more into the error terms to see if we can get some information about how error is distributed and what contributes more to our error."
      ]
    },
    {
      "cell_type": "code",
      "execution_count": 28,
      "id": "ba5837f3-200a-4fc1-b333-22fe717f7d95",
      "metadata": {
        "tags": [],
        "id": "ba5837f3-200a-4fc1-b333-22fe717f7d95"
      },
      "outputs": [],
      "source": [
        "# create a new dataframe for error analysis\n",
        "df_error = df.copy()\n",
        "# assign predictions to train and test data\n",
        "df_error['is_train'] = 1\n",
        "df_error.loc[X_test.index, 'is_train'] = 0\n",
        "df_error['price_pred'] = 0\n",
        "df_error.loc[X_test.index, 'price_pred'] = preds_test\n",
        "df_error.loc[X_train.index, 'price_pred'] = preds_train\n",
        "# calcuate error terms\n",
        "df_error['error_abs'] = (df_error['price'] - df_error['price_pred']).abs()\n",
        "df_error['error_perc'] = df_error['error_abs'] / df_error['price'] * 100"
      ]
    },
    {
      "cell_type": "markdown",
      "id": "df627b0a-21a0-4ae9-8504-dd525416c3ee",
      "metadata": {
        "id": "df627b0a-21a0-4ae9-8504-dd525416c3ee"
      },
      "source": [
        "We will first print the average of the modeling error for each of the features."
      ]
    },
    {
      "cell_type": "code",
      "execution_count": 29,
      "id": "3a9e12b3-f746-4065-8c27-e3632ac2a8c5",
      "metadata": {
        "tags": [],
        "colab": {
          "base_uri": "https://localhost:8080/"
        },
        "id": "3a9e12b3-f746-4065-8c27-e3632ac2a8c5",
        "outputId": "d724947c-aff1-465d-c4de-9c9a2ec90ec7"
      },
      "outputs": [
        {
          "output_type": "stream",
          "name": "stdout",
          "text": [
            "\n",
            "==> Analyzing modeling errors with bedrooms\n",
            "           error_abs  error_perc\n",
            "bedrooms                        \n",
            "0          44.427384   37.686086\n",
            "1          53.486632   40.584286\n",
            "2          81.149176   49.454178\n",
            "3         118.321958   45.913125\n",
            "4         175.715660   44.334321\n",
            "5         249.876147   63.306806\n",
            "6         283.061316   59.118326\n",
            "7         263.305559   65.554380\n",
            "\n",
            "==> Analyzing modeling errors with beds\n",
            "       error_abs  error_perc\n",
            "beds                        \n",
            "1      52.993793   41.833408\n",
            "2      69.201036   44.071132\n",
            "3     100.736747   46.488911\n",
            "4     130.420022   47.586214\n",
            "5     146.916643   49.691889\n",
            "6     177.114425   47.315942\n",
            "7     182.268204   43.537784\n",
            "8     221.288701   71.879406\n",
            "9     204.589072   48.374726\n",
            "10    212.613182   55.864406\n",
            "11    259.783134   34.748337\n",
            "12    234.130316   69.444687\n",
            "13    256.396014   56.242167\n",
            "14    238.927759   39.439377\n",
            "15    262.869266   45.833066\n",
            "\n",
            "==> Analyzing modeling errors with bath\n",
            "       error_abs  error_perc\n",
            "bath                        \n",
            "0.0   112.101677   38.969621\n",
            "0.5    56.659208   46.898905\n",
            "1.0    54.482044   40.413638\n",
            "1.5    76.840095   47.512534\n",
            "2.0   102.781486   50.974042\n",
            "2.5   129.575477   45.910882\n",
            "3.0   197.914130   57.313040\n",
            "3.5   233.273989   44.650416\n",
            "4.0   256.663799   51.994391\n",
            "4.5   298.556533   44.854450\n",
            "5.0   326.643261   47.776028\n",
            "5.5   398.775370   54.037800\n",
            "6.0   267.755778   37.153957\n",
            "6.5   649.831057  103.031578\n",
            "7.0   337.931692   62.490572\n",
            "7.5   116.115684    8.599170\n",
            "8.0   395.909181   20.524063\n",
            "\n",
            "==> Analyzing modeling errors with host_is_superhost\n",
            "                    error_abs  error_perc\n",
            "host_is_superhost                        \n",
            "0                  104.267736   49.853305\n",
            "1                   84.076665   40.120665\n",
            "\n",
            "==> Analyzing modeling errors with time_quarter\n",
            "               error_abs  error_perc\n",
            "time_quarter                        \n",
            "Q1            105.701950   45.473203\n",
            "Q2             90.226221   43.829086\n",
            "Q3             92.887127   45.062570\n",
            "Q4             91.598854   47.344148\n",
            "\n",
            "==> Analyzing modeling errors with has_pool\n",
            "           error_abs  error_perc\n",
            "has_pool                        \n",
            "0          87.118337   42.522236\n",
            "1         113.061892   51.949480\n",
            "\n",
            "==> Analyzing modeling errors with is_petfriendly\n",
            "                error_abs  error_perc\n",
            "is_petfriendly                       \n",
            "0               99.107063   46.728164\n",
            "1               87.819177   43.040194\n",
            "\n",
            "==> Analyzing modeling errors with has_workspace\n",
            "               error_abs  error_perc\n",
            "has_workspace                       \n",
            "0              98.966771   49.168240\n",
            "1              92.721744   43.212298\n",
            "\n",
            "==> Analyzing modeling errors with has_freeparking\n",
            "                 error_abs  error_perc\n",
            "has_freeparking                       \n",
            "0                84.252796   43.519378\n",
            "1                97.678796   45.852020\n",
            "\n",
            "==> Analyzing modeling errors with has_gym\n",
            "         error_abs  error_perc\n",
            "has_gym                       \n",
            "0        95.392353   44.610491\n",
            "1        92.697623   49.969717\n"
          ]
        }
      ],
      "source": [
        "for i in ['bedrooms', 'beds', 'bath', 'host_is_superhost',\n",
        "       'time_quarter', 'has_pool', 'is_petfriendly',\n",
        "       'has_workspace', 'has_freeparking', 'has_gym']:\n",
        "    print(f'\\n==> Analyzing modeling errors with {i}')\n",
        "    print(df_error.groupby(i).mean(numeric_only=True)[['error_abs', 'error_perc']])"
      ]
    },
    {
      "cell_type": "markdown",
      "id": "61b95aa5-a03f-4bcb-8b8a-0c0fa0649d1e",
      "metadata": {
        "tags": [],
        "id": "61b95aa5-a03f-4bcb-8b8a-0c0fa0649d1e"
      },
      "source": [
        "Interesting trends we see here is that how error is affected by the number of bedrooms and beds. Also, when a house has pool, the prediction error increases 10%. Also, prediction errors are 10% smaller in cases where the host is superhost.\n",
        "Let us dive deeper into some of these features and error distribution in them."
      ]
    },
    {
      "cell_type": "code",
      "execution_count": 30,
      "id": "5c0c6f39-eb20-4c4a-9f10-313c9aa067ff",
      "metadata": {
        "tags": [],
        "colab": {
          "base_uri": "https://localhost:8080/",
          "height": 366
        },
        "id": "5c0c6f39-eb20-4c4a-9f10-313c9aa067ff",
        "outputId": "fb0b291e-f54c-4661-931e-5314e1a9d11c"
      },
      "outputs": [
        {
          "output_type": "stream",
          "name": "stderr",
          "text": [
            "<ipython-input-30-7d4478939bc7>:1: FutureWarning: Indexing with multiple keys (implicitly converted to a tuple of keys) will be deprecated, use a list instead.\n",
            "  df_error.groupby('bedrooms')['error_abs', 'error_perc'].mean()\n"
          ]
        },
        {
          "output_type": "execute_result",
          "data": {
            "text/plain": [
              "           error_abs  error_perc\n",
              "bedrooms                        \n",
              "0          44.427384   37.686086\n",
              "1          53.486632   40.584286\n",
              "2          81.149176   49.454178\n",
              "3         118.321958   45.913125\n",
              "4         175.715660   44.334321\n",
              "5         249.876147   63.306806\n",
              "6         283.061316   59.118326\n",
              "7         263.305559   65.554380"
            ],
            "text/html": [
              "\n",
              "  <div id=\"df-26f742b6-e861-4694-acc8-daa6356851d7\" class=\"colab-df-container\">\n",
              "    <div>\n",
              "<style scoped>\n",
              "    .dataframe tbody tr th:only-of-type {\n",
              "        vertical-align: middle;\n",
              "    }\n",
              "\n",
              "    .dataframe tbody tr th {\n",
              "        vertical-align: top;\n",
              "    }\n",
              "\n",
              "    .dataframe thead th {\n",
              "        text-align: right;\n",
              "    }\n",
              "</style>\n",
              "<table border=\"1\" class=\"dataframe\">\n",
              "  <thead>\n",
              "    <tr style=\"text-align: right;\">\n",
              "      <th></th>\n",
              "      <th>error_abs</th>\n",
              "      <th>error_perc</th>\n",
              "    </tr>\n",
              "    <tr>\n",
              "      <th>bedrooms</th>\n",
              "      <th></th>\n",
              "      <th></th>\n",
              "    </tr>\n",
              "  </thead>\n",
              "  <tbody>\n",
              "    <tr>\n",
              "      <th>0</th>\n",
              "      <td>44.427384</td>\n",
              "      <td>37.686086</td>\n",
              "    </tr>\n",
              "    <tr>\n",
              "      <th>1</th>\n",
              "      <td>53.486632</td>\n",
              "      <td>40.584286</td>\n",
              "    </tr>\n",
              "    <tr>\n",
              "      <th>2</th>\n",
              "      <td>81.149176</td>\n",
              "      <td>49.454178</td>\n",
              "    </tr>\n",
              "    <tr>\n",
              "      <th>3</th>\n",
              "      <td>118.321958</td>\n",
              "      <td>45.913125</td>\n",
              "    </tr>\n",
              "    <tr>\n",
              "      <th>4</th>\n",
              "      <td>175.715660</td>\n",
              "      <td>44.334321</td>\n",
              "    </tr>\n",
              "    <tr>\n",
              "      <th>5</th>\n",
              "      <td>249.876147</td>\n",
              "      <td>63.306806</td>\n",
              "    </tr>\n",
              "    <tr>\n",
              "      <th>6</th>\n",
              "      <td>283.061316</td>\n",
              "      <td>59.118326</td>\n",
              "    </tr>\n",
              "    <tr>\n",
              "      <th>7</th>\n",
              "      <td>263.305559</td>\n",
              "      <td>65.554380</td>\n",
              "    </tr>\n",
              "  </tbody>\n",
              "</table>\n",
              "</div>\n",
              "    <div class=\"colab-df-buttons\">\n",
              "\n",
              "  <div class=\"colab-df-container\">\n",
              "    <button class=\"colab-df-convert\" onclick=\"convertToInteractive('df-26f742b6-e861-4694-acc8-daa6356851d7')\"\n",
              "            title=\"Convert this dataframe to an interactive table.\"\n",
              "            style=\"display:none;\">\n",
              "\n",
              "  <svg xmlns=\"http://www.w3.org/2000/svg\" height=\"24px\" viewBox=\"0 -960 960 960\">\n",
              "    <path d=\"M120-120v-720h720v720H120Zm60-500h600v-160H180v160Zm220 220h160v-160H400v160Zm0 220h160v-160H400v160ZM180-400h160v-160H180v160Zm440 0h160v-160H620v160ZM180-180h160v-160H180v160Zm440 0h160v-160H620v160Z\"/>\n",
              "  </svg>\n",
              "    </button>\n",
              "\n",
              "  <style>\n",
              "    .colab-df-container {\n",
              "      display:flex;\n",
              "      gap: 12px;\n",
              "    }\n",
              "\n",
              "    .colab-df-convert {\n",
              "      background-color: #E8F0FE;\n",
              "      border: none;\n",
              "      border-radius: 50%;\n",
              "      cursor: pointer;\n",
              "      display: none;\n",
              "      fill: #1967D2;\n",
              "      height: 32px;\n",
              "      padding: 0 0 0 0;\n",
              "      width: 32px;\n",
              "    }\n",
              "\n",
              "    .colab-df-convert:hover {\n",
              "      background-color: #E2EBFA;\n",
              "      box-shadow: 0px 1px 2px rgba(60, 64, 67, 0.3), 0px 1px 3px 1px rgba(60, 64, 67, 0.15);\n",
              "      fill: #174EA6;\n",
              "    }\n",
              "\n",
              "    .colab-df-buttons div {\n",
              "      margin-bottom: 4px;\n",
              "    }\n",
              "\n",
              "    [theme=dark] .colab-df-convert {\n",
              "      background-color: #3B4455;\n",
              "      fill: #D2E3FC;\n",
              "    }\n",
              "\n",
              "    [theme=dark] .colab-df-convert:hover {\n",
              "      background-color: #434B5C;\n",
              "      box-shadow: 0px 1px 3px 1px rgba(0, 0, 0, 0.15);\n",
              "      filter: drop-shadow(0px 1px 2px rgba(0, 0, 0, 0.3));\n",
              "      fill: #FFFFFF;\n",
              "    }\n",
              "  </style>\n",
              "\n",
              "    <script>\n",
              "      const buttonEl =\n",
              "        document.querySelector('#df-26f742b6-e861-4694-acc8-daa6356851d7 button.colab-df-convert');\n",
              "      buttonEl.style.display =\n",
              "        google.colab.kernel.accessAllowed ? 'block' : 'none';\n",
              "\n",
              "      async function convertToInteractive(key) {\n",
              "        const element = document.querySelector('#df-26f742b6-e861-4694-acc8-daa6356851d7');\n",
              "        const dataTable =\n",
              "          await google.colab.kernel.invokeFunction('convertToInteractive',\n",
              "                                                    [key], {});\n",
              "        if (!dataTable) return;\n",
              "\n",
              "        const docLinkHtml = 'Like what you see? Visit the ' +\n",
              "          '<a target=\"_blank\" href=https://colab.research.google.com/notebooks/data_table.ipynb>data table notebook</a>'\n",
              "          + ' to learn more about interactive tables.';\n",
              "        element.innerHTML = '';\n",
              "        dataTable['output_type'] = 'display_data';\n",
              "        await google.colab.output.renderOutput(dataTable, element);\n",
              "        const docLink = document.createElement('div');\n",
              "        docLink.innerHTML = docLinkHtml;\n",
              "        element.appendChild(docLink);\n",
              "      }\n",
              "    </script>\n",
              "  </div>\n",
              "\n",
              "\n",
              "<div id=\"df-3e205a32-83c8-46e8-81bd-86622400f149\">\n",
              "  <button class=\"colab-df-quickchart\" onclick=\"quickchart('df-3e205a32-83c8-46e8-81bd-86622400f149')\"\n",
              "            title=\"Suggest charts\"\n",
              "            style=\"display:none;\">\n",
              "\n",
              "<svg xmlns=\"http://www.w3.org/2000/svg\" height=\"24px\"viewBox=\"0 0 24 24\"\n",
              "     width=\"24px\">\n",
              "    <g>\n",
              "        <path d=\"M19 3H5c-1.1 0-2 .9-2 2v14c0 1.1.9 2 2 2h14c1.1 0 2-.9 2-2V5c0-1.1-.9-2-2-2zM9 17H7v-7h2v7zm4 0h-2V7h2v10zm4 0h-2v-4h2v4z\"/>\n",
              "    </g>\n",
              "</svg>\n",
              "  </button>\n",
              "\n",
              "<style>\n",
              "  .colab-df-quickchart {\n",
              "      --bg-color: #E8F0FE;\n",
              "      --fill-color: #1967D2;\n",
              "      --hover-bg-color: #E2EBFA;\n",
              "      --hover-fill-color: #174EA6;\n",
              "      --disabled-fill-color: #AAA;\n",
              "      --disabled-bg-color: #DDD;\n",
              "  }\n",
              "\n",
              "  [theme=dark] .colab-df-quickchart {\n",
              "      --bg-color: #3B4455;\n",
              "      --fill-color: #D2E3FC;\n",
              "      --hover-bg-color: #434B5C;\n",
              "      --hover-fill-color: #FFFFFF;\n",
              "      --disabled-bg-color: #3B4455;\n",
              "      --disabled-fill-color: #666;\n",
              "  }\n",
              "\n",
              "  .colab-df-quickchart {\n",
              "    background-color: var(--bg-color);\n",
              "    border: none;\n",
              "    border-radius: 50%;\n",
              "    cursor: pointer;\n",
              "    display: none;\n",
              "    fill: var(--fill-color);\n",
              "    height: 32px;\n",
              "    padding: 0;\n",
              "    width: 32px;\n",
              "  }\n",
              "\n",
              "  .colab-df-quickchart:hover {\n",
              "    background-color: var(--hover-bg-color);\n",
              "    box-shadow: 0 1px 2px rgba(60, 64, 67, 0.3), 0 1px 3px 1px rgba(60, 64, 67, 0.15);\n",
              "    fill: var(--button-hover-fill-color);\n",
              "  }\n",
              "\n",
              "  .colab-df-quickchart-complete:disabled,\n",
              "  .colab-df-quickchart-complete:disabled:hover {\n",
              "    background-color: var(--disabled-bg-color);\n",
              "    fill: var(--disabled-fill-color);\n",
              "    box-shadow: none;\n",
              "  }\n",
              "\n",
              "  .colab-df-spinner {\n",
              "    border: 2px solid var(--fill-color);\n",
              "    border-color: transparent;\n",
              "    border-bottom-color: var(--fill-color);\n",
              "    animation:\n",
              "      spin 1s steps(1) infinite;\n",
              "  }\n",
              "\n",
              "  @keyframes spin {\n",
              "    0% {\n",
              "      border-color: transparent;\n",
              "      border-bottom-color: var(--fill-color);\n",
              "      border-left-color: var(--fill-color);\n",
              "    }\n",
              "    20% {\n",
              "      border-color: transparent;\n",
              "      border-left-color: var(--fill-color);\n",
              "      border-top-color: var(--fill-color);\n",
              "    }\n",
              "    30% {\n",
              "      border-color: transparent;\n",
              "      border-left-color: var(--fill-color);\n",
              "      border-top-color: var(--fill-color);\n",
              "      border-right-color: var(--fill-color);\n",
              "    }\n",
              "    40% {\n",
              "      border-color: transparent;\n",
              "      border-right-color: var(--fill-color);\n",
              "      border-top-color: var(--fill-color);\n",
              "    }\n",
              "    60% {\n",
              "      border-color: transparent;\n",
              "      border-right-color: var(--fill-color);\n",
              "    }\n",
              "    80% {\n",
              "      border-color: transparent;\n",
              "      border-right-color: var(--fill-color);\n",
              "      border-bottom-color: var(--fill-color);\n",
              "    }\n",
              "    90% {\n",
              "      border-color: transparent;\n",
              "      border-bottom-color: var(--fill-color);\n",
              "    }\n",
              "  }\n",
              "</style>\n",
              "\n",
              "  <script>\n",
              "    async function quickchart(key) {\n",
              "      const quickchartButtonEl =\n",
              "        document.querySelector('#' + key + ' button');\n",
              "      quickchartButtonEl.disabled = true;  // To prevent multiple clicks.\n",
              "      quickchartButtonEl.classList.add('colab-df-spinner');\n",
              "      try {\n",
              "        const charts = await google.colab.kernel.invokeFunction(\n",
              "            'suggestCharts', [key], {});\n",
              "      } catch (error) {\n",
              "        console.error('Error during call to suggestCharts:', error);\n",
              "      }\n",
              "      quickchartButtonEl.classList.remove('colab-df-spinner');\n",
              "      quickchartButtonEl.classList.add('colab-df-quickchart-complete');\n",
              "    }\n",
              "    (() => {\n",
              "      let quickchartButtonEl =\n",
              "        document.querySelector('#df-3e205a32-83c8-46e8-81bd-86622400f149 button');\n",
              "      quickchartButtonEl.style.display =\n",
              "        google.colab.kernel.accessAllowed ? 'block' : 'none';\n",
              "    })();\n",
              "  </script>\n",
              "</div>\n",
              "\n",
              "    </div>\n",
              "  </div>\n"
            ]
          },
          "metadata": {},
          "execution_count": 30
        }
      ],
      "source": [
        "df_error.groupby('bedrooms')['error_abs', 'error_perc'].mean()"
      ]
    },
    {
      "cell_type": "code",
      "execution_count": 31,
      "id": "5a9823d7-667c-491b-a478-ae3250c9f1d4",
      "metadata": {
        "tags": [],
        "colab": {
          "base_uri": "https://localhost:8080/",
          "height": 564
        },
        "id": "5a9823d7-667c-491b-a478-ae3250c9f1d4",
        "outputId": "be84f652-3cd2-42c2-db50-69b807ba3820"
      },
      "outputs": [
        {
          "output_type": "display_data",
          "data": {
            "text/plain": [
              "<Figure size 800x600 with 1 Axes>"
            ],
            "image/png": "[encoded data removed]"
          },
          "metadata": {}
        }
      ],
      "source": [
        "plt.figure(figsize=(8, 6))\n",
        "df_error.groupby('bedrooms')['error_perc'].mean().plot.bar()\n",
        "plt.xlabel('Bedrooms')\n",
        "plt.ylabel('Modeling error, %')\n",
        "plt.title('Price predication error for number of bedrooms')\n",
        "plt.xticks(rotation=0);"
      ]
    },
    {
      "cell_type": "markdown",
      "id": "c2273500-34da-4f59-9f6f-6ee0dcddb134",
      "metadata": {
        "id": "c2273500-34da-4f59-9f6f-6ee0dcddb134"
      },
      "source": [
        "From the above figure, we can say that the price prediction error increases when the number of bedrooms increases to 5 or more."
      ]
    },
    {
      "cell_type": "code",
      "execution_count": 32,
      "id": "2ed0c780-ba8b-4f23-9066-78b517b55e73",
      "metadata": {
        "tags": [],
        "colab": {
          "base_uri": "https://localhost:8080/",
          "height": 564
        },
        "id": "2ed0c780-ba8b-4f23-9066-78b517b55e73",
        "outputId": "8ba8f0cc-23f4-49a4-9348-45ff683b0051"
      },
      "outputs": [
        {
          "output_type": "display_data",
          "data": {
            "text/plain": [
              "<Figure size 800x600 with 1 Axes>"
            ],
            "image/png": "[encoded data removed]"
          },
          "metadata": {}
        }
      ],
      "source": [
        "plt.figure(figsize=(8, 6))\n",
        "df_error.groupby('beds')['error_perc'].mean().plot.bar()\n",
        "plt.xlabel('Beds')\n",
        "plt.ylabel('Modeling error, %')\n",
        "plt.title('Price predication error for number of beds')\n",
        "plt.xticks(rotation=0);"
      ]
    },
    {
      "cell_type": "code",
      "execution_count": 33,
      "id": "e2fcaf69-30ee-4515-8a6b-caf0fa5e4d31",
      "metadata": {
        "tags": [],
        "colab": {
          "base_uri": "https://localhost:8080/"
        },
        "id": "e2fcaf69-30ee-4515-8a6b-caf0fa5e4d31",
        "outputId": "a204a28e-5c58-46bc-d11f-389bda614b65"
      },
      "outputs": [
        {
          "output_type": "stream",
          "name": "stdout",
          "text": [
            "Value count for different number of beds:\n"
          ]
        },
        {
          "output_type": "execute_result",
          "data": {
            "text/plain": [
              "1      9029\n",
              "2     11009\n",
              "3      7507\n",
              "4      4219\n",
              "5      2043\n",
              "6      1243\n",
              "7       806\n",
              "8       510\n",
              "9       295\n",
              "10      240\n",
              "11      118\n",
              "12      131\n",
              "13       86\n",
              "14       73\n",
              "15       32\n",
              "Name: beds, dtype: int64"
            ]
          },
          "metadata": {},
          "execution_count": 33
        }
      ],
      "source": [
        "print('Value count for different number of beds:')\n",
        "df_error['beds'].value_counts().sort_index()"
      ]
    },
    {
      "cell_type": "markdown",
      "id": "763cb6e5-8f46-4bc3-89ab-0cb00a1644bd",
      "metadata": {
        "id": "763cb6e5-8f46-4bc3-89ab-0cb00a1644bd"
      },
      "source": [
        "Modeling error for the number of beds increases slowly up to 5-6 beds and then goes ups and down. We cannot draw a solide conclusion on how the error is impacted by number of beds but it should be noticed that the trend we are seeing for beds after 9 or more is not that significant as the number of listings in that range is relatively small."
      ]
    },
    {
      "cell_type": "markdown",
      "id": "0c017035-ba71-41dd-a5dc-c9b70e60b6e1",
      "metadata": {
        "id": "0c017035-ba71-41dd-a5dc-c9b70e60b6e1"
      },
      "source": [
        "The following plot shows error analysis at different zip codes (also the number of listing at each zipcode)."
      ]
    },
    {
      "cell_type": "code",
      "execution_count": 34,
      "id": "072a9d29-98aa-4cb4-99f4-03987b8f1345",
      "metadata": {
        "tags": [],
        "id": "072a9d29-98aa-4cb4-99f4-03987b8f1345"
      },
      "outputs": [],
      "source": [
        "# find the number average modeling error in each zip code and create a df to plot it as well as the number of listings\n",
        "zip_error = pd.concat([df_error.groupby('zipcode')['error_perc'].count().sort_values(ascending=False),\n",
        "                       df_error.groupby('zipcode')['error_perc'].mean().sort_values(ascending=False)], axis=1 )\n",
        "zip_error.columns = ['count', 'error_perc']\n",
        "zip_error = zip_error.sort_values(by='error_perc', ascending=False)\n"
      ]
    },
    {
      "cell_type": "code",
      "execution_count": 35,
      "id": "26e1ad5f-c72a-4595-a08e-fe661292b567",
      "metadata": {
        "tags": [],
        "colab": {
          "base_uri": "https://localhost:8080/",
          "height": 594
        },
        "id": "26e1ad5f-c72a-4595-a08e-fe661292b567",
        "outputId": "a1a23c31-8576-414f-c51b-0302540d224c"
      },
      "outputs": [
        {
          "output_type": "display_data",
          "data": {
            "text/plain": [
              "<Figure size 1200x600 with 2 Axes>"
            ],
            "image/png": "[encoded data removed]"
          },
          "metadata": {}
        }
      ],
      "source": [
        "zip_error.plot.bar(secondary_y='count', figsize=(12, 6))\n",
        "plt.title('Prediction error (and number of listings) vs. zipcode');"
      ]
    },
    {
      "cell_type": "markdown",
      "id": "1005cd93-ccee-45a4-8071-68a9c0eff973",
      "metadata": {
        "id": "1005cd93-ccee-45a4-8071-68a9c0eff973"
      },
      "source": [
        "Zipcode analysis shows errors as high as 60% in some neighborhoods and as low as 30% in others. The number of listings in each neighborhood is ploted in this plot so that we know the error is calcualted based on how many observations. Caution should be practiced when interpreting the data from zip codes without too many listings."
      ]
    },
    {
      "cell_type": "markdown",
      "id": "f74ef53f-9f31-4fe5-aebd-57cae71e4789",
      "metadata": {
        "id": "f74ef53f-9f31-4fe5-aebd-57cae71e4789"
      },
      "source": [
        "At the end, let us see if we can find any meaningful correlation between our model error and the price of homes in each neighborhood."
      ]
    },
    {
      "cell_type": "code",
      "execution_count": 36,
      "id": "4ad3f680-2032-4b8e-9b4d-afd6793e92d0",
      "metadata": {
        "tags": [],
        "colab": {
          "base_uri": "https://localhost:8080/",
          "height": 604
        },
        "id": "4ad3f680-2032-4b8e-9b4d-afd6793e92d0",
        "outputId": "90d27bb4-311c-43ab-d634-920d3756d0be"
      },
      "outputs": [
        {
          "output_type": "display_data",
          "data": {
            "text/plain": [
              "<Figure size 1200x600 with 1 Axes>"
            ],
            "image/png": "[encoded data removed]"
          },
          "metadata": {}
        }
      ],
      "source": [
        "plt.figure(figsize=(12, 6))\n",
        "df_error.groupby('home_price_aprx')['error_perc'].mean().sort_index(ascending=True).plot.bar()\n",
        "plt.xlabel('Average home price, $')\n",
        "plt.ylabel('Modeling error, %')\n",
        "plt.title('Price predication error vs. home values')\n",
        "plt.xticks(rotation=45);"
      ]
    },
    {
      "cell_type": "markdown",
      "id": "8c259961-e596-45d9-8f3f-8e5b7c6491c9",
      "metadata": {
        "id": "8c259961-e596-45d9-8f3f-8e5b7c6491c9"
      },
      "source": [
        "The above plot does not show any meaningful correlation between the average home price and the airbnb home listing price error."
      ]
    },
    {
      "cell_type": "markdown",
      "id": "ae8b595f-1ee9-4190-8266-8bfa5f823963",
      "metadata": {
        "id": "ae8b595f-1ee9-4190-8266-8bfa5f823963"
      },
      "source": [
        "__Highlights:__\n",
        "- Using polynomial features (quadratic terms) along with regularization has improved our linear regression model (R2 = 0.52). Both Ridge and LASSO have the same performance.\n",
        "\n",
        "Error analysis:\n",
        "- Prediction error shows a big jump for 5 bedrooms and more.\n",
        "- Prediction error for listings that have pool is 10% higher than the ones without pool.\n",
        "- Prediction error for listings with a super host is 10% lower than the listings without superhost.\n"
      ]
    },
    {
      "cell_type": "markdown",
      "source": [
        "## Neural Networks"
      ],
      "metadata": {
        "id": "X-zUbFTQB_Jn"
      },
      "id": "X-zUbFTQB_Jn"
    },
    {
      "cell_type": "markdown",
      "source": [
        "In this section, we will try to use neural networks (NN) to build a model and estimate the listing price for airbnb houses. Since NN requires the data to be in numeric format (no categorical data), we will start our analysis by a model that only includes the numeric features so that we don't increase the dimensionality at the beginning."
      ],
      "metadata": {
        "id": "tIK7EfvDCG6O"
      },
      "id": "tIK7EfvDCG6O"
    },
    {
      "cell_type": "code",
      "source": [
        "X = df.drop(columns=['price', 'zipcode', 'time_quarter'])\n",
        "y = df['price']\n",
        "# train_test split\n",
        "X_train, X_test, y_train, y_test = train_test_split(X, y,\n",
        "                                                    random_state=42,\n",
        "                                                    test_size=0.2)\n",
        "\n",
        "# scale the data\n",
        "ss = StandardScaler()\n",
        "Z_train = ss.fit_transform(X_train)\n",
        "Z_test = ss.transform(X_test)\n",
        "\n",
        "# build the sequential nn\n",
        "nn_numeric = Sequential()\n",
        "# add a hidden layer\n",
        "nn_numeric.add(Dense(128,\n",
        "                     activation='relu',\n",
        "                     input_shape=(11,)))\n",
        "# add a hidden layer\n",
        "nn_numeric.add(Dense(256,\n",
        "                     activation='relu'))\n",
        "# add a hidden layer\n",
        "nn_numeric.add(Dense(128,\n",
        "                     activation='relu'))\n",
        "# add output layer\n",
        "nn_numeric.add(Dense(1,\n",
        "                     activation=None))\n",
        "\n",
        "# compile the model\n",
        "nn_numeric.compile(loss='mse',\n",
        "                   optimizer='adam')\n",
        "\n",
        "# fit the model\n",
        "es = EarlyStopping(patience = 5)\n",
        "nn_numeric.fit(Z_train, y_train,\n",
        "               epochs=200,\n",
        "               batch_size=1024,\n",
        "               callbacks=[es],\n",
        "               validation_data=(Z_test, y_test))\n",
        "\n",
        "# predict data\n",
        "preds_train = nn_numeric.predict(Z_train)\n",
        "preds_test = nn_numeric.predict(Z_test)"
      ],
      "metadata": {
        "colab": {
          "base_uri": "https://localhost:8080/"
        },
        "id": "D0ve3u12DlWC",
        "outputId": "1b5977ee-eef7-4af2-80be-13fe39e6a654"
      },
      "id": "D0ve3u12DlWC",
      "execution_count": 4,
      "outputs": [
        {
          "output_type": "stream",
          "name": "stdout",
          "text": [
            "Epoch 1/200\n",
            "30/30 [==============================] - 2s 20ms/step - loss: 110573.0469 - val_loss: 94252.5469\n",
            "Epoch 2/200\n",
            "30/30 [==============================] - 0s 14ms/step - loss: 55976.0117 - val_loss: 37278.4609\n",
            "Epoch 3/200\n",
            "30/30 [==============================] - 0s 15ms/step - loss: 31946.6816 - val_loss: 32131.3477\n",
            "Epoch 4/200\n",
            "30/30 [==============================] - 0s 15ms/step - loss: 30500.9238 - val_loss: 31534.5156\n",
            "Epoch 5/200\n",
            "30/30 [==============================] - 0s 14ms/step - loss: 29995.4277 - val_loss: 31084.5918\n",
            "Epoch 6/200\n",
            "30/30 [==============================] - 0s 14ms/step - loss: 29688.6699 - val_loss: 30849.5566\n",
            "Epoch 7/200\n",
            "30/30 [==============================] - 0s 14ms/step - loss: 29504.4297 - val_loss: 30691.1875\n",
            "Epoch 8/200\n",
            "30/30 [==============================] - 0s 15ms/step - loss: 29365.6973 - val_loss: 30583.7246\n",
            "Epoch 9/200\n",
            "30/30 [==============================] - 0s 14ms/step - loss: 29288.7656 - val_loss: 30506.2949\n",
            "Epoch 10/200\n",
            "30/30 [==============================] - 0s 15ms/step - loss: 29221.6426 - val_loss: 30417.6836\n",
            "Epoch 11/200\n",
            "30/30 [==============================] - 0s 14ms/step - loss: 29190.5820 - val_loss: 30418.3535\n",
            "Epoch 12/200\n",
            "30/30 [==============================] - 0s 15ms/step - loss: 29049.3418 - val_loss: 30281.6270\n",
            "Epoch 13/200\n",
            "30/30 [==============================] - 0s 14ms/step - loss: 28970.4531 - val_loss: 30262.8398\n",
            "Epoch 14/200\n",
            "30/30 [==============================] - 0s 15ms/step - loss: 28937.8828 - val_loss: 30205.2344\n",
            "Epoch 15/200\n",
            "30/30 [==============================] - 0s 14ms/step - loss: 28825.3867 - val_loss: 30255.6777\n",
            "Epoch 16/200\n",
            "30/30 [==============================] - 1s 19ms/step - loss: 28822.6152 - val_loss: 30057.6699\n",
            "Epoch 17/200\n",
            "30/30 [==============================] - 1s 25ms/step - loss: 28705.3652 - val_loss: 30007.2852\n",
            "Epoch 18/200\n",
            "30/30 [==============================] - 1s 23ms/step - loss: 28586.5195 - val_loss: 29856.2637\n",
            "Epoch 19/200\n",
            "30/30 [==============================] - 1s 22ms/step - loss: 28531.2461 - val_loss: 29862.7793\n",
            "Epoch 20/200\n",
            "30/30 [==============================] - 1s 19ms/step - loss: 28410.4805 - val_loss: 29687.5156\n",
            "Epoch 21/200\n",
            "30/30 [==============================] - 0s 14ms/step - loss: 28278.7754 - val_loss: 29578.6348\n",
            "Epoch 22/200\n",
            "30/30 [==============================] - 0s 14ms/step - loss: 28164.8965 - val_loss: 29459.8262\n",
            "Epoch 23/200\n",
            "30/30 [==============================] - 0s 15ms/step - loss: 27990.9766 - val_loss: 29380.9941\n",
            "Epoch 24/200\n",
            "30/30 [==============================] - 0s 14ms/step - loss: 27898.1953 - val_loss: 29410.6133\n",
            "Epoch 25/200\n",
            "30/30 [==============================] - 0s 15ms/step - loss: 27814.2559 - val_loss: 29152.7402\n",
            "Epoch 26/200\n",
            "30/30 [==============================] - 0s 14ms/step - loss: 27693.8027 - val_loss: 29043.8809\n",
            "Epoch 27/200\n",
            "30/30 [==============================] - 0s 14ms/step - loss: 27683.5078 - val_loss: 29003.1230\n",
            "Epoch 28/200\n",
            "30/30 [==============================] - 0s 13ms/step - loss: 27644.8164 - val_loss: 29110.0918\n",
            "Epoch 29/200\n",
            "30/30 [==============================] - 0s 14ms/step - loss: 27552.2344 - val_loss: 28933.6074\n",
            "Epoch 30/200\n",
            "30/30 [==============================] - 0s 13ms/step - loss: 27429.9883 - val_loss: 29034.5098\n",
            "Epoch 31/200\n",
            "30/30 [==============================] - 0s 13ms/step - loss: 27373.2773 - val_loss: 28949.3359\n",
            "Epoch 32/200\n",
            "30/30 [==============================] - 0s 14ms/step - loss: 27345.3848 - val_loss: 29067.6543\n",
            "Epoch 33/200\n",
            "30/30 [==============================] - 0s 14ms/step - loss: 27401.7910 - val_loss: 28790.8984\n",
            "Epoch 34/200\n",
            "30/30 [==============================] - 0s 14ms/step - loss: 27226.2383 - val_loss: 28725.2500\n",
            "Epoch 35/200\n",
            "30/30 [==============================] - 0s 14ms/step - loss: 27247.5664 - val_loss: 28938.5859\n",
            "Epoch 36/200\n",
            "30/30 [==============================] - 0s 14ms/step - loss: 27187.5566 - val_loss: 28679.0234\n",
            "Epoch 37/200\n",
            "30/30 [==============================] - 0s 15ms/step - loss: 27126.4727 - val_loss: 28651.1348\n",
            "Epoch 38/200\n",
            "30/30 [==============================] - 0s 15ms/step - loss: 27008.3770 - val_loss: 28647.5859\n",
            "Epoch 39/200\n",
            "30/30 [==============================] - 0s 14ms/step - loss: 27033.1328 - val_loss: 28688.7773\n",
            "Epoch 40/200\n",
            "30/30 [==============================] - 0s 15ms/step - loss: 26939.8594 - val_loss: 28593.9199\n",
            "Epoch 41/200\n",
            "30/30 [==============================] - 0s 15ms/step - loss: 26887.3730 - val_loss: 28512.1621\n",
            "Epoch 42/200\n",
            "30/30 [==============================] - 0s 15ms/step - loss: 26840.0137 - val_loss: 28516.4121\n",
            "Epoch 43/200\n",
            "30/30 [==============================] - 1s 21ms/step - loss: 26825.4707 - val_loss: 28488.4902\n",
            "Epoch 44/200\n",
            "30/30 [==============================] - 1s 23ms/step - loss: 26745.4277 - val_loss: 28475.3809\n",
            "Epoch 45/200\n",
            "30/30 [==============================] - 1s 22ms/step - loss: 26677.8555 - val_loss: 28490.0059\n",
            "Epoch 46/200\n",
            "30/30 [==============================] - 1s 26ms/step - loss: 26770.9004 - val_loss: 28489.8867\n",
            "Epoch 47/200\n",
            "30/30 [==============================] - 0s 16ms/step - loss: 26612.6758 - val_loss: 28314.3125\n",
            "Epoch 48/200\n",
            "30/30 [==============================] - 0s 14ms/step - loss: 26569.3086 - val_loss: 28542.2129\n",
            "Epoch 49/200\n",
            "30/30 [==============================] - 0s 14ms/step - loss: 26604.4668 - val_loss: 28525.4082\n",
            "Epoch 50/200\n",
            "30/30 [==============================] - 0s 14ms/step - loss: 26587.6602 - val_loss: 28570.4004\n",
            "Epoch 51/200\n",
            "30/30 [==============================] - 0s 15ms/step - loss: 26548.8008 - val_loss: 28224.5625\n",
            "Epoch 52/200\n",
            "30/30 [==============================] - 0s 14ms/step - loss: 26445.0742 - val_loss: 28301.2871\n",
            "Epoch 53/200\n",
            "30/30 [==============================] - 0s 14ms/step - loss: 26437.6641 - val_loss: 28389.1875\n",
            "Epoch 54/200\n",
            "30/30 [==============================] - 0s 13ms/step - loss: 26382.0195 - val_loss: 28257.2324\n",
            "Epoch 55/200\n",
            "30/30 [==============================] - 0s 14ms/step - loss: 26261.5195 - val_loss: 28168.7539\n",
            "Epoch 56/200\n",
            "30/30 [==============================] - 0s 14ms/step - loss: 26412.2305 - val_loss: 28145.4746\n",
            "Epoch 57/200\n",
            "30/30 [==============================] - 0s 14ms/step - loss: 26162.4609 - val_loss: 28018.5293\n",
            "Epoch 58/200\n",
            "30/30 [==============================] - 0s 14ms/step - loss: 26112.5020 - val_loss: 28067.6777\n",
            "Epoch 59/200\n",
            "30/30 [==============================] - 0s 14ms/step - loss: 26084.9883 - val_loss: 28037.7852\n",
            "Epoch 60/200\n",
            "30/30 [==============================] - 0s 14ms/step - loss: 26086.9355 - val_loss: 28047.0957\n",
            "Epoch 61/200\n",
            "30/30 [==============================] - 0s 14ms/step - loss: 25999.8242 - val_loss: 27984.8281\n",
            "Epoch 62/200\n",
            "30/30 [==============================] - 0s 14ms/step - loss: 25983.1309 - val_loss: 28037.1348\n",
            "Epoch 63/200\n",
            "30/30 [==============================] - 0s 14ms/step - loss: 25893.0234 - val_loss: 27902.5156\n",
            "Epoch 64/200\n",
            "30/30 [==============================] - 0s 14ms/step - loss: 25964.8477 - val_loss: 27914.1660\n",
            "Epoch 65/200\n",
            "30/30 [==============================] - 0s 15ms/step - loss: 25852.5918 - val_loss: 27819.0293\n",
            "Epoch 66/200\n",
            "30/30 [==============================] - 0s 15ms/step - loss: 25739.2285 - val_loss: 27895.7520\n",
            "Epoch 67/200\n",
            "30/30 [==============================] - 0s 14ms/step - loss: 25685.3066 - val_loss: 27828.2695\n",
            "Epoch 68/200\n",
            "30/30 [==============================] - 0s 14ms/step - loss: 25688.1699 - val_loss: 27740.0859\n",
            "Epoch 69/200\n",
            "30/30 [==============================] - 0s 14ms/step - loss: 25597.4062 - val_loss: 27889.4336\n",
            "Epoch 70/200\n",
            "30/30 [==============================] - 1s 18ms/step - loss: 25586.9043 - val_loss: 27856.5273\n",
            "Epoch 71/200\n",
            "30/30 [==============================] - 1s 22ms/step - loss: 25608.2461 - val_loss: 27763.8047\n",
            "Epoch 72/200\n",
            "30/30 [==============================] - 1s 22ms/step - loss: 25502.6582 - val_loss: 27665.7109\n",
            "Epoch 73/200\n",
            "30/30 [==============================] - 1s 24ms/step - loss: 25420.7891 - val_loss: 27612.4102\n",
            "Epoch 74/200\n",
            "30/30 [==============================] - 1s 21ms/step - loss: 25394.8320 - val_loss: 27876.6387\n",
            "Epoch 75/200\n",
            "30/30 [==============================] - 0s 15ms/step - loss: 25366.7188 - val_loss: 27687.7031\n",
            "Epoch 76/200\n",
            "30/30 [==============================] - 0s 14ms/step - loss: 25301.0098 - val_loss: 27827.1953\n",
            "Epoch 77/200\n",
            "30/30 [==============================] - 0s 14ms/step - loss: 25212.7969 - val_loss: 27557.4277\n",
            "Epoch 78/200\n",
            "30/30 [==============================] - 0s 14ms/step - loss: 25243.0215 - val_loss: 27675.4160\n",
            "Epoch 79/200\n",
            "30/30 [==============================] - 0s 14ms/step - loss: 25217.2461 - val_loss: 27501.7207\n",
            "Epoch 80/200\n",
            "30/30 [==============================] - 0s 15ms/step - loss: 25058.4102 - val_loss: 27474.9082\n",
            "Epoch 81/200\n",
            "30/30 [==============================] - 0s 14ms/step - loss: 25064.4844 - val_loss: 27466.1055\n",
            "Epoch 82/200\n",
            "30/30 [==============================] - 0s 15ms/step - loss: 24909.5879 - val_loss: 27405.8711\n",
            "Epoch 83/200\n",
            "30/30 [==============================] - 0s 13ms/step - loss: 24903.6426 - val_loss: 27534.1660\n",
            "Epoch 84/200\n",
            "30/30 [==============================] - 0s 15ms/step - loss: 24923.6426 - val_loss: 27411.3379\n",
            "Epoch 85/200\n",
            "30/30 [==============================] - 0s 14ms/step - loss: 24818.1309 - val_loss: 27422.6973\n",
            "Epoch 86/200\n",
            "30/30 [==============================] - 0s 15ms/step - loss: 24829.1797 - val_loss: 27305.8438\n",
            "Epoch 87/200\n",
            "30/30 [==============================] - 0s 14ms/step - loss: 24939.9355 - val_loss: 27842.5664\n",
            "Epoch 88/200\n",
            "30/30 [==============================] - 0s 15ms/step - loss: 24834.7148 - val_loss: 27176.8027\n",
            "Epoch 89/200\n",
            "30/30 [==============================] - 0s 14ms/step - loss: 24725.2910 - val_loss: 27367.9902\n",
            "Epoch 90/200\n",
            "30/30 [==============================] - 0s 15ms/step - loss: 24687.6816 - val_loss: 27325.1523\n",
            "Epoch 91/200\n",
            "30/30 [==============================] - 0s 15ms/step - loss: 24556.9238 - val_loss: 27198.6777\n",
            "Epoch 92/200\n",
            "30/30 [==============================] - 0s 13ms/step - loss: 24458.3906 - val_loss: 27187.8125\n",
            "Epoch 93/200\n",
            "30/30 [==============================] - 0s 15ms/step - loss: 24425.4277 - val_loss: 27269.1934\n",
            "934/934 [==============================] - 2s 2ms/step\n",
            "234/234 [==============================] - 0s 2ms/step\n"
          ]
        }
      ]
    },
    {
      "cell_type": "code",
      "source": [
        "print(f'Train data R2 = {round(r2_score(y_train, preds_train), 4)}')\n",
        "print(f'Train data MAE ($) = {int(mean_absolute_error(y_train, preds_train))}')\n",
        "print(f'Test data R2 = {round(r2_score(y_test, preds_test), 4)}')\n",
        "print(f'Test data MAE ($) = {int(mean_absolute_error(y_test, preds_test))}')"
      ],
      "metadata": {
        "colab": {
          "base_uri": "https://localhost:8080/"
        },
        "id": "5mgJB3giFeuR",
        "outputId": "f7875d96-8e7d-481e-9ec7-d408f7f27e98"
      },
      "id": "5mgJB3giFeuR",
      "execution_count": 5,
      "outputs": [
        {
          "output_type": "stream",
          "name": "stdout",
          "text": [
            "Train data R2 = 0.5664\n",
            "Train data MAE ($) = 94\n",
            "Test data R2 = 0.5215\n",
            "Test data MAE ($) = 98\n"
          ]
        }
      ]
    },
    {
      "cell_type": "code",
      "source": [
        "\n",
        "\n",
        "\n",
        "# gridsearch object\n",
        "gs_lasso_poly_pipeline = GridSearchCV(lasso_poly_pipeline,\n",
        "                                     param_grid={'lasso__alpha': np.logspace(-1, 1, 25)},\n",
        "                                      verbose = 3,\n",
        "                                      cv =3,\n",
        "                                      n_jobs=-1\n",
        "                                     )\n",
        "\n",
        "# fit the model\n",
        "gs_lasso_poly_pipeline.fit(X_train, y_train)\n",
        "\n",
        "# predict data\n",
        "preds_train = gs_lasso_poly_pipeline.predict(X_train)\n",
        "preds_test = gs_lasso_poly_pipeline.predict(X_test)\n",
        "\n",
        "# best alpha\n",
        "print(gs_lasso_poly_pipeline.best_params_)"
      ],
      "metadata": {
        "id": "_LW4OwMLFejJ"
      },
      "id": "_LW4OwMLFejJ",
      "execution_count": null,
      "outputs": []
    },
    {
      "cell_type": "markdown",
      "id": "d71a857b-e5d5-430c-9a55-6c8f70088aac",
      "metadata": {
        "id": "d71a857b-e5d5-430c-9a55-6c8f70088aac"
      },
      "source": [
        "## XGBoost regressor"
      ]
    },
    {
      "cell_type": "markdown",
      "id": "cf48cbf3-86e5-4b9c-8c3f-633c46fabc94",
      "metadata": {
        "id": "cf48cbf3-86e5-4b9c-8c3f-633c46fabc94"
      },
      "source": [
        "In this section, we will try to model the listing price using XGBoost. First, define the object columns as categories. and then create the object and run it."
      ]
    },
    {
      "cell_type": "code",
      "source": [
        "df_xgb = df.copy()\n",
        "# convert the type into category\n",
        "df_xgb[['zipcode', 'time_quarter']] = df_xgb[['zipcode', 'time_quarter']].astype('category')\n",
        "\n",
        "X = df_xgb.drop(columns=['price'])\n",
        "y = df_xgb['price']\n",
        "# train_test split\n",
        "X_train, X_test, y_train, y_test = train_test_split(X, y,\n",
        "                                                    random_state=42,\n",
        "                                                    test_size=0.2)\n",
        "\n",
        "\n",
        "# create the xgb instance\n",
        "xgb_reg = xgb.XGBRegressor(enable_categorical=True)\n",
        "\n",
        "param_space = {\n",
        "    'n_estimators': [50, 100, 150],\n",
        "    'learning_rate': [0.1, 0.2, 0.4, 0.6, 0.8],\n",
        "    'max_depth': [5, 8, 10], # this has significant effects on R2\n",
        "    'subsample': [0.5, 0.9, 1.0],\n",
        "    'colsample_bytree': [0.5, 0.8, 1.0],\n",
        "    'reg_alpha': [ 0.001, 0.01, 0.1, 1],\n",
        "    'gamma': [0.1, 1, 3],\n",
        "    'eta': [0.2, 0.5],\n",
        "    'min_child_weight': [5, 7]\n",
        "\n",
        "}\n",
        "bayes_xgb_reg = BayesSearchCV(xgb_reg,\n",
        "                         param_space,\n",
        "                         cv=5,\n",
        "                         verbose=0,\n",
        "                         n_iter=50,\n",
        "                         scoring='neg_mean_absolute_error',\n",
        "                         random_state=42)\n",
        "bayes_xgb_reg.fit(X_train, y_train)\n",
        "\n",
        "\n",
        "# predict data\n",
        "preds_train = bayes_xgb_reg.predict(X_train)\n",
        "preds_test = bayes_xgb_reg.predict(X_test)\n",
        "\n",
        "# parameters for the best estimator\n",
        "print('=============')\n",
        "print(bayes_xgb_reg.best_params_)\n",
        "print(bayes_xgb_reg.best_score_)"
      ],
      "metadata": {
        "colab": {
          "base_uri": "https://localhost:8080/"
        },
        "id": "g7jmXO72d_sV",
        "outputId": "6564965c-cf8e-4fbe-a21e-a59a0bd5ddb5"
      },
      "id": "g7jmXO72d_sV",
      "execution_count": 20,
      "outputs": [
        {
          "output_type": "stream",
          "name": "stderr",
          "text": [
            "/usr/local/lib/python3.10/dist-packages/skopt/optimizer/optimizer.py:449: UserWarning: The objective has been evaluated at this point before.\n",
            "  warnings.warn(\"The objective has been evaluated \"\n",
            "/usr/local/lib/python3.10/dist-packages/skopt/optimizer/optimizer.py:449: UserWarning: The objective has been evaluated at this point before.\n",
            "  warnings.warn(\"The objective has been evaluated \"\n",
            "/usr/local/lib/python3.10/dist-packages/skopt/optimizer/optimizer.py:449: UserWarning: The objective has been evaluated at this point before.\n",
            "  warnings.warn(\"The objective has been evaluated \"\n",
            "/usr/local/lib/python3.10/dist-packages/skopt/optimizer/optimizer.py:449: UserWarning: The objective has been evaluated at this point before.\n",
            "  warnings.warn(\"The objective has been evaluated \"\n",
            "/usr/local/lib/python3.10/dist-packages/skopt/optimizer/optimizer.py:449: UserWarning: The objective has been evaluated at this point before.\n",
            "  warnings.warn(\"The objective has been evaluated \"\n",
            "/usr/local/lib/python3.10/dist-packages/skopt/optimizer/optimizer.py:449: UserWarning: The objective has been evaluated at this point before.\n",
            "  warnings.warn(\"The objective has been evaluated \"\n",
            "/usr/local/lib/python3.10/dist-packages/skopt/optimizer/optimizer.py:449: UserWarning: The objective has been evaluated at this point before.\n",
            "  warnings.warn(\"The objective has been evaluated \"\n"
          ]
        },
        {
          "output_type": "stream",
          "name": "stdout",
          "text": [
            "=============\n",
            "OrderedDict([('colsample_bytree', 1.0), ('eta', 0.4817928782187996), ('gamma', 0.1), ('learning_rate', 0.2), ('max_depth', 10), ('min_child_weight', 7), ('n_estimators', 150), ('reg_alpha', 1.0), ('subsample', 1.0)])\n",
            "-74.93063795104595\n"
          ]
        }
      ]
    },
    {
      "cell_type": "code",
      "source": [
        "print(f'Train data R2 = {round(r2_score(y_train, preds_train), 4)}')\n",
        "print(f'Train data MAE ($) = {int(mean_absolute_error(y_train, preds_train))}')\n",
        "print(f'Test data R2 = {round(r2_score(y_test, preds_test), 4)}')\n",
        "print(f'Test data MAE ($) = {int(mean_absolute_error(y_test, preds_test))}')"
      ],
      "metadata": {
        "id": "JK198REzeEt5"
      },
      "id": "JK198REzeEt5",
      "execution_count": null,
      "outputs": []
    },
    {
      "cell_type": "markdown",
      "source": [
        "As we can see from the results, we have been able to get a R2 score of 0.71 with XGBoost. The tree based algorithms are prone to overfitting and in order to control it, we have tried different hyperparameter tunings. `BayesSearchCV` was used to exhaust all the possible hyperparameter tunining options without increasing the runtime drastically."
      ],
      "metadata": {
        "id": "x2l7wy5TeNSm"
      },
      "id": "x2l7wy5TeNSm"
    },
    {
      "cell_type": "markdown",
      "source": [
        "__Highlights:__\n",
        "- XGBoost gives us a test R2 of 0.71 after trying different hyperparameter tuning approaches."
      ],
      "metadata": {
        "id": "Htc5TKvUZ6Ud"
      },
      "id": "Htc5TKvUZ6Ud"
    },
    {
      "cell_type": "code",
      "execution_count": null,
      "id": "f1fd5876-e6af-47bb-858c-af7d5e50e982",
      "metadata": {
        "id": "f1fd5876-e6af-47bb-858c-af7d5e50e982"
      },
      "outputs": [],
      "source": []
    },
    {
      "cell_type": "code",
      "execution_count": null,
      "id": "31283496-8c75-4f1c-8334-67f1c05f6bee",
      "metadata": {
        "id": "31283496-8c75-4f1c-8334-67f1c05f6bee"
      },
      "outputs": [],
      "source": []
    },
    {
      "cell_type": "code",
      "execution_count": null,
      "id": "9295f741-3fd1-415f-bfbb-49fea199b318",
      "metadata": {
        "id": "9295f741-3fd1-415f-bfbb-49fea199b318"
      },
      "outputs": [],
      "source": []
    },
    {
      "cell_type": "code",
      "execution_count": null,
      "id": "4385e474-0e0e-4f60-a330-ae0c7347c63a",
      "metadata": {
        "tags": [],
        "id": "4385e474-0e0e-4f60-a330-ae0c7347c63a",
        "outputId": "f2002ee1-b9c8-4067-f675-47e960c312b7"
      },
      "outputs": [
        {
          "name": "stdout",
          "output_type": "stream",
          "text": [
            "<class 'pandas.core.frame.DataFrame'>\n",
            "RangeIndex: 37341 entries, 0 to 37340\n",
            "Data columns (total 14 columns):\n",
            " #   Column                Non-Null Count  Dtype   \n",
            "---  ------                --------------  -----   \n",
            " 0   bedrooms              37341 non-null  int64   \n",
            " 1   beds                  37341 non-null  int64   \n",
            " 2   bath                  37341 non-null  float64 \n",
            " 3   zipcode               37341 non-null  category\n",
            " 4   host_is_superhost     37341 non-null  int64   \n",
            " 5   review_scores_rating  37341 non-null  float64 \n",
            " 6   time_quarter          37341 non-null  category\n",
            " 7   has_pool              37341 non-null  int64   \n",
            " 8   is_petfriendly        37341 non-null  int64   \n",
            " 9   has_workspace         37341 non-null  int64   \n",
            " 10  has_freeparking       37341 non-null  int64   \n",
            " 11  has_gym               37341 non-null  int64   \n",
            " 12  home_price_aprx       37341 non-null  int64   \n",
            " 13  price                 37341 non-null  float64 \n",
            "dtypes: category(2), float64(3), int64(9)\n",
            "memory usage: 3.5 MB\n"
          ]
        }
      ],
      "source": [
        "df_xgb.info()"
      ]
    },
    {
      "cell_type": "markdown",
      "id": "c4467d31",
      "metadata": {
        "id": "c4467d31"
      },
      "source": [
        "\n",
        "the idea of changing the range for price variables to get smaller range\n",
        "\n",
        "error is higher for large prices, maybe do a log transform- no\n",
        "considerings listings less than 500 doesnt help either\n",
        "if we do polynomial, how to reduce the number of features (search and read, look at salaar) do degree 2, 3 polynomial"
      ]
    },
    {
      "cell_type": "code",
      "execution_count": null,
      "id": "0cced645-b212-4629-aff0-1b71c1df0437",
      "metadata": {
        "id": "0cced645-b212-4629-aff0-1b71c1df0437"
      },
      "outputs": [],
      "source": [
        "# get the price of the house based on zipcode and the number of bedrooms from zillow (maybe averate 2020-2022end) https://www.zillow.com/research/data/\n",
        "# find the average size of the house based on the number of bedrooms or so?\n",
        "# Use DBSCAN to find outliers, then analyze those outliers and make decisions based on your audience and scope of the work you are doing\n",
        "# find the outliers in box plot of the price, make decision based on scope\n",
        "# what could be done when error for a specific value in feature is high, like have pool?\n",
        "# can we remove some of the zips because of not having enough information?"
      ]
    },
    {
      "cell_type": "code",
      "execution_count": null,
      "id": "82f1b843-bd8f-4c9d-90d6-ab896f3c4a39",
      "metadata": {
        "id": "82f1b843-bd8f-4c9d-90d6-ab896f3c4a39"
      },
      "outputs": [],
      "source": [
        "# do a model transformation like log at the end to see if it helps getting a better model for outliers\n",
        "# do a bit of research to see how we should handle outliers-or consider a case where we focus on a more reasonable price range.\n",
        "# do error analysis for linear regression comprehensive like plot error vs. other factors as hue\n",
        "# is correlation between error and other factors\n",
        "# should I do test train for each model?\n",
        "# dimensionality reduction tests\n",
        "# regularization for linear models\n",
        "# functions if needed, like scaling and traintest\n",
        "# something other than gridsearch\n",
        "# error analysis in each of the models\n"
      ]
    },
    {
      "cell_type": "markdown",
      "id": "84c67d11",
      "metadata": {
        "id": "84c67d11"
      },
      "source": [
        "- pipeline with ss and one hot encoder\n",
        "- we can do polynomial features and regularization\n",
        "- How to pick important features (see Salaar's notebook) or maybe PCA\n",
        "- for tree based modela,  we can use PCA to select best features and then use that for a tree based regressor."
      ]
    },
    {
      "cell_type": "code",
      "execution_count": null,
      "id": "dd6e6d65-e0fe-4fba-82dc-66ae1d0c1f4c",
      "metadata": {
        "id": "dd6e6d65-e0fe-4fba-82dc-66ae1d0c1f4c"
      },
      "outputs": [],
      "source": []
    }
  ],
  "metadata": {
    "kernelspec": {
      "display_name": "Python 3",
      "name": "python3"
    },
    "language_info": {
      "codemirror_mode": {
        "name": "ipython",
        "version": 3
      },
      "file_extension": ".py",
      "mimetype": "text/x-python",
      "name": "python",
      "nbconvert_exporter": "python",
      "pygments_lexer": "ipython3",
      "version": "3.11.4"
    },
    "colab": {
      "provenance": [],
      "include_colab_link": true
    }
  },
  "nbformat": 4,
  "nbformat_minor": 5
}